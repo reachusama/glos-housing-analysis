{
 "cells": [
  {
   "cell_type": "code",
   "execution_count": 1,
   "metadata": {
    "collapsed": true,
    "ExecuteTime": {
     "end_time": "2025-08-22T15:04:46.703886Z",
     "start_time": "2025-08-22T15:04:46.251563Z"
    }
   },
   "outputs": [],
   "source": [
    "import duckdb\n",
    "con = duckdb.connect(database=':memory:')"
   ]
  },
  {
   "cell_type": "code",
   "execution_count": 2,
   "outputs": [
    {
     "data": {
      "text/plain": "<duckdb.duckdb.DuckDBPyConnection at 0x1078badf0>"
     },
     "execution_count": 2,
     "metadata": {},
     "output_type": "execute_result"
    }
   ],
   "source": [
    "addr_root = \"../data/raw/ppd_addresses\"\n",
    "con.execute(f\"\"\"\n",
    "    CREATE OR REPLACE VIEW ppd_src AS\n",
    "    SELECT *\n",
    "    FROM parquet_scan('{addr_root}/*.parquet', hive_partitioning=1)\n",
    "\"\"\")"
   ],
   "metadata": {
    "collapsed": false,
    "ExecuteTime": {
     "end_time": "2025-08-22T15:04:46.710518Z",
     "start_time": "2025-08-22T15:04:46.706570Z"
    }
   }
  },
  {
   "cell_type": "code",
   "execution_count": 3,
   "outputs": [
    {
     "data": {
      "text/plain": "  property_type postcode paon  saon         street    locality   town_city  \\\n0             S   AL35NA   41  None  GRANGE STREET  ST. ALBANS  ST. ALBANS   \n\n    district         county  \n0  ST ALBANS  HERTFORDSHIRE  ",
      "text/html": "<div>\n<style scoped>\n    .dataframe tbody tr th:only-of-type {\n        vertical-align: middle;\n    }\n\n    .dataframe tbody tr th {\n        vertical-align: top;\n    }\n\n    .dataframe thead th {\n        text-align: right;\n    }\n</style>\n<table border=\"1\" class=\"dataframe\">\n  <thead>\n    <tr style=\"text-align: right;\">\n      <th></th>\n      <th>property_type</th>\n      <th>postcode</th>\n      <th>paon</th>\n      <th>saon</th>\n      <th>street</th>\n      <th>locality</th>\n      <th>town_city</th>\n      <th>district</th>\n      <th>county</th>\n    </tr>\n  </thead>\n  <tbody>\n    <tr>\n      <th>0</th>\n      <td>S</td>\n      <td>AL35NA</td>\n      <td>41</td>\n      <td>None</td>\n      <td>GRANGE STREET</td>\n      <td>ST. ALBANS</td>\n      <td>ST. ALBANS</td>\n      <td>ST ALBANS</td>\n      <td>HERTFORDSHIRE</td>\n    </tr>\n  </tbody>\n</table>\n</div>"
     },
     "execution_count": 3,
     "metadata": {},
     "output_type": "execute_result"
    }
   ],
   "source": [
    "# Quick sanity check: expect only GL / 2025 rows below\n",
    "df = con.execute(\"\"\"\n",
    "    SELECT *\n",
    "    FROM ppd_src\n",
    "    LIMIT 1\n",
    "\"\"\").fetchdf()\n",
    "df"
   ],
   "metadata": {
    "collapsed": false,
    "ExecuteTime": {
     "end_time": "2025-08-22T15:04:50.567630Z",
     "start_time": "2025-08-22T15:04:48.684792Z"
    }
   }
  },
  {
   "cell_type": "code",
   "execution_count": 19,
   "outputs": [
    {
     "data": {
      "text/plain": "Index(['property_type', 'postcode', 'paon', 'saon', 'street', 'locality',\n       'town_city', 'district', 'county'],\n      dtype='object')"
     },
     "execution_count": 19,
     "metadata": {},
     "output_type": "execute_result"
    }
   ],
   "source": [
    "df.columns"
   ],
   "metadata": {
    "collapsed": false,
    "ExecuteTime": {
     "end_time": "2025-08-22T13:34:10.702827Z",
     "start_time": "2025-08-22T13:34:10.606810Z"
    }
   }
  },
  {
   "cell_type": "code",
   "execution_count": null,
   "outputs": [],
   "source": [],
   "metadata": {
    "collapsed": false
   }
  },
  {
   "cell_type": "markdown",
   "source": [
    "Checking patterns of addresses in PAON or SAON"
   ],
   "metadata": {
    "collapsed": false
   }
  },
  {
   "cell_type": "code",
   "execution_count": 20,
   "outputs": [
    {
     "data": {
      "text/plain": "  property_type                                       paon  saon\n0             O                                 FLAT 3, 46  None\n1             O                                 FLAT 2, 30  None\n2             O                      EBENEZER CHURCH FLATS  None\n3             O                             HATCHETT FLATS  None\n4             O                                   FLAT, 43  None\n5             O  ROOF AND AIRSPACE ABOVE FLATS 173 AND 183  None\n6             O                         OSMUND FLATTS FARM  None\n7             O                           FLATS 1-8, 1 - 2  None\n8             S                       GARDEN COTTAGE FLATS     4\n9             O                                 FLAT 1, 12  None",
      "text/html": "<div>\n<style scoped>\n    .dataframe tbody tr th:only-of-type {\n        vertical-align: middle;\n    }\n\n    .dataframe tbody tr th {\n        vertical-align: top;\n    }\n\n    .dataframe thead th {\n        text-align: right;\n    }\n</style>\n<table border=\"1\" class=\"dataframe\">\n  <thead>\n    <tr style=\"text-align: right;\">\n      <th></th>\n      <th>property_type</th>\n      <th>paon</th>\n      <th>saon</th>\n    </tr>\n  </thead>\n  <tbody>\n    <tr>\n      <th>0</th>\n      <td>O</td>\n      <td>FLAT 3, 46</td>\n      <td>None</td>\n    </tr>\n    <tr>\n      <th>1</th>\n      <td>O</td>\n      <td>FLAT 2, 30</td>\n      <td>None</td>\n    </tr>\n    <tr>\n      <th>2</th>\n      <td>O</td>\n      <td>EBENEZER CHURCH FLATS</td>\n      <td>None</td>\n    </tr>\n    <tr>\n      <th>3</th>\n      <td>O</td>\n      <td>HATCHETT FLATS</td>\n      <td>None</td>\n    </tr>\n    <tr>\n      <th>4</th>\n      <td>O</td>\n      <td>FLAT, 43</td>\n      <td>None</td>\n    </tr>\n    <tr>\n      <th>5</th>\n      <td>O</td>\n      <td>ROOF AND AIRSPACE ABOVE FLATS 173 AND 183</td>\n      <td>None</td>\n    </tr>\n    <tr>\n      <th>6</th>\n      <td>O</td>\n      <td>OSMUND FLATTS FARM</td>\n      <td>None</td>\n    </tr>\n    <tr>\n      <th>7</th>\n      <td>O</td>\n      <td>FLATS 1-8, 1 - 2</td>\n      <td>None</td>\n    </tr>\n    <tr>\n      <th>8</th>\n      <td>S</td>\n      <td>GARDEN COTTAGE FLATS</td>\n      <td>4</td>\n    </tr>\n    <tr>\n      <th>9</th>\n      <td>O</td>\n      <td>FLAT 1, 12</td>\n      <td>None</td>\n    </tr>\n  </tbody>\n</table>\n</div>"
     },
     "execution_count": 20,
     "metadata": {},
     "output_type": "execute_result"
    }
   ],
   "source": [
    "tdf = con.execute(\"\"\"\n",
    "    SELECT DISTINCT property_type, paon, saon\n",
    "    FROM ppd_src\n",
    "    WHERE paon IS NOT NULL\n",
    "      AND TRIM(paon) <> ''\n",
    "      AND LOWER(paon) LIKE '%flat%'\n",
    "      AND property_type != 'F'\n",
    "    LIMIT 10\n",
    "\"\"\").fetchdf()\n",
    "tdf"
   ],
   "metadata": {
    "collapsed": false,
    "ExecuteTime": {
     "end_time": "2025-08-22T13:41:16.124114Z",
     "start_time": "2025-08-22T13:41:15.860044Z"
    }
   }
  },
  {
   "cell_type": "markdown",
   "source": [
    "Flat addresses also occur in PAON, but when they do SAON is usually empty but sometime has values. PAON has comma seperated values sometimes."
   ],
   "metadata": {
    "collapsed": false
   }
  },
  {
   "cell_type": "code",
   "execution_count": 23,
   "outputs": [
    {
     "data": {
      "text/plain": "       property_type                        paon  \\\n0                  S       DUNORLAN FARM COTTAGE   \n1                  S                  IVY VILLAS   \n2                  D             LONGSPRING WOOD   \n3                  T                    HILLSIDE   \n4                  D               FARTHINGFIELD   \n...              ...                         ...   \n253713             O  MALTON ENTERPRISE PARK, 13   \n253714             O  MALTON ENTERPRISE PARK, 21   \n253715             O            FRIARS OVEN FARM   \n253716             O       GREATE BENTLEY ESTATE   \n253717             O          SOUTH HEADONS FARM   \n\n                                 saon  \n0                                   2  \n1                                   1  \n2                                  19  \n3                                  12  \n4                                   3  \n...                               ...  \n253713                         UNIT 1  \n253714                        UNIT 1B  \n253715                          LOT 3  \n253716         PLOTS 61 TO 65, 79, 80  \n253717  PLOT 17 LYING TO THE SOUTH OF  \n\n[253718 rows x 3 columns]",
      "text/html": "<div>\n<style scoped>\n    .dataframe tbody tr th:only-of-type {\n        vertical-align: middle;\n    }\n\n    .dataframe tbody tr th {\n        vertical-align: top;\n    }\n\n    .dataframe thead th {\n        text-align: right;\n    }\n</style>\n<table border=\"1\" class=\"dataframe\">\n  <thead>\n    <tr style=\"text-align: right;\">\n      <th></th>\n      <th>property_type</th>\n      <th>paon</th>\n      <th>saon</th>\n    </tr>\n  </thead>\n  <tbody>\n    <tr>\n      <th>0</th>\n      <td>S</td>\n      <td>DUNORLAN FARM COTTAGE</td>\n      <td>2</td>\n    </tr>\n    <tr>\n      <th>1</th>\n      <td>S</td>\n      <td>IVY VILLAS</td>\n      <td>1</td>\n    </tr>\n    <tr>\n      <th>2</th>\n      <td>D</td>\n      <td>LONGSPRING WOOD</td>\n      <td>19</td>\n    </tr>\n    <tr>\n      <th>3</th>\n      <td>T</td>\n      <td>HILLSIDE</td>\n      <td>12</td>\n    </tr>\n    <tr>\n      <th>4</th>\n      <td>D</td>\n      <td>FARTHINGFIELD</td>\n      <td>3</td>\n    </tr>\n    <tr>\n      <th>...</th>\n      <td>...</td>\n      <td>...</td>\n      <td>...</td>\n    </tr>\n    <tr>\n      <th>253713</th>\n      <td>O</td>\n      <td>MALTON ENTERPRISE PARK, 13</td>\n      <td>UNIT 1</td>\n    </tr>\n    <tr>\n      <th>253714</th>\n      <td>O</td>\n      <td>MALTON ENTERPRISE PARK, 21</td>\n      <td>UNIT 1B</td>\n    </tr>\n    <tr>\n      <th>253715</th>\n      <td>O</td>\n      <td>FRIARS OVEN FARM</td>\n      <td>LOT 3</td>\n    </tr>\n    <tr>\n      <th>253716</th>\n      <td>O</td>\n      <td>GREATE BENTLEY ESTATE</td>\n      <td>PLOTS 61 TO 65, 79, 80</td>\n    </tr>\n    <tr>\n      <th>253717</th>\n      <td>O</td>\n      <td>SOUTH HEADONS FARM</td>\n      <td>PLOT 17 LYING TO THE SOUTH OF</td>\n    </tr>\n  </tbody>\n</table>\n<p>253718 rows × 3 columns</p>\n</div>"
     },
     "execution_count": 23,
     "metadata": {},
     "output_type": "execute_result"
    }
   ],
   "source": [
    "tdf = con.execute(\"\"\"\n",
    "    SELECT DISTINCT property_type, paon, saon\n",
    "    FROM ppd_src\n",
    "    WHERE saon IS NOT NULL\n",
    "      AND property_type != 'F'\n",
    "\n",
    "\"\"\").fetchdf()\n",
    "tdf"
   ],
   "metadata": {
    "collapsed": false,
    "ExecuteTime": {
     "end_time": "2025-08-22T13:48:50.259811Z",
     "start_time": "2025-08-22T13:48:49.990625Z"
    }
   }
  },
  {
   "cell_type": "markdown",
   "source": [
    "paon has (building name, building number) or (building number - can be alphanumeric) or (building name)\n",
    "\n",
    "saon has (sub building name - like FLAT 2 or FLAT C) or (building number) or (building name - can be alphanumeric) or (building name)\n",
    "\n",
    "## Filter data on more strict conditions"
   ],
   "metadata": {
    "collapsed": false
   }
  },
  {
   "cell_type": "code",
   "execution_count": 4,
   "outputs": [],
   "source": [
    "sql = \"\"\"\n",
    "WITH cleaned AS (\n",
    "  SELECT\n",
    "    TRIM(property_type)               AS property_type,\n",
    "    UPPER(TRIM(postcode))             AS postcode,\n",
    "    TRIM(paon)                        AS paon_raw,\n",
    "    TRIM(saon)                        AS saon_raw,\n",
    "    TRIM(street)                      AS street,\n",
    "    TRIM(locality)                    AS locality,\n",
    "    TRIM(town_city)                   AS town_city,\n",
    "    TRIM(district)                    AS district,\n",
    "    TRIM(county)                      AS county\n",
    "  FROM ppd_src\n",
    "),\n",
    "patterns AS (\n",
    "  SELECT\n",
    "    *,\n",
    "    -- PAON presence flags\n",
    "    REGEXP_MATCHES(paon_raw, '^\\s*\\d+[A-Za-z]?(?:\\s*-\\s*\\d+[A-Za-z]?)?\\s*$')                                        AS paon_is_num_only,\n",
    "    REGEXP_MATCHES(paon_raw, '^([A-Za-z][A-Za-z\\s''&\\.-]*?)\\s*(?:,?\\s*)(\\d+[A-Za-z]?)\\s*$')                         AS paon_is_name_num,\n",
    "    REGEXP_MATCHES(paon_raw, '^\\s*[A-Za-z][A-Za-z\\s''&\\.-]*\\s*$')                                                   AS paon_is_name_only,\n",
    "\n",
    "    -- PAON extracted parts (explicit capture groups!)\n",
    "    REGEXP_EXTRACT(paon_raw, '^\\s*(\\d+[A-Za-z]?(?:\\s*-\\s*\\d+[A-Za-z]?)?)\\s*$', 1)                                   AS paon_num_only_val,\n",
    "    REGEXP_EXTRACT(paon_raw, '^([A-Za-z][A-Za-z\\s''&\\.-]*?)\\s*(?:,?\\s*)(\\d+[A-Za-z]?)\\s*$', 1)                      AS paon_name_part,\n",
    "    REGEXP_EXTRACT(paon_raw, '^([A-Za-z][A-Za-z\\s''&\\.-]*?)\\s*(?:,?\\s*)(\\d+[A-Za-z]?)\\s*$', 2)                      AS paon_num_from_name,\n",
    "    REGEXP_EXTRACT(paon_raw, '^\\s*([A-Za-z][A-Za-z\\s''&\\.-]*)\\s*$', 1)                                              AS paon_name_only,\n",
    "\n",
    "    -- SAON patterns (we use them only as validity checks)\n",
    "    REGEXP_MATCHES(saon_raw, '(?i)^\\s*(flat|apartment|apt|appts|room|unit|annexe?|block|blk|studio)\\s+[0-9]+[A-Za-z]?\\s*$') AS saon_is_flat_pat,\n",
    "    REGEXP_MATCHES(saon_raw, '^\\s*\\d+[A-Za-z]?\\s*$')                                                                  AS saon_is_num_only,\n",
    "    REGEXP_MATCHES(saon_raw, '^[A-Za-z0-9][A-Za-z0-9\\s''&\\.-]*$')                                                     AS saon_is_name_like,\n",
    "\n",
    "    -- Postcode split (validated)\n",
    "    REGEXP_EXTRACT(\n",
    "      postcode,\n",
    "      '(?i)^\\s*((?:GIR\\s?0AA)|(?:[A-PR-UWYZ][0-9][0-9A-HJKMNPR-Y]?)|(?:[A-PR-UWYZ][A-HK-Y][0-9][0-9A-HJKMNPR-Y]?))\\s*([0-9][ABD-HJLNP-UW-Z]{2})\\s*$',\n",
    "      1\n",
    "    ) AS outcode,\n",
    "    REGEXP_EXTRACT(\n",
    "      postcode,\n",
    "      '(?i)^\\s*((?:GIR\\s?0AA)|(?:[A-PR-UWYZ][0-9][0-9A-HJKMNPR-Y]?)|(?:[A-PR-UWYZ][A-HK-Y][0-9][0-9A-HJKMNPR-Y]?))\\s*([0-9][ABD-HJLNP-UW-Z]{2})\\s*$',\n",
    "      2\n",
    "    ) AS incode\n",
    "  FROM cleaned\n",
    "),\n",
    "cohort AS (\n",
    "  SELECT\n",
    "    property_type,\n",
    "    street, locality, town_city, district, county,\n",
    "\n",
    "    -- Normalised PAON parts\n",
    "    CASE\n",
    "      WHEN paon_is_name_num THEN paon_name_part\n",
    "      WHEN paon_is_name_only THEN paon_name_only\n",
    "      ELSE NULL\n",
    "    END AS paon_building_name,\n",
    "    CASE\n",
    "      WHEN paon_is_name_num THEN paon_num_from_name\n",
    "      WHEN paon_is_num_only THEN paon_num_only_val\n",
    "      ELSE NULL\n",
    "    END AS paon_building_number,\n",
    "\n",
    "    -- SAON accepted shapes (keep original text)\n",
    "    CASE\n",
    "      WHEN saon_is_flat_pat OR saon_is_num_only OR saon_is_name_like THEN saon_raw\n",
    "      ELSE NULL\n",
    "    END AS saon_norm,\n",
    "\n",
    "    outcode, incode\n",
    "  FROM patterns\n",
    "  WHERE\n",
    "    (paon_is_num_only OR paon_is_name_num OR paon_is_name_only)\n",
    "    AND outcode IS NOT NULL AND incode IS NOT NULL\n",
    "    AND (\n",
    "      (property_type = 'F' AND (saon_is_flat_pat OR saon_is_num_only OR saon_is_name_like))\n",
    "      OR\n",
    "      (property_type <> 'F' AND (saon_raw IS NULL OR saon_raw = ''))\n",
    "    )\n",
    ")\n",
    "SELECT\n",
    "  property_type,\n",
    "  paon_building_name                    AS BuildingName,\n",
    "  paon_building_number                  AS BuildingNumber,\n",
    "  saon_norm                             AS SubBuildingName,\n",
    "  street                                AS StreetName,\n",
    "  locality                              AS Locality,\n",
    "  town_city                             AS TownName,\n",
    "  outcode || ' ' || incode              AS Postcode,\n",
    "  outcode                               AS Outcode,\n",
    "  incode                                AS Incode\n",
    "FROM cohort;\n",
    "\"\"\""
   ],
   "metadata": {
    "collapsed": false,
    "ExecuteTime": {
     "end_time": "2025-08-22T15:04:59.644819Z",
     "start_time": "2025-08-22T15:04:59.600525Z"
    }
   }
  },
  {
   "cell_type": "code",
   "execution_count": 5,
   "outputs": [
    {
     "data": {
      "text/plain": "FloatProgress(value=0.0, layout=Layout(width='auto'), style=ProgressStyle(bar_color='black'))",
      "application/vnd.jupyter.widget-view+json": {
       "version_major": 2,
       "version_minor": 0,
       "model_id": "11b2d215866d45b2a4f7f547a1e4b9ff"
      }
     },
     "metadata": {},
     "output_type": "display_data"
    },
    {
     "data": {
      "text/plain": "         property_type   BuildingName BuildingNumber SubBuildingName  \\\n0                    S           None             41            None   \n1                    T           None              5            None   \n2                    T           None              1            None   \n3                    D  WATLING GARTH           None            None   \n4                    T           None             32            None   \n...                ...            ...            ...             ...   \n27482936             F           None             15          FLAT 1   \n27482937             T        WAYSIDE           None            None   \n27482938             D           None              3            None   \n27482939             S           None             24            None   \n27482940             D           None             67            None   \n\n                  StreetName                Locality     TownName  Postcode  \\\n0              GRANGE STREET              ST. ALBANS   ST. ALBANS   AL3 5NA   \n1                 WOOD CLOSE                HATFIELD     HATFIELD  AL10 8TY   \n2             PUTTOCKS CLOSE            WELHAM GREEN     HATFIELD   AL9 7LN   \n3         OLD WATLING STREET               FLAMSTEAD   ST. ALBANS   AL3 8HJ   \n4          NEW GREENS AVENUE              ST. ALBANS   ST. ALBANS   AL3 6NZ   \n...                      ...                     ...          ...       ...   \n27482936       VICTORIA ROAD                    None  BRIDLINGTON  YO15 2BW   \n27482937          CLIFF ROAD                  ATWICK    DRIFFIELD  YO25 8DF   \n27482938   RIBBLESDALE CLOSE                    None  BRIDLINGTON  YO16 6FH   \n27482939     BAILEYWOOD LANE  HOLME ON SPALDING MOOR         YORK  YO43 4ER   \n27482940          BEECH VIEW               CRANSWICK    DRIFFIELD  YO25 9QQ   \n\n         Outcode Incode  \n0            AL3    5NA  \n1           AL10    8TY  \n2            AL9    7LN  \n3            AL3    8HJ  \n4            AL3    6NZ  \n...          ...    ...  \n27482936    YO15    2BW  \n27482937    YO25    8DF  \n27482938    YO16    6FH  \n27482939    YO43    4ER  \n27482940    YO25    9QQ  \n\n[27482941 rows x 10 columns]",
      "text/html": "<div>\n<style scoped>\n    .dataframe tbody tr th:only-of-type {\n        vertical-align: middle;\n    }\n\n    .dataframe tbody tr th {\n        vertical-align: top;\n    }\n\n    .dataframe thead th {\n        text-align: right;\n    }\n</style>\n<table border=\"1\" class=\"dataframe\">\n  <thead>\n    <tr style=\"text-align: right;\">\n      <th></th>\n      <th>property_type</th>\n      <th>BuildingName</th>\n      <th>BuildingNumber</th>\n      <th>SubBuildingName</th>\n      <th>StreetName</th>\n      <th>Locality</th>\n      <th>TownName</th>\n      <th>Postcode</th>\n      <th>Outcode</th>\n      <th>Incode</th>\n    </tr>\n  </thead>\n  <tbody>\n    <tr>\n      <th>0</th>\n      <td>S</td>\n      <td>None</td>\n      <td>41</td>\n      <td>None</td>\n      <td>GRANGE STREET</td>\n      <td>ST. ALBANS</td>\n      <td>ST. ALBANS</td>\n      <td>AL3 5NA</td>\n      <td>AL3</td>\n      <td>5NA</td>\n    </tr>\n    <tr>\n      <th>1</th>\n      <td>T</td>\n      <td>None</td>\n      <td>5</td>\n      <td>None</td>\n      <td>WOOD CLOSE</td>\n      <td>HATFIELD</td>\n      <td>HATFIELD</td>\n      <td>AL10 8TY</td>\n      <td>AL10</td>\n      <td>8TY</td>\n    </tr>\n    <tr>\n      <th>2</th>\n      <td>T</td>\n      <td>None</td>\n      <td>1</td>\n      <td>None</td>\n      <td>PUTTOCKS CLOSE</td>\n      <td>WELHAM GREEN</td>\n      <td>HATFIELD</td>\n      <td>AL9 7LN</td>\n      <td>AL9</td>\n      <td>7LN</td>\n    </tr>\n    <tr>\n      <th>3</th>\n      <td>D</td>\n      <td>WATLING GARTH</td>\n      <td>None</td>\n      <td>None</td>\n      <td>OLD WATLING STREET</td>\n      <td>FLAMSTEAD</td>\n      <td>ST. ALBANS</td>\n      <td>AL3 8HJ</td>\n      <td>AL3</td>\n      <td>8HJ</td>\n    </tr>\n    <tr>\n      <th>4</th>\n      <td>T</td>\n      <td>None</td>\n      <td>32</td>\n      <td>None</td>\n      <td>NEW GREENS AVENUE</td>\n      <td>ST. ALBANS</td>\n      <td>ST. ALBANS</td>\n      <td>AL3 6NZ</td>\n      <td>AL3</td>\n      <td>6NZ</td>\n    </tr>\n    <tr>\n      <th>...</th>\n      <td>...</td>\n      <td>...</td>\n      <td>...</td>\n      <td>...</td>\n      <td>...</td>\n      <td>...</td>\n      <td>...</td>\n      <td>...</td>\n      <td>...</td>\n      <td>...</td>\n    </tr>\n    <tr>\n      <th>27482936</th>\n      <td>F</td>\n      <td>None</td>\n      <td>15</td>\n      <td>FLAT 1</td>\n      <td>VICTORIA ROAD</td>\n      <td>None</td>\n      <td>BRIDLINGTON</td>\n      <td>YO15 2BW</td>\n      <td>YO15</td>\n      <td>2BW</td>\n    </tr>\n    <tr>\n      <th>27482937</th>\n      <td>T</td>\n      <td>WAYSIDE</td>\n      <td>None</td>\n      <td>None</td>\n      <td>CLIFF ROAD</td>\n      <td>ATWICK</td>\n      <td>DRIFFIELD</td>\n      <td>YO25 8DF</td>\n      <td>YO25</td>\n      <td>8DF</td>\n    </tr>\n    <tr>\n      <th>27482938</th>\n      <td>D</td>\n      <td>None</td>\n      <td>3</td>\n      <td>None</td>\n      <td>RIBBLESDALE CLOSE</td>\n      <td>None</td>\n      <td>BRIDLINGTON</td>\n      <td>YO16 6FH</td>\n      <td>YO16</td>\n      <td>6FH</td>\n    </tr>\n    <tr>\n      <th>27482939</th>\n      <td>S</td>\n      <td>None</td>\n      <td>24</td>\n      <td>None</td>\n      <td>BAILEYWOOD LANE</td>\n      <td>HOLME ON SPALDING MOOR</td>\n      <td>YORK</td>\n      <td>YO43 4ER</td>\n      <td>YO43</td>\n      <td>4ER</td>\n    </tr>\n    <tr>\n      <th>27482940</th>\n      <td>D</td>\n      <td>None</td>\n      <td>67</td>\n      <td>None</td>\n      <td>BEECH VIEW</td>\n      <td>CRANSWICK</td>\n      <td>DRIFFIELD</td>\n      <td>YO25 9QQ</td>\n      <td>YO25</td>\n      <td>9QQ</td>\n    </tr>\n  </tbody>\n</table>\n<p>27482941 rows × 10 columns</p>\n</div>"
     },
     "execution_count": 5,
     "metadata": {},
     "output_type": "execute_result"
    }
   ],
   "source": [
    "df = con.execute(sql).fetchdf()"
   ],
   "metadata": {
    "collapsed": false,
    "ExecuteTime": {
     "end_time": "2025-08-22T15:07:28.333421Z",
     "start_time": "2025-08-22T15:05:00.344266Z"
    }
   }
  },
  {
   "cell_type": "code",
   "execution_count": 7,
   "outputs": [
    {
     "data": {
      "text/plain": "(27482941, 10)"
     },
     "execution_count": 7,
     "metadata": {},
     "output_type": "execute_result"
    }
   ],
   "source": [
    "df.shape"
   ],
   "metadata": {
    "collapsed": false,
    "ExecuteTime": {
     "end_time": "2025-08-22T15:12:27.744247Z",
     "start_time": "2025-08-22T15:12:27.730105Z"
    }
   }
  },
  {
   "cell_type": "code",
   "execution_count": 8,
   "outputs": [
    {
     "data": {
      "text/plain": "         property_type       BuildingName BuildingNumber SubBuildingName  \\\n158                  F     ALBANIAN COURT             85          FLAT 9   \n161                  F     ALBANIAN COURT             85          FLAT 3   \n197                  F    LINGFIELD COURT             60          FLAT 1   \n214                  F  SUMMERFIELD COURT             1A          FLAT 6   \n238                  F           ELMHURST             5A          FLAT 8   \n...                ...                ...            ...             ...   \n27482622             F    KILHENDRE COURT             43         FLAT 19   \n27482624             F       MELLISH PARK             84    APARTMENT 23   \n27482733             F         GATE HOUSE            103          FLAT 5   \n27482756             T       SWALLOW BARN              7            None   \n27482767             F    NORTH BAY COURT            119    APARTMENT 18   \n\n                  StreetName    Locality     TownName  Postcode Outcode Incode  \n158                CAMP ROAD  ST. ALBANS   ST. ALBANS   AL1 5EA     AL1    5EA  \n161                CAMP ROAD  ST. ALBANS   ST. ALBANS   AL1 5EA     AL1    5EA  \n197              HIGH STREET    HARBORNE   BIRMINGHAM   B17 9NE     B17    9NE  \n214           HERMITAGE ROAD   EDGBASTON   BIRMINGHAM   B15 3UP     B15    3UP  \n238             NORFOLK ROAD   EDGBASTON   BIRMINGHAM   B15 3PR     B15    3PR  \n...                      ...         ...          ...       ...     ...    ...  \n27482622      BROADWAY NORTH        None      WALSALL   WS1 2QJ     WS1    2QJ  \n27482624        MELLISH ROAD        None      WALSALL   WS4 2EB     WS4    2EB  \n27482733  BOROUGHBRIDGE ROAD        None         YORK  YO26 6AA    YO26    6AA  \n27482756         HIGH STREET      CAWOOD        SELBY   YO8 3TH     YO8    3TH  \n27482767   NORTH MARINE ROAD        None  SCARBOROUGH  YO12 7JD    YO12    7JD  \n\n[982078 rows x 10 columns]",
      "text/html": "<div>\n<style scoped>\n    .dataframe tbody tr th:only-of-type {\n        vertical-align: middle;\n    }\n\n    .dataframe tbody tr th {\n        vertical-align: top;\n    }\n\n    .dataframe thead th {\n        text-align: right;\n    }\n</style>\n<table border=\"1\" class=\"dataframe\">\n  <thead>\n    <tr style=\"text-align: right;\">\n      <th></th>\n      <th>property_type</th>\n      <th>BuildingName</th>\n      <th>BuildingNumber</th>\n      <th>SubBuildingName</th>\n      <th>StreetName</th>\n      <th>Locality</th>\n      <th>TownName</th>\n      <th>Postcode</th>\n      <th>Outcode</th>\n      <th>Incode</th>\n    </tr>\n  </thead>\n  <tbody>\n    <tr>\n      <th>158</th>\n      <td>F</td>\n      <td>ALBANIAN COURT</td>\n      <td>85</td>\n      <td>FLAT 9</td>\n      <td>CAMP ROAD</td>\n      <td>ST. ALBANS</td>\n      <td>ST. ALBANS</td>\n      <td>AL1 5EA</td>\n      <td>AL1</td>\n      <td>5EA</td>\n    </tr>\n    <tr>\n      <th>161</th>\n      <td>F</td>\n      <td>ALBANIAN COURT</td>\n      <td>85</td>\n      <td>FLAT 3</td>\n      <td>CAMP ROAD</td>\n      <td>ST. ALBANS</td>\n      <td>ST. ALBANS</td>\n      <td>AL1 5EA</td>\n      <td>AL1</td>\n      <td>5EA</td>\n    </tr>\n    <tr>\n      <th>197</th>\n      <td>F</td>\n      <td>LINGFIELD COURT</td>\n      <td>60</td>\n      <td>FLAT 1</td>\n      <td>HIGH STREET</td>\n      <td>HARBORNE</td>\n      <td>BIRMINGHAM</td>\n      <td>B17 9NE</td>\n      <td>B17</td>\n      <td>9NE</td>\n    </tr>\n    <tr>\n      <th>214</th>\n      <td>F</td>\n      <td>SUMMERFIELD COURT</td>\n      <td>1A</td>\n      <td>FLAT 6</td>\n      <td>HERMITAGE ROAD</td>\n      <td>EDGBASTON</td>\n      <td>BIRMINGHAM</td>\n      <td>B15 3UP</td>\n      <td>B15</td>\n      <td>3UP</td>\n    </tr>\n    <tr>\n      <th>238</th>\n      <td>F</td>\n      <td>ELMHURST</td>\n      <td>5A</td>\n      <td>FLAT 8</td>\n      <td>NORFOLK ROAD</td>\n      <td>EDGBASTON</td>\n      <td>BIRMINGHAM</td>\n      <td>B15 3PR</td>\n      <td>B15</td>\n      <td>3PR</td>\n    </tr>\n    <tr>\n      <th>...</th>\n      <td>...</td>\n      <td>...</td>\n      <td>...</td>\n      <td>...</td>\n      <td>...</td>\n      <td>...</td>\n      <td>...</td>\n      <td>...</td>\n      <td>...</td>\n      <td>...</td>\n    </tr>\n    <tr>\n      <th>27482622</th>\n      <td>F</td>\n      <td>KILHENDRE COURT</td>\n      <td>43</td>\n      <td>FLAT 19</td>\n      <td>BROADWAY NORTH</td>\n      <td>None</td>\n      <td>WALSALL</td>\n      <td>WS1 2QJ</td>\n      <td>WS1</td>\n      <td>2QJ</td>\n    </tr>\n    <tr>\n      <th>27482624</th>\n      <td>F</td>\n      <td>MELLISH PARK</td>\n      <td>84</td>\n      <td>APARTMENT 23</td>\n      <td>MELLISH ROAD</td>\n      <td>None</td>\n      <td>WALSALL</td>\n      <td>WS4 2EB</td>\n      <td>WS4</td>\n      <td>2EB</td>\n    </tr>\n    <tr>\n      <th>27482733</th>\n      <td>F</td>\n      <td>GATE HOUSE</td>\n      <td>103</td>\n      <td>FLAT 5</td>\n      <td>BOROUGHBRIDGE ROAD</td>\n      <td>None</td>\n      <td>YORK</td>\n      <td>YO26 6AA</td>\n      <td>YO26</td>\n      <td>6AA</td>\n    </tr>\n    <tr>\n      <th>27482756</th>\n      <td>T</td>\n      <td>SWALLOW BARN</td>\n      <td>7</td>\n      <td>None</td>\n      <td>HIGH STREET</td>\n      <td>CAWOOD</td>\n      <td>SELBY</td>\n      <td>YO8 3TH</td>\n      <td>YO8</td>\n      <td>3TH</td>\n    </tr>\n    <tr>\n      <th>27482767</th>\n      <td>F</td>\n      <td>NORTH BAY COURT</td>\n      <td>119</td>\n      <td>APARTMENT 18</td>\n      <td>NORTH MARINE ROAD</td>\n      <td>None</td>\n      <td>SCARBOROUGH</td>\n      <td>YO12 7JD</td>\n      <td>YO12</td>\n      <td>7JD</td>\n    </tr>\n  </tbody>\n</table>\n<p>982078 rows × 10 columns</p>\n</div>"
     },
     "execution_count": 8,
     "metadata": {},
     "output_type": "execute_result"
    }
   ],
   "source": [
    "df[(df['BuildingName'].notna()) & (df['BuildingNumber'].notna())]"
   ],
   "metadata": {
    "collapsed": false,
    "ExecuteTime": {
     "end_time": "2025-08-22T15:13:08.189021Z",
     "start_time": "2025-08-22T15:12:43.664568Z"
    }
   }
  },
  {
   "cell_type": "code",
   "execution_count": null,
   "outputs": [],
   "source": [],
   "metadata": {
    "collapsed": false
   }
  },
  {
   "cell_type": "code",
   "execution_count": 9,
   "outputs": [],
   "source": [
    "df.to_csv(\"../data/interim/ppd_address_sql_v01.csv\", index=None)"
   ],
   "metadata": {
    "collapsed": false,
    "ExecuteTime": {
     "end_time": "2025-08-22T15:15:47.399806Z",
     "start_time": "2025-08-22T15:14:48.081453Z"
    }
   }
  },
  {
   "cell_type": "code",
   "execution_count": null,
   "outputs": [],
   "source": [],
   "metadata": {
    "collapsed": false
   }
  },
  {
   "cell_type": "markdown",
   "source": [
    "## Getting Distinct Counties"
   ],
   "metadata": {
    "collapsed": false
   }
  },
  {
   "cell_type": "code",
   "execution_count": 14,
   "outputs": [],
   "source": [
    "c_sql = \"\"\"\n",
    "SELECT DISTINCT\n",
    "  UPPER(REGEXP_REPLACE(TRIM(county), '\\s+', ' ')) AS county\n",
    "FROM ppd_src\n",
    "WHERE county IS NOT NULL\n",
    "  AND TRIM(county) <> ''\n",
    "ORDER BY county;\n",
    "\"\"\""
   ],
   "metadata": {
    "collapsed": false,
    "ExecuteTime": {
     "end_time": "2025-08-22T15:20:59.779879Z",
     "start_time": "2025-08-22T15:20:59.764246Z"
    }
   }
  },
  {
   "cell_type": "code",
   "execution_count": 15,
   "outputs": [],
   "source": [
    "dfc = con.execute(c_sql).fetchdf()"
   ],
   "metadata": {
    "collapsed": false,
    "ExecuteTime": {
     "end_time": "2025-08-22T15:21:02.184304Z",
     "start_time": "2025-08-22T15:21:01.304007Z"
    }
   }
  },
  {
   "cell_type": "code",
   "execution_count": 16,
   "outputs": [
    {
     "data": {
      "text/plain": "                           county\n0                            AVON\n1    BATH AND NORTH EAST SOMERSET\n2                         BEDFORD\n3                    BEDFORDSHIRE\n4                       BERKSHIRE\n..                            ...\n127                     WOKINGHAM\n128                WORCESTERSHIRE\n129                        WREKIN\n130                       WREXHAM\n131                          YORK\n\n[132 rows x 1 columns]",
      "text/html": "<div>\n<style scoped>\n    .dataframe tbody tr th:only-of-type {\n        vertical-align: middle;\n    }\n\n    .dataframe tbody tr th {\n        vertical-align: top;\n    }\n\n    .dataframe thead th {\n        text-align: right;\n    }\n</style>\n<table border=\"1\" class=\"dataframe\">\n  <thead>\n    <tr style=\"text-align: right;\">\n      <th></th>\n      <th>county</th>\n    </tr>\n  </thead>\n  <tbody>\n    <tr>\n      <th>0</th>\n      <td>AVON</td>\n    </tr>\n    <tr>\n      <th>1</th>\n      <td>BATH AND NORTH EAST SOMERSET</td>\n    </tr>\n    <tr>\n      <th>2</th>\n      <td>BEDFORD</td>\n    </tr>\n    <tr>\n      <th>3</th>\n      <td>BEDFORDSHIRE</td>\n    </tr>\n    <tr>\n      <th>4</th>\n      <td>BERKSHIRE</td>\n    </tr>\n    <tr>\n      <th>...</th>\n      <td>...</td>\n    </tr>\n    <tr>\n      <th>127</th>\n      <td>WOKINGHAM</td>\n    </tr>\n    <tr>\n      <th>128</th>\n      <td>WORCESTERSHIRE</td>\n    </tr>\n    <tr>\n      <th>129</th>\n      <td>WREKIN</td>\n    </tr>\n    <tr>\n      <th>130</th>\n      <td>WREXHAM</td>\n    </tr>\n    <tr>\n      <th>131</th>\n      <td>YORK</td>\n    </tr>\n  </tbody>\n</table>\n<p>132 rows × 1 columns</p>\n</div>"
     },
     "execution_count": 16,
     "metadata": {},
     "output_type": "execute_result"
    }
   ],
   "source": [
    "dfc"
   ],
   "metadata": {
    "collapsed": false,
    "ExecuteTime": {
     "end_time": "2025-08-22T15:21:02.491412Z",
     "start_time": "2025-08-22T15:21:02.485335Z"
    }
   }
  },
  {
   "cell_type": "code",
   "execution_count": 17,
   "outputs": [
    {
     "data": {
      "text/plain": "(132, 1)"
     },
     "execution_count": 17,
     "metadata": {},
     "output_type": "execute_result"
    }
   ],
   "source": [
    "dfc.shape"
   ],
   "metadata": {
    "collapsed": false,
    "ExecuteTime": {
     "end_time": "2025-08-22T15:22:31.420655Z",
     "start_time": "2025-08-22T15:22:31.393012Z"
    }
   }
  },
  {
   "cell_type": "code",
   "execution_count": null,
   "outputs": [],
   "source": [],
   "metadata": {
    "collapsed": false
   }
  },
  {
   "cell_type": "markdown",
   "source": [
    "## Getting Localities"
   ],
   "metadata": {
    "collapsed": false
   }
  },
  {
   "cell_type": "code",
   "execution_count": 10,
   "outputs": [],
   "source": [
    "l_sql = \"\"\"\n",
    "SELECT DISTINCT\n",
    "  UPPER(REGEXP_REPLACE(TRIM(locality), '\\s+', ' ')) AS locality\n",
    "FROM ppd_src\n",
    "WHERE locality IS NOT NULL\n",
    "  AND TRIM(locality) <> ''\n",
    "ORDER BY locality;\n",
    "\"\"\""
   ],
   "metadata": {
    "collapsed": false,
    "ExecuteTime": {
     "end_time": "2025-08-22T15:18:01.007793Z",
     "start_time": "2025-08-22T15:18:00.997435Z"
    }
   }
  },
  {
   "cell_type": "code",
   "execution_count": 11,
   "outputs": [],
   "source": [
    "dfl = con.execute(l_sql).fetchdf()"
   ],
   "metadata": {
    "collapsed": false,
    "ExecuteTime": {
     "end_time": "2025-08-22T15:18:09.932350Z",
     "start_time": "2025-08-22T15:18:09.015417Z"
    }
   }
  },
  {
   "cell_type": "code",
   "execution_count": 12,
   "outputs": [
    {
     "data": {
      "text/plain": "            locality\n0        AB KETTLEBY\n1             ABBERD\n2           ABBERLEY\n3           ABBERTON\n4      ABBESS RODING\n...              ...\n23993         ZENNOR\n23994         ZONE 1\n23995         ZONE 2\n23996         ZONE 3\n23997          ZOUCH\n\n[23998 rows x 1 columns]",
      "text/html": "<div>\n<style scoped>\n    .dataframe tbody tr th:only-of-type {\n        vertical-align: middle;\n    }\n\n    .dataframe tbody tr th {\n        vertical-align: top;\n    }\n\n    .dataframe thead th {\n        text-align: right;\n    }\n</style>\n<table border=\"1\" class=\"dataframe\">\n  <thead>\n    <tr style=\"text-align: right;\">\n      <th></th>\n      <th>locality</th>\n    </tr>\n  </thead>\n  <tbody>\n    <tr>\n      <th>0</th>\n      <td>AB KETTLEBY</td>\n    </tr>\n    <tr>\n      <th>1</th>\n      <td>ABBERD</td>\n    </tr>\n    <tr>\n      <th>2</th>\n      <td>ABBERLEY</td>\n    </tr>\n    <tr>\n      <th>3</th>\n      <td>ABBERTON</td>\n    </tr>\n    <tr>\n      <th>4</th>\n      <td>ABBESS RODING</td>\n    </tr>\n    <tr>\n      <th>...</th>\n      <td>...</td>\n    </tr>\n    <tr>\n      <th>23993</th>\n      <td>ZENNOR</td>\n    </tr>\n    <tr>\n      <th>23994</th>\n      <td>ZONE 1</td>\n    </tr>\n    <tr>\n      <th>23995</th>\n      <td>ZONE 2</td>\n    </tr>\n    <tr>\n      <th>23996</th>\n      <td>ZONE 3</td>\n    </tr>\n    <tr>\n      <th>23997</th>\n      <td>ZOUCH</td>\n    </tr>\n  </tbody>\n</table>\n<p>23998 rows × 1 columns</p>\n</div>"
     },
     "execution_count": 12,
     "metadata": {},
     "output_type": "execute_result"
    }
   ],
   "source": [
    "dfl"
   ],
   "metadata": {
    "collapsed": false,
    "ExecuteTime": {
     "end_time": "2025-08-22T15:18:11.808364Z",
     "start_time": "2025-08-22T15:18:11.802313Z"
    }
   }
  },
  {
   "cell_type": "code",
   "execution_count": 13,
   "outputs": [],
   "source": [
    "dfl.to_csv(\"../data/lookups/localities.csv\", index=None)"
   ],
   "metadata": {
    "collapsed": false,
    "ExecuteTime": {
     "end_time": "2025-08-22T15:19:47.277409Z",
     "start_time": "2025-08-22T15:19:47.229549Z"
    }
   }
  },
  {
   "cell_type": "markdown",
   "source": [
    "## Getting Postcode_distict_to-town"
   ],
   "metadata": {
    "collapsed": false
   }
  },
  {
   "cell_type": "code",
   "execution_count": null,
   "outputs": [],
   "source": [],
   "metadata": {
    "collapsed": false
   }
  },
  {
   "cell_type": "code",
   "execution_count": null,
   "outputs": [],
   "source": [],
   "metadata": {
    "collapsed": false
   }
  },
  {
   "cell_type": "code",
   "execution_count": null,
   "outputs": [],
   "source": [],
   "metadata": {
    "collapsed": false
   }
  },
  {
   "cell_type": "markdown",
   "source": [
    "## Evaluating/Fixing Existing Code"
   ],
   "metadata": {
    "collapsed": false
   }
  },
  {
   "cell_type": "code",
   "execution_count": 18,
   "outputs": [],
   "source": [
    "from machine_learning.address_parser.src.tokens import tokenize, tokens2features"
   ],
   "metadata": {
    "collapsed": false,
    "ExecuteTime": {
     "end_time": "2025-08-22T18:22:25.185303Z",
     "start_time": "2025-08-22T18:22:24.872814Z"
    }
   }
  },
  {
   "cell_type": "code",
   "execution_count": 19,
   "outputs": [
    {
     "data": {
      "text/plain": "['FLAT', '25', 'WILLOWBROOK', 'DRIVE', 'GL510PU', 'CHELTENHAM']"
     },
     "execution_count": 19,
     "metadata": {},
     "output_type": "execute_result"
    }
   ],
   "source": [
    "tokenize(\"flat 25 willowbrook drive GL510pu cheltenham gloucestershire\")"
   ],
   "metadata": {
    "collapsed": false,
    "ExecuteTime": {
     "end_time": "2025-08-22T18:22:25.834935Z",
     "start_time": "2025-08-22T18:22:25.823841Z"
    }
   }
  },
  {
   "cell_type": "code",
   "execution_count": 20,
   "outputs": [
    {
     "data": {
      "text/plain": "[{'digits': 'no_digits',\n  'word': 'FLAT',\n  'length': 'w:4',\n  'endsinpunc': False,\n  'directional': False,\n  'outcode': False,\n  'posttown': False,\n  'has.vowels': True,\n  'flat': True,\n  'company': False,\n  'road': False,\n  'residential': False,\n  'business': False,\n  'locational': False,\n  'ordinal': False,\n  'hyphenations': 0,\n  'next': {'digits': 'all_digits',\n   'word': False,\n   'length': 'd:2',\n   'endsinpunc': False,\n   'directional': False,\n   'outcode': False,\n   'posttown': False,\n   'has.vowels': False,\n   'flat': False,\n   'company': False,\n   'road': False,\n   'residential': False,\n   'business': False,\n   'locational': False,\n   'ordinal': False,\n   'hyphenations': 0},\n  'rawstring.start': True},\n {'digits': 'all_digits',\n  'word': False,\n  'length': 'd:2',\n  'endsinpunc': False,\n  'directional': False,\n  'outcode': False,\n  'posttown': False,\n  'has.vowels': False,\n  'flat': False,\n  'company': False,\n  'road': False,\n  'residential': False,\n  'business': False,\n  'locational': False,\n  'ordinal': False,\n  'hyphenations': 0,\n  'previous': {'digits': 'no_digits',\n   'word': 'FLAT',\n   'length': 'w:4',\n   'endsinpunc': False,\n   'directional': False,\n   'outcode': False,\n   'posttown': False,\n   'has.vowels': True,\n   'flat': True,\n   'company': False,\n   'road': False,\n   'residential': False,\n   'business': False,\n   'locational': False,\n   'ordinal': False,\n   'hyphenations': 0,\n   'rawstring.start': True},\n  'next': {'digits': 'no_digits',\n   'word': 'WILLOWBROOK',\n   'length': 'w:11',\n   'endsinpunc': False,\n   'directional': False,\n   'outcode': False,\n   'posttown': False,\n   'has.vowels': True,\n   'flat': False,\n   'company': False,\n   'road': False,\n   'residential': False,\n   'business': False,\n   'locational': False,\n   'ordinal': False,\n   'hyphenations': 0}},\n {'digits': 'no_digits',\n  'word': 'WILLOWBROOK',\n  'length': 'w:11',\n  'endsinpunc': False,\n  'directional': False,\n  'outcode': False,\n  'posttown': False,\n  'has.vowels': True,\n  'flat': False,\n  'company': False,\n  'road': False,\n  'residential': False,\n  'business': False,\n  'locational': False,\n  'ordinal': False,\n  'hyphenations': 0,\n  'previous': {'digits': 'all_digits',\n   'word': False,\n   'length': 'd:2',\n   'endsinpunc': False,\n   'directional': False,\n   'outcode': False,\n   'posttown': False,\n   'has.vowels': False,\n   'flat': False,\n   'company': False,\n   'road': False,\n   'residential': False,\n   'business': False,\n   'locational': False,\n   'ordinal': False,\n   'hyphenations': 0},\n  'next': {'digits': 'no_digits',\n   'word': 'DRIVE',\n   'length': 'w:5',\n   'endsinpunc': False,\n   'directional': False,\n   'outcode': False,\n   'posttown': False,\n   'has.vowels': True,\n   'flat': False,\n   'company': False,\n   'road': True,\n   'residential': False,\n   'business': False,\n   'locational': False,\n   'ordinal': False,\n   'hyphenations': 0}},\n {'digits': 'no_digits',\n  'word': 'DRIVE',\n  'length': 'w:5',\n  'endsinpunc': False,\n  'directional': False,\n  'outcode': False,\n  'posttown': False,\n  'has.vowels': True,\n  'flat': False,\n  'company': False,\n  'road': True,\n  'residential': False,\n  'business': False,\n  'locational': False,\n  'ordinal': False,\n  'hyphenations': 0,\n  'previous': {'digits': 'no_digits',\n   'word': 'WILLOWBROOK',\n   'length': 'w:11',\n   'endsinpunc': False,\n   'directional': False,\n   'outcode': False,\n   'posttown': False,\n   'has.vowels': True,\n   'flat': False,\n   'company': False,\n   'road': False,\n   'residential': False,\n   'business': False,\n   'locational': False,\n   'ordinal': False,\n   'hyphenations': 0},\n  'next': {'digits': 'some_digits',\n   'word': 'GL510PU',\n   'length': 'w:7',\n   'endsinpunc': False,\n   'directional': False,\n   'outcode': False,\n   'posttown': False,\n   'has.vowels': True,\n   'flat': False,\n   'company': False,\n   'road': False,\n   'residential': False,\n   'business': False,\n   'locational': False,\n   'ordinal': False,\n   'hyphenations': 0}},\n {'digits': 'some_digits',\n  'word': 'GL510PU',\n  'length': 'w:7',\n  'endsinpunc': False,\n  'directional': False,\n  'outcode': False,\n  'posttown': False,\n  'has.vowels': True,\n  'flat': False,\n  'company': False,\n  'road': False,\n  'residential': False,\n  'business': False,\n  'locational': False,\n  'ordinal': False,\n  'hyphenations': 0,\n  'previous': {'digits': 'no_digits',\n   'word': 'DRIVE',\n   'length': 'w:5',\n   'endsinpunc': False,\n   'directional': False,\n   'outcode': False,\n   'posttown': False,\n   'has.vowels': True,\n   'flat': False,\n   'company': False,\n   'road': True,\n   'residential': False,\n   'business': False,\n   'locational': False,\n   'ordinal': False,\n   'hyphenations': 0},\n  'next': {'digits': 'no_digits',\n   'word': 'CHELTENHAM',\n   'length': 'w:10',\n   'endsinpunc': False,\n   'directional': False,\n   'outcode': False,\n   'posttown': True,\n   'has.vowels': True,\n   'flat': False,\n   'company': False,\n   'road': False,\n   'residential': False,\n   'business': False,\n   'locational': False,\n   'ordinal': False,\n   'hyphenations': 0,\n   'rawstring.end': True}},\n {'digits': 'no_digits',\n  'word': 'CHELTENHAM',\n  'length': 'w:10',\n  'endsinpunc': False,\n  'directional': False,\n  'outcode': False,\n  'posttown': True,\n  'has.vowels': True,\n  'flat': False,\n  'company': False,\n  'road': False,\n  'residential': False,\n  'business': False,\n  'locational': False,\n  'ordinal': False,\n  'hyphenations': 0,\n  'previous': {'digits': 'some_digits',\n   'word': 'GL510PU',\n   'length': 'w:7',\n   'endsinpunc': False,\n   'directional': False,\n   'outcode': False,\n   'posttown': False,\n   'has.vowels': True,\n   'flat': False,\n   'company': False,\n   'road': False,\n   'residential': False,\n   'business': False,\n   'locational': False,\n   'ordinal': False,\n   'hyphenations': 0},\n  'rawstring.end': True}]"
     },
     "execution_count": 20,
     "metadata": {},
     "output_type": "execute_result"
    }
   ],
   "source": [
    "tokens2features(['FLAT', '25', 'WILLOWBROOK', 'DRIVE', 'GL510PU', 'CHELTENHAM'])"
   ],
   "metadata": {
    "collapsed": false,
    "ExecuteTime": {
     "end_time": "2025-08-22T18:22:26.563034Z",
     "start_time": "2025-08-22T18:22:26.556768Z"
    }
   }
  },
  {
   "cell_type": "code",
   "execution_count": null,
   "outputs": [],
   "source": [],
   "metadata": {
    "collapsed": false
   }
  },
  {
   "cell_type": "markdown",
   "source": [
    "## Pre-processing Data"
   ],
   "metadata": {
    "collapsed": false
   }
  },
  {
   "cell_type": "code",
   "execution_count": 21,
   "outputs": [],
   "source": [
    "import pandas as pd"
   ],
   "metadata": {
    "collapsed": false,
    "ExecuteTime": {
     "end_time": "2025-08-22T18:23:10.635764Z",
     "start_time": "2025-08-22T18:23:10.619240Z"
    }
   }
  },
  {
   "cell_type": "code",
   "execution_count": 22,
   "outputs": [],
   "source": [
    "df = pd.read_csv(\"../data/interim/ppd_address_sql_v01.csv\")"
   ],
   "metadata": {
    "collapsed": false,
    "ExecuteTime": {
     "end_time": "2025-08-22T18:23:34.850692Z",
     "start_time": "2025-08-22T18:23:11.260549Z"
    }
   }
  },
  {
   "cell_type": "code",
   "execution_count": 23,
   "outputs": [
    {
     "data": {
      "text/plain": "  property_type   BuildingName BuildingNumber SubBuildingName  \\\n0             S            NaN             41             NaN   \n1             T            NaN              5             NaN   \n2             T            NaN              1             NaN   \n3             D  WATLING GARTH            NaN             NaN   \n4             T            NaN             32             NaN   \n\n           StreetName      Locality    TownName  Postcode Outcode Incode  \n0       GRANGE STREET    ST. ALBANS  ST. ALBANS   AL3 5NA     AL3    5NA  \n1          WOOD CLOSE      HATFIELD    HATFIELD  AL10 8TY    AL10    8TY  \n2      PUTTOCKS CLOSE  WELHAM GREEN    HATFIELD   AL9 7LN     AL9    7LN  \n3  OLD WATLING STREET     FLAMSTEAD  ST. ALBANS   AL3 8HJ     AL3    8HJ  \n4   NEW GREENS AVENUE    ST. ALBANS  ST. ALBANS   AL3 6NZ     AL3    6NZ  ",
      "text/html": "<div>\n<style scoped>\n    .dataframe tbody tr th:only-of-type {\n        vertical-align: middle;\n    }\n\n    .dataframe tbody tr th {\n        vertical-align: top;\n    }\n\n    .dataframe thead th {\n        text-align: right;\n    }\n</style>\n<table border=\"1\" class=\"dataframe\">\n  <thead>\n    <tr style=\"text-align: right;\">\n      <th></th>\n      <th>property_type</th>\n      <th>BuildingName</th>\n      <th>BuildingNumber</th>\n      <th>SubBuildingName</th>\n      <th>StreetName</th>\n      <th>Locality</th>\n      <th>TownName</th>\n      <th>Postcode</th>\n      <th>Outcode</th>\n      <th>Incode</th>\n    </tr>\n  </thead>\n  <tbody>\n    <tr>\n      <th>0</th>\n      <td>S</td>\n      <td>NaN</td>\n      <td>41</td>\n      <td>NaN</td>\n      <td>GRANGE STREET</td>\n      <td>ST. ALBANS</td>\n      <td>ST. ALBANS</td>\n      <td>AL3 5NA</td>\n      <td>AL3</td>\n      <td>5NA</td>\n    </tr>\n    <tr>\n      <th>1</th>\n      <td>T</td>\n      <td>NaN</td>\n      <td>5</td>\n      <td>NaN</td>\n      <td>WOOD CLOSE</td>\n      <td>HATFIELD</td>\n      <td>HATFIELD</td>\n      <td>AL10 8TY</td>\n      <td>AL10</td>\n      <td>8TY</td>\n    </tr>\n    <tr>\n      <th>2</th>\n      <td>T</td>\n      <td>NaN</td>\n      <td>1</td>\n      <td>NaN</td>\n      <td>PUTTOCKS CLOSE</td>\n      <td>WELHAM GREEN</td>\n      <td>HATFIELD</td>\n      <td>AL9 7LN</td>\n      <td>AL9</td>\n      <td>7LN</td>\n    </tr>\n    <tr>\n      <th>3</th>\n      <td>D</td>\n      <td>WATLING GARTH</td>\n      <td>NaN</td>\n      <td>NaN</td>\n      <td>OLD WATLING STREET</td>\n      <td>FLAMSTEAD</td>\n      <td>ST. ALBANS</td>\n      <td>AL3 8HJ</td>\n      <td>AL3</td>\n      <td>8HJ</td>\n    </tr>\n    <tr>\n      <th>4</th>\n      <td>T</td>\n      <td>NaN</td>\n      <td>32</td>\n      <td>NaN</td>\n      <td>NEW GREENS AVENUE</td>\n      <td>ST. ALBANS</td>\n      <td>ST. ALBANS</td>\n      <td>AL3 6NZ</td>\n      <td>AL3</td>\n      <td>6NZ</td>\n    </tr>\n  </tbody>\n</table>\n</div>"
     },
     "execution_count": 23,
     "metadata": {},
     "output_type": "execute_result"
    }
   ],
   "source": [
    "df.head()"
   ],
   "metadata": {
    "collapsed": false,
    "ExecuteTime": {
     "end_time": "2025-08-22T18:23:42.457027Z",
     "start_time": "2025-08-22T18:23:42.204247Z"
    }
   }
  },
  {
   "cell_type": "code",
   "execution_count": 24,
   "outputs": [
    {
     "data": {
      "text/plain": "(27482941, 10)"
     },
     "execution_count": 24,
     "metadata": {},
     "output_type": "execute_result"
    }
   ],
   "source": [
    "df.shape"
   ],
   "metadata": {
    "collapsed": false,
    "ExecuteTime": {
     "end_time": "2025-08-22T18:24:52.238689Z",
     "start_time": "2025-08-22T18:24:52.198017Z"
    }
   }
  },
  {
   "cell_type": "code",
   "execution_count": 26,
   "outputs": [],
   "source": [
    "df.drop_duplicates(inplace=True)"
   ],
   "metadata": {
    "collapsed": false,
    "ExecuteTime": {
     "end_time": "2025-08-22T18:26:59.830433Z",
     "start_time": "2025-08-22T18:26:17.798457Z"
    }
   }
  },
  {
   "cell_type": "code",
   "execution_count": 32,
   "outputs": [
    {
     "data": {
      "text/plain": "(17974221, 10)"
     },
     "execution_count": 32,
     "metadata": {},
     "output_type": "execute_result"
    }
   ],
   "source": [
    "df.shape"
   ],
   "metadata": {
    "collapsed": false,
    "ExecuteTime": {
     "end_time": "2025-08-22T18:29:22.848214Z",
     "start_time": "2025-08-22T18:29:22.827804Z"
    }
   }
  },
  {
   "cell_type": "code",
   "execution_count": 34,
   "outputs": [],
   "source": [
    "df.to_csv(\"../data/interim/ppd_address_sql_v01.csv\", index=None)"
   ],
   "metadata": {
    "collapsed": false,
    "ExecuteTime": {
     "end_time": "2025-08-22T18:30:14.145173Z",
     "start_time": "2025-08-22T18:29:50.590984Z"
    }
   }
  },
  {
   "cell_type": "code",
   "execution_count": 35,
   "outputs": [
    {
     "data": {
      "text/plain": "Index(['property_type', 'BuildingName', 'BuildingNumber', 'SubBuildingName',\n       'StreetName', 'Locality', 'TownName', 'Postcode', 'Outcode', 'Incode'],\n      dtype='object')"
     },
     "execution_count": 35,
     "metadata": {},
     "output_type": "execute_result"
    }
   ],
   "source": [
    "df.columns"
   ],
   "metadata": {
    "collapsed": false,
    "ExecuteTime": {
     "end_time": "2025-08-22T18:30:15.944304Z",
     "start_time": "2025-08-22T18:30:15.926722Z"
    }
   }
  },
  {
   "cell_type": "code",
   "execution_count": null,
   "outputs": [],
   "source": [],
   "metadata": {
    "collapsed": false
   }
  },
  {
   "cell_type": "markdown",
   "source": [
    "## Data to XML"
   ],
   "metadata": {
    "collapsed": false
   }
  },
  {
   "cell_type": "code",
   "execution_count": 2,
   "outputs": [],
   "source": [
    "import pandas as pd\n",
    "from machine_learning.address_parser.src.address_balancing_xml import write_train_test_streaming"
   ],
   "metadata": {
    "collapsed": false,
    "ExecuteTime": {
     "end_time": "2025-08-22T21:00:28.942978Z",
     "start_time": "2025-08-22T21:00:28.624231Z"
    }
   }
  },
  {
   "cell_type": "code",
   "execution_count": 3,
   "outputs": [],
   "source": [
    "df = pd.read_csv(\"../data/interim/ppd_address_sql_v01.csv\")"
   ],
   "metadata": {
    "collapsed": false,
    "ExecuteTime": {
     "end_time": "2025-08-22T21:00:44.511531Z",
     "start_time": "2025-08-22T21:00:29.445511Z"
    }
   }
  },
  {
   "cell_type": "code",
   "execution_count": null,
   "outputs": [],
   "source": [
    "out = write_train_test_streaming(\n",
    "    df,\n",
    "    output_dir=\"../data/processed/ppd_xml/2025-08-22\",\n",
    "    n_total=1_000_000,                # pick this many rows in a balanced way; None = use all available\n",
    "    test_ratio=0.20,                  # 10% to holdout\n",
    "    rows_per_shard=1_000_000,           # file size control , # >= n_total → no rollover\n",
    "    seed=2025,\n",
    "    swap_locality_prob=0.25,          # keep your randomisation\n",
    "    include_property_type_in_strata=True,  # stratify by F vs non-F too\n",
    "    train_prefix=\"train\",\n",
    "    holdout_prefix=\"holdout\",\n",
    ")\n",
    "\n",
    "out[\"counts\"], out[\"files\"][\"train\"][:2], out[\"files\"][\"test\"][:2]"
   ],
   "metadata": {
    "collapsed": false,
    "is_executing": true,
    "ExecuteTime": {
     "start_time": "2025-08-22T21:00:46.694836Z"
    }
   }
  },
  {
   "cell_type": "code",
   "execution_count": 5,
   "outputs": [],
   "source": [],
   "metadata": {
    "collapsed": false,
    "ExecuteTime": {
     "end_time": "2025-08-22T19:42:47.975063Z",
     "start_time": "2025-08-22T19:42:47.857467Z"
    }
   }
  },
  {
   "cell_type": "code",
   "execution_count": null,
   "outputs": [],
   "source": [],
   "metadata": {
    "collapsed": false
   }
  },
  {
   "cell_type": "markdown",
   "source": [
    "## Model Training"
   ],
   "metadata": {
    "collapsed": false
   }
  },
  {
   "cell_type": "code",
   "execution_count": 1,
   "outputs": [],
   "source": [
    "from machine_learning.address_parser.src.train_and_tune import train, tune"
   ],
   "metadata": {
    "collapsed": false
   }
  },
  {
   "cell_type": "markdown",
   "source": [
    "Train"
   ],
   "metadata": {
    "collapsed": false
   }
  },
  {
   "cell_type": "code",
   "execution_count": 2,
   "outputs": [
    {
     "name": "stdout",
     "output_type": "stream",
     "text": [
      "Reading training XML: ../data/processed/ppd_xml/2025-08-22/train_0000.xml\n",
      "Training sequences: 100000\n",
      "Reading holdout XML:  ../data/processed/ppd_xml/2025-08-22/holdout_0000.xml\n",
      "Holdout sequences:   100000\n",
      "\n",
      "Start training...\n"
     ]
    },
    {
     "name": "stderr",
     "output_type": "stream",
     "text": [
      "loading training data to CRFsuite: 100%|██████████| 100000/100000 [00:12<00:00, 7859.63it/s]\n"
     ]
    },
    {
     "name": "stdout",
     "output_type": "stream",
     "text": [
      "\n",
      "Feature generation\n",
      "type: CRF1d\n",
      "feature.minfreq: 0.001000\n",
      "feature.possible_states: 0\n",
      "feature.possible_transitions: 1\n",
      "0....1....2....3....4....5....6....7....8....9....10\n",
      "Number of features: 190097\n",
      "Seconds required: 3.682\n",
      "\n",
      "L-BFGS optimization\n",
      "c1: 0.300000\n",
      "c2: 0.001000\n",
      "num_memories: 6\n",
      "max_iterations: 2147483647\n",
      "epsilon: 0.000010\n",
      "stop: 10\n",
      "delta: 0.000010\n",
      "linesearch: MoreThuente\n",
      "linesearch.max_iterations: 20\n",
      "\n",
      "Iter 1   time=0.94  loss=1138094.34 active=178903 feature_norm=1.00\n",
      "Iter 2   time=0.47  loss=744553.97 active=178297 feature_norm=2.95\n",
      "Iter 3   time=0.47  loss=543964.65 active=177368 feature_norm=4.22\n",
      "Iter 4   time=0.47  loss=443084.32 active=179116 feature_norm=5.50\n",
      "Iter 5   time=0.47  loss=372866.59 active=180095 feature_norm=6.58\n",
      "Iter 6   time=0.47  loss=322636.11 active=176802 feature_norm=8.07\n",
      "Iter 7   time=0.48  loss=288108.04 active=167917 feature_norm=9.41\n",
      "Iter 8   time=0.47  loss=265765.07 active=164565 feature_norm=10.38\n",
      "Iter 9   time=0.47  loss=252722.88 active=160516 feature_norm=11.39\n",
      "Iter 10  time=0.47  loss=234936.66 active=148300 feature_norm=12.90\n",
      "Iter 11  time=0.47  loss=222656.59 active=142174 feature_norm=14.40\n",
      "Iter 12  time=0.47  loss=212590.74 active=137821 feature_norm=15.84\n",
      "Iter 13  time=0.49  loss=203742.52 active=132390 feature_norm=17.60\n",
      "Iter 14  time=0.49  loss=196647.92 active=128684 feature_norm=19.04\n",
      "Iter 15  time=0.48  loss=189734.78 active=123879 feature_norm=21.02\n",
      "Iter 16  time=0.47  loss=182373.10 active=119198 feature_norm=23.41\n",
      "Iter 17  time=0.47  loss=178335.18 active=115576 feature_norm=25.60\n",
      "Iter 18  time=0.51  loss=172349.45 active=111522 feature_norm=27.98\n",
      "Iter 19  time=0.68  loss=167992.54 active=107889 feature_norm=30.18\n",
      "Iter 20  time=0.50  loss=163881.27 active=104387 feature_norm=32.64\n",
      "Iter 21  time=0.51  loss=159807.99 active=100810 feature_norm=34.24\n",
      "Iter 22  time=0.56  loss=156144.17 active=98089 feature_norm=36.86\n",
      "Iter 23  time=0.49  loss=152313.02 active=95657 feature_norm=38.36\n",
      "Iter 24  time=0.49  loss=147856.81 active=93339 feature_norm=40.65\n",
      "Iter 25  time=0.48  loss=142906.56 active=90698 feature_norm=44.55\n",
      "Iter 26  time=0.48  loss=139058.31 active=90603 feature_norm=47.49\n",
      "Iter 27  time=0.48  loss=135743.23 active=89205 feature_norm=50.52\n",
      "Iter 28  time=0.48  loss=131755.61 active=87828 feature_norm=55.84\n",
      "Iter 29  time=0.47  loss=127529.61 active=86788 feature_norm=63.11\n",
      "Iter 30  time=0.48  loss=123832.01 active=85983 feature_norm=68.75\n",
      "Iter 31  time=0.48  loss=120187.19 active=85105 feature_norm=76.77\n",
      "Iter 32  time=0.48  loss=117123.42 active=83962 feature_norm=86.91\n",
      "Iter 33  time=0.47  loss=114452.23 active=83140 feature_norm=96.18\n",
      "Iter 34  time=0.47  loss=111853.02 active=81494 feature_norm=104.78\n",
      "Iter 35  time=0.47  loss=108862.93 active=80769 feature_norm=118.24\n",
      "Iter 36  time=0.47  loss=106587.76 active=79409 feature_norm=136.79\n",
      "Iter 37  time=0.47  loss=104478.31 active=79746 feature_norm=145.76\n",
      "Iter 38  time=0.47  loss=103130.73 active=79037 feature_norm=154.92\n",
      "Iter 39  time=0.47  loss=101444.17 active=78554 feature_norm=167.04\n",
      "Iter 40  time=0.47  loss=99753.83 active=78139 feature_norm=179.94\n",
      "Iter 41  time=0.47  loss=98125.11 active=76758 feature_norm=191.69\n",
      "Iter 42  time=0.47  loss=96535.82 active=75922 feature_norm=204.71\n",
      "Iter 43  time=0.47  loss=95060.00 active=74937 feature_norm=217.82\n",
      "Iter 44  time=0.48  loss=93808.14 active=74503 feature_norm=229.03\n",
      "Iter 45  time=0.47  loss=92572.58 active=72736 feature_norm=243.69\n",
      "Iter 46  time=0.49  loss=91512.55 active=71396 feature_norm=256.07\n",
      "Iter 47  time=0.49  loss=90608.73 active=68816 feature_norm=268.05\n",
      "Iter 48  time=0.48  loss=89773.57 active=68193 feature_norm=282.39\n",
      "Iter 49  time=0.49  loss=89077.36 active=67417 feature_norm=295.36\n",
      "Iter 50  time=0.49  loss=88523.71 active=67199 feature_norm=304.12\n",
      "Iter 51  time=0.54  loss=88110.19 active=65710 feature_norm=311.64\n",
      "Iter 52  time=0.53  loss=87707.34 active=65307 feature_norm=317.49\n",
      "Iter 53  time=0.47  loss=87377.77 active=63943 feature_norm=321.54\n",
      "Iter 54  time=0.48  loss=87075.87 active=62158 feature_norm=325.24\n",
      "Iter 55  time=0.56  loss=86808.75 active=61595 feature_norm=328.07\n",
      "Iter 56  time=0.48  loss=86554.17 active=61159 feature_norm=330.28\n",
      "Iter 57  time=0.48  loss=86328.56 active=59940 feature_norm=332.62\n",
      "Iter 58  time=0.49  loss=86097.62 active=59396 feature_norm=334.39\n",
      "Iter 59  time=0.49  loss=85910.53 active=58890 feature_norm=336.08\n",
      "Iter 60  time=0.49  loss=85717.99 active=58400 feature_norm=337.55\n",
      "Iter 61  time=0.48  loss=85546.52 active=57951 feature_norm=339.17\n",
      "Iter 62  time=0.54  loss=85373.80 active=57562 feature_norm=341.02\n",
      "Iter 63  time=0.47  loss=85210.21 active=57277 feature_norm=342.65\n",
      "Iter 64  time=0.50  loss=85057.78 active=56985 feature_norm=344.26\n",
      "Iter 65  time=0.48  loss=84910.40 active=56631 feature_norm=345.82\n",
      "Iter 66  time=0.48  loss=84781.02 active=56344 feature_norm=347.47\n",
      "Iter 67  time=0.50  loss=84650.78 active=56140 feature_norm=348.92\n",
      "Iter 68  time=0.50  loss=84540.21 active=55905 feature_norm=350.25\n",
      "Iter 69  time=0.49  loss=84437.70 active=55684 feature_norm=351.48\n",
      "Iter 70  time=0.51  loss=84345.42 active=55437 feature_norm=352.84\n",
      "Iter 71  time=0.66  loss=84245.73 active=55144 feature_norm=354.13\n",
      "Iter 72  time=0.84  loss=84162.22 active=54825 feature_norm=355.51\n",
      "Iter 73  time=0.76  loss=84072.96 active=54656 feature_norm=356.79\n",
      "Iter 74  time=0.59  loss=83993.92 active=54432 feature_norm=358.13\n",
      "Iter 75  time=0.51  loss=83917.27 active=54271 feature_norm=359.28\n",
      "Iter 76  time=0.49  loss=83845.41 active=54089 feature_norm=360.45\n",
      "Iter 77  time=0.50  loss=83771.65 active=53948 feature_norm=361.45\n",
      "Iter 78  time=0.54  loss=83705.51 active=53810 feature_norm=362.49\n",
      "Iter 79  time=0.54  loss=83641.86 active=53670 feature_norm=363.37\n",
      "Iter 80  time=0.51  loss=83582.46 active=53529 feature_norm=364.40\n",
      "Iter 81  time=0.55  loss=83520.12 active=53403 feature_norm=365.25\n",
      "Iter 82  time=0.73  loss=83459.16 active=53331 feature_norm=366.24\n",
      "Iter 83  time=0.82  loss=83406.75 active=53237 feature_norm=367.06\n",
      "Iter 84  time=0.69  loss=83351.69 active=53102 feature_norm=368.03\n",
      "Iter 85  time=0.80  loss=83298.68 active=52992 feature_norm=368.80\n",
      "Iter 86  time=0.75  loss=83252.05 active=52922 feature_norm=369.72\n",
      "Iter 87  time=0.56  loss=83205.41 active=52823 feature_norm=370.43\n",
      "Iter 88  time=0.54  loss=83158.53 active=52739 feature_norm=371.28\n",
      "Iter 89  time=0.50  loss=83114.82 active=52667 feature_norm=371.96\n",
      "Iter 90  time=0.48  loss=83073.56 active=52615 feature_norm=372.79\n",
      "Iter 91  time=0.47  loss=83031.13 active=52535 feature_norm=373.44\n",
      "Iter 92  time=0.47  loss=82982.66 active=52466 feature_norm=374.20\n",
      "Iter 93  time=0.47  loss=82947.50 active=52411 feature_norm=374.85\n",
      "Iter 94  time=0.49  loss=82904.62 active=52345 feature_norm=375.64\n",
      "Iter 95  time=0.47  loss=82869.82 active=52247 feature_norm=376.29\n",
      "Iter 96  time=0.47  loss=82818.33 active=52174 feature_norm=376.99\n",
      "Iter 97  time=0.47  loss=82792.57 active=52082 feature_norm=377.58\n",
      "Iter 98  time=0.48  loss=82743.20 active=52032 feature_norm=378.22\n",
      "Iter 99  time=0.47  loss=82718.02 active=51951 feature_norm=378.75\n",
      "Iter 100 time=0.47  loss=82668.03 active=51878 feature_norm=379.35\n",
      "Iter 101 time=0.48  loss=82645.80 active=51790 feature_norm=379.90\n",
      "Iter 102 time=0.47  loss=82598.95 active=51707 feature_norm=380.51\n",
      "Iter 103 time=0.47  loss=82574.57 active=51636 feature_norm=381.02\n",
      "Iter 104 time=0.47  loss=82526.66 active=51622 feature_norm=381.60\n",
      "Iter 105 time=0.48  loss=82502.09 active=51537 feature_norm=382.12\n",
      "Iter 106 time=0.47  loss=82458.10 active=51476 feature_norm=382.71\n",
      "Iter 107 time=0.47  loss=82433.96 active=51419 feature_norm=383.20\n",
      "Iter 108 time=0.48  loss=82391.25 active=51355 feature_norm=383.78\n",
      "Iter 109 time=0.49  loss=82367.22 active=51322 feature_norm=384.26\n",
      "Iter 110 time=0.48  loss=82327.93 active=51282 feature_norm=384.86\n",
      "Iter 111 time=0.47  loss=82300.33 active=51244 feature_norm=385.31\n",
      "Iter 112 time=0.47  loss=82267.12 active=51212 feature_norm=385.85\n",
      "Iter 113 time=0.49  loss=82240.78 active=51169 feature_norm=386.28\n",
      "Iter 114 time=0.49  loss=82212.84 active=51134 feature_norm=386.80\n",
      "Iter 115 time=0.47  loss=82184.68 active=51115 feature_norm=387.19\n",
      "Iter 116 time=0.47  loss=82157.73 active=51063 feature_norm=387.66\n",
      "Iter 117 time=0.48  loss=82132.34 active=51014 feature_norm=388.01\n",
      "Iter 118 time=0.47  loss=82110.04 active=50950 feature_norm=388.49\n",
      "Iter 119 time=0.47  loss=82082.33 active=50917 feature_norm=388.84\n",
      "Iter 120 time=0.47  loss=82057.45 active=50880 feature_norm=389.27\n",
      "Iter 121 time=0.50  loss=82030.55 active=50819 feature_norm=389.57\n",
      "Iter 122 time=0.48  loss=82008.76 active=50733 feature_norm=389.99\n",
      "Iter 123 time=0.47  loss=81981.01 active=50698 feature_norm=390.28\n",
      "Iter 124 time=0.47  loss=81961.48 active=50646 feature_norm=390.65\n",
      "Iter 125 time=0.49  loss=81933.95 active=50602 feature_norm=390.91\n",
      "Iter 126 time=0.47  loss=81916.55 active=50544 feature_norm=391.27\n",
      "Iter 127 time=0.48  loss=81890.34 active=50538 feature_norm=391.52\n",
      "Iter 128 time=0.48  loss=81872.14 active=50457 feature_norm=391.88\n",
      "Iter 129 time=0.47  loss=81847.06 active=50410 feature_norm=392.13\n",
      "Iter 130 time=0.47  loss=81826.95 active=50358 feature_norm=392.48\n",
      "Iter 131 time=0.47  loss=81803.76 active=50306 feature_norm=392.75\n",
      "Iter 132 time=0.47  loss=81781.43 active=50257 feature_norm=393.09\n",
      "Iter 133 time=0.47  loss=81758.99 active=50206 feature_norm=393.36\n",
      "Iter 134 time=0.47  loss=81735.83 active=50158 feature_norm=393.73\n",
      "Iter 135 time=0.48  loss=81713.71 active=50109 feature_norm=393.99\n",
      "Iter 136 time=0.47  loss=81686.56 active=50066 feature_norm=394.36\n",
      "Iter 137 time=0.47  loss=81665.19 active=50012 feature_norm=394.62\n",
      "Iter 138 time=0.47  loss=81639.91 active=49987 feature_norm=394.99\n",
      "Iter 139 time=0.47  loss=81619.84 active=49922 feature_norm=395.26\n",
      "Iter 140 time=0.49  loss=81591.77 active=49912 feature_norm=395.62\n",
      "Iter 141 time=0.47  loss=81572.02 active=49863 feature_norm=395.87\n",
      "Iter 142 time=0.49  loss=81545.51 active=49852 feature_norm=396.23\n",
      "Iter 143 time=0.48  loss=81528.02 active=49806 feature_norm=396.48\n",
      "Iter 144 time=0.53  loss=81497.71 active=49764 feature_norm=396.84\n",
      "Iter 145 time=0.54  loss=81482.89 active=49707 feature_norm=397.10\n",
      "Iter 146 time=0.50  loss=81451.95 active=49672 feature_norm=397.44\n",
      "Iter 147 time=0.48  loss=81433.49 active=49600 feature_norm=397.66\n",
      "Iter 148 time=0.47  loss=81404.67 active=49580 feature_norm=397.96\n",
      "Iter 149 time=0.47  loss=81388.15 active=49520 feature_norm=398.17\n",
      "Iter 150 time=0.50  loss=81361.28 active=49487 feature_norm=398.52\n",
      "Iter 151 time=0.50  loss=81342.89 active=49412 feature_norm=398.76\n",
      "Iter 152 time=0.67  loss=81309.05 active=49383 feature_norm=399.08\n",
      "Iter 153 time=0.49  loss=81298.28 active=49298 feature_norm=399.30\n",
      "Iter 154 time=0.49  loss=81261.36 active=49233 feature_norm=399.65\n",
      "Iter 155 time=0.48  loss=81250.34 active=49171 feature_norm=399.88\n",
      "Iter 156 time=0.47  loss=81212.09 active=49137 feature_norm=400.22\n",
      "Iter 157 time=0.48  loss=81201.41 active=49081 feature_norm=400.45\n",
      "Iter 158 time=0.47  loss=81164.75 active=49028 feature_norm=400.79\n",
      "Iter 159 time=0.55  loss=81152.35 active=48981 feature_norm=401.03\n",
      "Iter 160 time=0.54  loss=81119.14 active=48933 feature_norm=401.36\n",
      "Iter 161 time=0.54  loss=81103.65 active=48875 feature_norm=401.56\n",
      "Iter 162 time=0.53  loss=81077.31 active=48831 feature_norm=401.89\n",
      "Iter 163 time=0.49  loss=81059.31 active=48783 feature_norm=402.08\n",
      "Iter 164 time=0.49  loss=81032.75 active=48753 feature_norm=402.39\n",
      "Iter 165 time=0.49  loss=81014.98 active=48676 feature_norm=402.61\n",
      "Iter 166 time=0.51  loss=80989.05 active=48641 feature_norm=402.94\n",
      "Iter 167 time=0.51  loss=80970.51 active=48604 feature_norm=403.16\n",
      "Iter 168 time=0.47  loss=80945.77 active=48569 feature_norm=403.46\n",
      "Iter 169 time=0.49  loss=80927.82 active=48544 feature_norm=403.63\n",
      "Iter 170 time=0.49  loss=80905.21 active=48499 feature_norm=403.93\n",
      "Iter 171 time=0.48  loss=80886.45 active=48460 feature_norm=404.10\n",
      "Iter 172 time=0.49  loss=80863.90 active=48426 feature_norm=404.39\n",
      "Iter 173 time=0.49  loss=80846.58 active=48354 feature_norm=404.57\n",
      "Iter 174 time=0.50  loss=80824.37 active=48319 feature_norm=404.86\n",
      "Iter 175 time=0.49  loss=80806.78 active=48290 feature_norm=405.05\n",
      "Iter 176 time=0.48  loss=80785.60 active=48246 feature_norm=405.34\n",
      "Iter 177 time=0.47  loss=80769.09 active=48198 feature_norm=405.52\n",
      "Iter 178 time=0.47  loss=80750.01 active=48154 feature_norm=405.81\n",
      "Iter 179 time=0.47  loss=80736.08 active=48144 feature_norm=405.99\n",
      "Iter 180 time=0.47  loss=80717.79 active=48119 feature_norm=406.24\n",
      "Iter 181 time=0.47  loss=80704.98 active=48083 feature_norm=406.38\n",
      "Iter 182 time=0.48  loss=80686.73 active=48034 feature_norm=406.62\n",
      "Iter 183 time=0.49  loss=80675.94 active=47965 feature_norm=406.75\n",
      "Iter 184 time=0.48  loss=80656.25 active=47924 feature_norm=406.99\n",
      "Iter 185 time=0.49  loss=80646.23 active=47884 feature_norm=407.12\n",
      "Iter 186 time=0.50  loss=80627.40 active=47870 feature_norm=407.35\n",
      "Iter 187 time=0.49  loss=80618.91 active=47824 feature_norm=407.48\n",
      "Iter 188 time=0.48  loss=80600.29 active=47787 feature_norm=407.70\n",
      "Iter 189 time=0.47  loss=80593.06 active=47744 feature_norm=407.81\n",
      "Iter 190 time=0.47  loss=80575.44 active=47722 feature_norm=408.01\n",
      "Iter 191 time=0.47  loss=80568.85 active=47686 feature_norm=408.11\n",
      "Iter 192 time=0.47  loss=80551.55 active=47656 feature_norm=408.31\n",
      "Iter 193 time=0.47  loss=80546.02 active=47620 feature_norm=408.41\n",
      "Iter 194 time=0.47  loss=80527.98 active=47594 feature_norm=408.61\n",
      "Iter 195 time=0.47  loss=80522.55 active=47563 feature_norm=408.71\n",
      "Iter 196 time=0.47  loss=80504.36 active=47534 feature_norm=408.90\n",
      "Iter 197 time=0.47  loss=80499.82 active=47501 feature_norm=409.00\n",
      "Iter 198 time=0.47  loss=80481.82 active=47481 feature_norm=409.19\n",
      "Iter 199 time=0.47  loss=80477.19 active=47435 feature_norm=409.29\n",
      "Iter 200 time=0.47  loss=80459.96 active=47386 feature_norm=409.48\n",
      "Iter 201 time=0.49  loss=80455.57 active=47354 feature_norm=409.57\n",
      "Iter 202 time=0.48  loss=80438.70 active=47324 feature_norm=409.77\n",
      "Iter 203 time=0.46  loss=80433.64 active=47288 feature_norm=409.86\n",
      "Iter 204 time=0.48  loss=80416.85 active=47252 feature_norm=410.05\n",
      "Iter 205 time=0.47  loss=80412.32 active=47232 feature_norm=410.13\n",
      "Iter 206 time=0.47  loss=80395.91 active=47205 feature_norm=410.33\n",
      "Iter 207 time=0.47  loss=80390.60 active=47174 feature_norm=410.41\n",
      "Iter 208 time=0.47  loss=80375.38 active=47161 feature_norm=410.61\n",
      "Iter 209 time=0.47  loss=80369.83 active=47117 feature_norm=410.69\n",
      "Iter 210 time=0.49  loss=80354.97 active=47102 feature_norm=410.90\n",
      "Iter 211 time=0.48  loss=80348.80 active=47066 feature_norm=410.98\n",
      "Iter 212 time=0.49  loss=80334.42 active=47044 feature_norm=411.20\n",
      "Iter 213 time=0.51  loss=80328.64 active=47006 feature_norm=411.28\n",
      "Iter 214 time=0.49  loss=80314.33 active=46997 feature_norm=411.50\n",
      "Iter 215 time=0.48  loss=80307.92 active=46962 feature_norm=411.59\n",
      "Iter 216 time=0.46  loss=80294.76 active=46928 feature_norm=411.79\n",
      "Iter 217 time=0.47  loss=80288.74 active=46892 feature_norm=411.90\n",
      "Iter 218 time=0.49  loss=80275.93 active=46867 feature_norm=412.11\n",
      "Iter 219 time=0.47  loss=80269.74 active=46841 feature_norm=412.21\n",
      "Iter 220 time=0.49  loss=80258.64 active=46802 feature_norm=412.42\n",
      "Iter 221 time=0.47  loss=80252.50 active=46764 feature_norm=412.51\n",
      "Iter 222 time=0.46  loss=80241.98 active=46733 feature_norm=412.72\n",
      "Iter 223 time=0.47  loss=80235.23 active=46698 feature_norm=412.82\n",
      "Iter 224 time=0.47  loss=80225.26 active=46687 feature_norm=413.01\n",
      "Iter 225 time=0.47  loss=80219.05 active=46638 feature_norm=413.12\n",
      "Iter 226 time=0.48  loss=80208.70 active=46576 feature_norm=413.33\n",
      "Iter 227 time=0.47  loss=80202.79 active=46541 feature_norm=413.44\n",
      "Iter 228 time=0.47  loss=80191.82 active=46521 feature_norm=413.65\n",
      "Iter 229 time=0.47  loss=80186.63 active=46485 feature_norm=413.75\n",
      "Iter 230 time=0.47  loss=80175.22 active=46466 feature_norm=413.95\n",
      "Iter 231 time=0.46  loss=80170.47 active=46432 feature_norm=414.06\n",
      "Iter 232 time=0.47  loss=80158.66 active=46404 feature_norm=414.27\n",
      "Iter 233 time=0.47  loss=80153.90 active=46369 feature_norm=414.39\n",
      "Iter 234 time=0.47  loss=80142.64 active=46336 feature_norm=414.61\n",
      "Iter 235 time=0.47  loss=80138.36 active=46283 feature_norm=414.73\n",
      "Iter 236 time=0.47  loss=80126.36 active=46255 feature_norm=414.95\n",
      "Iter 237 time=0.47  loss=80121.11 active=46199 feature_norm=415.05\n",
      "Iter 238 time=0.47  loss=80111.08 active=46185 feature_norm=415.26\n",
      "Iter 239 time=0.47  loss=80106.73 active=46129 feature_norm=415.37\n",
      "Iter 240 time=0.47  loss=80094.96 active=46103 feature_norm=415.58\n",
      "Iter 241 time=0.48  loss=80090.84 active=46089 feature_norm=415.70\n",
      "Iter 242 time=0.47  loss=80079.20 active=46081 feature_norm=415.90\n",
      "Iter 243 time=0.50  loss=80074.72 active=46037 feature_norm=416.03\n",
      "Iter 244 time=0.48  loss=80062.54 active=46030 feature_norm=416.24\n",
      "Iter 245 time=0.48  loss=80058.74 active=46005 feature_norm=416.38\n",
      "Iter 246 time=0.48  loss=80046.02 active=46000 feature_norm=416.61\n",
      "Iter 247 time=0.48  loss=80043.25 active=45965 feature_norm=416.74\n",
      "Iter 248 time=0.48  loss=80029.90 active=45956 feature_norm=416.98\n",
      "Iter 249 time=0.49  loss=80026.54 active=45919 feature_norm=417.12\n",
      "Iter 250 time=0.47  loss=80015.26 active=45898 feature_norm=417.31\n",
      "Iter 251 time=0.49  loss=80010.41 active=45873 feature_norm=417.43\n",
      "Iter 252 time=0.50  loss=80001.20 active=45867 feature_norm=417.57\n",
      "Iter 253 time=0.48  loss=79997.29 active=45832 feature_norm=417.67\n",
      "Iter 254 time=0.47  loss=79987.40 active=45799 feature_norm=417.83\n",
      "Iter 255 time=0.47  loss=79982.44 active=45780 feature_norm=417.92\n",
      "Iter 256 time=0.47  loss=79972.13 active=45744 feature_norm=418.08\n",
      "Iter 257 time=0.52  loss=79966.10 active=45725 feature_norm=418.17\n",
      "Iter 258 time=0.47  loss=79956.04 active=45705 feature_norm=418.33\n",
      "Iter 259 time=0.49  loss=79950.52 active=45679 feature_norm=418.41\n",
      "Iter 260 time=0.47  loss=79941.40 active=45656 feature_norm=418.56\n",
      "Iter 261 time=0.50  loss=79936.45 active=45618 feature_norm=418.64\n",
      "Iter 262 time=0.50  loss=79926.65 active=45607 feature_norm=418.77\n",
      "Iter 263 time=0.48  loss=79923.31 active=45576 feature_norm=418.85\n",
      "Iter 264 time=0.48  loss=79912.92 active=45561 feature_norm=418.97\n",
      "Iter 265 time=0.49  loss=79909.25 active=45528 feature_norm=419.06\n",
      "Iter 266 time=0.48  loss=79899.20 active=45524 feature_norm=419.20\n",
      "Iter 267 time=0.57  loss=79895.43 active=45492 feature_norm=419.28\n",
      "Iter 268 time=0.49  loss=79885.96 active=45467 feature_norm=419.43\n",
      "Iter 269 time=0.49  loss=79881.52 active=45445 feature_norm=419.50\n",
      "Iter 270 time=0.49  loss=79872.66 active=45431 feature_norm=419.66\n",
      "Iter 271 time=0.51  loss=79867.33 active=45390 feature_norm=419.74\n",
      "Iter 272 time=0.48  loss=79858.96 active=45360 feature_norm=419.88\n",
      "Iter 273 time=0.48  loss=79853.74 active=45324 feature_norm=419.97\n",
      "Iter 274 time=0.47  loss=79844.86 active=45309 feature_norm=420.13\n",
      "Iter 275 time=0.47  loss=79839.16 active=45268 feature_norm=420.22\n",
      "Iter 276 time=0.47  loss=79830.32 active=45250 feature_norm=420.36\n",
      "Iter 277 time=0.47  loss=79825.15 active=45215 feature_norm=420.44\n",
      "Iter 278 time=0.49  loss=79816.61 active=45191 feature_norm=420.58\n",
      "Iter 279 time=0.50  loss=79811.56 active=45162 feature_norm=420.66\n",
      "Iter 280 time=0.49  loss=79803.58 active=45159 feature_norm=420.77\n",
      "Iter 281 time=0.48  loss=79799.82 active=45130 feature_norm=420.84\n",
      "Iter 282 time=0.49  loss=79791.27 active=45107 feature_norm=420.97\n",
      "Iter 283 time=0.47  loss=79788.08 active=45095 feature_norm=421.04\n",
      "Iter 284 time=0.48  loss=79778.98 active=45088 feature_norm=421.17\n",
      "Iter 285 time=0.49  loss=79776.42 active=45058 feature_norm=421.26\n",
      "Iter 286 time=0.48  loss=79767.08 active=45041 feature_norm=421.38\n",
      "Iter 287 time=0.48  loss=79764.73 active=45016 feature_norm=421.46\n",
      "Iter 288 time=0.47  loss=79755.22 active=45004 feature_norm=421.58\n",
      "Iter 289 time=0.47  loss=79753.15 active=44988 feature_norm=421.66\n",
      "Iter 290 time=0.48  loss=79743.69 active=44966 feature_norm=421.79\n",
      "Iter 291 time=0.47  loss=79741.77 active=44935 feature_norm=421.87\n",
      "Iter 292 time=0.48  loss=79731.81 active=44923 feature_norm=421.99\n",
      "Iter 293 time=0.48  loss=79730.33 active=44907 feature_norm=422.07\n",
      "Iter 294 time=0.48  loss=79720.32 active=44900 feature_norm=422.20\n",
      "Iter 295 time=0.49  loss=79719.23 active=44899 feature_norm=422.28\n",
      "Iter 296 time=0.48  loss=79709.15 active=44877 feature_norm=422.41\n",
      "Iter 297 time=0.48  loss=79707.28 active=44860 feature_norm=422.50\n",
      "Iter 298 time=0.48  loss=79698.22 active=44843 feature_norm=422.62\n",
      "Iter 299 time=0.49  loss=79697.52 active=44809 feature_norm=422.70\n",
      "Iter 300 time=0.48  loss=79687.48 active=44804 feature_norm=422.83\n",
      "Iter 301 time=0.49  loss=79687.15 active=44770 feature_norm=422.92\n",
      "Iter 302 time=0.49  loss=79677.06 active=44758 feature_norm=423.03\n",
      "Iter 303 time=0.47  loss=79676.99 active=44730 feature_norm=423.11\n",
      "Iter 304 time=0.53  loss=79667.13 active=44705 feature_norm=423.22\n",
      "Iter 305 time=0.98  loss=79662.81 active=44706 feature_norm=423.26\n",
      "Iter 306 time=0.49  loss=79662.58 active=44673 feature_norm=423.37\n",
      "Iter 307 time=0.49  loss=79655.37 active=44649 feature_norm=423.45\n",
      "Iter 308 time=0.49  loss=79650.63 active=44632 feature_norm=423.58\n",
      "Iter 309 time=0.48  loss=79644.02 active=44635 feature_norm=423.65\n",
      "Iter 310 time=0.55  loss=79639.50 active=44606 feature_norm=423.76\n",
      "Iter 311 time=0.82  loss=79632.72 active=44598 feature_norm=423.82\n",
      "Iter 312 time=0.71  loss=79630.43 active=44557 feature_norm=423.92\n",
      "Iter 313 time=0.48  loss=79623.47 active=44540 feature_norm=423.99\n",
      "Iter 314 time=0.49  loss=79620.83 active=44527 feature_norm=424.10\n",
      "Iter 315 time=0.48  loss=79614.20 active=44531 feature_norm=424.16\n",
      "Iter 316 time=0.48  loss=79611.42 active=44508 feature_norm=424.28\n",
      "Iter 317 time=0.48  loss=79604.53 active=44506 feature_norm=424.34\n",
      "Iter 318 time=0.48  loss=79602.03 active=44457 feature_norm=424.45\n",
      "Iter 319 time=0.49  loss=79595.06 active=44460 feature_norm=424.52\n",
      "Iter 320 time=0.48  loss=79592.35 active=44436 feature_norm=424.62\n",
      "Iter 321 time=0.48  loss=79585.96 active=44436 feature_norm=424.69\n",
      "Iter 322 time=0.47  loss=79583.47 active=44414 feature_norm=424.80\n",
      "Iter 323 time=0.49  loss=79577.07 active=44389 feature_norm=424.87\n",
      "Iter 324 time=0.48  loss=79574.52 active=44367 feature_norm=424.98\n",
      "Iter 325 time=0.48  loss=79568.24 active=44352 feature_norm=425.05\n",
      "Iter 326 time=0.47  loss=79565.68 active=44329 feature_norm=425.15\n",
      "Iter 327 time=0.47  loss=79559.77 active=44326 feature_norm=425.21\n",
      "Iter 328 time=0.48  loss=79556.01 active=44294 feature_norm=425.30\n",
      "Iter 329 time=0.48  loss=79551.99 active=44280 feature_norm=425.36\n",
      "Iter 330 time=0.49  loss=79547.85 active=44262 feature_norm=425.45\n",
      "Iter 331 time=0.48  loss=79542.86 active=44261 feature_norm=425.51\n",
      "Iter 332 time=0.49  loss=79540.29 active=44254 feature_norm=425.59\n",
      "Iter 333 time=0.49  loss=79533.10 active=44238 feature_norm=425.64\n",
      "Iter 334 time=0.48  loss=79532.31 active=44224 feature_norm=425.70\n",
      "Iter 335 time=0.48  loss=79524.64 active=44206 feature_norm=425.74\n",
      "Iter 336 time=0.48  loss=79522.71 active=44186 feature_norm=425.80\n",
      "Iter 337 time=0.47  loss=79515.59 active=44144 feature_norm=425.84\n",
      "Iter 338 time=0.48  loss=79512.94 active=44114 feature_norm=425.89\n",
      "Iter 339 time=0.47  loss=79507.30 active=44106 feature_norm=425.93\n",
      "Iter 340 time=0.48  loss=79503.51 active=44072 feature_norm=425.97\n",
      "Iter 341 time=0.47  loss=79499.50 active=44066 feature_norm=426.00\n",
      "Iter 342 time=0.47  loss=79494.85 active=44046 feature_norm=426.03\n",
      "Iter 343 time=0.47  loss=79491.70 active=44038 feature_norm=426.07\n",
      "Iter 344 time=0.47  loss=79486.59 active=44024 feature_norm=426.11\n",
      "Iter 345 time=0.47  loss=79483.35 active=44003 feature_norm=426.15\n",
      "Iter 346 time=0.47  loss=79478.33 active=43994 feature_norm=426.20\n",
      "Iter 347 time=0.47  loss=79474.65 active=43992 feature_norm=426.23\n",
      "Iter 348 time=0.47  loss=79470.17 active=43973 feature_norm=426.28\n",
      "Iter 349 time=0.47  loss=79466.46 active=43959 feature_norm=426.32\n",
      "Iter 350 time=0.47  loss=79462.15 active=43951 feature_norm=426.37\n",
      "Iter 351 time=0.47  loss=79458.87 active=43914 feature_norm=426.41\n",
      "Iter 352 time=0.47  loss=79454.41 active=43895 feature_norm=426.47\n",
      "Iter 353 time=0.46  loss=79451.26 active=43884 feature_norm=426.51\n",
      "Iter 354 time=0.47  loss=79447.05 active=43872 feature_norm=426.56\n",
      "Iter 355 time=0.46  loss=79443.74 active=43862 feature_norm=426.61\n",
      "Iter 356 time=0.47  loss=79439.95 active=43861 feature_norm=426.66\n",
      "Iter 357 time=0.47  loss=79436.39 active=43845 feature_norm=426.71\n",
      "Iter 358 time=0.47  loss=79432.60 active=43838 feature_norm=426.77\n",
      "Iter 359 time=0.47  loss=79429.33 active=43830 feature_norm=426.82\n",
      "Iter 360 time=0.50  loss=79425.23 active=43811 feature_norm=426.89\n",
      "Iter 361 time=0.47  loss=79422.40 active=43794 feature_norm=426.94\n",
      "Iter 362 time=0.47  loss=79418.03 active=43789 feature_norm=427.00\n",
      "Iter 363 time=0.48  loss=79415.74 active=43801 feature_norm=427.04\n",
      "Iter 364 time=0.47  loss=79411.39 active=43792 feature_norm=427.09\n",
      "Iter 365 time=0.48  loss=79409.11 active=43783 feature_norm=427.13\n",
      "Iter 366 time=0.50  loss=79404.72 active=43777 feature_norm=427.18\n",
      "Iter 367 time=0.47  loss=79402.36 active=43772 feature_norm=427.23\n",
      "Iter 368 time=0.49  loss=79397.79 active=43751 feature_norm=427.27\n",
      "Iter 369 time=0.49  loss=79395.75 active=43731 feature_norm=427.31\n",
      "Iter 370 time=0.48  loss=79391.18 active=43722 feature_norm=427.36\n",
      "Iter 371 time=0.47  loss=79388.88 active=43708 feature_norm=427.40\n",
      "Iter 372 time=0.48  loss=79384.75 active=43702 feature_norm=427.45\n",
      "Iter 373 time=0.47  loss=79382.36 active=43687 feature_norm=427.48\n",
      "Iter 374 time=0.48  loss=79378.30 active=43667 feature_norm=427.53\n",
      "Iter 375 time=0.48  loss=79375.82 active=43660 feature_norm=427.57\n",
      "Iter 376 time=0.48  loss=79371.82 active=43649 feature_norm=427.62\n",
      "Iter 377 time=0.47  loss=79369.42 active=43639 feature_norm=427.65\n",
      "Iter 378 time=0.48  loss=79365.80 active=43621 feature_norm=427.70\n",
      "Iter 379 time=0.47  loss=79363.01 active=43605 feature_norm=427.74\n",
      "Iter 380 time=0.48  loss=79360.15 active=43600 feature_norm=427.79\n",
      "Iter 381 time=0.47  loss=79357.11 active=43589 feature_norm=427.83\n",
      "Iter 382 time=0.47  loss=79354.14 active=43578 feature_norm=427.88\n",
      "Iter 383 time=0.47  loss=79351.14 active=43564 feature_norm=427.92\n",
      "Iter 384 time=0.47  loss=79348.23 active=43550 feature_norm=427.97\n",
      "Iter 385 time=0.47  loss=79345.30 active=43527 feature_norm=428.01\n",
      "Iter 386 time=0.47  loss=79342.62 active=43514 feature_norm=428.06\n",
      "Iter 387 time=0.47  loss=79339.32 active=43508 feature_norm=428.10\n",
      "Iter 388 time=0.47  loss=79337.26 active=43496 feature_norm=428.15\n",
      "Iter 389 time=0.46  loss=79333.63 active=43499 feature_norm=428.19\n",
      "Iter 390 time=0.47  loss=79331.81 active=43506 feature_norm=428.24\n",
      "Iter 391 time=0.47  loss=79328.14 active=43469 feature_norm=428.27\n",
      "Iter 392 time=0.46  loss=79326.29 active=43463 feature_norm=428.33\n",
      "Iter 393 time=0.48  loss=79322.55 active=43443 feature_norm=428.36\n",
      "Iter 394 time=0.52  loss=79320.64 active=43417 feature_norm=428.42\n",
      "Iter 395 time=0.49  loss=79317.10 active=43390 feature_norm=428.46\n",
      "Iter 396 time=0.49  loss=79314.95 active=43374 feature_norm=428.51\n",
      "Iter 397 time=0.49  loss=79311.24 active=43355 feature_norm=428.54\n",
      "Iter 398 time=0.48  loss=79309.34 active=43353 feature_norm=428.59\n",
      "Iter 399 time=0.50  loss=79305.81 active=43339 feature_norm=428.63\n",
      "Iter 400 time=0.47  loss=79303.53 active=43312 feature_norm=428.69\n",
      "Iter 401 time=0.49  loss=79300.32 active=43303 feature_norm=428.73\n",
      "Iter 402 time=0.50  loss=79297.84 active=43297 feature_norm=428.77\n",
      "Iter 403 time=0.49  loss=79294.66 active=43267 feature_norm=428.82\n",
      "Iter 404 time=0.48  loss=79292.05 active=43247 feature_norm=428.87\n",
      "Iter 405 time=0.47  loss=79289.21 active=43232 feature_norm=428.91\n",
      "Iter 406 time=0.49  loss=79286.07 active=43215 feature_norm=428.95\n",
      "Iter 407 time=0.47  loss=79283.65 active=43208 feature_norm=428.99\n",
      "Iter 408 time=0.46  loss=79280.20 active=43180 feature_norm=429.03\n",
      "Iter 409 time=0.47  loss=79277.82 active=43179 feature_norm=429.06\n",
      "Iter 410 time=0.47  loss=79274.40 active=43168 feature_norm=429.11\n",
      "Iter 411 time=0.48  loss=79271.88 active=43159 feature_norm=429.14\n",
      "Iter 412 time=0.48  loss=79268.24 active=43155 feature_norm=429.18\n",
      "Iter 413 time=0.49  loss=79266.08 active=43149 feature_norm=429.22\n",
      "Iter 414 time=0.48  loss=79262.51 active=43136 feature_norm=429.26\n",
      "Iter 415 time=0.48  loss=79260.15 active=43121 feature_norm=429.28\n",
      "Iter 416 time=0.48  loss=79257.02 active=43092 feature_norm=429.32\n",
      "Iter 417 time=0.48  loss=79254.45 active=43077 feature_norm=429.35\n",
      "Iter 418 time=0.48  loss=79251.90 active=43062 feature_norm=429.39\n",
      "Iter 419 time=0.47  loss=79249.42 active=43033 feature_norm=429.42\n",
      "Iter 420 time=0.47  loss=79246.52 active=43012 feature_norm=429.47\n",
      "Iter 421 time=0.47  loss=79243.83 active=42992 feature_norm=429.51\n",
      "Iter 422 time=0.47  loss=79241.20 active=42981 feature_norm=429.56\n",
      "Iter 423 time=0.47  loss=79237.80 active=42970 feature_norm=429.60\n",
      "Iter 424 time=0.48  loss=79235.04 active=42957 feature_norm=429.65\n",
      "Iter 425 time=0.47  loss=79232.06 active=42926 feature_norm=429.68\n",
      "Iter 426 time=0.47  loss=79229.71 active=42927 feature_norm=429.73\n",
      "Iter 427 time=0.47  loss=79226.83 active=42926 feature_norm=429.77\n",
      "Iter 428 time=0.47  loss=79224.64 active=42914 feature_norm=429.80\n",
      "Iter 429 time=0.46  loss=79221.73 active=42906 feature_norm=429.82\n",
      "Iter 430 time=0.47  loss=79219.65 active=42897 feature_norm=429.85\n",
      "Iter 431 time=0.48  loss=79216.75 active=42895 feature_norm=429.88\n",
      "Iter 432 time=0.48  loss=79214.62 active=42897 feature_norm=429.91\n",
      "Iter 433 time=0.48  loss=79211.83 active=42884 feature_norm=429.93\n",
      "Iter 434 time=0.48  loss=79209.72 active=42860 feature_norm=429.96\n",
      "Iter 435 time=0.48  loss=79206.87 active=42842 feature_norm=429.98\n",
      "Iter 436 time=0.49  loss=79204.87 active=42827 feature_norm=430.02\n",
      "Iter 437 time=0.48  loss=79202.12 active=42818 feature_norm=430.03\n",
      "Iter 438 time=0.49  loss=79200.07 active=42815 feature_norm=430.07\n",
      "Iter 439 time=0.48  loss=79197.45 active=42796 feature_norm=430.08\n",
      "Iter 440 time=0.47  loss=79195.44 active=42794 feature_norm=430.11\n",
      "Iter 441 time=0.47  loss=79192.79 active=42802 feature_norm=430.12\n",
      "Iter 442 time=0.47  loss=79190.80 active=42792 feature_norm=430.16\n",
      "Iter 443 time=0.55  loss=79188.33 active=42778 feature_norm=430.17\n",
      "Iter 444 time=0.48  loss=79186.14 active=42768 feature_norm=430.20\n",
      "Iter 445 time=0.47  loss=79183.78 active=42753 feature_norm=430.22\n",
      "Iter 446 time=0.48  loss=79181.62 active=42723 feature_norm=430.26\n",
      "Iter 447 time=0.47  loss=79179.32 active=42702 feature_norm=430.27\n",
      "Iter 448 time=0.47  loss=79177.10 active=42683 feature_norm=430.31\n",
      "Iter 449 time=0.50  loss=79174.79 active=42672 feature_norm=430.32\n",
      "Iter 450 time=0.49  loss=79172.60 active=42656 feature_norm=430.36\n",
      "Iter 451 time=0.47  loss=79170.31 active=42651 feature_norm=430.37\n",
      "Iter 452 time=0.48  loss=79168.15 active=42631 feature_norm=430.40\n",
      "Iter 453 time=0.56  loss=79165.93 active=42608 feature_norm=430.41\n",
      "Iter 454 time=0.75  loss=79163.84 active=42619 feature_norm=430.44\n",
      "Iter 455 time=0.80  loss=79161.45 active=42614 feature_norm=430.44\n",
      "Iter 456 time=0.83  loss=79159.78 active=42602 feature_norm=430.47\n",
      "Iter 457 time=0.74  loss=79157.61 active=42595 feature_norm=430.48\n",
      "Iter 458 time=0.66  loss=79155.46 active=42595 feature_norm=430.50\n",
      "Iter 459 time=0.51  loss=79153.59 active=42579 feature_norm=430.51\n",
      "Iter 460 time=0.54  loss=79151.48 active=42566 feature_norm=430.52\n",
      "Iter 461 time=0.49  loss=79149.50 active=42571 feature_norm=430.53\n",
      "Iter 462 time=0.47  loss=79147.26 active=42564 feature_norm=430.55\n",
      "Iter 463 time=0.58  loss=79145.41 active=42553 feature_norm=430.55\n",
      "Iter 464 time=0.51  loss=79143.46 active=42551 feature_norm=430.57\n",
      "Iter 465 time=0.47  loss=79141.21 active=42551 feature_norm=430.58\n",
      "Iter 466 time=0.49  loss=79139.12 active=42546 feature_norm=430.60\n",
      "Iter 467 time=0.62  loss=79136.87 active=42517 feature_norm=430.60\n",
      "Iter 468 time=0.62  loss=79134.80 active=42500 feature_norm=430.62\n",
      "Iter 469 time=0.47  loss=79132.50 active=42488 feature_norm=430.63\n",
      "Iter 470 time=0.51  loss=79130.55 active=42478 feature_norm=430.64\n",
      "Iter 471 time=0.55  loss=79128.38 active=42470 feature_norm=430.64\n",
      "Iter 472 time=0.52  loss=79126.47 active=42460 feature_norm=430.66\n",
      "Iter 473 time=0.48  loss=79124.33 active=42446 feature_norm=430.65\n",
      "Iter 474 time=0.50  loss=79122.23 active=42421 feature_norm=430.67\n",
      "Iter 475 time=0.52  loss=79120.38 active=42410 feature_norm=430.66\n",
      "Iter 476 time=0.48  loss=79118.07 active=42402 feature_norm=430.67\n",
      "Iter 477 time=0.47  loss=79116.38 active=42381 feature_norm=430.67\n",
      "Iter 478 time=0.47  loss=79113.99 active=42376 feature_norm=430.69\n",
      "Iter 479 time=0.50  loss=79112.52 active=42350 feature_norm=430.69\n",
      "Iter 480 time=0.51  loss=79110.13 active=42333 feature_norm=430.70\n",
      "Iter 481 time=0.79  loss=79108.74 active=42323 feature_norm=430.70\n",
      "Iter 482 time=0.67  loss=79106.27 active=42310 feature_norm=430.71\n",
      "Iter 483 time=0.49  loss=79104.85 active=42310 feature_norm=430.71\n",
      "Iter 484 time=0.48  loss=79102.46 active=42304 feature_norm=430.72\n",
      "Iter 485 time=0.48  loss=79100.93 active=42290 feature_norm=430.71\n",
      "Iter 486 time=0.54  loss=79098.64 active=42293 feature_norm=430.72\n",
      "Iter 487 time=0.47  loss=79097.10 active=42280 feature_norm=430.72\n",
      "Iter 488 time=0.47  loss=79094.88 active=42279 feature_norm=430.73\n",
      "Iter 489 time=0.48  loss=79093.44 active=42262 feature_norm=430.73\n",
      "Iter 490 time=0.47  loss=79091.13 active=42261 feature_norm=430.74\n",
      "Iter 491 time=0.47  loss=79089.84 active=42251 feature_norm=430.73\n",
      "Iter 492 time=0.47  loss=79087.52 active=42235 feature_norm=430.73\n",
      "Iter 493 time=0.46  loss=79086.12 active=42233 feature_norm=430.72\n",
      "Iter 494 time=0.46  loss=79083.92 active=42213 feature_norm=430.72\n",
      "Iter 495 time=0.51  loss=79082.34 active=42198 feature_norm=430.70\n",
      "Iter 496 time=0.74  loss=79080.39 active=42184 feature_norm=430.70\n",
      "Iter 497 time=0.58  loss=79078.49 active=42158 feature_norm=430.67\n",
      "Iter 498 time=0.50  loss=79076.96 active=42146 feature_norm=430.68\n",
      "Iter 499 time=0.54  loss=79074.73 active=42138 feature_norm=430.66\n",
      "Iter 500 time=0.57  loss=79073.39 active=42134 feature_norm=430.65\n",
      "Iter 501 time=0.53  loss=79070.95 active=42126 feature_norm=430.63\n",
      "Iter 502 time=0.53  loss=79069.78 active=42111 feature_norm=430.61\n",
      "Iter 503 time=0.83  loss=79067.25 active=42105 feature_norm=430.60\n",
      "Iter 504 time=0.62  loss=79066.27 active=42100 feature_norm=430.58\n",
      "Iter 505 time=0.47  loss=79063.79 active=42086 feature_norm=430.56\n",
      "Iter 506 time=0.48  loss=79062.33 active=42066 feature_norm=430.55\n",
      "Iter 507 time=0.48  loss=79060.27 active=42063 feature_norm=430.52\n",
      "Iter 508 time=0.47  loss=79058.43 active=42051 feature_norm=430.51\n",
      "Iter 509 time=0.48  loss=79056.70 active=42041 feature_norm=430.49\n",
      "Iter 510 time=0.48  loss=79054.42 active=42033 feature_norm=430.47\n",
      "Iter 511 time=0.47  loss=79053.29 active=42035 feature_norm=430.44\n",
      "Iter 512 time=0.49  loss=79051.05 active=42018 feature_norm=430.44\n",
      "Iter 513 time=0.48  loss=79049.34 active=42024 feature_norm=430.40\n",
      "Iter 514 time=0.47  loss=79047.39 active=42018 feature_norm=430.39\n",
      "Iter 515 time=0.47  loss=79045.51 active=42017 feature_norm=430.36\n",
      "Iter 516 time=0.56  loss=79043.77 active=41996 feature_norm=430.35\n",
      "Iter 517 time=0.50  loss=79041.89 active=41982 feature_norm=430.31\n",
      "Iter 518 time=0.49  loss=79040.17 active=41990 feature_norm=430.30\n",
      "Iter 519 time=0.50  loss=79038.34 active=41982 feature_norm=430.27\n",
      "Iter 520 time=0.76  loss=79036.82 active=41982 feature_norm=430.26\n",
      "Iter 521 time=0.77  loss=79034.80 active=41974 feature_norm=430.23\n",
      "Iter 522 time=0.76  loss=79033.32 active=41981 feature_norm=430.22\n",
      "Iter 523 time=0.76  loss=79031.25 active=41977 feature_norm=430.18\n",
      "Iter 524 time=0.55  loss=79029.89 active=41969 feature_norm=430.19\n",
      "Iter 525 time=0.62  loss=79028.02 active=41955 feature_norm=430.15\n",
      "Iter 526 time=0.55  loss=79026.67 active=41938 feature_norm=430.15\n",
      "Iter 527 time=0.48  loss=79024.43 active=41917 feature_norm=430.13\n",
      "Iter 528 time=0.63  loss=79023.66 active=41901 feature_norm=430.12\n",
      "Iter 529 time=0.84  loss=79021.77 active=41878 feature_norm=430.10\n",
      "Iter 530 time=0.75  loss=79020.04 active=41861 feature_norm=430.10\n",
      "Iter 531 time=0.70  loss=79018.62 active=41860 feature_norm=430.07\n",
      "Iter 532 time=0.52  loss=79016.38 active=41849 feature_norm=430.07\n",
      "Iter 533 time=0.74  loss=79015.47 active=41842 feature_norm=430.04\n",
      "Iter 534 time=0.73  loss=79012.78 active=41835 feature_norm=430.03\n",
      "Iter 535 time=0.52  loss=79012.22 active=41830 feature_norm=430.01\n",
      "Iter 536 time=0.48  loss=79009.37 active=41818 feature_norm=430.00\n",
      "Iter 537 time=0.49  loss=79009.07 active=41805 feature_norm=429.97\n",
      "Iter 538 time=0.49  loss=79006.06 active=41789 feature_norm=429.97\n",
      "Iter 539 time=0.55  loss=79006.01 active=41771 feature_norm=429.95\n",
      "Iter 540 time=0.59  loss=79002.92 active=41759 feature_norm=429.95\n",
      "Iter 541 time=0.52  loss=79002.83 active=41741 feature_norm=429.94\n",
      "Iter 542 time=0.58  loss=79000.09 active=41736 feature_norm=429.94\n",
      "Iter 543 time=0.58  loss=79000.03 active=41724 feature_norm=429.93\n",
      "Iter 544 time=0.48  loss=78997.18 active=41721 feature_norm=429.93\n",
      "Iter 545 time=0.47  loss=78997.01 active=41704 feature_norm=429.92\n",
      "Iter 546 time=0.47  loss=78994.39 active=41704 feature_norm=429.92\n",
      "Iter 547 time=0.47  loss=78994.03 active=41696 feature_norm=429.90\n",
      "Iter 548 time=0.46  loss=78991.50 active=41699 feature_norm=429.90\n",
      "Iter 549 time=0.52  loss=78991.30 active=41693 feature_norm=429.88\n",
      "Iter 550 time=0.51  loss=78988.71 active=41679 feature_norm=429.88\n",
      "Iter 551 time=0.48  loss=78988.42 active=41665 feature_norm=429.86\n",
      "Iter 552 time=0.47  loss=78985.90 active=41667 feature_norm=429.86\n",
      "Iter 553 time=0.47  loss=78985.52 active=41655 feature_norm=429.84\n",
      "Iter 554 time=0.50  loss=78983.02 active=41660 feature_norm=429.84\n",
      "Iter 555 time=0.48  loss=78982.16 active=41648 feature_norm=429.81\n",
      "Iter 556 time=0.49  loss=78980.31 active=41650 feature_norm=429.81\n",
      "Iter 557 time=0.69  loss=78979.78 active=41636 feature_norm=429.79\n",
      "Iter 558 time=0.88  loss=78977.24 active=41630 feature_norm=429.78\n",
      "Iter 559 time=0.69  loss=78976.97 active=41626 feature_norm=429.77\n",
      "Iter 560 time=0.48  loss=78974.44 active=41632 feature_norm=429.76\n",
      "Iter 561 time=0.98  loss=78973.06 active=41639 feature_norm=429.75\n",
      "Iter 562 time=0.49  loss=78972.82 active=41623 feature_norm=429.73\n",
      "Iter 563 time=0.47  loss=78971.18 active=41617 feature_norm=429.71\n",
      "Iter 564 time=0.48  loss=78970.43 active=41594 feature_norm=429.71\n",
      "Iter 565 time=0.50  loss=78967.96 active=41589 feature_norm=429.67\n",
      "Iter 566 time=0.53  loss=78967.64 active=41579 feature_norm=429.67\n",
      "Iter 567 time=0.49  loss=78965.03 active=41566 feature_norm=429.64\n",
      "Iter 568 time=0.48  loss=78964.42 active=41556 feature_norm=429.63\n",
      "Iter 569 time=0.48  loss=78962.37 active=41548 feature_norm=429.61\n",
      "Iter 570 time=1.08  loss=78961.17 active=41554 feature_norm=429.60\n",
      "Iter 571 time=0.47  loss=78960.88 active=41540 feature_norm=429.56\n",
      "Iter 572 time=0.48  loss=78958.15 active=41528 feature_norm=429.53\n",
      "Iter 573 time=1.15  loss=78956.58 active=41534 feature_norm=429.52\n",
      "Iter 574 time=1.02  loss=78955.75 active=41516 feature_norm=429.50\n",
      "Iter 575 time=0.97  loss=78955.03 active=41510 feature_norm=429.48\n",
      "Iter 576 time=1.19  loss=78952.99 active=41526 feature_norm=429.48\n",
      "Iter 577 time=1.02  loss=78952.21 active=41495 feature_norm=429.46\n",
      "Iter 578 time=1.12  loss=78950.38 active=41484 feature_norm=429.46\n",
      "Iter 579 time=1.75  loss=78949.49 active=41491 feature_norm=429.44\n",
      "Iter 580 time=1.29  loss=78948.01 active=41484 feature_norm=429.43\n",
      "Iter 581 time=1.24  loss=78946.78 active=41465 feature_norm=429.41\n",
      "Iter 582 time=0.98  loss=78945.23 active=41464 feature_norm=429.40\n",
      "Iter 583 time=1.00  loss=78944.03 active=41445 feature_norm=429.39\n",
      "Iter 584 time=1.08  loss=78942.59 active=41438 feature_norm=429.38\n",
      "Iter 585 time=0.97  loss=78941.19 active=41442 feature_norm=429.37\n",
      "Iter 586 time=1.10  loss=78939.84 active=41445 feature_norm=429.36\n",
      "Iter 587 time=1.24  loss=78938.47 active=41439 feature_norm=429.34\n",
      "Iter 588 time=0.97  loss=78937.13 active=41423 feature_norm=429.34\n",
      "Iter 589 time=0.49  loss=78936.77 active=41389 feature_norm=429.31\n",
      "Iter 590 time=0.56  loss=78933.76 active=41393 feature_norm=429.31\n",
      "Iter 591 time=0.58  loss=78932.26 active=41380 feature_norm=429.28\n",
      "Iter 592 time=0.49  loss=78930.67 active=41381 feature_norm=429.27\n",
      "Iter 593 time=0.48  loss=78929.05 active=41368 feature_norm=429.25\n",
      "Iter 594 time=0.49  loss=78927.64 active=41359 feature_norm=429.24\n",
      "Iter 595 time=0.50  loss=78926.66 active=41343 feature_norm=429.21\n",
      "Iter 596 time=0.48  loss=78924.41 active=41339 feature_norm=429.19\n",
      "Iter 597 time=0.48  loss=78923.80 active=41323 feature_norm=429.17\n",
      "Iter 598 time=0.47  loss=78921.84 active=41315 feature_norm=429.15\n",
      "Iter 599 time=0.49  loss=78921.11 active=41308 feature_norm=429.12\n",
      "Iter 600 time=0.50  loss=78919.03 active=41301 feature_norm=429.11\n",
      "Iter 601 time=0.55  loss=78918.53 active=41294 feature_norm=429.08\n",
      "Iter 602 time=0.49  loss=78916.47 active=41288 feature_norm=429.06\n",
      "Iter 603 time=0.56  loss=78916.24 active=41274 feature_norm=429.03\n",
      "Iter 604 time=0.64  loss=78914.26 active=41273 feature_norm=429.01\n",
      "Iter 605 time=0.48  loss=78914.02 active=41266 feature_norm=428.98\n",
      "Iter 606 time=0.47  loss=78912.11 active=41273 feature_norm=428.96\n",
      "Iter 607 time=0.47  loss=78911.75 active=41258 feature_norm=428.94\n",
      "Iter 608 time=0.47  loss=78909.85 active=41252 feature_norm=428.92\n",
      "Iter 609 time=0.53  loss=78909.36 active=41246 feature_norm=428.89\n",
      "Iter 610 time=0.71  loss=78907.61 active=41241 feature_norm=428.87\n",
      "Iter 611 time=0.49  loss=78906.98 active=41236 feature_norm=428.85\n",
      "Iter 612 time=0.48  loss=78905.36 active=41226 feature_norm=428.83\n",
      "Iter 613 time=0.52  loss=78904.70 active=41212 feature_norm=428.81\n",
      "Iter 614 time=0.63  loss=78903.24 active=41202 feature_norm=428.79\n",
      "Iter 615 time=0.47  loss=78902.44 active=41196 feature_norm=428.76\n",
      "Iter 616 time=0.47  loss=78901.14 active=41193 feature_norm=428.74\n",
      "Iter 617 time=0.47  loss=78900.27 active=41194 feature_norm=428.72\n",
      "Iter 618 time=0.49  loss=78899.07 active=41191 feature_norm=428.70\n",
      "Iter 619 time=0.55  loss=78898.21 active=41183 feature_norm=428.67\n",
      "Iter 620 time=0.60  loss=78896.97 active=41173 feature_norm=428.65\n",
      "Iter 621 time=0.65  loss=78896.15 active=41156 feature_norm=428.63\n",
      "Iter 622 time=0.55  loss=78894.83 active=41132 feature_norm=428.62\n",
      "Iter 623 time=0.57  loss=78894.15 active=41119 feature_norm=428.59\n",
      "Iter 624 time=0.47  loss=78892.84 active=41115 feature_norm=428.57\n",
      "Iter 625 time=0.49  loss=78892.19 active=41112 feature_norm=428.55\n",
      "Iter 626 time=0.49  loss=78890.89 active=41100 feature_norm=428.53\n",
      "Iter 627 time=0.49  loss=78890.08 active=41101 feature_norm=428.51\n",
      "Iter 628 time=0.64  loss=78888.90 active=41097 feature_norm=428.49\n",
      "Iter 629 time=0.50  loss=78888.03 active=41089 feature_norm=428.47\n",
      "Iter 630 time=0.58  loss=78886.70 active=41082 feature_norm=428.45\n",
      "Iter 631 time=0.88  loss=78885.93 active=41080 feature_norm=428.43\n",
      "Iter 632 time=0.80  loss=78884.64 active=41063 feature_norm=428.41\n",
      "Iter 633 time=0.75  loss=78883.66 active=41054 feature_norm=428.39\n",
      "Iter 634 time=0.65  loss=78882.40 active=41046 feature_norm=428.37\n",
      "Iter 635 time=0.47  loss=78881.42 active=41041 feature_norm=428.34\n",
      "Iter 636 time=0.49  loss=78880.02 active=41031 feature_norm=428.32\n",
      "Iter 637 time=0.50  loss=78879.09 active=41038 feature_norm=428.29\n",
      "Iter 638 time=0.49  loss=78877.57 active=41033 feature_norm=428.27\n",
      "Iter 639 time=0.49  loss=78876.70 active=41033 feature_norm=428.25\n",
      "Iter 640 time=0.49  loss=78875.18 active=41010 feature_norm=428.22\n",
      "Iter 641 time=0.47  loss=78874.29 active=40992 feature_norm=428.20\n",
      "Iter 642 time=0.54  loss=78872.78 active=40990 feature_norm=428.19\n",
      "Iter 643 time=0.46  loss=78871.91 active=40984 feature_norm=428.17\n",
      "Iter 644 time=0.48  loss=78870.42 active=40978 feature_norm=428.15\n",
      "Iter 645 time=0.47  loss=78869.49 active=40974 feature_norm=428.12\n",
      "Iter 646 time=0.48  loss=78868.01 active=40969 feature_norm=428.10\n",
      "Iter 647 time=0.47  loss=78866.99 active=40968 feature_norm=428.08\n",
      "Iter 648 time=0.49  loss=78865.55 active=40967 feature_norm=428.05\n",
      "Iter 649 time=0.47  loss=78864.47 active=40960 feature_norm=428.02\n",
      "Iter 650 time=0.48  loss=78863.06 active=40957 feature_norm=428.00\n",
      "Iter 651 time=0.47  loss=78862.01 active=40955 feature_norm=427.97\n",
      "Iter 652 time=0.48  loss=78860.76 active=40944 feature_norm=427.95\n",
      "Iter 653 time=0.46  loss=78859.68 active=40925 feature_norm=427.93\n",
      "Iter 654 time=0.47  loss=78858.57 active=40920 feature_norm=427.91\n",
      "Iter 655 time=0.46  loss=78857.75 active=40911 feature_norm=427.89\n",
      "Iter 656 time=0.46  loss=78856.59 active=40915 feature_norm=427.87\n",
      "Iter 657 time=0.49  loss=78855.65 active=40904 feature_norm=427.85\n",
      "Iter 658 time=0.47  loss=78854.45 active=40900 feature_norm=427.84\n",
      "Iter 659 time=0.46  loss=78853.56 active=40896 feature_norm=427.83\n",
      "Iter 660 time=0.48  loss=78852.43 active=40886 feature_norm=427.82\n",
      "Iter 661 time=0.47  loss=78851.62 active=40880 feature_norm=427.81\n",
      "Iter 662 time=0.48  loss=78850.48 active=40875 feature_norm=427.80\n",
      "Iter 663 time=0.46  loss=78849.63 active=40865 feature_norm=427.78\n",
      "Iter 664 time=0.47  loss=78848.60 active=40860 feature_norm=427.77\n",
      "Iter 665 time=0.48  loss=78847.79 active=40844 feature_norm=427.76\n",
      "Iter 666 time=0.47  loss=78846.85 active=40839 feature_norm=427.75\n",
      "Iter 667 time=0.49  loss=78846.06 active=40839 feature_norm=427.74\n",
      "Iter 668 time=0.47  loss=78845.23 active=40841 feature_norm=427.73\n",
      "Iter 669 time=0.47  loss=78844.52 active=40831 feature_norm=427.72\n",
      "Iter 670 time=0.48  loss=78843.84 active=40819 feature_norm=427.71\n",
      "Iter 671 time=0.47  loss=78843.10 active=40808 feature_norm=427.70\n",
      "Iter 672 time=0.47  loss=78842.57 active=40790 feature_norm=427.70\n",
      "Iter 673 time=0.47  loss=78841.86 active=40776 feature_norm=427.69\n",
      "Iter 674 time=0.47  loss=78841.41 active=40784 feature_norm=427.69\n",
      "Iter 675 time=0.47  loss=78840.73 active=40782 feature_norm=427.68\n",
      "Iter 676 time=0.48  loss=78840.17 active=40779 feature_norm=427.68\n",
      "Iter 677 time=0.49  loss=78839.72 active=40774 feature_norm=427.67\n",
      "Iter 678 time=0.49  loss=78839.39 active=40769 feature_norm=427.67\n",
      "Iter 679 time=0.59  loss=78838.76 active=40759 feature_norm=427.67\n",
      "Iter 680 time=0.65  loss=78838.46 active=40761 feature_norm=427.66\n",
      "Iter 681 time=0.78  loss=78837.99 active=40762 feature_norm=427.66\n",
      "Iter 682 time=0.62  loss=78837.37 active=40743 feature_norm=427.66\n",
      "Iter 683 time=0.56  loss=78836.90 active=40745 feature_norm=427.67\n",
      "Iter 684 time=0.49  loss=78836.44 active=40732 feature_norm=427.67\n",
      "Iter 685 time=0.47  loss=78835.58 active=40722 feature_norm=427.68\n",
      "Iter 686 time=0.49  loss=78834.96 active=40718 feature_norm=427.69\n",
      "Iter 687 time=0.48  loss=78834.15 active=40717 feature_norm=427.69\n",
      "Iter 688 time=0.57  loss=78833.34 active=40719 feature_norm=427.71\n",
      "Iter 689 time=0.57  loss=78832.49 active=40712 feature_norm=427.70\n",
      "Iter 690 time=0.48  loss=78831.45 active=40712 feature_norm=427.71\n",
      "Iter 691 time=0.47  loss=78830.93 active=40707 feature_norm=427.71\n",
      "Iter 692 time=0.48  loss=78830.00 active=40701 feature_norm=427.72\n",
      "Iter 693 time=0.47  loss=78828.97 active=40705 feature_norm=427.71\n",
      "Iter 694 time=0.57  loss=78828.65 active=40704 feature_norm=427.72\n",
      "Iter 695 time=0.74  loss=78827.59 active=40688 feature_norm=427.71\n",
      "Iter 696 time=0.83  loss=78826.94 active=40693 feature_norm=427.71\n",
      "Iter 697 time=0.74  loss=78825.88 active=40688 feature_norm=427.71\n",
      "Iter 698 time=0.74  loss=78825.25 active=40695 feature_norm=427.71\n",
      "Iter 699 time=0.54  loss=78824.27 active=40691 feature_norm=427.71\n",
      "Iter 700 time=0.46  loss=78823.59 active=40695 feature_norm=427.71\n",
      "Iter 701 time=0.47  loss=78822.72 active=40687 feature_norm=427.71\n",
      "Iter 702 time=0.46  loss=78822.08 active=40673 feature_norm=427.71\n",
      "Iter 703 time=0.47  loss=78821.26 active=40657 feature_norm=427.70\n",
      "Iter 704 time=0.48  loss=78820.45 active=40661 feature_norm=427.70\n",
      "Iter 705 time=0.46  loss=78819.67 active=40651 feature_norm=427.69\n",
      "Iter 706 time=0.47  loss=78818.74 active=40643 feature_norm=427.69\n",
      "Iter 707 time=0.46  loss=78818.00 active=40639 feature_norm=427.68\n",
      "Iter 708 time=0.46  loss=78817.10 active=40629 feature_norm=427.68\n",
      "Iter 709 time=0.47  loss=78816.41 active=40614 feature_norm=427.67\n",
      "Iter 710 time=0.47  loss=78815.45 active=40613 feature_norm=427.67\n",
      "Iter 711 time=0.46  loss=78814.84 active=40609 feature_norm=427.66\n",
      "Iter 712 time=0.50  loss=78814.01 active=40604 feature_norm=427.66\n",
      "Iter 713 time=0.47  loss=78813.45 active=40597 feature_norm=427.65\n",
      "Iter 714 time=0.48  loss=78812.68 active=40589 feature_norm=427.65\n",
      "Iter 715 time=0.47  loss=78812.14 active=40595 feature_norm=427.65\n",
      "Iter 716 time=0.47  loss=78811.26 active=40590 feature_norm=427.64\n",
      "Iter 717 time=0.47  loss=78810.78 active=40585 feature_norm=427.64\n",
      "Iter 718 time=0.46  loss=78809.97 active=40583 feature_norm=427.64\n",
      "Iter 719 time=0.54  loss=78809.51 active=40568 feature_norm=427.64\n",
      "Iter 720 time=0.52  loss=78808.66 active=40567 feature_norm=427.64\n",
      "Iter 721 time=0.60  loss=78808.21 active=40560 feature_norm=427.64\n",
      "Iter 722 time=0.56  loss=78807.40 active=40560 feature_norm=427.64\n",
      "Iter 723 time=0.61  loss=78806.76 active=40542 feature_norm=427.64\n",
      "Iter 724 time=0.47  loss=78806.36 active=40551 feature_norm=427.65\n",
      "Iter 725 time=0.47  loss=78805.81 active=40546 feature_norm=427.64\n",
      "Iter 726 time=0.47  loss=78805.10 active=40547 feature_norm=427.65\n",
      "Iter 727 time=0.47  loss=78804.74 active=40539 feature_norm=427.65\n",
      "Iter 728 time=0.47  loss=78804.03 active=40532 feature_norm=427.66\n",
      "Iter 729 time=0.47  loss=78803.73 active=40517 feature_norm=427.66\n",
      "Iter 730 time=0.47  loss=78802.95 active=40509 feature_norm=427.67\n",
      "Iter 731 time=0.49  loss=78802.78 active=40490 feature_norm=427.67\n",
      "Iter 732 time=0.47  loss=78802.09 active=40492 feature_norm=427.68\n",
      "Iter 733 time=0.47  loss=78801.72 active=40475 feature_norm=427.67\n",
      "Iter 734 time=0.47  loss=78801.05 active=40466 feature_norm=427.69\n",
      "Iter 735 time=0.47  loss=78800.60 active=40465 feature_norm=427.68\n",
      "Iter 736 time=0.47  loss=78800.08 active=40457 feature_norm=427.70\n",
      "Iter 737 time=0.47  loss=78799.57 active=40450 feature_norm=427.70\n",
      "Iter 738 time=0.46  loss=78799.08 active=40445 feature_norm=427.71\n",
      "Iter 739 time=0.49  loss=78798.42 active=40450 feature_norm=427.71\n",
      "Iter 740 time=0.50  loss=78798.32 active=40446 feature_norm=427.72\n",
      "Iter 741 time=0.47  loss=78797.83 active=40432 feature_norm=427.72\n",
      "Iter 742 time=0.47  loss=78797.66 active=40434 feature_norm=427.73\n",
      "Iter 743 time=0.48  loss=78797.15 active=40434 feature_norm=427.73\n",
      "Iter 744 time=0.47  loss=78796.95 active=40419 feature_norm=427.74\n",
      "Iter 745 time=0.47  loss=78796.47 active=40419 feature_norm=427.74\n",
      "Iter 746 time=0.47  loss=78796.33 active=40410 feature_norm=427.74\n",
      "Iter 747 time=0.48  loss=78795.79 active=40407 feature_norm=427.74\n",
      "Iter 748 time=0.48  loss=78795.67 active=40408 feature_norm=427.75\n",
      "Iter 749 time=0.48  loss=78795.21 active=40402 feature_norm=427.76\n",
      "Iter 750 time=0.47  loss=78795.05 active=40391 feature_norm=427.76\n",
      "Iter 751 time=0.47  loss=78794.65 active=40380 feature_norm=427.77\n",
      "Iter 752 time=0.47  loss=78794.48 active=40378 feature_norm=427.77\n",
      "Iter 753 time=0.50  loss=78794.12 active=40367 feature_norm=427.78\n",
      "Iter 754 time=0.47  loss=78793.78 active=40361 feature_norm=427.78\n",
      "Iter 755 time=0.49  loss=78793.33 active=40360 feature_norm=427.79\n",
      "Iter 756 time=0.49  loss=78793.08 active=40334 feature_norm=427.80\n",
      "Iter 757 time=0.50  loss=78792.36 active=40319 feature_norm=427.81\n",
      "Iter 758 time=0.50  loss=78792.12 active=40319 feature_norm=427.82\n",
      "Iter 759 time=0.48  loss=78791.25 active=40310 feature_norm=427.83\n",
      "Iter 760 time=0.49  loss=78790.94 active=40318 feature_norm=427.85\n",
      "Iter 761 time=0.48  loss=78790.21 active=40311 feature_norm=427.85\n",
      "Iter 762 time=0.50  loss=78789.79 active=40308 feature_norm=427.87\n",
      "Iter 763 time=0.47  loss=78789.30 active=40314 feature_norm=427.87\n",
      "Iter 764 time=0.47  loss=78788.93 active=40310 feature_norm=427.89\n",
      "Iter 765 time=0.47  loss=78788.37 active=40309 feature_norm=427.90\n",
      "Iter 766 time=0.46  loss=78788.00 active=40309 feature_norm=427.92\n",
      "Iter 767 time=0.47  loss=78787.32 active=40298 feature_norm=427.93\n",
      "Iter 768 time=0.47  loss=78787.13 active=40291 feature_norm=427.94\n",
      "Iter 769 time=0.47  loss=78786.46 active=40288 feature_norm=427.95\n",
      "Iter 770 time=0.49  loss=78786.31 active=40277 feature_norm=427.97\n",
      "Iter 771 time=0.50  loss=78785.54 active=40283 feature_norm=427.97\n",
      "Iter 772 time=0.47  loss=78785.47 active=40277 feature_norm=427.99\n",
      "Iter 773 time=0.55  loss=78784.68 active=40265 feature_norm=427.99\n",
      "Iter 774 time=0.53  loss=78784.58 active=40261 feature_norm=428.01\n",
      "Iter 775 time=0.52  loss=78783.85 active=40250 feature_norm=428.01\n",
      "Iter 776 time=0.48  loss=78783.75 active=40244 feature_norm=428.03\n",
      "Iter 777 time=0.47  loss=78783.08 active=40238 feature_norm=428.03\n",
      "Iter 778 time=0.49  loss=78783.00 active=40231 feature_norm=428.05\n",
      "Iter 779 time=0.48  loss=78782.30 active=40228 feature_norm=428.05\n",
      "Iter 780 time=0.50  loss=78782.23 active=40217 feature_norm=428.07\n",
      "Iter 781 time=0.60  loss=78781.51 active=40216 feature_norm=428.08\n",
      "Iter 782 time=0.67  loss=78781.48 active=40208 feature_norm=428.09\n",
      "Iter 783 time=0.55  loss=78780.78 active=40204 feature_norm=428.10\n",
      "Iter 784 time=0.47  loss=78780.71 active=40200 feature_norm=428.11\n",
      "Iter 785 time=0.47  loss=78779.93 active=40204 feature_norm=428.12\n",
      "Iter 786 time=0.92  loss=78779.58 active=40205 feature_norm=428.13\n",
      "Iter 787 time=0.47  loss=78779.48 active=40198 feature_norm=428.14\n",
      "Iter 788 time=0.47  loss=78778.80 active=40194 feature_norm=428.16\n",
      "Iter 789 time=0.47  loss=78778.37 active=40205 feature_norm=428.17\n",
      "Iter 790 time=0.50  loss=78777.78 active=40221 feature_norm=428.19\n",
      "Iter 791 time=0.50  loss=78777.28 active=40211 feature_norm=428.19\n",
      "Iter 792 time=0.49  loss=78776.68 active=40219 feature_norm=428.20\n",
      "Iter 793 time=0.47  loss=78776.44 active=40226 feature_norm=428.21\n",
      "Iter 794 time=0.47  loss=78775.84 active=40212 feature_norm=428.22\n",
      "Iter 795 time=0.46  loss=78775.54 active=40212 feature_norm=428.23\n",
      "Iter 796 time=0.47  loss=78775.04 active=40212 feature_norm=428.24\n",
      "Iter 797 time=0.47  loss=78774.69 active=40214 feature_norm=428.25\n",
      "Iter 798 time=0.50  loss=78774.21 active=40213 feature_norm=428.26\n",
      "Iter 799 time=0.48  loss=78773.82 active=40213 feature_norm=428.27\n",
      "Iter 800 time=0.47  loss=78773.44 active=40209 feature_norm=428.28\n",
      "Iter 801 time=0.47  loss=78772.96 active=40213 feature_norm=428.29\n",
      "Iter 802 time=0.48  loss=78772.62 active=40205 feature_norm=428.31\n",
      "Iter 803 time=0.47  loss=78772.11 active=40196 feature_norm=428.31\n",
      "Iter 804 time=0.46  loss=78771.85 active=40189 feature_norm=428.33\n",
      "Iter 805 time=0.46  loss=78771.25 active=40183 feature_norm=428.34\n",
      "Iter 806 time=0.47  loss=78771.04 active=40176 feature_norm=428.35\n",
      "Iter 807 time=0.46  loss=78770.37 active=40173 feature_norm=428.36\n",
      "Iter 808 time=0.47  loss=78770.24 active=40164 feature_norm=428.38\n",
      "Iter 809 time=0.46  loss=78769.52 active=40160 feature_norm=428.38\n",
      "Iter 810 time=0.46  loss=78769.42 active=40156 feature_norm=428.40\n",
      "Iter 811 time=0.46  loss=78768.69 active=40155 feature_norm=428.41\n",
      "Iter 812 time=0.59  loss=78768.57 active=40150 feature_norm=428.42\n",
      "Iter 813 time=0.57  loss=78767.86 active=40135 feature_norm=428.43\n",
      "Iter 814 time=0.47  loss=78767.78 active=40121 feature_norm=428.44\n",
      "Iter 815 time=0.50  loss=78766.96 active=40123 feature_norm=428.45\n",
      "Iter 816 time=0.48  loss=78766.92 active=40118 feature_norm=428.46\n",
      "Iter 817 time=0.47  loss=78766.07 active=40110 feature_norm=428.47\n",
      "Iter 818 time=0.47  loss=78766.03 active=40112 feature_norm=428.48\n",
      "Iter 819 time=0.47  loss=78765.20 active=40108 feature_norm=428.49\n",
      "Iter 820 time=0.49  loss=78765.11 active=40100 feature_norm=428.50\n",
      "Iter 821 time=0.48  loss=78764.38 active=40096 feature_norm=428.51\n",
      "Iter 822 time=0.48  loss=78764.27 active=40084 feature_norm=428.52\n",
      "Iter 823 time=0.47  loss=78763.55 active=40087 feature_norm=428.53\n",
      "Iter 824 time=0.52  loss=78763.48 active=40087 feature_norm=428.54\n",
      "Iter 825 time=0.51  loss=78762.66 active=40087 feature_norm=428.54\n",
      "Iter 826 time=0.48  loss=78762.60 active=40083 feature_norm=428.55\n",
      "Iter 827 time=0.48  loss=78761.82 active=40086 feature_norm=428.56\n",
      "Iter 828 time=0.50  loss=78761.78 active=40079 feature_norm=428.57\n",
      "Iter 829 time=0.50  loss=78761.07 active=40081 feature_norm=428.57\n",
      "Iter 830 time=0.47  loss=78761.04 active=40077 feature_norm=428.59\n",
      "Iter 831 time=0.53  loss=78760.32 active=40076 feature_norm=428.59\n",
      "Iter 832 time=0.94  loss=78759.88 active=40074 feature_norm=428.60\n",
      "Iter 833 time=0.96  loss=78759.65 active=40074 feature_norm=428.61\n",
      "Iter 834 time=0.95  loss=78759.32 active=40081 feature_norm=428.62\n",
      "Iter 835 time=0.93  loss=78759.01 active=40080 feature_norm=428.62\n",
      "Iter 836 time=0.93  loss=78758.68 active=40069 feature_norm=428.64\n",
      "Iter 837 time=0.98  loss=78758.28 active=40061 feature_norm=428.64\n",
      "Iter 838 time=0.98  loss=78757.90 active=40054 feature_norm=428.66\n",
      "Iter 839 time=1.34  loss=78757.62 active=40051 feature_norm=428.66\n",
      "Iter 840 time=1.04  loss=78757.18 active=40043 feature_norm=428.68\n",
      "Iter 841 time=0.99  loss=78756.83 active=40038 feature_norm=428.69\n",
      "Iter 842 time=0.98  loss=78756.41 active=40038 feature_norm=428.70\n",
      "Iter 843 time=0.98  loss=78756.02 active=40029 feature_norm=428.72\n",
      "Iter 844 time=0.98  loss=78755.67 active=40023 feature_norm=428.73\n",
      "Iter 845 time=0.97  loss=78755.30 active=40021 feature_norm=428.75\n",
      "Iter 846 time=0.95  loss=78754.95 active=40016 feature_norm=428.76\n",
      "Iter 847 time=0.97  loss=78754.60 active=40006 feature_norm=428.77\n",
      "Iter 848 time=0.96  loss=78754.26 active=40000 feature_norm=428.78\n",
      "Iter 849 time=0.97  loss=78753.91 active=39992 feature_norm=428.79\n",
      "Iter 850 time=0.94  loss=78753.58 active=39987 feature_norm=428.81\n",
      "Iter 851 time=0.94  loss=78753.25 active=39978 feature_norm=428.82\n",
      "Iter 852 time=0.94  loss=78752.90 active=39969 feature_norm=428.83\n",
      "Iter 853 time=0.94  loss=78752.58 active=39956 feature_norm=428.84\n",
      "Iter 854 time=0.94  loss=78752.22 active=39953 feature_norm=428.85\n",
      "Iter 855 time=0.93  loss=78751.90 active=39948 feature_norm=428.86\n",
      "Iter 856 time=0.94  loss=78751.53 active=39945 feature_norm=428.88\n",
      "Iter 857 time=0.95  loss=78751.19 active=39945 feature_norm=428.89\n",
      "Iter 858 time=0.97  loss=78750.84 active=39937 feature_norm=428.90\n",
      "Iter 859 time=1.23  loss=78750.49 active=39936 feature_norm=428.91\n",
      "Iter 860 time=1.15  loss=78750.16 active=39935 feature_norm=428.92\n",
      "Iter 861 time=0.99  loss=78749.83 active=39925 feature_norm=428.93\n",
      "Iter 862 time=0.96  loss=78749.52 active=39925 feature_norm=428.94\n",
      "Iter 863 time=0.94  loss=78749.20 active=39924 feature_norm=428.95\n",
      "Iter 864 time=0.96  loss=78748.91 active=39926 feature_norm=428.96\n",
      "Iter 865 time=0.95  loss=78748.59 active=39916 feature_norm=428.97\n",
      "Iter 866 time=0.94  loss=78748.33 active=39908 feature_norm=428.98\n",
      "Iter 867 time=0.95  loss=78748.00 active=39911 feature_norm=428.99\n",
      "Iter 868 time=1.11  loss=78747.75 active=39907 feature_norm=429.00\n",
      "Iter 869 time=0.97  loss=78747.43 active=39888 feature_norm=429.01\n",
      "Iter 870 time=0.94  loss=78747.17 active=39895 feature_norm=429.02\n",
      "Iter 871 time=0.94  loss=78746.85 active=39889 feature_norm=429.03\n",
      "Iter 872 time=0.95  loss=78746.59 active=39887 feature_norm=429.04\n",
      "Iter 873 time=0.96  loss=78746.27 active=39878 feature_norm=429.05\n",
      "Iter 874 time=0.95  loss=78745.99 active=39871 feature_norm=429.06\n",
      "Iter 875 time=0.95  loss=78745.69 active=39871 feature_norm=429.06\n",
      "Iter 876 time=1.15  loss=78745.42 active=39870 feature_norm=429.08\n",
      "Iter 877 time=0.96  loss=78745.10 active=39871 feature_norm=429.08\n",
      "Iter 878 time=0.94  loss=78744.84 active=39877 feature_norm=429.10\n",
      "Iter 879 time=0.96  loss=78744.55 active=39867 feature_norm=429.10\n",
      "Iter 880 time=0.93  loss=78744.28 active=39860 feature_norm=429.11\n",
      "Iter 881 time=0.92  loss=78744.00 active=39853 feature_norm=429.11\n",
      "Iter 882 time=0.93  loss=78743.76 active=39846 feature_norm=429.12\n",
      "Iter 883 time=0.92  loss=78743.49 active=39839 feature_norm=429.13\n",
      "Iter 884 time=0.99  loss=78743.25 active=39831 feature_norm=429.14\n",
      "Iter 885 time=0.93  loss=78742.96 active=39828 feature_norm=429.15\n",
      "Iter 886 time=0.93  loss=78742.71 active=39817 feature_norm=429.16\n",
      "Iter 887 time=0.92  loss=78742.42 active=39813 feature_norm=429.16\n",
      "Iter 888 time=0.92  loss=78742.14 active=39798 feature_norm=429.18\n",
      "Iter 889 time=0.93  loss=78741.83 active=39786 feature_norm=429.18\n",
      "Iter 890 time=0.93  loss=78741.57 active=39780 feature_norm=429.19\n",
      "Iter 891 time=0.92  loss=78741.28 active=39773 feature_norm=429.20\n",
      "Iter 892 time=0.95  loss=78741.02 active=39768 feature_norm=429.21\n",
      "Iter 893 time=0.94  loss=78740.75 active=39762 feature_norm=429.22\n",
      "Iter 894 time=0.93  loss=78740.51 active=39756 feature_norm=429.23\n",
      "Iter 895 time=0.93  loss=78740.22 active=39762 feature_norm=429.24\n",
      "Iter 896 time=0.93  loss=78739.99 active=39759 feature_norm=429.26\n",
      "Iter 897 time=0.92  loss=78739.71 active=39759 feature_norm=429.26\n",
      "Iter 898 time=0.93  loss=78739.48 active=39758 feature_norm=429.28\n",
      "Iter 899 time=0.92  loss=78739.24 active=39754 feature_norm=429.28\n",
      "Iter 900 time=0.94  loss=78739.01 active=39750 feature_norm=429.30\n",
      "Iter 901 time=0.94  loss=78738.78 active=39751 feature_norm=429.30\n",
      "Iter 902 time=0.93  loss=78738.58 active=39745 feature_norm=429.31\n",
      "Iter 903 time=0.92  loss=78738.32 active=39741 feature_norm=429.31\n",
      "Iter 904 time=0.93  loss=78738.11 active=39736 feature_norm=429.32\n",
      "Iter 905 time=0.93  loss=78737.85 active=39738 feature_norm=429.32\n",
      "Iter 906 time=0.93  loss=78737.65 active=39726 feature_norm=429.33\n",
      "Iter 907 time=0.92  loss=78737.39 active=39716 feature_norm=429.33\n",
      "Iter 908 time=0.92  loss=78737.20 active=39699 feature_norm=429.34\n",
      "Iter 909 time=1.08  loss=78736.97 active=39691 feature_norm=429.34\n",
      "Iter 910 time=0.93  loss=78736.77 active=39683 feature_norm=429.35\n",
      "Iter 911 time=0.93  loss=78736.53 active=39678 feature_norm=429.35\n",
      "Iter 912 time=0.92  loss=78736.32 active=39676 feature_norm=429.36\n",
      "Iter 913 time=0.92  loss=78736.11 active=39662 feature_norm=429.37\n",
      "Iter 914 time=0.93  loss=78735.88 active=39657 feature_norm=429.37\n",
      "Iter 915 time=0.93  loss=78735.67 active=39653 feature_norm=429.38\n",
      "Iter 916 time=1.00  loss=78735.44 active=39647 feature_norm=429.38\n",
      "Iter 917 time=0.95  loss=78735.23 active=39641 feature_norm=429.38\n",
      "Iter 918 time=0.98  loss=78735.03 active=39641 feature_norm=429.39\n",
      "Iter 919 time=1.15  loss=78734.80 active=39633 feature_norm=429.39\n",
      "Iter 920 time=0.94  loss=78734.56 active=39625 feature_norm=429.40\n",
      "Iter 921 time=0.93  loss=78734.34 active=39622 feature_norm=429.39\n",
      "Iter 922 time=0.93  loss=78734.10 active=39620 feature_norm=429.40\n",
      "Iter 923 time=0.93  loss=78733.85 active=39609 feature_norm=429.40\n",
      "Iter 924 time=1.03  loss=78733.63 active=39607 feature_norm=429.41\n",
      "Iter 925 time=1.48  loss=78733.38 active=39604 feature_norm=429.40\n",
      "Iter 926 time=1.59  loss=78733.15 active=39598 feature_norm=429.41\n",
      "Iter 927 time=1.16  loss=78732.89 active=39588 feature_norm=429.41\n",
      "Iter 928 time=1.07  loss=78732.65 active=39578 feature_norm=429.41\n",
      "Iter 929 time=0.95  loss=78732.34 active=39570 feature_norm=429.41\n",
      "Iter 930 time=0.94  loss=78732.06 active=39567 feature_norm=429.41\n",
      "Iter 931 time=0.94  loss=78731.71 active=39553 feature_norm=429.41\n",
      "Iter 932 time=0.95  loss=78731.38 active=39539 feature_norm=429.41\n",
      "Iter 933 time=2.05  loss=78731.28 active=39551 feature_norm=429.41\n",
      "Iter 934 time=1.93  loss=78731.08 active=39565 feature_norm=429.41\n",
      "Iter 935 time=1.87  loss=78731.02 active=39555 feature_norm=429.41\n",
      "Iter 936 time=1.91  loss=78730.83 active=39547 feature_norm=429.41\n",
      "Iter 937 time=2.42  loss=78730.75 active=39539 feature_norm=429.41\n",
      "Iter 938 time=1.89  loss=78730.64 active=39555 feature_norm=429.41\n",
      "Iter 939 time=0.95  loss=78730.57 active=39540 feature_norm=429.41\n",
      "Iter 940 time=0.95  loss=78730.28 active=39523 feature_norm=429.42\n",
      "Iter 941 time=1.64  loss=78730.08 active=39524 feature_norm=429.42\n",
      "Iter 942 time=0.47  loss=78730.01 active=39527 feature_norm=429.42\n",
      "Iter 943 time=0.47  loss=78729.97 active=39523 feature_norm=429.43\n",
      "Iter 944 time=0.46  loss=78729.61 active=39508 feature_norm=429.43\n",
      "Iter 945 time=0.93  loss=78728.73 active=39535 feature_norm=429.43\n",
      "Iter 946 time=0.92  loss=78728.61 active=39591 feature_norm=429.43\n",
      "Iter 947 time=0.93  loss=78728.32 active=39572 feature_norm=429.43\n",
      "Iter 948 time=1.39  loss=78728.22 active=39549 feature_norm=429.43\n",
      "Iter 949 time=0.93  loss=78728.09 active=39544 feature_norm=429.43\n",
      "Iter 950 time=0.92  loss=78727.88 active=39533 feature_norm=429.43\n",
      "Iter 951 time=0.98  loss=78727.75 active=39530 feature_norm=429.43\n",
      "Iter 952 time=0.95  loss=78727.56 active=39516 feature_norm=429.43\n",
      "Iter 953 time=0.47  loss=78727.48 active=39508 feature_norm=429.44\n",
      "Iter 954 time=0.46  loss=78727.20 active=39532 feature_norm=429.44\n",
      "Iter 955 time=0.46  loss=78726.96 active=39528 feature_norm=429.44\n",
      "Iter 956 time=0.47  loss=78726.74 active=39529 feature_norm=429.44\n",
      "Iter 957 time=0.50  loss=78726.55 active=39536 feature_norm=429.44\n",
      "Iter 958 time=0.48  loss=78726.41 active=39523 feature_norm=429.45\n",
      "Iter 959 time=0.48  loss=78726.23 active=39518 feature_norm=429.45\n",
      "Iter 960 time=0.47  loss=78726.04 active=39512 feature_norm=429.45\n",
      "Iter 961 time=0.48  loss=78725.82 active=39509 feature_norm=429.45\n",
      "Iter 962 time=0.49  loss=78725.67 active=39505 feature_norm=429.45\n",
      "Iter 963 time=0.48  loss=78725.44 active=39500 feature_norm=429.45\n",
      "Iter 964 time=0.56  loss=78725.31 active=39496 feature_norm=429.45\n",
      "Iter 965 time=0.65  loss=78725.08 active=39493 feature_norm=429.46\n",
      "Iter 966 time=0.49  loss=78724.96 active=39487 feature_norm=429.46\n",
      "Iter 967 time=0.49  loss=78724.72 active=39491 feature_norm=429.46\n",
      "Iter 968 time=0.59  loss=78724.61 active=39487 feature_norm=429.46\n",
      "Iter 969 time=0.56  loss=78724.36 active=39479 feature_norm=429.46\n",
      "Iter 970 time=0.47  loss=78724.27 active=39465 feature_norm=429.46\n",
      "Iter 971 time=0.47  loss=78724.00 active=39464 feature_norm=429.46\n",
      "Iter 972 time=0.47  loss=78723.91 active=39453 feature_norm=429.46\n",
      "Iter 973 time=0.47  loss=78723.64 active=39455 feature_norm=429.46\n",
      "Iter 974 time=0.48  loss=78723.55 active=39461 feature_norm=429.46\n",
      "Iter 975 time=0.49  loss=78723.27 active=39452 feature_norm=429.46\n",
      "Iter 976 time=0.49  loss=78723.19 active=39452 feature_norm=429.46\n",
      "Iter 977 time=0.46  loss=78722.93 active=39456 feature_norm=429.47\n",
      "Iter 978 time=0.46  loss=78722.85 active=39457 feature_norm=429.47\n",
      "Iter 979 time=0.47  loss=78722.57 active=39457 feature_norm=429.47\n",
      "Iter 980 time=0.50  loss=78722.50 active=39453 feature_norm=429.47\n",
      "Iter 981 time=0.48  loss=78722.22 active=39452 feature_norm=429.47\n",
      "Iter 982 time=0.49  loss=78722.17 active=39456 feature_norm=429.47\n",
      "Iter 983 time=0.52  loss=78721.86 active=39458 feature_norm=429.48\n",
      "Iter 984 time=0.47  loss=78721.82 active=39457 feature_norm=429.48\n",
      "Iter 985 time=0.47  loss=78721.50 active=39458 feature_norm=429.48\n",
      "Iter 986 time=0.47  loss=78721.46 active=39458 feature_norm=429.48\n",
      "Iter 987 time=0.48  loss=78721.14 active=39459 feature_norm=429.49\n",
      "Iter 988 time=0.51  loss=78721.11 active=39455 feature_norm=429.49\n",
      "Iter 989 time=0.53  loss=78720.78 active=39460 feature_norm=429.49\n",
      "Iter 990 time=0.51  loss=78720.74 active=39452 feature_norm=429.49\n",
      "Iter 991 time=0.50  loss=78720.43 active=39452 feature_norm=429.50\n",
      "Iter 992 time=0.47  loss=78720.42 active=39449 feature_norm=429.50\n",
      "Iter 993 time=0.47  loss=78720.09 active=39451 feature_norm=429.50\n",
      "Iter 994 time=0.47  loss=78720.08 active=39447 feature_norm=429.50\n",
      "Iter 995 time=0.51  loss=78719.75 active=39447 feature_norm=429.51\n",
      "Iter 996 time=0.47  loss=78719.74 active=39451 feature_norm=429.51\n",
      "Iter 997 time=0.46  loss=78719.40 active=39448 feature_norm=429.51\n",
      "Iter 998 time=0.53  loss=78719.40 active=39437 feature_norm=429.51\n",
      "Iter 999 time=0.47  loss=78719.05 active=39433 feature_norm=429.52\n",
      "Iter 1000 time=0.92  loss=78718.87 active=39439 feature_norm=429.52\n",
      "Iter 1001 time=0.48  loss=78718.87 active=39439 feature_norm=429.52\n",
      "Iter 1002 time=0.49  loss=78718.62 active=39437 feature_norm=429.52\n",
      "Iter 1003 time=0.47  loss=78718.42 active=39442 feature_norm=429.53\n",
      "Iter 1004 time=0.47  loss=78718.26 active=39443 feature_norm=429.53\n",
      "Iter 1005 time=0.47  loss=78717.92 active=39444 feature_norm=429.53\n",
      "Iter 1006 time=0.47  loss=78717.83 active=39448 feature_norm=429.53\n",
      "Iter 1007 time=0.47  loss=78717.54 active=39454 feature_norm=429.54\n",
      "Iter 1008 time=0.47  loss=78717.41 active=39450 feature_norm=429.54\n",
      "Iter 1009 time=0.46  loss=78717.16 active=39450 feature_norm=429.54\n",
      "Iter 1010 time=0.46  loss=78717.08 active=39451 feature_norm=429.54\n",
      "Iter 1011 time=0.46  loss=78716.75 active=39446 feature_norm=429.54\n",
      "Iter 1012 time=0.46  loss=78716.70 active=39446 feature_norm=429.54\n",
      "Iter 1013 time=0.47  loss=78716.35 active=39443 feature_norm=429.55\n",
      "Iter 1014 time=0.49  loss=78716.31 active=39434 feature_norm=429.54\n",
      "Iter 1015 time=0.47  loss=78715.93 active=39435 feature_norm=429.55\n",
      "Iter 1016 time=0.47  loss=78715.91 active=39439 feature_norm=429.54\n",
      "Iter 1017 time=0.47  loss=78715.54 active=39435 feature_norm=429.55\n",
      "Iter 1018 time=0.48  loss=78715.51 active=39439 feature_norm=429.55\n",
      "Iter 1019 time=0.47  loss=78715.14 active=39440 feature_norm=429.55\n",
      "Iter 1020 time=0.46  loss=78715.10 active=39428 feature_norm=429.55\n",
      "Iter 1021 time=0.47  loss=78714.75 active=39433 feature_norm=429.55\n",
      "Iter 1022 time=0.47  loss=78714.72 active=39429 feature_norm=429.55\n",
      "Iter 1023 time=0.46  loss=78714.35 active=39431 feature_norm=429.55\n",
      "Iter 1024 time=0.48  loss=78714.32 active=39426 feature_norm=429.55\n",
      "Iter 1025 time=0.47  loss=78713.95 active=39437 feature_norm=429.55\n",
      "Iter 1026 time=0.46  loss=78713.93 active=39436 feature_norm=429.55\n",
      "Iter 1027 time=0.47  loss=78713.56 active=39441 feature_norm=429.55\n",
      "Iter 1028 time=0.47  loss=78713.52 active=39439 feature_norm=429.55\n",
      "Iter 1029 time=0.48  loss=78713.18 active=39435 feature_norm=429.55\n",
      "Iter 1030 time=0.47  loss=78713.16 active=39429 feature_norm=429.55\n",
      "Iter 1031 time=0.47  loss=78712.82 active=39425 feature_norm=429.56\n",
      "Iter 1032 time=0.96  loss=78712.65 active=39423 feature_norm=429.55\n",
      "Iter 1033 time=0.47  loss=78712.61 active=39421 feature_norm=429.56\n",
      "Iter 1034 time=0.48  loss=78712.43 active=39418 feature_norm=429.56\n",
      "Iter 1035 time=0.48  loss=78712.21 active=39434 feature_norm=429.56\n",
      "Iter 1036 time=0.47  loss=78712.13 active=39432 feature_norm=429.56\n",
      "Iter 1037 time=0.47  loss=78711.77 active=39431 feature_norm=429.57\n",
      "Iter 1038 time=0.47  loss=78711.71 active=39433 feature_norm=429.57\n",
      "Iter 1039 time=0.49  loss=78711.42 active=39445 feature_norm=429.57\n",
      "Iter 1040 time=0.47  loss=78711.41 active=39443 feature_norm=429.57\n",
      "Iter 1041 time=0.47  loss=78711.06 active=39442 feature_norm=429.58\n",
      "Iter 1042 time=0.51  loss=78711.05 active=39448 feature_norm=429.58\n",
      "Iter 1043 time=0.47  loss=78710.70 active=39443 feature_norm=429.58\n",
      "Iter 1044 time=0.53  loss=78710.69 active=39434 feature_norm=429.58\n",
      "Iter 1045 time=0.50  loss=78710.32 active=39429 feature_norm=429.59\n",
      "Iter 1046 time=0.51  loss=78710.30 active=39419 feature_norm=429.59\n",
      "Iter 1047 time=0.48  loss=78709.94 active=39416 feature_norm=429.59\n",
      "Iter 1048 time=0.49  loss=78709.91 active=39405 feature_norm=429.59\n",
      "Iter 1049 time=0.50  loss=78709.56 active=39407 feature_norm=429.60\n",
      "Iter 1050 time=0.47  loss=78709.54 active=39412 feature_norm=429.60\n",
      "Iter 1051 time=0.47  loss=78709.22 active=39411 feature_norm=429.60\n",
      "Iter 1052 time=0.47  loss=78709.19 active=39407 feature_norm=429.60\n",
      "Iter 1053 time=0.48  loss=78708.89 active=39404 feature_norm=429.60\n",
      "Iter 1054 time=0.48  loss=78708.88 active=39395 feature_norm=429.61\n",
      "Iter 1055 time=0.49  loss=78708.57 active=39395 feature_norm=429.61\n",
      "Iter 1056 time=0.48  loss=78708.56 active=39392 feature_norm=429.61\n",
      "Iter 1057 time=0.48  loss=78708.25 active=39394 feature_norm=429.61\n",
      "Iter 1058 time=0.97  loss=78708.09 active=39391 feature_norm=429.61\n",
      "Iter 1059 time=0.49  loss=78707.96 active=39380 feature_norm=429.62\n",
      "Iter 1060 time=0.50  loss=78707.91 active=39389 feature_norm=429.62\n",
      "Iter 1061 time=0.49  loss=78707.56 active=39404 feature_norm=429.62\n",
      "Iter 1062 time=0.95  loss=78707.38 active=39415 feature_norm=429.62\n",
      "Iter 1063 time=0.97  loss=78707.29 active=39410 feature_norm=429.62\n",
      "Iter 1064 time=1.01  loss=78707.17 active=39402 feature_norm=429.62\n",
      "Iter 1065 time=1.10  loss=78707.06 active=39399 feature_norm=429.63\n",
      "Iter 1066 time=1.50  loss=78706.87 active=39395 feature_norm=429.63\n",
      "Iter 1067 time=1.04  loss=78706.78 active=39384 feature_norm=429.63\n",
      "Iter 1068 time=0.95  loss=78706.63 active=39377 feature_norm=429.63\n",
      "Iter 1069 time=0.99  loss=78706.51 active=39374 feature_norm=429.64\n",
      "Iter 1070 time=1.03  loss=78706.37 active=39365 feature_norm=429.64\n",
      "Iter 1071 time=1.02  loss=78706.24 active=39366 feature_norm=429.64\n",
      "Iter 1072 time=0.94  loss=78706.11 active=39365 feature_norm=429.65\n",
      "Iter 1073 time=0.94  loss=78705.97 active=39360 feature_norm=429.65\n",
      "Iter 1074 time=0.93  loss=78705.85 active=39359 feature_norm=429.65\n",
      "Iter 1075 time=0.94  loss=78705.70 active=39355 feature_norm=429.66\n",
      "Iter 1076 time=0.94  loss=78705.58 active=39355 feature_norm=429.66\n",
      "Iter 1077 time=0.92  loss=78705.42 active=39353 feature_norm=429.66\n",
      "Iter 1078 time=0.97  loss=78705.31 active=39358 feature_norm=429.67\n",
      "Iter 1079 time=0.94  loss=78705.16 active=39352 feature_norm=429.67\n",
      "Iter 1080 time=0.93  loss=78705.05 active=39348 feature_norm=429.67\n",
      "Iter 1081 time=0.94  loss=78704.91 active=39334 feature_norm=429.68\n",
      "Iter 1082 time=0.92  loss=78704.80 active=39328 feature_norm=429.68\n",
      "Iter 1083 time=0.92  loss=78704.65 active=39323 feature_norm=429.68\n",
      "Iter 1084 time=0.92  loss=78704.54 active=39315 feature_norm=429.69\n",
      "Iter 1085 time=0.93  loss=78704.40 active=39308 feature_norm=429.69\n",
      "Iter 1086 time=1.00  loss=78704.28 active=39300 feature_norm=429.70\n",
      "Iter 1087 time=1.05  loss=78704.13 active=39290 feature_norm=429.70\n",
      "Iter 1088 time=0.93  loss=78704.02 active=39284 feature_norm=429.71\n",
      "Iter 1089 time=0.92  loss=78703.87 active=39279 feature_norm=429.71\n",
      "Iter 1090 time=0.93  loss=78703.75 active=39282 feature_norm=429.72\n",
      "Iter 1091 time=0.94  loss=78703.60 active=39285 feature_norm=429.72\n",
      "Iter 1092 time=0.92  loss=78703.48 active=39279 feature_norm=429.73\n",
      "Iter 1093 time=0.92  loss=78703.33 active=39287 feature_norm=429.73\n",
      "Iter 1094 time=0.92  loss=78703.20 active=39279 feature_norm=429.74\n",
      "Iter 1095 time=0.94  loss=78703.06 active=39275 feature_norm=429.74\n",
      "Iter 1096 time=0.93  loss=78702.93 active=39283 feature_norm=429.75\n",
      "Iter 1097 time=0.93  loss=78702.79 active=39281 feature_norm=429.75\n",
      "Iter 1098 time=1.02  loss=78702.67 active=39283 feature_norm=429.75\n",
      "Iter 1099 time=1.02  loss=78702.54 active=39282 feature_norm=429.76\n",
      "Iter 1100 time=0.95  loss=78702.43 active=39274 feature_norm=429.76\n",
      "Iter 1101 time=0.96  loss=78702.29 active=39273 feature_norm=429.76\n",
      "Iter 1102 time=0.94  loss=78702.18 active=39273 feature_norm=429.76\n",
      "Iter 1103 time=0.94  loss=78702.05 active=39263 feature_norm=429.77\n",
      "Iter 1104 time=1.07  loss=78701.94 active=39262 feature_norm=429.77\n",
      "Iter 1105 time=0.99  loss=78701.80 active=39252 feature_norm=429.77\n",
      "Iter 1106 time=1.05  loss=78701.71 active=39252 feature_norm=429.77\n",
      "Iter 1107 time=1.08  loss=78701.57 active=39252 feature_norm=429.78\n",
      "Iter 1108 time=0.94  loss=78701.49 active=39246 feature_norm=429.78\n",
      "Iter 1109 time=0.95  loss=78701.35 active=39245 feature_norm=429.78\n",
      "Iter 1110 time=0.94  loss=78701.27 active=39234 feature_norm=429.78\n",
      "Iter 1111 time=0.95  loss=78701.13 active=39232 feature_norm=429.79\n",
      "Iter 1112 time=1.00  loss=78701.04 active=39229 feature_norm=429.79\n",
      "Iter 1113 time=0.94  loss=78700.90 active=39222 feature_norm=429.79\n",
      "Iter 1114 time=1.17  loss=78700.82 active=39212 feature_norm=429.80\n",
      "Iter 1115 time=1.23  loss=78700.68 active=39208 feature_norm=429.80\n",
      "Iter 1116 time=0.95  loss=78700.59 active=39203 feature_norm=429.80\n",
      "Iter 1117 time=0.94  loss=78700.45 active=39194 feature_norm=429.81\n",
      "Iter 1118 time=0.94  loss=78700.37 active=39191 feature_norm=429.81\n",
      "Iter 1119 time=0.94  loss=78700.22 active=39186 feature_norm=429.81\n",
      "Iter 1120 time=1.05  loss=78700.14 active=39184 feature_norm=429.81\n",
      "Iter 1121 time=1.05  loss=78700.00 active=39184 feature_norm=429.81\n",
      "Iter 1122 time=1.04  loss=78699.92 active=39180 feature_norm=429.82\n",
      "Iter 1123 time=0.98  loss=78699.78 active=39174 feature_norm=429.82\n",
      "Iter 1124 time=0.94  loss=78699.68 active=39170 feature_norm=429.82\n",
      "Iter 1125 time=1.20  loss=78699.56 active=39170 feature_norm=429.82\n",
      "Iter 1126 time=1.33  loss=78699.47 active=39167 feature_norm=429.82\n",
      "Iter 1127 time=0.97  loss=78699.32 active=39166 feature_norm=429.82\n",
      "Iter 1128 time=0.94  loss=78699.22 active=39164 feature_norm=429.83\n",
      "Iter 1129 time=1.01  loss=78699.09 active=39159 feature_norm=429.83\n",
      "Iter 1130 time=0.95  loss=78699.01 active=39158 feature_norm=429.83\n",
      "Iter 1131 time=1.10  loss=78698.86 active=39153 feature_norm=429.83\n",
      "Iter 1132 time=0.95  loss=78698.75 active=39159 feature_norm=429.84\n",
      "Iter 1133 time=0.92  loss=78698.63 active=39156 feature_norm=429.84\n",
      "Iter 1134 time=0.92  loss=78698.52 active=39153 feature_norm=429.84\n",
      "Iter 1135 time=0.94  loss=78698.38 active=39145 feature_norm=429.84\n",
      "Iter 1136 time=0.93  loss=78698.27 active=39147 feature_norm=429.85\n",
      "Iter 1137 time=0.93  loss=78698.15 active=39151 feature_norm=429.85\n",
      "Iter 1138 time=0.93  loss=78698.04 active=39152 feature_norm=429.85\n",
      "Iter 1139 time=0.93  loss=78697.91 active=39150 feature_norm=429.85\n",
      "Iter 1140 time=0.97  loss=78697.80 active=39137 feature_norm=429.86\n",
      "Iter 1141 time=0.94  loss=78697.66 active=39129 feature_norm=429.86\n",
      "Iter 1142 time=0.93  loss=78697.53 active=39125 feature_norm=429.86\n",
      "Iter 1143 time=0.92  loss=78697.42 active=39120 feature_norm=429.86\n",
      "Iter 1144 time=0.92  loss=78697.31 active=39116 feature_norm=429.86\n",
      "Iter 1145 time=0.93  loss=78697.18 active=39110 feature_norm=429.86\n",
      "Iter 1146 time=0.93  loss=78697.07 active=39118 feature_norm=429.86\n",
      "Iter 1147 time=0.92  loss=78696.94 active=39116 feature_norm=429.86\n",
      "Iter 1148 time=0.92  loss=78696.84 active=39112 feature_norm=429.87\n",
      "Iter 1149 time=0.93  loss=78696.70 active=39102 feature_norm=429.87\n",
      "Iter 1150 time=0.92  loss=78696.58 active=39097 feature_norm=429.87\n",
      "Iter 1151 time=0.92  loss=78696.45 active=39082 feature_norm=429.87\n",
      "Iter 1152 time=0.92  loss=78696.36 active=39079 feature_norm=429.87\n",
      "Iter 1153 time=0.93  loss=78696.21 active=39075 feature_norm=429.87\n",
      "Iter 1154 time=0.93  loss=78696.12 active=39079 feature_norm=429.87\n",
      "Iter 1155 time=0.92  loss=78695.99 active=39071 feature_norm=429.88\n",
      "Iter 1156 time=0.92  loss=78695.89 active=39074 feature_norm=429.88\n",
      "Iter 1157 time=0.93  loss=78695.80 active=39079 feature_norm=429.88\n",
      "Iter 1158 time=0.92  loss=78695.70 active=39085 feature_norm=429.88\n",
      "Iter 1159 time=0.96  loss=78695.61 active=39083 feature_norm=429.88\n",
      "Iter 1160 time=0.93  loss=78695.52 active=39076 feature_norm=429.88\n",
      "Iter 1161 time=0.91  loss=78695.42 active=39077 feature_norm=429.88\n",
      "Iter 1162 time=0.94  loss=78695.34 active=39069 feature_norm=429.88\n",
      "Iter 1163 time=0.93  loss=78695.22 active=39071 feature_norm=429.89\n",
      "Iter 1164 time=0.92  loss=78695.14 active=39069 feature_norm=429.89\n",
      "Iter 1165 time=0.93  loss=78695.02 active=39070 feature_norm=429.89\n",
      "Iter 1166 time=0.93  loss=78694.92 active=39072 feature_norm=429.89\n",
      "Iter 1167 time=0.92  loss=78694.80 active=39073 feature_norm=429.89\n",
      "Iter 1168 time=0.93  loss=78694.70 active=39068 feature_norm=429.89\n",
      "Iter 1169 time=0.92  loss=78694.58 active=39060 feature_norm=429.90\n",
      "Iter 1170 time=0.92  loss=78694.47 active=39063 feature_norm=429.90\n",
      "Iter 1171 time=0.93  loss=78694.36 active=39063 feature_norm=429.90\n",
      "Iter 1172 time=0.92  loss=78694.24 active=39059 feature_norm=429.90\n",
      "Iter 1173 time=0.93  loss=78694.13 active=39057 feature_norm=429.90\n",
      "Iter 1174 time=0.93  loss=78694.01 active=39047 feature_norm=429.91\n",
      "Iter 1175 time=0.92  loss=78693.89 active=39046 feature_norm=429.91\n",
      "Iter 1176 time=0.94  loss=78693.79 active=39045 feature_norm=429.91\n",
      "Iter 1177 time=0.92  loss=78693.68 active=39051 feature_norm=429.91\n",
      "Iter 1178 time=0.92  loss=78693.57 active=39040 feature_norm=429.92\n",
      "Iter 1179 time=0.94  loss=78693.46 active=39041 feature_norm=429.92\n",
      "Iter 1180 time=0.92  loss=78693.35 active=39036 feature_norm=429.92\n",
      "Iter 1181 time=0.92  loss=78693.25 active=39038 feature_norm=429.92\n",
      "Iter 1182 time=0.92  loss=78693.14 active=39034 feature_norm=429.92\n",
      "Iter 1183 time=0.92  loss=78693.02 active=39027 feature_norm=429.93\n",
      "Iter 1184 time=0.92  loss=78692.93 active=39025 feature_norm=429.93\n",
      "Iter 1185 time=0.92  loss=78692.79 active=39023 feature_norm=429.93\n",
      "Iter 1186 time=0.92  loss=78692.70 active=39011 feature_norm=429.94\n",
      "Iter 1187 time=0.92  loss=78692.56 active=39008 feature_norm=429.94\n",
      "Iter 1188 time=0.92  loss=78692.46 active=39011 feature_norm=429.94\n",
      "Iter 1189 time=0.93  loss=78692.34 active=39006 feature_norm=429.94\n",
      "Iter 1190 time=0.93  loss=78692.26 active=39006 feature_norm=429.94\n",
      "Iter 1191 time=0.93  loss=78692.14 active=39005 feature_norm=429.95\n",
      "Iter 1192 time=0.92  loss=78692.06 active=39007 feature_norm=429.95\n",
      "Iter 1193 time=0.92  loss=78691.93 active=39006 feature_norm=429.95\n",
      "Iter 1194 time=0.91  loss=78691.85 active=39006 feature_norm=429.95\n",
      "Iter 1195 time=0.92  loss=78691.73 active=39008 feature_norm=429.95\n",
      "Iter 1196 time=0.91  loss=78691.65 active=39010 feature_norm=429.95\n",
      "Iter 1197 time=0.92  loss=78691.53 active=39010 feature_norm=429.96\n",
      "Iter 1198 time=0.93  loss=78691.44 active=39006 feature_norm=429.96\n",
      "Iter 1199 time=0.94  loss=78691.32 active=39003 feature_norm=429.96\n",
      "Iter 1200 time=0.93  loss=78691.24 active=38999 feature_norm=429.96\n",
      "Iter 1201 time=0.93  loss=78691.11 active=39000 feature_norm=429.96\n",
      "Iter 1202 time=0.94  loss=78691.02 active=38996 feature_norm=429.97\n",
      "Iter 1203 time=1.16  loss=78690.89 active=38988 feature_norm=429.97\n",
      "Iter 1204 time=0.98  loss=78690.80 active=38984 feature_norm=429.97\n",
      "Iter 1205 time=0.97  loss=78690.67 active=38996 feature_norm=429.97\n",
      "Iter 1206 time=0.95  loss=78690.60 active=38993 feature_norm=429.97\n",
      "Iter 1207 time=1.10  loss=78690.45 active=39000 feature_norm=429.98\n",
      "Iter 1208 time=1.22  loss=78690.38 active=38989 feature_norm=429.98\n",
      "Iter 1209 time=1.02  loss=78690.23 active=38990 feature_norm=429.98\n",
      "Iter 1210 time=0.93  loss=78690.15 active=38987 feature_norm=429.98\n",
      "Iter 1211 time=0.94  loss=78690.01 active=38985 feature_norm=429.98\n",
      "Iter 1212 time=0.93  loss=78689.94 active=38985 feature_norm=429.98\n",
      "Iter 1213 time=1.10  loss=78689.81 active=38984 feature_norm=429.98\n",
      "Iter 1214 time=0.96  loss=78689.75 active=38984 feature_norm=429.98\n",
      "Iter 1215 time=0.94  loss=78689.61 active=38982 feature_norm=429.98\n",
      "Iter 1216 time=1.03  loss=78689.54 active=38977 feature_norm=429.98\n",
      "Iter 1217 time=1.60  loss=78689.40 active=38975 feature_norm=429.98\n",
      "Iter 1218 time=1.21  loss=78689.33 active=38973 feature_norm=429.98\n",
      "Iter 1219 time=1.28  loss=78689.19 active=38975 feature_norm=429.99\n",
      "Iter 1220 time=0.98  loss=78689.12 active=38968 feature_norm=429.99\n",
      "Iter 1221 time=0.95  loss=78688.99 active=38972 feature_norm=429.99\n",
      "Iter 1222 time=0.96  loss=78688.93 active=38965 feature_norm=429.99\n",
      "Iter 1223 time=0.94  loss=78688.78 active=38959 feature_norm=429.99\n",
      "Iter 1224 time=0.93  loss=78688.69 active=38950 feature_norm=430.00\n",
      "Iter 1225 time=0.99  loss=78688.60 active=38948 feature_norm=430.00\n",
      "Iter 1226 time=1.47  loss=78688.51 active=38944 feature_norm=430.00\n",
      "Iter 1227 time=1.08  loss=78688.39 active=38946 feature_norm=430.01\n",
      "Iter 1228 time=0.94  loss=78688.29 active=38944 feature_norm=430.01\n",
      "Iter 1229 time=0.92  loss=78688.19 active=38950 feature_norm=430.01\n",
      "Iter 1230 time=0.93  loss=78688.10 active=38947 feature_norm=430.02\n",
      "Iter 1231 time=0.94  loss=78687.98 active=38947 feature_norm=430.02\n",
      "Iter 1232 time=0.95  loss=78687.90 active=38948 feature_norm=430.03\n",
      "Iter 1233 time=0.93  loss=78687.79 active=38942 feature_norm=430.03\n",
      "Iter 1234 time=0.95  loss=78687.69 active=38943 feature_norm=430.03\n",
      "Iter 1235 time=0.95  loss=78687.60 active=38939 feature_norm=430.04\n",
      "Iter 1236 time=0.93  loss=78687.51 active=38939 feature_norm=430.04\n",
      "Iter 1237 time=0.93  loss=78687.41 active=38941 feature_norm=430.05\n",
      "Iter 1238 time=0.93  loss=78687.33 active=38943 feature_norm=430.05\n",
      "Iter 1239 time=0.92  loss=78687.23 active=38942 feature_norm=430.05\n",
      "Iter 1240 time=0.93  loss=78687.14 active=38947 feature_norm=430.06\n",
      "Iter 1241 time=0.92  loss=78687.05 active=38947 feature_norm=430.06\n",
      "Iter 1242 time=1.05  loss=78686.96 active=38945 feature_norm=430.07\n",
      "Iter 1243 time=0.94  loss=78686.86 active=38942 feature_norm=430.07\n",
      "Iter 1244 time=0.92  loss=78686.78 active=38943 feature_norm=430.08\n",
      "Iter 1245 time=0.92  loss=78686.67 active=38936 feature_norm=430.08\n",
      "Iter 1246 time=0.93  loss=78686.58 active=38931 feature_norm=430.09\n",
      "Iter 1247 time=1.02  loss=78686.48 active=38929 feature_norm=430.09\n",
      "Iter 1248 time=0.94  loss=78686.39 active=38929 feature_norm=430.10\n",
      "Iter 1249 time=0.94  loss=78686.28 active=38925 feature_norm=430.10\n",
      "Iter 1250 time=1.06  loss=78686.20 active=38921 feature_norm=430.11\n",
      "Iter 1251 time=0.97  loss=78686.08 active=38925 feature_norm=430.11\n",
      "Iter 1252 time=0.93  loss=78686.00 active=38924 feature_norm=430.12\n",
      "Iter 1253 time=0.94  loss=78685.89 active=38920 feature_norm=430.12\n",
      "Iter 1254 time=0.94  loss=78685.81 active=38923 feature_norm=430.12\n",
      "Iter 1255 time=0.97  loss=78685.70 active=38923 feature_norm=430.13\n",
      "Iter 1256 time=0.93  loss=78685.63 active=38923 feature_norm=430.13\n",
      "Iter 1257 time=0.92  loss=78685.52 active=38919 feature_norm=430.14\n",
      "Iter 1258 time=0.94  loss=78685.44 active=38915 feature_norm=430.14\n",
      "Iter 1259 time=1.03  loss=78685.33 active=38918 feature_norm=430.14\n",
      "Iter 1260 time=0.95  loss=78685.23 active=38908 feature_norm=430.15\n",
      "Iter 1261 time=0.93  loss=78685.16 active=38913 feature_norm=430.15\n",
      "Iter 1262 time=0.97  loss=78685.05 active=38916 feature_norm=430.15\n",
      "Iter 1263 time=0.93  loss=78684.95 active=38920 feature_norm=430.16\n",
      "Iter 1264 time=0.96  loss=78684.85 active=38908 feature_norm=430.16\n",
      "Iter 1265 time=0.93  loss=78684.77 active=38907 feature_norm=430.16\n",
      "Iter 1266 time=0.96  loss=78684.67 active=38908 feature_norm=430.17\n",
      "Iter 1267 time=0.98  loss=78684.55 active=38908 feature_norm=430.17\n",
      "Iter 1268 time=1.33  loss=78684.49 active=38904 feature_norm=430.17\n",
      "Iter 1269 time=1.02  loss=78684.38 active=38905 feature_norm=430.17\n",
      "Iter 1270 time=0.95  loss=78684.30 active=38895 feature_norm=430.18\n",
      "Iter 1271 time=0.94  loss=78684.20 active=38890 feature_norm=430.18\n",
      "Iter 1272 time=0.95  loss=78684.12 active=38887 feature_norm=430.19\n",
      "Iter 1273 time=0.96  loss=78684.04 active=38888 feature_norm=430.19\n",
      "Iter 1274 time=0.96  loss=78683.96 active=38888 feature_norm=430.19\n",
      "Iter 1275 time=1.01  loss=78683.87 active=38882 feature_norm=430.19\n",
      "Iter 1276 time=0.97  loss=78683.76 active=38878 feature_norm=430.19\n",
      "Iter 1277 time=1.04  loss=78683.70 active=38879 feature_norm=430.20\n",
      "Iter 1278 time=1.02  loss=78683.60 active=38870 feature_norm=430.20\n",
      "Iter 1279 time=0.95  loss=78683.51 active=38872 feature_norm=430.20\n",
      "Iter 1280 time=0.95  loss=78683.43 active=38862 feature_norm=430.21\n",
      "Iter 1281 time=0.93  loss=78683.34 active=38858 feature_norm=430.21\n",
      "Iter 1282 time=0.95  loss=78683.26 active=38848 feature_norm=430.21\n",
      "Iter 1283 time=0.92  loss=78683.18 active=38849 feature_norm=430.21\n",
      "Iter 1284 time=0.93  loss=78683.10 active=38846 feature_norm=430.22\n",
      "Iter 1285 time=1.09  loss=78683.01 active=38840 feature_norm=430.22\n",
      "Iter 1286 time=0.97  loss=78682.92 active=38832 feature_norm=430.22\n",
      "Iter 1287 time=0.96  loss=78682.84 active=38829 feature_norm=430.22\n",
      "Iter 1288 time=0.96  loss=78682.76 active=38817 feature_norm=430.23\n",
      "Iter 1289 time=0.97  loss=78682.66 active=38816 feature_norm=430.23\n",
      "Iter 1290 time=0.96  loss=78682.57 active=38811 feature_norm=430.23\n",
      "Iter 1291 time=0.94  loss=78682.49 active=38809 feature_norm=430.24\n",
      "Iter 1292 time=0.96  loss=78682.40 active=38817 feature_norm=430.24\n",
      "Iter 1293 time=0.94  loss=78682.31 active=38810 feature_norm=430.24\n",
      "Iter 1294 time=0.98  loss=78682.23 active=38804 feature_norm=430.25\n",
      "Iter 1295 time=0.96  loss=78682.14 active=38804 feature_norm=430.25\n",
      "Iter 1296 time=0.94  loss=78682.05 active=38798 feature_norm=430.25\n",
      "Iter 1297 time=0.95  loss=78681.96 active=38789 feature_norm=430.25\n",
      "Iter 1298 time=0.94  loss=78681.88 active=38785 feature_norm=430.26\n",
      "Iter 1299 time=0.93  loss=78681.79 active=38780 feature_norm=430.26\n",
      "Iter 1300 time=0.94  loss=78681.68 active=38775 feature_norm=430.26\n",
      "Iter 1301 time=0.95  loss=78681.62 active=38772 feature_norm=430.26\n",
      "Iter 1302 time=0.97  loss=78681.51 active=38767 feature_norm=430.26\n",
      "Iter 1303 time=0.96  loss=78681.42 active=38768 feature_norm=430.27\n",
      "Iter 1304 time=0.95  loss=78681.33 active=38765 feature_norm=430.27\n",
      "Iter 1305 time=0.96  loss=78681.24 active=38769 feature_norm=430.27\n",
      "Iter 1306 time=0.94  loss=78681.16 active=38770 feature_norm=430.27\n",
      "Iter 1307 time=1.04  loss=78681.07 active=38765 feature_norm=430.28\n",
      "Iter 1308 time=0.96  loss=78680.98 active=38765 feature_norm=430.28\n",
      "Iter 1309 time=0.94  loss=78680.87 active=38764 feature_norm=430.28\n",
      "Iter 1310 time=0.94  loss=78680.79 active=38757 feature_norm=430.28\n",
      "Iter 1311 time=0.94  loss=78680.68 active=38767 feature_norm=430.28\n",
      "Iter 1312 time=0.94  loss=78680.60 active=38762 feature_norm=430.29\n",
      "Iter 1313 time=0.94  loss=78680.48 active=38764 feature_norm=430.29\n",
      "Iter 1314 time=0.95  loss=78680.39 active=38759 feature_norm=430.29\n",
      "Iter 1315 time=0.96  loss=78680.29 active=38756 feature_norm=430.29\n",
      "Iter 1316 time=0.95  loss=78680.19 active=38748 feature_norm=430.29\n",
      "Iter 1317 time=0.95  loss=78680.08 active=38750 feature_norm=430.30\n",
      "Iter 1318 time=0.96  loss=78679.99 active=38751 feature_norm=430.30\n",
      "Iter 1319 time=0.94  loss=78679.90 active=38746 feature_norm=430.30\n",
      "Iter 1320 time=0.96  loss=78679.80 active=38753 feature_norm=430.30\n",
      "Iter 1321 time=0.94  loss=78679.71 active=38747 feature_norm=430.31\n",
      "Iter 1322 time=0.94  loss=78679.63 active=38747 feature_norm=430.31\n",
      "Iter 1323 time=0.95  loss=78679.54 active=38740 feature_norm=430.31\n",
      "Iter 1324 time=0.96  loss=78679.47 active=38735 feature_norm=430.31\n",
      "Iter 1325 time=0.96  loss=78679.39 active=38730 feature_norm=430.31\n",
      "Iter 1326 time=0.94  loss=78679.34 active=38730 feature_norm=430.32\n",
      "Iter 1327 time=0.93  loss=78679.25 active=38730 feature_norm=430.32\n",
      "Iter 1328 time=0.94  loss=78679.18 active=38728 feature_norm=430.32\n",
      "Iter 1329 time=0.94  loss=78679.09 active=38729 feature_norm=430.33\n",
      "Iter 1330 time=0.95  loss=78679.02 active=38723 feature_norm=430.33\n",
      "L-BFGS terminated with the stopping criteria\n",
      "Total seconds required for training: 868.100\n",
      "\n",
      "Storing the model\n",
      "Number of active features: 38723 (190097)\n",
      "Number of active attributes: 25289 (121475)\n",
      "Number of active labels: 7 (7)\n",
      "Writing labels\n",
      "Writing attributes\n",
      "Writing feature references for transitions\n",
      "Writing feature references for attributes\n",
      "Seconds required: 0.066\n",
      "\n",
      "Finished training.\n",
      "Model saved to: ../configs/model/training/addressCRF.crfsuite\n",
      "Training last iteration: {'num': 1330, 'scores': {}, 'loss': 78679.024508, 'feature_norm': 430.327963, 'error_norm': 64.40828, 'active_features': 38723, 'linesearch_trials': 2, 'linesearch_step': 0.5, 'time': 0.951}\n",
      "\n",
      "Holdout performance:\n",
      "Weighted F1:      0.9421\n",
      "Sequence accuracy:0.7387\n",
      "\n",
      "                 precision    recall  f1-score   support\n",
      "\n",
      "       Locality      0.861     0.854     0.857     71214\n",
      "       Postcode      1.000     1.000     1.000    200000\n",
      "       TownName      0.923     0.937     0.930    109658\n",
      "     StreetName      0.960     0.957     0.959    200389\n",
      "SubBuildingName      0.908     0.851     0.878     55798\n",
      "   BuildingName      0.915     0.917     0.916     96384\n",
      " BuildingNumber      0.904     0.941     0.922     72253\n",
      "\n",
      "       accuracy                          0.942    805696\n",
      "      macro avg      0.925     0.922     0.923    805696\n",
      "   weighted avg      0.942     0.942     0.942    805696\n",
      "\n"
     ]
    },
    {
     "data": {
      "text/plain": "{'f1': 0.9421389080641615, 'sequence_accuracy': 0.73865}"
     },
     "execution_count": 2,
     "metadata": {},
     "output_type": "execute_result"
    }
   ],
   "source": [
    "scores = train(\n",
    "    training_xml=\"../data/processed/ppd_xml/2025-08-22/train_0000.xml\",\n",
    "    holdout_xml=\"../data/processed/ppd_xml/2025-08-22/holdout_0000.xml\",\n",
    "    algorithm=\"lbfgs\",\n",
    "    c1=0.3,\n",
    "    c2=0.001,\n",
    "    min_freq=0.001,\n",
    "    random_state=42,\n",
    "    train_subset=None,   # e.g. 10000 to speed up\n",
    "    eval_subset=None\n",
    ")\n",
    "scores  # {'f1': ..., 'sequence_accuracy': ...}\n"
   ],
   "metadata": {
    "collapsed": false,
    "ExecuteTime": {
     "end_time": "2025-08-22T20:43:40.200527Z",
     "start_time": "2025-08-22T20:28:06.552373Z"
    }
   }
  },
  {
   "cell_type": "markdown",
   "source": [
    "Hyperparameter search"
   ],
   "metadata": {
    "collapsed": false
   }
  },
  {
   "cell_type": "code",
   "execution_count": null,
   "outputs": [],
   "source": [
    "scores, best_params = tune(\n",
    "    training_xml=\"../data/processed/ppd_xml/2025-08-22/train_0000.xml\",\n",
    "    holdout_xml=\"../data/processed/ppd_xml/2025-08-22/holdout_0000.xml\",\n",
    "    n_iter=50,\n",
    "    cv=3,\n",
    "    random_state=42,\n",
    "    sequence_optimisation=True,   # optimise for sequence accuracy\n",
    "    plot_path=\"hyperparams.png\",  # optional\n",
    "    pickle_path=\"optimisation.pickle\"\n",
    ")\n",
    "best_params, scores\n"
   ],
   "metadata": {
    "collapsed": false
   }
  },
  {
   "cell_type": "markdown",
   "source": [
    "Quick sanity check with the trained model"
   ],
   "metadata": {
    "collapsed": false
   }
  },
  {
   "cell_type": "code",
   "execution_count": null,
   "outputs": [],
   "source": [
    "# from machine_learning.address_parser.src.parser import tag\n",
    "# tag(\"FLAT 2 10 QUEEN STREET BURY BL8 1JG\")\n"
   ],
   "metadata": {
    "collapsed": false
   }
  },
  {
   "cell_type": "markdown",
   "source": [
    "## Model Evaluation"
   ],
   "metadata": {
    "collapsed": false
   }
  },
  {
   "cell_type": "code",
   "execution_count": 14,
   "outputs": [],
   "source": [
    "from machine_learning.address_parser.src.parser import tag, parse"
   ],
   "metadata": {
    "collapsed": false,
    "ExecuteTime": {
     "end_time": "2025-08-22T20:54:53.009892Z",
     "start_time": "2025-08-22T20:54:52.959288Z"
    }
   }
  },
  {
   "cell_type": "code",
   "execution_count": 15,
   "outputs": [
    {
     "data": {
      "text/plain": "OrderedDict([('BuildingNumber', '1'),\n             ('StreetName', 'WILLOWBROOK DRIVE'),\n             ('TownName', 'CHELTENHAM'),\n             ('Postcode', 'GL51 0PU')])"
     },
     "execution_count": 15,
     "metadata": {},
     "output_type": "execute_result"
    }
   ],
   "source": [
    "tag(\"1 Willowbrook Drive Cheltenham GL51 0PU\")"
   ],
   "metadata": {
    "collapsed": false,
    "ExecuteTime": {
     "end_time": "2025-08-22T20:54:53.701454Z",
     "start_time": "2025-08-22T20:54:53.689616Z"
    }
   }
  },
  {
   "cell_type": "code",
   "execution_count": 17,
   "outputs": [
    {
     "data": {
      "text/plain": "[('1', 'BuildingNumber'),\n ('WILLOWBROOK', 'StreetName'),\n ('DRIVE', 'StreetName'),\n ('CHELTENHAM', 'TownName'),\n ('GL51', 'Postcode'),\n ('0PU', 'Postcode')]"
     },
     "execution_count": 17,
     "metadata": {},
     "output_type": "execute_result"
    }
   ],
   "source": [
    "parse(\"1 Willowbrook Drive Cheltenham GL51 0PU\")"
   ],
   "metadata": {
    "collapsed": false,
    "ExecuteTime": {
     "end_time": "2025-08-22T20:55:07.279794Z",
     "start_time": "2025-08-22T20:55:07.255858Z"
    }
   }
  },
  {
   "cell_type": "code",
   "execution_count": null,
   "outputs": [],
   "source": [],
   "metadata": {
    "collapsed": false
   }
  }
 ],
 "metadata": {
  "kernelspec": {
   "display_name": "Python 3",
   "language": "python",
   "name": "python3"
  },
  "language_info": {
   "codemirror_mode": {
    "name": "ipython",
    "version": 2
   },
   "file_extension": ".py",
   "mimetype": "text/x-python",
   "name": "python",
   "nbconvert_exporter": "python",
   "pygments_lexer": "ipython2",
   "version": "2.7.6"
  }
 },
 "nbformat": 4,
 "nbformat_minor": 0
}
