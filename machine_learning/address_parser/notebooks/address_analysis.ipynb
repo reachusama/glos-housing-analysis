{
 "cells": [
  {
   "cell_type": "code",
   "execution_count": 1,
   "metadata": {
    "collapsed": true,
    "ExecuteTime": {
     "end_time": "2025-08-22T11:49:21.467986Z",
     "start_time": "2025-08-22T11:49:21.318487Z"
    }
   },
   "outputs": [],
   "source": [
    "import duckdb\n",
    "con = duckdb.connect(database=':memory:')"
   ]
  },
  {
   "cell_type": "code",
   "execution_count": 2,
   "outputs": [
    {
     "data": {
      "text/plain": "<duckdb.duckdb.DuckDBPyConnection at 0x104003cf0>"
     },
     "execution_count": 2,
     "metadata": {},
     "output_type": "execute_result"
    }
   ],
   "source": [
    "addr_root = \"../data/raw/ppd_addresses\"\n",
    "con.execute(f\"\"\"\n",
    "    CREATE OR REPLACE VIEW ppd_src AS\n",
    "    SELECT *\n",
    "    FROM parquet_scan('{addr_root}/*.parquet', hive_partitioning=1)\n",
    "\"\"\")"
   ],
   "metadata": {
    "collapsed": false,
    "ExecuteTime": {
     "end_time": "2025-08-22T11:49:23.550056Z",
     "start_time": "2025-08-22T11:49:23.480739Z"
    }
   }
  },
  {
   "cell_type": "code",
   "execution_count": 3,
   "outputs": [
    {
     "data": {
      "text/plain": "  property_type postcode paon  saon         street    locality   town_city  \\\n0             S   AL35NA   41  None  GRANGE STREET  ST. ALBANS  ST. ALBANS   \n\n    district         county  \n0  ST ALBANS  HERTFORDSHIRE  ",
      "text/html": "<div>\n<style scoped>\n    .dataframe tbody tr th:only-of-type {\n        vertical-align: middle;\n    }\n\n    .dataframe tbody tr th {\n        vertical-align: top;\n    }\n\n    .dataframe thead th {\n        text-align: right;\n    }\n</style>\n<table border=\"1\" class=\"dataframe\">\n  <thead>\n    <tr style=\"text-align: right;\">\n      <th></th>\n      <th>property_type</th>\n      <th>postcode</th>\n      <th>paon</th>\n      <th>saon</th>\n      <th>street</th>\n      <th>locality</th>\n      <th>town_city</th>\n      <th>district</th>\n      <th>county</th>\n    </tr>\n  </thead>\n  <tbody>\n    <tr>\n      <th>0</th>\n      <td>S</td>\n      <td>AL35NA</td>\n      <td>41</td>\n      <td>None</td>\n      <td>GRANGE STREET</td>\n      <td>ST. ALBANS</td>\n      <td>ST. ALBANS</td>\n      <td>ST ALBANS</td>\n      <td>HERTFORDSHIRE</td>\n    </tr>\n  </tbody>\n</table>\n</div>"
     },
     "execution_count": 3,
     "metadata": {},
     "output_type": "execute_result"
    }
   ],
   "source": [
    "# Quick sanity check: expect only GL / 2025 rows below\n",
    "con.execute(\"\"\"\n",
    "    SELECT *\n",
    "    FROM ppd_src\n",
    "    LIMIT 1\n",
    "\"\"\").fetchdf()"
   ],
   "metadata": {
    "collapsed": false,
    "ExecuteTime": {
     "end_time": "2025-08-22T11:49:29.263056Z",
     "start_time": "2025-08-22T11:49:28.162970Z"
    }
   }
  },
  {
   "cell_type": "code",
   "execution_count": 3,
   "outputs": [],
   "source": [],
   "metadata": {
    "collapsed": false,
    "ExecuteTime": {
     "end_time": "2025-08-22T11:49:31.831984Z",
     "start_time": "2025-08-22T11:49:31.801603Z"
    }
   }
  },
  {
   "cell_type": "markdown",
   "source": [
    "Checking patterns of addresses in PAON or SAON"
   ],
   "metadata": {
    "collapsed": false
   }
  },
  {
   "cell_type": "code",
   "execution_count": 7,
   "outputs": [
    {
     "data": {
      "text/plain": "  property_type                   paon    saon\n0             O             FLAT 2, 30    None\n1             O  EBENEZER CHURCH FLATS    None\n2             O         HATCHETT FLATS    None\n3             O           FLAT 2, 158B  GARDEN\n4             O          MIDLAND FLATS       1",
      "text/html": "<div>\n<style scoped>\n    .dataframe tbody tr th:only-of-type {\n        vertical-align: middle;\n    }\n\n    .dataframe tbody tr th {\n        vertical-align: top;\n    }\n\n    .dataframe thead th {\n        text-align: right;\n    }\n</style>\n<table border=\"1\" class=\"dataframe\">\n  <thead>\n    <tr style=\"text-align: right;\">\n      <th></th>\n      <th>property_type</th>\n      <th>paon</th>\n      <th>saon</th>\n    </tr>\n  </thead>\n  <tbody>\n    <tr>\n      <th>0</th>\n      <td>O</td>\n      <td>FLAT 2, 30</td>\n      <td>None</td>\n    </tr>\n    <tr>\n      <th>1</th>\n      <td>O</td>\n      <td>EBENEZER CHURCH FLATS</td>\n      <td>None</td>\n    </tr>\n    <tr>\n      <th>2</th>\n      <td>O</td>\n      <td>HATCHETT FLATS</td>\n      <td>None</td>\n    </tr>\n    <tr>\n      <th>3</th>\n      <td>O</td>\n      <td>FLAT 2, 158B</td>\n      <td>GARDEN</td>\n    </tr>\n    <tr>\n      <th>4</th>\n      <td>O</td>\n      <td>MIDLAND FLATS</td>\n      <td>1</td>\n    </tr>\n  </tbody>\n</table>\n</div>"
     },
     "execution_count": 7,
     "metadata": {},
     "output_type": "execute_result"
    }
   ],
   "source": [
    "tdf = con.execute(\"\"\"\n",
    "    SELECT DISTINCT property_type, paon, saon\n",
    "    FROM ppd_src\n",
    "    WHERE paon IS NOT NULL\n",
    "      AND TRIM(paon) <> ''\n",
    "      AND LOWER(paon) LIKE '%flat%'\n",
    "      AND property_type != 'F'\n",
    "    LIMIT 5\n",
    "\"\"\").fetchdf()\n",
    "tdf"
   ],
   "metadata": {
    "collapsed": false,
    "ExecuteTime": {
     "end_time": "2025-08-22T11:51:12.751037Z",
     "start_time": "2025-08-22T11:51:12.455500Z"
    }
   }
  },
  {
   "cell_type": "markdown",
   "source": [
    "Flat addresses also occur in PAON, but when they SAON is usually empty but sometime has values. PAON has comma seperated values sometimes."
   ],
   "metadata": {
    "collapsed": false
   }
  },
  {
   "cell_type": "code",
   "execution_count": 7,
   "outputs": [],
   "source": [],
   "metadata": {
    "collapsed": false,
    "ExecuteTime": {
     "end_time": "2025-08-22T11:51:50.555704Z",
     "start_time": "2025-08-22T11:51:50.522465Z"
    }
   }
  },
  {
   "cell_type": "markdown",
   "source": [
    "- Review each column to identify patterns and create strategies for tokenization"
   ],
   "metadata": {
    "collapsed": false
   }
  },
  {
   "cell_type": "code",
   "execution_count": 7,
   "outputs": [],
   "source": [],
   "metadata": {
    "collapsed": false,
    "ExecuteTime": {
     "end_time": "2025-08-22T11:51:55.167571Z",
     "start_time": "2025-08-22T11:51:55.146116Z"
    }
   }
  },
  {
   "cell_type": "markdown",
   "source": [
    "## Evaluating/Fixing Existing Code"
   ],
   "metadata": {
    "collapsed": false
   }
  },
  {
   "cell_type": "code",
   "execution_count": 14,
   "outputs": [],
   "source": [
    "from machine_learning.address_parser.src.tokens import tokenize, tokens2features"
   ],
   "metadata": {
    "collapsed": false,
    "ExecuteTime": {
     "end_time": "2025-08-22T11:54:35.045720Z",
     "start_time": "2025-08-22T11:54:35.003081Z"
    }
   }
  },
  {
   "cell_type": "code",
   "execution_count": 13,
   "outputs": [
    {
     "data": {
      "text/plain": "['FLAT', '25', 'WILLOWBROOK', 'DRIVE', 'GL510PU', 'CHELTENHAM']"
     },
     "execution_count": 13,
     "metadata": {},
     "output_type": "execute_result"
    }
   ],
   "source": [
    "tokenize(\"flat 25 willowbrook drive GL510pu cheltenham gloucestershire\")"
   ],
   "metadata": {
    "collapsed": false,
    "ExecuteTime": {
     "end_time": "2025-08-22T10:51:04.398801Z",
     "start_time": "2025-08-22T10:51:04.258569Z"
    }
   }
  },
  {
   "cell_type": "code",
   "execution_count": 14,
   "outputs": [
    {
     "data": {
      "text/plain": "[{'digits': 'no_digits',\n  'word': 'FLAT',\n  'length': 'w:4',\n  'endsinpunc': False,\n  'directional': False,\n  'outcode': False,\n  'posttown': False,\n  'has.vowels': True,\n  'flat': True,\n  'company': False,\n  'road': False,\n  'residential': False,\n  'business': False,\n  'locational': False,\n  'ordinal': False,\n  'hyphenations': 0,\n  'next': {'digits': 'all_digits',\n   'word': False,\n   'length': 'd:2',\n   'endsinpunc': False,\n   'directional': False,\n   'outcode': False,\n   'posttown': False,\n   'has.vowels': False,\n   'flat': False,\n   'company': False,\n   'road': False,\n   'residential': False,\n   'business': False,\n   'locational': False,\n   'ordinal': False,\n   'hyphenations': 0},\n  'rawstring.start': True},\n {'digits': 'all_digits',\n  'word': False,\n  'length': 'd:2',\n  'endsinpunc': False,\n  'directional': False,\n  'outcode': False,\n  'posttown': False,\n  'has.vowels': False,\n  'flat': False,\n  'company': False,\n  'road': False,\n  'residential': False,\n  'business': False,\n  'locational': False,\n  'ordinal': False,\n  'hyphenations': 0,\n  'previous': {'digits': 'no_digits',\n   'word': 'FLAT',\n   'length': 'w:4',\n   'endsinpunc': False,\n   'directional': False,\n   'outcode': False,\n   'posttown': False,\n   'has.vowels': True,\n   'flat': True,\n   'company': False,\n   'road': False,\n   'residential': False,\n   'business': False,\n   'locational': False,\n   'ordinal': False,\n   'hyphenations': 0,\n   'rawstring.start': True},\n  'next': {'digits': 'no_digits',\n   'word': 'WILLOWBROOK',\n   'length': 'w:11',\n   'endsinpunc': False,\n   'directional': False,\n   'outcode': False,\n   'posttown': False,\n   'has.vowels': True,\n   'flat': False,\n   'company': False,\n   'road': False,\n   'residential': False,\n   'business': False,\n   'locational': False,\n   'ordinal': False,\n   'hyphenations': 0}},\n {'digits': 'no_digits',\n  'word': 'WILLOWBROOK',\n  'length': 'w:11',\n  'endsinpunc': False,\n  'directional': False,\n  'outcode': False,\n  'posttown': False,\n  'has.vowels': True,\n  'flat': False,\n  'company': False,\n  'road': False,\n  'residential': False,\n  'business': False,\n  'locational': False,\n  'ordinal': False,\n  'hyphenations': 0,\n  'previous': {'digits': 'all_digits',\n   'word': False,\n   'length': 'd:2',\n   'endsinpunc': False,\n   'directional': False,\n   'outcode': False,\n   'posttown': False,\n   'has.vowels': False,\n   'flat': False,\n   'company': False,\n   'road': False,\n   'residential': False,\n   'business': False,\n   'locational': False,\n   'ordinal': False,\n   'hyphenations': 0},\n  'next': {'digits': 'no_digits',\n   'word': 'DRIVE',\n   'length': 'w:5',\n   'endsinpunc': False,\n   'directional': False,\n   'outcode': False,\n   'posttown': False,\n   'has.vowels': True,\n   'flat': False,\n   'company': False,\n   'road': True,\n   'residential': False,\n   'business': False,\n   'locational': False,\n   'ordinal': False,\n   'hyphenations': 0}},\n {'digits': 'no_digits',\n  'word': 'DRIVE',\n  'length': 'w:5',\n  'endsinpunc': False,\n  'directional': False,\n  'outcode': False,\n  'posttown': False,\n  'has.vowels': True,\n  'flat': False,\n  'company': False,\n  'road': True,\n  'residential': False,\n  'business': False,\n  'locational': False,\n  'ordinal': False,\n  'hyphenations': 0,\n  'previous': {'digits': 'no_digits',\n   'word': 'WILLOWBROOK',\n   'length': 'w:11',\n   'endsinpunc': False,\n   'directional': False,\n   'outcode': False,\n   'posttown': False,\n   'has.vowels': True,\n   'flat': False,\n   'company': False,\n   'road': False,\n   'residential': False,\n   'business': False,\n   'locational': False,\n   'ordinal': False,\n   'hyphenations': 0},\n  'next': {'digits': 'some_digits',\n   'word': 'GL510PU',\n   'length': 'w:7',\n   'endsinpunc': False,\n   'directional': False,\n   'outcode': False,\n   'posttown': False,\n   'has.vowels': True,\n   'flat': False,\n   'company': False,\n   'road': False,\n   'residential': False,\n   'business': False,\n   'locational': False,\n   'ordinal': False,\n   'hyphenations': 0}},\n {'digits': 'some_digits',\n  'word': 'GL510PU',\n  'length': 'w:7',\n  'endsinpunc': False,\n  'directional': False,\n  'outcode': False,\n  'posttown': False,\n  'has.vowels': True,\n  'flat': False,\n  'company': False,\n  'road': False,\n  'residential': False,\n  'business': False,\n  'locational': False,\n  'ordinal': False,\n  'hyphenations': 0,\n  'previous': {'digits': 'no_digits',\n   'word': 'DRIVE',\n   'length': 'w:5',\n   'endsinpunc': False,\n   'directional': False,\n   'outcode': False,\n   'posttown': False,\n   'has.vowels': True,\n   'flat': False,\n   'company': False,\n   'road': True,\n   'residential': False,\n   'business': False,\n   'locational': False,\n   'ordinal': False,\n   'hyphenations': 0},\n  'next': {'digits': 'no_digits',\n   'word': 'CHELTENHAM',\n   'length': 'w:10',\n   'endsinpunc': False,\n   'directional': False,\n   'outcode': False,\n   'posttown': True,\n   'has.vowels': True,\n   'flat': False,\n   'company': False,\n   'road': False,\n   'residential': False,\n   'business': False,\n   'locational': False,\n   'ordinal': False,\n   'hyphenations': 0,\n   'rawstring.end': True}},\n {'digits': 'no_digits',\n  'word': 'CHELTENHAM',\n  'length': 'w:10',\n  'endsinpunc': False,\n  'directional': False,\n  'outcode': False,\n  'posttown': True,\n  'has.vowels': True,\n  'flat': False,\n  'company': False,\n  'road': False,\n  'residential': False,\n  'business': False,\n  'locational': False,\n  'ordinal': False,\n  'hyphenations': 0,\n  'previous': {'digits': 'some_digits',\n   'word': 'GL510PU',\n   'length': 'w:7',\n   'endsinpunc': False,\n   'directional': False,\n   'outcode': False,\n   'posttown': False,\n   'has.vowels': True,\n   'flat': False,\n   'company': False,\n   'road': False,\n   'residential': False,\n   'business': False,\n   'locational': False,\n   'ordinal': False,\n   'hyphenations': 0},\n  'rawstring.end': True}]"
     },
     "execution_count": 14,
     "metadata": {},
     "output_type": "execute_result"
    }
   ],
   "source": [
    "tokens2features(['FLAT', '25', 'WILLOWBROOK', 'DRIVE', 'GL510PU', 'CHELTENHAM'])"
   ],
   "metadata": {
    "collapsed": false,
    "ExecuteTime": {
     "end_time": "2025-08-22T10:51:05.347645Z",
     "start_time": "2025-08-22T10:51:05.228006Z"
    }
   }
  },
  {
   "cell_type": "code",
   "execution_count": null,
   "outputs": [],
   "source": [],
   "metadata": {
    "collapsed": false
   }
  }
 ],
 "metadata": {
  "kernelspec": {
   "display_name": "Python 3",
   "language": "python",
   "name": "python3"
  },
  "language_info": {
   "codemirror_mode": {
    "name": "ipython",
    "version": 2
   },
   "file_extension": ".py",
   "mimetype": "text/x-python",
   "name": "python",
   "nbconvert_exporter": "python",
   "pygments_lexer": "ipython2",
   "version": "2.7.6"
  }
 },
 "nbformat": 4,
 "nbformat_minor": 0
}
