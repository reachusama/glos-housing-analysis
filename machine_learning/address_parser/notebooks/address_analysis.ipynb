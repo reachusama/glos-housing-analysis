{
 "cells": [
  {
   "cell_type": "code",
   "execution_count": 1,
   "metadata": {
    "collapsed": true,
    "ExecuteTime": {
     "end_time": "2025-08-22T11:21:21.998623Z",
     "start_time": "2025-08-22T11:21:21.892720Z"
    }
   },
   "outputs": [],
   "source": [
    "import duckdb\n",
    "\n",
    "# start a DuckDB connection\n",
    "con = duckdb.connect(database=':memory:')  # or 'mydb.duckdb' if you want persistence"
   ]
  },
  {
   "cell_type": "code",
   "execution_count": 15,
   "outputs": [
    {
     "data": {
      "text/plain": "<duckdb.duckdb.DuckDBPyConnection at 0x110bd1bb0>"
     },
     "execution_count": 15,
     "metadata": {},
     "output_type": "execute_result"
    }
   ],
   "source": [
    "# Replace with your actual paths\n",
    "\n",
    "addr_root = \"../data/ppd_addresses\"\n",
    "\n",
    "con.execute(f\"\"\"\n",
    "    CREATE OR REPLACE VIEW ppd_src AS\n",
    "    SELECT *\n",
    "    FROM parquet_scan('{addr_root}/*.parquet', hive_partitioning=1)\n",
    "\"\"\")"
   ],
   "metadata": {
    "collapsed": false,
    "ExecuteTime": {
     "end_time": "2025-08-22T11:22:42.530555Z",
     "start_time": "2025-08-22T11:22:42.485446Z"
    }
   }
  },
  {
   "cell_type": "code",
   "execution_count": 20,
   "outputs": [
    {
     "data": {
      "text/plain": "  property_type postcode paon  saon         street    locality   town_city  \\\n0             S   AL35NA   41  None  GRANGE STREET  ST. ALBANS  ST. ALBANS   \n\n    district         county  \n0  ST ALBANS  HERTFORDSHIRE  ",
      "text/html": "<div>\n<style scoped>\n    .dataframe tbody tr th:only-of-type {\n        vertical-align: middle;\n    }\n\n    .dataframe tbody tr th {\n        vertical-align: top;\n    }\n\n    .dataframe thead th {\n        text-align: right;\n    }\n</style>\n<table border=\"1\" class=\"dataframe\">\n  <thead>\n    <tr style=\"text-align: right;\">\n      <th></th>\n      <th>property_type</th>\n      <th>postcode</th>\n      <th>paon</th>\n      <th>saon</th>\n      <th>street</th>\n      <th>locality</th>\n      <th>town_city</th>\n      <th>district</th>\n      <th>county</th>\n    </tr>\n  </thead>\n  <tbody>\n    <tr>\n      <th>0</th>\n      <td>S</td>\n      <td>AL35NA</td>\n      <td>41</td>\n      <td>None</td>\n      <td>GRANGE STREET</td>\n      <td>ST. ALBANS</td>\n      <td>ST. ALBANS</td>\n      <td>ST ALBANS</td>\n      <td>HERTFORDSHIRE</td>\n    </tr>\n  </tbody>\n</table>\n</div>"
     },
     "execution_count": 20,
     "metadata": {},
     "output_type": "execute_result"
    }
   ],
   "source": [
    "# Quick sanity check: expect only GL / 2025 rows below\n",
    "con.execute(\"\"\"\n",
    "    SELECT *\n",
    "    FROM ppd_src\n",
    "    LIMIT 1\n",
    "\"\"\").fetchdf()"
   ],
   "metadata": {
    "collapsed": false,
    "ExecuteTime": {
     "end_time": "2025-08-22T11:25:21.547983Z",
     "start_time": "2025-08-22T11:25:21.456345Z"
    }
   }
  },
  {
   "cell_type": "code",
   "execution_count": 14,
   "outputs": [
    {
     "data": {
      "text/plain": "  postcode\n0   AL35NA\n1  AL108TY",
      "text/html": "<div>\n<style scoped>\n    .dataframe tbody tr th:only-of-type {\n        vertical-align: middle;\n    }\n\n    .dataframe tbody tr th {\n        vertical-align: top;\n    }\n\n    .dataframe thead th {\n        text-align: right;\n    }\n</style>\n<table border=\"1\" class=\"dataframe\">\n  <thead>\n    <tr style=\"text-align: right;\">\n      <th></th>\n      <th>postcode</th>\n    </tr>\n  </thead>\n  <tbody>\n    <tr>\n      <th>0</th>\n      <td>AL35NA</td>\n    </tr>\n    <tr>\n      <th>1</th>\n      <td>AL108TY</td>\n    </tr>\n  </tbody>\n</table>\n</div>"
     },
     "execution_count": 14,
     "metadata": {},
     "output_type": "execute_result"
    }
   ],
   "source": [
    "pp"
   ],
   "metadata": {
    "collapsed": false,
    "ExecuteTime": {
     "end_time": "2025-08-22T11:22:32.808107Z",
     "start_time": "2025-08-22T11:22:32.717448Z"
    }
   }
  },
  {
   "cell_type": "code",
   "execution_count": 22,
   "outputs": [
    {
     "data": {
      "text/plain": "    property_type                     paon                    saon\n0               O           FLATS 1-6, 56A                    None\n1               O          WESTVILLE FLATS                      10\n2               O     FLAT 3 DOLPHIN COURT  GARAGE ASSOCIATED WITH\n3               O  MEMORIAL BUILDING FLATS                      11\n4               O             FLAT 2D, 408                    None\n..            ...                      ...                     ...\n463             O          SOUTHLEIGH FLAT                    None\n464             O             ABBEY FLATTS                    None\n465             O       ST MARGARETS FLATS                    None\n466             O           SEMINARY FLATS                       1\n467             O          THE TERETS FLAT                    None\n\n[468 rows x 3 columns]",
      "text/html": "<div>\n<style scoped>\n    .dataframe tbody tr th:only-of-type {\n        vertical-align: middle;\n    }\n\n    .dataframe tbody tr th {\n        vertical-align: top;\n    }\n\n    .dataframe thead th {\n        text-align: right;\n    }\n</style>\n<table border=\"1\" class=\"dataframe\">\n  <thead>\n    <tr style=\"text-align: right;\">\n      <th></th>\n      <th>property_type</th>\n      <th>paon</th>\n      <th>saon</th>\n    </tr>\n  </thead>\n  <tbody>\n    <tr>\n      <th>0</th>\n      <td>O</td>\n      <td>FLATS 1-6, 56A</td>\n      <td>None</td>\n    </tr>\n    <tr>\n      <th>1</th>\n      <td>O</td>\n      <td>WESTVILLE FLATS</td>\n      <td>10</td>\n    </tr>\n    <tr>\n      <th>2</th>\n      <td>O</td>\n      <td>FLAT 3 DOLPHIN COURT</td>\n      <td>GARAGE ASSOCIATED WITH</td>\n    </tr>\n    <tr>\n      <th>3</th>\n      <td>O</td>\n      <td>MEMORIAL BUILDING FLATS</td>\n      <td>11</td>\n    </tr>\n    <tr>\n      <th>4</th>\n      <td>O</td>\n      <td>FLAT 2D, 408</td>\n      <td>None</td>\n    </tr>\n    <tr>\n      <th>...</th>\n      <td>...</td>\n      <td>...</td>\n      <td>...</td>\n    </tr>\n    <tr>\n      <th>463</th>\n      <td>O</td>\n      <td>SOUTHLEIGH FLAT</td>\n      <td>None</td>\n    </tr>\n    <tr>\n      <th>464</th>\n      <td>O</td>\n      <td>ABBEY FLATTS</td>\n      <td>None</td>\n    </tr>\n    <tr>\n      <th>465</th>\n      <td>O</td>\n      <td>ST MARGARETS FLATS</td>\n      <td>None</td>\n    </tr>\n    <tr>\n      <th>466</th>\n      <td>O</td>\n      <td>SEMINARY FLATS</td>\n      <td>1</td>\n    </tr>\n    <tr>\n      <th>467</th>\n      <td>O</td>\n      <td>THE TERETS FLAT</td>\n      <td>None</td>\n    </tr>\n  </tbody>\n</table>\n<p>468 rows × 3 columns</p>\n</div>"
     },
     "execution_count": 22,
     "metadata": {},
     "output_type": "execute_result"
    }
   ],
   "source": [
    "tdf = con.execute(\"\"\"\n",
    "    SELECT DISTINCT property_type, paon, saon\n",
    "    FROM ppd_src\n",
    "    WHERE paon IS NOT NULL\n",
    "      AND TRIM(paon) <> ''\n",
    "      AND LOWER(paon) LIKE '%flat%'\n",
    "      AND property_type != 'F'\n",
    "\"\"\").fetchdf()\n",
    "tdf"
   ],
   "metadata": {
    "collapsed": false,
    "ExecuteTime": {
     "end_time": "2025-08-22T11:26:04.679724Z",
     "start_time": "2025-08-22T11:26:04.387866Z"
    }
   }
  },
  {
   "cell_type": "code",
   "execution_count": 6,
   "outputs": [
    {
     "data": {
      "text/plain": "   saon\n0  None",
      "text/html": "<div>\n<style scoped>\n    .dataframe tbody tr th:only-of-type {\n        vertical-align: middle;\n    }\n\n    .dataframe tbody tr th {\n        vertical-align: top;\n    }\n\n    .dataframe thead th {\n        text-align: right;\n    }\n</style>\n<table border=\"1\" class=\"dataframe\">\n  <thead>\n    <tr style=\"text-align: right;\">\n      <th></th>\n      <th>saon</th>\n    </tr>\n  </thead>\n  <tbody>\n    <tr>\n      <th>0</th>\n      <td>None</td>\n    </tr>\n  </tbody>\n</table>\n</div>"
     },
     "execution_count": 6,
     "metadata": {},
     "output_type": "execute_result"
    }
   ],
   "source": [
    "pp"
   ],
   "metadata": {
    "collapsed": false,
    "ExecuteTime": {
     "end_time": "2025-08-22T11:21:52.311051Z",
     "start_time": "2025-08-22T11:21:52.255560Z"
    }
   }
  },
  {
   "cell_type": "markdown",
   "source": [
    "- Review each column to identify patterns and create strategies for tokenization"
   ],
   "metadata": {
    "collapsed": false
   }
  },
  {
   "cell_type": "code",
   "execution_count": 9,
   "outputs": [
    {
     "data": {
      "text/plain": "                   saon\n0                     8\n1                FLAT 4\n2      FIRST FLOOR FLAT\n3                    16\n4               FLAT 25\n...                 ...\n69021   35 EDISON HOUSE\n69022           TY CRUG\n69023         DRYSTONES\n69024         FLAT 1-1A\n69025         BODFASARN\n\n[69026 rows x 1 columns]",
      "text/html": "<div>\n<style scoped>\n    .dataframe tbody tr th:only-of-type {\n        vertical-align: middle;\n    }\n\n    .dataframe tbody tr th {\n        vertical-align: top;\n    }\n\n    .dataframe thead th {\n        text-align: right;\n    }\n</style>\n<table border=\"1\" class=\"dataframe\">\n  <thead>\n    <tr style=\"text-align: right;\">\n      <th></th>\n      <th>saon</th>\n    </tr>\n  </thead>\n  <tbody>\n    <tr>\n      <th>0</th>\n      <td>8</td>\n    </tr>\n    <tr>\n      <th>1</th>\n      <td>FLAT 4</td>\n    </tr>\n    <tr>\n      <th>2</th>\n      <td>FIRST FLOOR FLAT</td>\n    </tr>\n    <tr>\n      <th>3</th>\n      <td>16</td>\n    </tr>\n    <tr>\n      <th>4</th>\n      <td>FLAT 25</td>\n    </tr>\n    <tr>\n      <th>...</th>\n      <td>...</td>\n    </tr>\n    <tr>\n      <th>69021</th>\n      <td>35 EDISON HOUSE</td>\n    </tr>\n    <tr>\n      <th>69022</th>\n      <td>TY CRUG</td>\n    </tr>\n    <tr>\n      <th>69023</th>\n      <td>DRYSTONES</td>\n    </tr>\n    <tr>\n      <th>69024</th>\n      <td>FLAT 1-1A</td>\n    </tr>\n    <tr>\n      <th>69025</th>\n      <td>BODFASARN</td>\n    </tr>\n  </tbody>\n</table>\n<p>69026 rows × 1 columns</p>\n</div>"
     },
     "execution_count": 9,
     "metadata": {},
     "output_type": "execute_result"
    }
   ],
   "source": [
    "pp"
   ],
   "metadata": {
    "collapsed": false,
    "ExecuteTime": {
     "end_time": "2025-08-20T07:34:18.342117Z",
     "start_time": "2025-08-20T07:34:18.336066Z"
    }
   }
  },
  {
   "cell_type": "code",
   "execution_count": 12,
   "outputs": [],
   "source": [
    "from addr_utils.tokens import tokenize, tokens2features"
   ],
   "metadata": {
    "collapsed": false,
    "ExecuteTime": {
     "end_time": "2025-08-22T10:51:02.156989Z",
     "start_time": "2025-08-22T10:51:02.085988Z"
    }
   }
  },
  {
   "cell_type": "code",
   "execution_count": 13,
   "outputs": [
    {
     "data": {
      "text/plain": "['FLAT', '25', 'WILLOWBROOK', 'DRIVE', 'GL510PU', 'CHELTENHAM']"
     },
     "execution_count": 13,
     "metadata": {},
     "output_type": "execute_result"
    }
   ],
   "source": [
    "tokenize(\"flat 25 willowbrook drive GL510pu cheltenham gloucestershire\")"
   ],
   "metadata": {
    "collapsed": false,
    "ExecuteTime": {
     "end_time": "2025-08-22T10:51:04.398801Z",
     "start_time": "2025-08-22T10:51:04.258569Z"
    }
   }
  },
  {
   "cell_type": "code",
   "execution_count": 14,
   "outputs": [
    {
     "data": {
      "text/plain": "[{'digits': 'no_digits',\n  'word': 'FLAT',\n  'length': 'w:4',\n  'endsinpunc': False,\n  'directional': False,\n  'outcode': False,\n  'posttown': False,\n  'has.vowels': True,\n  'flat': True,\n  'company': False,\n  'road': False,\n  'residential': False,\n  'business': False,\n  'locational': False,\n  'ordinal': False,\n  'hyphenations': 0,\n  'next': {'digits': 'all_digits',\n   'word': False,\n   'length': 'd:2',\n   'endsinpunc': False,\n   'directional': False,\n   'outcode': False,\n   'posttown': False,\n   'has.vowels': False,\n   'flat': False,\n   'company': False,\n   'road': False,\n   'residential': False,\n   'business': False,\n   'locational': False,\n   'ordinal': False,\n   'hyphenations': 0},\n  'rawstring.start': True},\n {'digits': 'all_digits',\n  'word': False,\n  'length': 'd:2',\n  'endsinpunc': False,\n  'directional': False,\n  'outcode': False,\n  'posttown': False,\n  'has.vowels': False,\n  'flat': False,\n  'company': False,\n  'road': False,\n  'residential': False,\n  'business': False,\n  'locational': False,\n  'ordinal': False,\n  'hyphenations': 0,\n  'previous': {'digits': 'no_digits',\n   'word': 'FLAT',\n   'length': 'w:4',\n   'endsinpunc': False,\n   'directional': False,\n   'outcode': False,\n   'posttown': False,\n   'has.vowels': True,\n   'flat': True,\n   'company': False,\n   'road': False,\n   'residential': False,\n   'business': False,\n   'locational': False,\n   'ordinal': False,\n   'hyphenations': 0,\n   'rawstring.start': True},\n  'next': {'digits': 'no_digits',\n   'word': 'WILLOWBROOK',\n   'length': 'w:11',\n   'endsinpunc': False,\n   'directional': False,\n   'outcode': False,\n   'posttown': False,\n   'has.vowels': True,\n   'flat': False,\n   'company': False,\n   'road': False,\n   'residential': False,\n   'business': False,\n   'locational': False,\n   'ordinal': False,\n   'hyphenations': 0}},\n {'digits': 'no_digits',\n  'word': 'WILLOWBROOK',\n  'length': 'w:11',\n  'endsinpunc': False,\n  'directional': False,\n  'outcode': False,\n  'posttown': False,\n  'has.vowels': True,\n  'flat': False,\n  'company': False,\n  'road': False,\n  'residential': False,\n  'business': False,\n  'locational': False,\n  'ordinal': False,\n  'hyphenations': 0,\n  'previous': {'digits': 'all_digits',\n   'word': False,\n   'length': 'd:2',\n   'endsinpunc': False,\n   'directional': False,\n   'outcode': False,\n   'posttown': False,\n   'has.vowels': False,\n   'flat': False,\n   'company': False,\n   'road': False,\n   'residential': False,\n   'business': False,\n   'locational': False,\n   'ordinal': False,\n   'hyphenations': 0},\n  'next': {'digits': 'no_digits',\n   'word': 'DRIVE',\n   'length': 'w:5',\n   'endsinpunc': False,\n   'directional': False,\n   'outcode': False,\n   'posttown': False,\n   'has.vowels': True,\n   'flat': False,\n   'company': False,\n   'road': True,\n   'residential': False,\n   'business': False,\n   'locational': False,\n   'ordinal': False,\n   'hyphenations': 0}},\n {'digits': 'no_digits',\n  'word': 'DRIVE',\n  'length': 'w:5',\n  'endsinpunc': False,\n  'directional': False,\n  'outcode': False,\n  'posttown': False,\n  'has.vowels': True,\n  'flat': False,\n  'company': False,\n  'road': True,\n  'residential': False,\n  'business': False,\n  'locational': False,\n  'ordinal': False,\n  'hyphenations': 0,\n  'previous': {'digits': 'no_digits',\n   'word': 'WILLOWBROOK',\n   'length': 'w:11',\n   'endsinpunc': False,\n   'directional': False,\n   'outcode': False,\n   'posttown': False,\n   'has.vowels': True,\n   'flat': False,\n   'company': False,\n   'road': False,\n   'residential': False,\n   'business': False,\n   'locational': False,\n   'ordinal': False,\n   'hyphenations': 0},\n  'next': {'digits': 'some_digits',\n   'word': 'GL510PU',\n   'length': 'w:7',\n   'endsinpunc': False,\n   'directional': False,\n   'outcode': False,\n   'posttown': False,\n   'has.vowels': True,\n   'flat': False,\n   'company': False,\n   'road': False,\n   'residential': False,\n   'business': False,\n   'locational': False,\n   'ordinal': False,\n   'hyphenations': 0}},\n {'digits': 'some_digits',\n  'word': 'GL510PU',\n  'length': 'w:7',\n  'endsinpunc': False,\n  'directional': False,\n  'outcode': False,\n  'posttown': False,\n  'has.vowels': True,\n  'flat': False,\n  'company': False,\n  'road': False,\n  'residential': False,\n  'business': False,\n  'locational': False,\n  'ordinal': False,\n  'hyphenations': 0,\n  'previous': {'digits': 'no_digits',\n   'word': 'DRIVE',\n   'length': 'w:5',\n   'endsinpunc': False,\n   'directional': False,\n   'outcode': False,\n   'posttown': False,\n   'has.vowels': True,\n   'flat': False,\n   'company': False,\n   'road': True,\n   'residential': False,\n   'business': False,\n   'locational': False,\n   'ordinal': False,\n   'hyphenations': 0},\n  'next': {'digits': 'no_digits',\n   'word': 'CHELTENHAM',\n   'length': 'w:10',\n   'endsinpunc': False,\n   'directional': False,\n   'outcode': False,\n   'posttown': True,\n   'has.vowels': True,\n   'flat': False,\n   'company': False,\n   'road': False,\n   'residential': False,\n   'business': False,\n   'locational': False,\n   'ordinal': False,\n   'hyphenations': 0,\n   'rawstring.end': True}},\n {'digits': 'no_digits',\n  'word': 'CHELTENHAM',\n  'length': 'w:10',\n  'endsinpunc': False,\n  'directional': False,\n  'outcode': False,\n  'posttown': True,\n  'has.vowels': True,\n  'flat': False,\n  'company': False,\n  'road': False,\n  'residential': False,\n  'business': False,\n  'locational': False,\n  'ordinal': False,\n  'hyphenations': 0,\n  'previous': {'digits': 'some_digits',\n   'word': 'GL510PU',\n   'length': 'w:7',\n   'endsinpunc': False,\n   'directional': False,\n   'outcode': False,\n   'posttown': False,\n   'has.vowels': True,\n   'flat': False,\n   'company': False,\n   'road': False,\n   'residential': False,\n   'business': False,\n   'locational': False,\n   'ordinal': False,\n   'hyphenations': 0},\n  'rawstring.end': True}]"
     },
     "execution_count": 14,
     "metadata": {},
     "output_type": "execute_result"
    }
   ],
   "source": [
    "tokens2features(['FLAT', '25', 'WILLOWBROOK', 'DRIVE', 'GL510PU', 'CHELTENHAM'])"
   ],
   "metadata": {
    "collapsed": false,
    "ExecuteTime": {
     "end_time": "2025-08-22T10:51:05.347645Z",
     "start_time": "2025-08-22T10:51:05.228006Z"
    }
   }
  },
  {
   "cell_type": "code",
   "execution_count": null,
   "outputs": [],
   "source": [],
   "metadata": {
    "collapsed": false
   }
  }
 ],
 "metadata": {
  "kernelspec": {
   "display_name": "Python 3",
   "language": "python",
   "name": "python3"
  },
  "language_info": {
   "codemirror_mode": {
    "name": "ipython",
    "version": 2
   },
   "file_extension": ".py",
   "mimetype": "text/x-python",
   "name": "python",
   "nbconvert_exporter": "python",
   "pygments_lexer": "ipython2",
   "version": "2.7.6"
  }
 },
 "nbformat": 4,
 "nbformat_minor": 0
}
