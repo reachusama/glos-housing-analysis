{
 "cells": [
  {
   "cell_type": "code",
   "execution_count": 1,
   "metadata": {
    "collapsed": true,
    "ExecuteTime": {
     "end_time": "2025-08-22T11:49:21.467986Z",
     "start_time": "2025-08-22T11:49:21.318487Z"
    }
   },
   "outputs": [],
   "source": [
    "import duckdb\n",
    "con = duckdb.connect(database=':memory:')"
   ]
  },
  {
   "cell_type": "code",
   "execution_count": 2,
   "outputs": [
    {
     "data": {
      "text/plain": "<duckdb.duckdb.DuckDBPyConnection at 0x104003cf0>"
     },
     "execution_count": 2,
     "metadata": {},
     "output_type": "execute_result"
    }
   ],
   "source": [
    "addr_root = \"../data/raw/ppd_addresses\"\n",
    "con.execute(f\"\"\"\n",
    "    CREATE OR REPLACE VIEW ppd_src AS\n",
    "    SELECT *\n",
    "    FROM parquet_scan('{addr_root}/*.parquet', hive_partitioning=1)\n",
    "\"\"\")"
   ],
   "metadata": {
    "collapsed": false,
    "ExecuteTime": {
     "end_time": "2025-08-22T11:49:23.550056Z",
     "start_time": "2025-08-22T11:49:23.480739Z"
    }
   }
  },
  {
   "cell_type": "code",
   "execution_count": 18,
   "outputs": [
    {
     "data": {
      "text/plain": "  property_type postcode paon  saon         street    locality   town_city  \\\n0             S   AL35NA   41  None  GRANGE STREET  ST. ALBANS  ST. ALBANS   \n\n    district         county  \n0  ST ALBANS  HERTFORDSHIRE  ",
      "text/html": "<div>\n<style scoped>\n    .dataframe tbody tr th:only-of-type {\n        vertical-align: middle;\n    }\n\n    .dataframe tbody tr th {\n        vertical-align: top;\n    }\n\n    .dataframe thead th {\n        text-align: right;\n    }\n</style>\n<table border=\"1\" class=\"dataframe\">\n  <thead>\n    <tr style=\"text-align: right;\">\n      <th></th>\n      <th>property_type</th>\n      <th>postcode</th>\n      <th>paon</th>\n      <th>saon</th>\n      <th>street</th>\n      <th>locality</th>\n      <th>town_city</th>\n      <th>district</th>\n      <th>county</th>\n    </tr>\n  </thead>\n  <tbody>\n    <tr>\n      <th>0</th>\n      <td>S</td>\n      <td>AL35NA</td>\n      <td>41</td>\n      <td>None</td>\n      <td>GRANGE STREET</td>\n      <td>ST. ALBANS</td>\n      <td>ST. ALBANS</td>\n      <td>ST ALBANS</td>\n      <td>HERTFORDSHIRE</td>\n    </tr>\n  </tbody>\n</table>\n</div>"
     },
     "execution_count": 18,
     "metadata": {},
     "output_type": "execute_result"
    }
   ],
   "source": [
    "# Quick sanity check: expect only GL / 2025 rows below\n",
    "df = con.execute(\"\"\"\n",
    "    SELECT *\n",
    "    FROM ppd_src\n",
    "    LIMIT 1\n",
    "\"\"\").fetchdf()\n",
    "df"
   ],
   "metadata": {
    "collapsed": false,
    "ExecuteTime": {
     "end_time": "2025-08-22T13:34:05.028945Z",
     "start_time": "2025-08-22T13:34:04.972264Z"
    }
   }
  },
  {
   "cell_type": "code",
   "execution_count": 19,
   "outputs": [
    {
     "data": {
      "text/plain": "Index(['property_type', 'postcode', 'paon', 'saon', 'street', 'locality',\n       'town_city', 'district', 'county'],\n      dtype='object')"
     },
     "execution_count": 19,
     "metadata": {},
     "output_type": "execute_result"
    }
   ],
   "source": [
    "df.columns"
   ],
   "metadata": {
    "collapsed": false,
    "ExecuteTime": {
     "end_time": "2025-08-22T13:34:10.702827Z",
     "start_time": "2025-08-22T13:34:10.606810Z"
    }
   }
  },
  {
   "cell_type": "code",
   "execution_count": null,
   "outputs": [],
   "source": [
    "LABELS = [\n",
    "    'OrganisationName', 'DepartmentName', 'SubBuildingName', 'BuildingName',\n",
    "    'BuildingNumber', 'StreetName', 'Locality', 'TownName', 'Postcode'\n",
    "]\n",
    "\n",
    "\n",
    "{\n",
    "    'BuildingNumber': '', # It comes from paon (it can only be a number, or number + buildingname (seperated by comma), or it has flat number)\n",
    "    'BuildingName': '',\n",
    "    'SubBuildingName': 'saon',\n",
    "    'StreetName': 'street',\n",
    "    'Locality': 'locality',\n",
    "    'TownName': 'town_city',\n",
    "    'Postcode': 'Postcode'\n",
    "}"
   ],
   "metadata": {
    "collapsed": false
   }
  },
  {
   "cell_type": "markdown",
   "source": [
    "Checking patterns of addresses in PAON or SAON"
   ],
   "metadata": {
    "collapsed": false
   }
  },
  {
   "cell_type": "code",
   "execution_count": 20,
   "outputs": [
    {
     "data": {
      "text/plain": "  property_type                                       paon  saon\n0             O                                 FLAT 3, 46  None\n1             O                                 FLAT 2, 30  None\n2             O                      EBENEZER CHURCH FLATS  None\n3             O                             HATCHETT FLATS  None\n4             O                                   FLAT, 43  None\n5             O  ROOF AND AIRSPACE ABOVE FLATS 173 AND 183  None\n6             O                         OSMUND FLATTS FARM  None\n7             O                           FLATS 1-8, 1 - 2  None\n8             S                       GARDEN COTTAGE FLATS     4\n9             O                                 FLAT 1, 12  None",
      "text/html": "<div>\n<style scoped>\n    .dataframe tbody tr th:only-of-type {\n        vertical-align: middle;\n    }\n\n    .dataframe tbody tr th {\n        vertical-align: top;\n    }\n\n    .dataframe thead th {\n        text-align: right;\n    }\n</style>\n<table border=\"1\" class=\"dataframe\">\n  <thead>\n    <tr style=\"text-align: right;\">\n      <th></th>\n      <th>property_type</th>\n      <th>paon</th>\n      <th>saon</th>\n    </tr>\n  </thead>\n  <tbody>\n    <tr>\n      <th>0</th>\n      <td>O</td>\n      <td>FLAT 3, 46</td>\n      <td>None</td>\n    </tr>\n    <tr>\n      <th>1</th>\n      <td>O</td>\n      <td>FLAT 2, 30</td>\n      <td>None</td>\n    </tr>\n    <tr>\n      <th>2</th>\n      <td>O</td>\n      <td>EBENEZER CHURCH FLATS</td>\n      <td>None</td>\n    </tr>\n    <tr>\n      <th>3</th>\n      <td>O</td>\n      <td>HATCHETT FLATS</td>\n      <td>None</td>\n    </tr>\n    <tr>\n      <th>4</th>\n      <td>O</td>\n      <td>FLAT, 43</td>\n      <td>None</td>\n    </tr>\n    <tr>\n      <th>5</th>\n      <td>O</td>\n      <td>ROOF AND AIRSPACE ABOVE FLATS 173 AND 183</td>\n      <td>None</td>\n    </tr>\n    <tr>\n      <th>6</th>\n      <td>O</td>\n      <td>OSMUND FLATTS FARM</td>\n      <td>None</td>\n    </tr>\n    <tr>\n      <th>7</th>\n      <td>O</td>\n      <td>FLATS 1-8, 1 - 2</td>\n      <td>None</td>\n    </tr>\n    <tr>\n      <th>8</th>\n      <td>S</td>\n      <td>GARDEN COTTAGE FLATS</td>\n      <td>4</td>\n    </tr>\n    <tr>\n      <th>9</th>\n      <td>O</td>\n      <td>FLAT 1, 12</td>\n      <td>None</td>\n    </tr>\n  </tbody>\n</table>\n</div>"
     },
     "execution_count": 20,
     "metadata": {},
     "output_type": "execute_result"
    }
   ],
   "source": [
    "tdf = con.execute(\"\"\"\n",
    "    SELECT DISTINCT property_type, paon, saon\n",
    "    FROM ppd_src\n",
    "    WHERE paon IS NOT NULL\n",
    "      AND TRIM(paon) <> ''\n",
    "      AND LOWER(paon) LIKE '%flat%'\n",
    "      AND property_type != 'F'\n",
    "    LIMIT 10\n",
    "\"\"\").fetchdf()\n",
    "tdf"
   ],
   "metadata": {
    "collapsed": false,
    "ExecuteTime": {
     "end_time": "2025-08-22T13:41:16.124114Z",
     "start_time": "2025-08-22T13:41:15.860044Z"
    }
   }
  },
  {
   "cell_type": "markdown",
   "source": [
    "Flat addresses also occur in PAON, but when they do SAON is usually empty but sometime has values. PAON has comma seperated values sometimes."
   ],
   "metadata": {
    "collapsed": false
   }
  },
  {
   "cell_type": "code",
   "execution_count": 23,
   "outputs": [
    {
     "data": {
      "text/plain": "       property_type                        paon  \\\n0                  S       DUNORLAN FARM COTTAGE   \n1                  S                  IVY VILLAS   \n2                  D             LONGSPRING WOOD   \n3                  T                    HILLSIDE   \n4                  D               FARTHINGFIELD   \n...              ...                         ...   \n253713             O  MALTON ENTERPRISE PARK, 13   \n253714             O  MALTON ENTERPRISE PARK, 21   \n253715             O            FRIARS OVEN FARM   \n253716             O       GREATE BENTLEY ESTATE   \n253717             O          SOUTH HEADONS FARM   \n\n                                 saon  \n0                                   2  \n1                                   1  \n2                                  19  \n3                                  12  \n4                                   3  \n...                               ...  \n253713                         UNIT 1  \n253714                        UNIT 1B  \n253715                          LOT 3  \n253716         PLOTS 61 TO 65, 79, 80  \n253717  PLOT 17 LYING TO THE SOUTH OF  \n\n[253718 rows x 3 columns]",
      "text/html": "<div>\n<style scoped>\n    .dataframe tbody tr th:only-of-type {\n        vertical-align: middle;\n    }\n\n    .dataframe tbody tr th {\n        vertical-align: top;\n    }\n\n    .dataframe thead th {\n        text-align: right;\n    }\n</style>\n<table border=\"1\" class=\"dataframe\">\n  <thead>\n    <tr style=\"text-align: right;\">\n      <th></th>\n      <th>property_type</th>\n      <th>paon</th>\n      <th>saon</th>\n    </tr>\n  </thead>\n  <tbody>\n    <tr>\n      <th>0</th>\n      <td>S</td>\n      <td>DUNORLAN FARM COTTAGE</td>\n      <td>2</td>\n    </tr>\n    <tr>\n      <th>1</th>\n      <td>S</td>\n      <td>IVY VILLAS</td>\n      <td>1</td>\n    </tr>\n    <tr>\n      <th>2</th>\n      <td>D</td>\n      <td>LONGSPRING WOOD</td>\n      <td>19</td>\n    </tr>\n    <tr>\n      <th>3</th>\n      <td>T</td>\n      <td>HILLSIDE</td>\n      <td>12</td>\n    </tr>\n    <tr>\n      <th>4</th>\n      <td>D</td>\n      <td>FARTHINGFIELD</td>\n      <td>3</td>\n    </tr>\n    <tr>\n      <th>...</th>\n      <td>...</td>\n      <td>...</td>\n      <td>...</td>\n    </tr>\n    <tr>\n      <th>253713</th>\n      <td>O</td>\n      <td>MALTON ENTERPRISE PARK, 13</td>\n      <td>UNIT 1</td>\n    </tr>\n    <tr>\n      <th>253714</th>\n      <td>O</td>\n      <td>MALTON ENTERPRISE PARK, 21</td>\n      <td>UNIT 1B</td>\n    </tr>\n    <tr>\n      <th>253715</th>\n      <td>O</td>\n      <td>FRIARS OVEN FARM</td>\n      <td>LOT 3</td>\n    </tr>\n    <tr>\n      <th>253716</th>\n      <td>O</td>\n      <td>GREATE BENTLEY ESTATE</td>\n      <td>PLOTS 61 TO 65, 79, 80</td>\n    </tr>\n    <tr>\n      <th>253717</th>\n      <td>O</td>\n      <td>SOUTH HEADONS FARM</td>\n      <td>PLOT 17 LYING TO THE SOUTH OF</td>\n    </tr>\n  </tbody>\n</table>\n<p>253718 rows × 3 columns</p>\n</div>"
     },
     "execution_count": 23,
     "metadata": {},
     "output_type": "execute_result"
    }
   ],
   "source": [
    "tdf = con.execute(\"\"\"\n",
    "    SELECT DISTINCT property_type, paon, saon\n",
    "    FROM ppd_src\n",
    "    WHERE saon IS NOT NULL\n",
    "      AND property_type != 'F'\n",
    "\n",
    "\"\"\").fetchdf()\n",
    "tdf"
   ],
   "metadata": {
    "collapsed": false,
    "ExecuteTime": {
     "end_time": "2025-08-22T13:48:50.259811Z",
     "start_time": "2025-08-22T13:48:49.990625Z"
    }
   }
  },
  {
   "cell_type": "markdown",
   "source": [
    "paon has (building name, building number) or (building number - can be alphanumeric) or (building name)\n",
    "\n",
    "saon has (sub building name - like FLAT 2 or FLAT C) or (building number) or (building name - can be alphanumeric) or (building name)\n",
    "\n",
    "## Filter data on more strict conditions"
   ],
   "metadata": {
    "collapsed": false
   }
  },
  {
   "cell_type": "code",
   "execution_count": 35,
   "outputs": [],
   "source": [
    "sql = \"\"\"\n",
    "WITH cleaned AS (\n",
    "  SELECT\n",
    "    TRIM(property_type)               AS property_type,\n",
    "    UPPER(TRIM(postcode))             AS postcode,\n",
    "    TRIM(paon)                        AS paon_raw,\n",
    "    TRIM(saon)                        AS saon_raw,\n",
    "    TRIM(street)                      AS street,\n",
    "    TRIM(locality)                    AS locality,\n",
    "    TRIM(town_city)                   AS town_city,\n",
    "    TRIM(district)                    AS district,\n",
    "    TRIM(county)                      AS county\n",
    "  FROM ppd_src\n",
    "),\n",
    "patterns AS (\n",
    "  SELECT\n",
    "    *,\n",
    "    -- PAON presence flags\n",
    "    REGEXP_MATCHES(paon_raw, '^\\s*\\d+[A-Za-z]?(?:\\s*-\\s*\\d+[A-Za-z]?)?\\s*$')                                        AS paon_is_num_only,\n",
    "    REGEXP_MATCHES(paon_raw, '^([A-Za-z][A-Za-z\\s''&\\.-]*?)\\s*(?:,?\\s*)(\\d+[A-Za-z]?)\\s*$')                         AS paon_is_name_num,\n",
    "    REGEXP_MATCHES(paon_raw, '^\\s*[A-Za-z][A-Za-z\\s''&\\.-]*\\s*$')                                                   AS paon_is_name_only,\n",
    "\n",
    "    -- PAON extracted parts (explicit capture groups!)\n",
    "    REGEXP_EXTRACT(paon_raw, '^\\s*(\\d+[A-Za-z]?(?:\\s*-\\s*\\d+[A-Za-z]?)?)\\s*$', 1)                                   AS paon_num_only_val,\n",
    "    REGEXP_EXTRACT(paon_raw, '^([A-Za-z][A-Za-z\\s''&\\.-]*?)\\s*(?:,?\\s*)(\\d+[A-Za-z]?)\\s*$', 1)                      AS paon_name_part,\n",
    "    REGEXP_EXTRACT(paon_raw, '^([A-Za-z][A-Za-z\\s''&\\.-]*?)\\s*(?:,?\\s*)(\\d+[A-Za-z]?)\\s*$', 2)                      AS paon_num_from_name,\n",
    "    REGEXP_EXTRACT(paon_raw, '^\\s*([A-Za-z][A-Za-z\\s''&\\.-]*)\\s*$', 1)                                              AS paon_name_only,\n",
    "\n",
    "    -- SAON patterns (we use them only as validity checks)\n",
    "    REGEXP_MATCHES(saon_raw, '(?i)^\\s*(flat|apartment|apt|appts|room|unit|annexe?|block|blk|studio)\\s+[0-9]+[A-Za-z]?\\s*$') AS saon_is_flat_pat,\n",
    "    REGEXP_MATCHES(saon_raw, '^\\s*\\d+[A-Za-z]?\\s*$')                                                                  AS saon_is_num_only,\n",
    "    REGEXP_MATCHES(saon_raw, '^[A-Za-z0-9][A-Za-z0-9\\s''&\\.-]*$')                                                     AS saon_is_name_like,\n",
    "\n",
    "    -- Postcode split (validated)\n",
    "    REGEXP_EXTRACT(\n",
    "      postcode,\n",
    "      '(?i)^\\s*((?:GIR\\s?0AA)|(?:[A-PR-UWYZ][0-9][0-9A-HJKMNPR-Y]?)|(?:[A-PR-UWYZ][A-HK-Y][0-9][0-9A-HJKMNPR-Y]?))\\s*([0-9][ABD-HJLNP-UW-Z]{2})\\s*$',\n",
    "      1\n",
    "    ) AS outcode,\n",
    "    REGEXP_EXTRACT(\n",
    "      postcode,\n",
    "      '(?i)^\\s*((?:GIR\\s?0AA)|(?:[A-PR-UWYZ][0-9][0-9A-HJKMNPR-Y]?)|(?:[A-PR-UWYZ][A-HK-Y][0-9][0-9A-HJKMNPR-Y]?))\\s*([0-9][ABD-HJLNP-UW-Z]{2})\\s*$',\n",
    "      2\n",
    "    ) AS incode\n",
    "  FROM cleaned\n",
    "),\n",
    "cohort AS (\n",
    "  SELECT\n",
    "    property_type,\n",
    "    street, locality, town_city, district, county,\n",
    "\n",
    "    -- Normalised PAON parts\n",
    "    CASE\n",
    "      WHEN paon_is_name_num THEN paon_name_part\n",
    "      WHEN paon_is_name_only THEN paon_name_only\n",
    "      ELSE NULL\n",
    "    END AS paon_building_name,\n",
    "    CASE\n",
    "      WHEN paon_is_name_num THEN paon_num_from_name\n",
    "      WHEN paon_is_num_only THEN paon_num_only_val\n",
    "      ELSE NULL\n",
    "    END AS paon_building_number,\n",
    "\n",
    "    -- SAON accepted shapes (keep original text)\n",
    "    CASE\n",
    "      WHEN saon_is_flat_pat OR saon_is_num_only OR saon_is_name_like THEN saon_raw\n",
    "      ELSE NULL\n",
    "    END AS saon_norm,\n",
    "\n",
    "    outcode, incode\n",
    "  FROM patterns\n",
    "  WHERE\n",
    "    (paon_is_num_only OR paon_is_name_num OR paon_is_name_only)\n",
    "    AND outcode IS NOT NULL AND incode IS NOT NULL\n",
    "    AND (\n",
    "      (property_type = 'F' AND (saon_is_flat_pat OR saon_is_num_only OR saon_is_name_like))\n",
    "      OR\n",
    "      (property_type <> 'F' AND (saon_raw IS NULL OR saon_raw = ''))\n",
    "    )\n",
    ")\n",
    "SELECT\n",
    "  property_type,\n",
    "  paon_building_name                    AS BuildingName,\n",
    "  paon_building_number                  AS BuildingNumber,\n",
    "  saon_norm                             AS SubBuildingName,\n",
    "  street                                AS StreetName,\n",
    "  locality                              AS Locality,\n",
    "  town_city                             AS TownName,\n",
    "  outcode || ' ' || incode              AS postcode,\n",
    "  outcode                               AS Outcode,\n",
    "  incode                                AS Incode\n",
    "FROM cohort;\n",
    "\"\"\""
   ],
   "metadata": {
    "collapsed": false,
    "ExecuteTime": {
     "end_time": "2025-08-22T14:50:37.986325Z",
     "start_time": "2025-08-22T14:50:37.984158Z"
    }
   }
  },
  {
   "cell_type": "code",
   "execution_count": 36,
   "outputs": [
    {
     "data": {
      "text/plain": "{'BuildingNumber': '',\n 'BuildingName': '',\n 'SubBuildingName': 'saon',\n 'StreetName': 'street',\n 'Locality': 'locality',\n 'TownName': 'town_city',\n 'Postcode': 'Postcode'}"
     },
     "execution_count": 36,
     "metadata": {},
     "output_type": "execute_result"
    }
   ],
   "source": [
    "\n",
    "{\n",
    "    'BuildingNumber': '', # It comes from paon (it can only be a number, or number + buildingname (seperated by comma), or it has flat number)\n",
    "    'BuildingName': '',\n",
    "    'SubBuildingName': 'saon',\n",
    "    'StreetName': 'street',\n",
    "    'Locality': 'locality',\n",
    "    'TownName': 'town_city',\n",
    "    'Postcode': 'Postcode'\n",
    "}"
   ],
   "metadata": {
    "collapsed": false,
    "ExecuteTime": {
     "end_time": "2025-08-22T14:50:38.373208Z",
     "start_time": "2025-08-22T14:50:38.366331Z"
    }
   }
  },
  {
   "cell_type": "code",
   "execution_count": null,
   "outputs": [
    {
     "data": {
      "text/plain": "FloatProgress(value=0.0, layout=Layout(width='auto'), style=ProgressStyle(bar_color='black'))",
      "application/vnd.jupyter.widget-view+json": {
       "version_major": 2,
       "version_minor": 0,
       "model_id": "401f5e1cb905423c8104e1372e7e3421"
      }
     },
     "metadata": {},
     "output_type": "display_data"
    }
   ],
   "source": [
    "df = con.execute(sql).fetchdf()\n",
    "df"
   ],
   "metadata": {
    "collapsed": false,
    "is_executing": true,
    "ExecuteTime": {
     "start_time": "2025-08-22T14:50:39.794104Z"
    }
   }
  },
  {
   "cell_type": "code",
   "execution_count": 30,
   "outputs": [
    {
     "data": {
      "text/plain": "   property_type            paon     saon         street            locality  \\\n8              F         JORDANS       14   HILLY FIELDS  WELWYN GARDEN CITY   \n31             F              11   FLAT 6    AVENUE ROAD          ST. ALBANS   \n40             F  ST JOHNS COURT        3  ST JOHNS ROAD           HARPENDEN   \n55             F   HOLWELL COURT  FLAT 11        HOLWELL            ESSENDON   \n75             F              18   FLAT 2  LEMSFORD ROAD          ST. ALBANS   \n\n             town_city postcode  \n8   WELWYN GARDEN CITY  AL7 2HD  \n31          ST. ALBANS  AL1 3QG  \n40           HARPENDEN  AL5 1DL  \n55            HATFIELD  AL9 5RL  \n75          ST. ALBANS  AL1 3PB  ",
      "text/html": "<div>\n<style scoped>\n    .dataframe tbody tr th:only-of-type {\n        vertical-align: middle;\n    }\n\n    .dataframe tbody tr th {\n        vertical-align: top;\n    }\n\n    .dataframe thead th {\n        text-align: right;\n    }\n</style>\n<table border=\"1\" class=\"dataframe\">\n  <thead>\n    <tr style=\"text-align: right;\">\n      <th></th>\n      <th>property_type</th>\n      <th>paon</th>\n      <th>saon</th>\n      <th>street</th>\n      <th>locality</th>\n      <th>town_city</th>\n      <th>postcode</th>\n    </tr>\n  </thead>\n  <tbody>\n    <tr>\n      <th>8</th>\n      <td>F</td>\n      <td>JORDANS</td>\n      <td>14</td>\n      <td>HILLY FIELDS</td>\n      <td>WELWYN GARDEN CITY</td>\n      <td>WELWYN GARDEN CITY</td>\n      <td>AL7 2HD</td>\n    </tr>\n    <tr>\n      <th>31</th>\n      <td>F</td>\n      <td>11</td>\n      <td>FLAT 6</td>\n      <td>AVENUE ROAD</td>\n      <td>ST. ALBANS</td>\n      <td>ST. ALBANS</td>\n      <td>AL1 3QG</td>\n    </tr>\n    <tr>\n      <th>40</th>\n      <td>F</td>\n      <td>ST JOHNS COURT</td>\n      <td>3</td>\n      <td>ST JOHNS ROAD</td>\n      <td>HARPENDEN</td>\n      <td>HARPENDEN</td>\n      <td>AL5 1DL</td>\n    </tr>\n    <tr>\n      <th>55</th>\n      <td>F</td>\n      <td>HOLWELL COURT</td>\n      <td>FLAT 11</td>\n      <td>HOLWELL</td>\n      <td>ESSENDON</td>\n      <td>HATFIELD</td>\n      <td>AL9 5RL</td>\n    </tr>\n    <tr>\n      <th>75</th>\n      <td>F</td>\n      <td>18</td>\n      <td>FLAT 2</td>\n      <td>LEMSFORD ROAD</td>\n      <td>ST. ALBANS</td>\n      <td>ST. ALBANS</td>\n      <td>AL1 3PB</td>\n    </tr>\n  </tbody>\n</table>\n</div>"
     },
     "execution_count": 30,
     "metadata": {},
     "output_type": "execute_result"
    }
   ],
   "source": [
    "df[df['property_type'] == 'F'].head()"
   ],
   "metadata": {
    "collapsed": false,
    "ExecuteTime": {
     "end_time": "2025-08-22T14:46:18.730249Z",
     "start_time": "2025-08-22T14:45:54.642111Z"
    }
   }
  },
  {
   "cell_type": "code",
   "execution_count": null,
   "outputs": [],
   "source": [],
   "metadata": {
    "collapsed": false
   }
  },
  {
   "cell_type": "markdown",
   "source": [
    "## Evaluating/Fixing Existing Code"
   ],
   "metadata": {
    "collapsed": false
   }
  },
  {
   "cell_type": "code",
   "execution_count": 15,
   "outputs": [],
   "source": [
    "from machine_learning.address_parser.src.tokens import tokenize, tokens2features"
   ],
   "metadata": {
    "collapsed": false,
    "ExecuteTime": {
     "end_time": "2025-08-22T13:33:43.016609Z",
     "start_time": "2025-08-22T13:33:43.011850Z"
    }
   }
  },
  {
   "cell_type": "code",
   "execution_count": 16,
   "outputs": [
    {
     "data": {
      "text/plain": "['FLAT', '25', 'WILLOWBROOK', 'DRIVE', 'GL510PU', 'CHELTENHAM']"
     },
     "execution_count": 16,
     "metadata": {},
     "output_type": "execute_result"
    }
   ],
   "source": [
    "tokenize(\"flat 25 willowbrook drive GL510pu cheltenham gloucestershire\")"
   ],
   "metadata": {
    "collapsed": false,
    "ExecuteTime": {
     "end_time": "2025-08-22T13:33:43.814691Z",
     "start_time": "2025-08-22T13:33:43.806110Z"
    }
   }
  },
  {
   "cell_type": "code",
   "execution_count": 17,
   "outputs": [
    {
     "data": {
      "text/plain": "[{'digits': 'no_digits',\n  'word': 'FLAT',\n  'length': 'w:4',\n  'endsinpunc': False,\n  'directional': False,\n  'outcode': False,\n  'posttown': False,\n  'has.vowels': True,\n  'flat': True,\n  'company': False,\n  'road': False,\n  'residential': False,\n  'business': False,\n  'locational': False,\n  'ordinal': False,\n  'hyphenations': 0,\n  'next': {'digits': 'all_digits',\n   'word': False,\n   'length': 'd:2',\n   'endsinpunc': False,\n   'directional': False,\n   'outcode': False,\n   'posttown': False,\n   'has.vowels': False,\n   'flat': False,\n   'company': False,\n   'road': False,\n   'residential': False,\n   'business': False,\n   'locational': False,\n   'ordinal': False,\n   'hyphenations': 0},\n  'rawstring.start': True},\n {'digits': 'all_digits',\n  'word': False,\n  'length': 'd:2',\n  'endsinpunc': False,\n  'directional': False,\n  'outcode': False,\n  'posttown': False,\n  'has.vowels': False,\n  'flat': False,\n  'company': False,\n  'road': False,\n  'residential': False,\n  'business': False,\n  'locational': False,\n  'ordinal': False,\n  'hyphenations': 0,\n  'previous': {'digits': 'no_digits',\n   'word': 'FLAT',\n   'length': 'w:4',\n   'endsinpunc': False,\n   'directional': False,\n   'outcode': False,\n   'posttown': False,\n   'has.vowels': True,\n   'flat': True,\n   'company': False,\n   'road': False,\n   'residential': False,\n   'business': False,\n   'locational': False,\n   'ordinal': False,\n   'hyphenations': 0,\n   'rawstring.start': True},\n  'next': {'digits': 'no_digits',\n   'word': 'WILLOWBROOK',\n   'length': 'w:11',\n   'endsinpunc': False,\n   'directional': False,\n   'outcode': False,\n   'posttown': False,\n   'has.vowels': True,\n   'flat': False,\n   'company': False,\n   'road': False,\n   'residential': False,\n   'business': False,\n   'locational': False,\n   'ordinal': False,\n   'hyphenations': 0}},\n {'digits': 'no_digits',\n  'word': 'WILLOWBROOK',\n  'length': 'w:11',\n  'endsinpunc': False,\n  'directional': False,\n  'outcode': False,\n  'posttown': False,\n  'has.vowels': True,\n  'flat': False,\n  'company': False,\n  'road': False,\n  'residential': False,\n  'business': False,\n  'locational': False,\n  'ordinal': False,\n  'hyphenations': 0,\n  'previous': {'digits': 'all_digits',\n   'word': False,\n   'length': 'd:2',\n   'endsinpunc': False,\n   'directional': False,\n   'outcode': False,\n   'posttown': False,\n   'has.vowels': False,\n   'flat': False,\n   'company': False,\n   'road': False,\n   'residential': False,\n   'business': False,\n   'locational': False,\n   'ordinal': False,\n   'hyphenations': 0},\n  'next': {'digits': 'no_digits',\n   'word': 'DRIVE',\n   'length': 'w:5',\n   'endsinpunc': False,\n   'directional': False,\n   'outcode': False,\n   'posttown': False,\n   'has.vowels': True,\n   'flat': False,\n   'company': False,\n   'road': True,\n   'residential': False,\n   'business': False,\n   'locational': False,\n   'ordinal': False,\n   'hyphenations': 0}},\n {'digits': 'no_digits',\n  'word': 'DRIVE',\n  'length': 'w:5',\n  'endsinpunc': False,\n  'directional': False,\n  'outcode': False,\n  'posttown': False,\n  'has.vowels': True,\n  'flat': False,\n  'company': False,\n  'road': True,\n  'residential': False,\n  'business': False,\n  'locational': False,\n  'ordinal': False,\n  'hyphenations': 0,\n  'previous': {'digits': 'no_digits',\n   'word': 'WILLOWBROOK',\n   'length': 'w:11',\n   'endsinpunc': False,\n   'directional': False,\n   'outcode': False,\n   'posttown': False,\n   'has.vowels': True,\n   'flat': False,\n   'company': False,\n   'road': False,\n   'residential': False,\n   'business': False,\n   'locational': False,\n   'ordinal': False,\n   'hyphenations': 0},\n  'next': {'digits': 'some_digits',\n   'word': 'GL510PU',\n   'length': 'w:7',\n   'endsinpunc': False,\n   'directional': False,\n   'outcode': False,\n   'posttown': False,\n   'has.vowels': True,\n   'flat': False,\n   'company': False,\n   'road': False,\n   'residential': False,\n   'business': False,\n   'locational': False,\n   'ordinal': False,\n   'hyphenations': 0}},\n {'digits': 'some_digits',\n  'word': 'GL510PU',\n  'length': 'w:7',\n  'endsinpunc': False,\n  'directional': False,\n  'outcode': False,\n  'posttown': False,\n  'has.vowels': True,\n  'flat': False,\n  'company': False,\n  'road': False,\n  'residential': False,\n  'business': False,\n  'locational': False,\n  'ordinal': False,\n  'hyphenations': 0,\n  'previous': {'digits': 'no_digits',\n   'word': 'DRIVE',\n   'length': 'w:5',\n   'endsinpunc': False,\n   'directional': False,\n   'outcode': False,\n   'posttown': False,\n   'has.vowels': True,\n   'flat': False,\n   'company': False,\n   'road': True,\n   'residential': False,\n   'business': False,\n   'locational': False,\n   'ordinal': False,\n   'hyphenations': 0},\n  'next': {'digits': 'no_digits',\n   'word': 'CHELTENHAM',\n   'length': 'w:10',\n   'endsinpunc': False,\n   'directional': False,\n   'outcode': False,\n   'posttown': True,\n   'has.vowels': True,\n   'flat': False,\n   'company': False,\n   'road': False,\n   'residential': False,\n   'business': False,\n   'locational': False,\n   'ordinal': False,\n   'hyphenations': 0,\n   'rawstring.end': True}},\n {'digits': 'no_digits',\n  'word': 'CHELTENHAM',\n  'length': 'w:10',\n  'endsinpunc': False,\n  'directional': False,\n  'outcode': False,\n  'posttown': True,\n  'has.vowels': True,\n  'flat': False,\n  'company': False,\n  'road': False,\n  'residential': False,\n  'business': False,\n  'locational': False,\n  'ordinal': False,\n  'hyphenations': 0,\n  'previous': {'digits': 'some_digits',\n   'word': 'GL510PU',\n   'length': 'w:7',\n   'endsinpunc': False,\n   'directional': False,\n   'outcode': False,\n   'posttown': False,\n   'has.vowels': True,\n   'flat': False,\n   'company': False,\n   'road': False,\n   'residential': False,\n   'business': False,\n   'locational': False,\n   'ordinal': False,\n   'hyphenations': 0},\n  'rawstring.end': True}]"
     },
     "execution_count": 17,
     "metadata": {},
     "output_type": "execute_result"
    }
   ],
   "source": [
    "tokens2features(['FLAT', '25', 'WILLOWBROOK', 'DRIVE', 'GL510PU', 'CHELTENHAM'])"
   ],
   "metadata": {
    "collapsed": false,
    "ExecuteTime": {
     "end_time": "2025-08-22T13:33:44.544369Z",
     "start_time": "2025-08-22T13:33:44.541583Z"
    }
   }
  },
  {
   "cell_type": "code",
   "execution_count": null,
   "outputs": [],
   "source": [],
   "metadata": {
    "collapsed": false
   }
  }
 ],
 "metadata": {
  "kernelspec": {
   "display_name": "Python 3",
   "language": "python",
   "name": "python3"
  },
  "language_info": {
   "codemirror_mode": {
    "name": "ipython",
    "version": 2
   },
   "file_extension": ".py",
   "mimetype": "text/x-python",
   "name": "python",
   "nbconvert_exporter": "python",
   "pygments_lexer": "ipython2",
   "version": "2.7.6"
  }
 },
 "nbformat": 4,
 "nbformat_minor": 0
}
