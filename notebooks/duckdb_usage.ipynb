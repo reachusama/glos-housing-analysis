{
 "cells": [
  {
   "cell_type": "code",
   "execution_count": 3,
   "metadata": {
    "collapsed": true,
    "ExecuteTime": {
     "end_time": "2025-08-19T21:56:47.881642Z",
     "start_time": "2025-08-19T21:56:47.314257Z"
    }
   },
   "outputs": [],
   "source": [
    "from src.v1.db.duckdb_dataset import DuckDBDataset, DuckDBConfig"
   ]
  },
  {
   "cell_type": "code",
   "execution_count": 4,
   "outputs": [],
   "source": [
    "cfg = DuckDBConfig(threads=2, memory_limit=\"4GB\", temp_directory=\"/tmp/duckdb_spill\")"
   ],
   "metadata": {
    "collapsed": false,
    "ExecuteTime": {
     "end_time": "2025-08-19T21:56:47.884631Z",
     "start_time": "2025-08-19T21:56:47.881149Z"
    }
   }
  },
  {
   "cell_type": "code",
   "execution_count": 5,
   "outputs": [],
   "source": [
    "epc_data = DuckDBDataset(\"../data/hf_release/v1/epc\", hive_partitioning=True, config=cfg, dataset_name=\"certs\")"
   ],
   "metadata": {
    "collapsed": false,
    "ExecuteTime": {
     "end_time": "2025-08-19T21:56:48.307225Z",
     "start_time": "2025-08-19T21:56:48.001021Z"
    }
   }
  },
  {
   "cell_type": "code",
   "execution_count": 6,
   "outputs": [],
   "source": [
    "ppd_data = DuckDBDataset(\"../data/hf_release/v1/ppd\", hive_partitioning=True, config=cfg, dataset_name=\"ppd\")"
   ],
   "metadata": {
    "collapsed": false,
    "ExecuteTime": {
     "end_time": "2025-08-19T21:56:52.684368Z",
     "start_time": "2025-08-19T21:56:48.466196Z"
    }
   }
  },
  {
   "cell_type": "code",
   "execution_count": 7,
   "outputs": [
    {
     "data": {
      "text/plain": "[{'name': 'LMK_KEY', 'type': 'VARCHAR'},\n {'name': 'ADDRESS1', 'type': 'VARCHAR'},\n {'name': 'ADDRESS2', 'type': 'VARCHAR'},\n {'name': 'ADDRESS3', 'type': 'VARCHAR'},\n {'name': 'POSTCODE', 'type': 'VARCHAR'},\n {'name': 'BUILDING_REFERENCE_NUMBER', 'type': 'VARCHAR'},\n {'name': 'CURRENT_ENERGY_RATING', 'type': 'VARCHAR'},\n {'name': 'POTENTIAL_ENERGY_RATING', 'type': 'VARCHAR'},\n {'name': 'CURRENT_ENERGY_EFFICIENCY', 'type': 'BIGINT'},\n {'name': 'POTENTIAL_ENERGY_EFFICIENCY', 'type': 'BIGINT'},\n {'name': 'PROPERTY_TYPE', 'type': 'VARCHAR'},\n {'name': 'BUILT_FORM', 'type': 'VARCHAR'},\n {'name': 'INSPECTION_DATE', 'type': 'DATE'},\n {'name': 'LOCAL_AUTHORITY', 'type': 'VARCHAR'},\n {'name': 'CONSTITUENCY', 'type': 'VARCHAR'},\n {'name': 'COUNTY', 'type': 'VARCHAR'},\n {'name': 'LODGEMENT_DATE', 'type': 'DATE'},\n {'name': 'TRANSACTION_TYPE', 'type': 'VARCHAR'},\n {'name': 'ENVIRONMENT_IMPACT_CURRENT', 'type': 'BIGINT'},\n {'name': 'ENVIRONMENT_IMPACT_POTENTIAL', 'type': 'BIGINT'},\n {'name': 'ENERGY_CONSUMPTION_CURRENT', 'type': 'BIGINT'},\n {'name': 'ENERGY_CONSUMPTION_POTENTIAL', 'type': 'BIGINT'},\n {'name': 'CO2_EMISSIONS_CURRENT', 'type': 'DOUBLE'},\n {'name': 'CO2_EMISS_CURR_PER_FLOOR_AREA', 'type': 'BIGINT'},\n {'name': 'CO2_EMISSIONS_POTENTIAL', 'type': 'DOUBLE'},\n {'name': 'LIGHTING_COST_CURRENT', 'type': 'BIGINT'},\n {'name': 'LIGHTING_COST_POTENTIAL', 'type': 'BIGINT'},\n {'name': 'HEATING_COST_CURRENT', 'type': 'BIGINT'},\n {'name': 'HEATING_COST_POTENTIAL', 'type': 'BIGINT'},\n {'name': 'HOT_WATER_COST_CURRENT', 'type': 'BIGINT'},\n {'name': 'HOT_WATER_COST_POTENTIAL', 'type': 'BIGINT'},\n {'name': 'TOTAL_FLOOR_AREA', 'type': 'DOUBLE'},\n {'name': 'ENERGY_TARIFF', 'type': 'VARCHAR'},\n {'name': 'MAINS_GAS_FLAG', 'type': 'VARCHAR'},\n {'name': 'FLOOR_LEVEL', 'type': 'VARCHAR'},\n {'name': 'FLAT_TOP_STOREY', 'type': 'VARCHAR'},\n {'name': 'FLAT_STOREY_COUNT', 'type': 'DOUBLE'},\n {'name': 'MAIN_HEATING_CONTROLS', 'type': 'VARCHAR'},\n {'name': 'MULTI_GLAZE_PROPORTION', 'type': 'BIGINT'},\n {'name': 'GLAZED_TYPE', 'type': 'VARCHAR'},\n {'name': 'GLAZED_AREA', 'type': 'VARCHAR'},\n {'name': 'EXTENSION_COUNT', 'type': 'BIGINT'},\n {'name': 'NUMBER_HABITABLE_ROOMS', 'type': 'BIGINT'},\n {'name': 'NUMBER_HEATED_ROOMS', 'type': 'BIGINT'},\n {'name': 'LOW_ENERGY_LIGHTING', 'type': 'BIGINT'},\n {'name': 'NUMBER_OPEN_FIREPLACES', 'type': 'BIGINT'},\n {'name': 'HOTWATER_DESCRIPTION', 'type': 'VARCHAR'},\n {'name': 'HOT_WATER_ENERGY_EFF', 'type': 'VARCHAR'},\n {'name': 'HOT_WATER_ENV_EFF', 'type': 'VARCHAR'},\n {'name': 'FLOOR_DESCRIPTION', 'type': 'VARCHAR'},\n {'name': 'FLOOR_ENERGY_EFF', 'type': 'VARCHAR'},\n {'name': 'FLOOR_ENV_EFF', 'type': 'VARCHAR'},\n {'name': 'WINDOWS_DESCRIPTION', 'type': 'VARCHAR'},\n {'name': 'WINDOWS_ENERGY_EFF', 'type': 'VARCHAR'},\n {'name': 'WINDOWS_ENV_EFF', 'type': 'VARCHAR'},\n {'name': 'WALLS_DESCRIPTION', 'type': 'VARCHAR'},\n {'name': 'WALLS_ENERGY_EFF', 'type': 'VARCHAR'},\n {'name': 'WALLS_ENV_EFF', 'type': 'VARCHAR'},\n {'name': 'SECONDHEAT_DESCRIPTION', 'type': 'VARCHAR'},\n {'name': 'SHEATING_ENERGY_EFF', 'type': 'VARCHAR'},\n {'name': 'SHEATING_ENV_EFF', 'type': 'VARCHAR'},\n {'name': 'ROOF_DESCRIPTION', 'type': 'VARCHAR'},\n {'name': 'ROOF_ENERGY_EFF', 'type': 'VARCHAR'},\n {'name': 'ROOF_ENV_EFF', 'type': 'VARCHAR'},\n {'name': 'MAINHEAT_DESCRIPTION', 'type': 'VARCHAR'},\n {'name': 'MAINHEAT_ENERGY_EFF', 'type': 'VARCHAR'},\n {'name': 'MAINHEAT_ENV_EFF', 'type': 'VARCHAR'},\n {'name': 'MAINHEATCONT_DESCRIPTION', 'type': 'VARCHAR'},\n {'name': 'MAINHEATC_ENERGY_EFF', 'type': 'VARCHAR'},\n {'name': 'MAINHEATC_ENV_EFF', 'type': 'VARCHAR'},\n {'name': 'LIGHTING_DESCRIPTION', 'type': 'VARCHAR'},\n {'name': 'LIGHTING_ENERGY_EFF', 'type': 'VARCHAR'},\n {'name': 'LIGHTING_ENV_EFF', 'type': 'VARCHAR'},\n {'name': 'MAIN_FUEL', 'type': 'VARCHAR'},\n {'name': 'WIND_TURBINE_COUNT', 'type': 'BIGINT'},\n {'name': 'HEAT_LOSS_CORRIDOR', 'type': 'VARCHAR'},\n {'name': 'UNHEATED_CORRIDOR_LENGTH', 'type': 'DOUBLE'},\n {'name': 'FLOOR_HEIGHT', 'type': 'DOUBLE'},\n {'name': 'PHOTO_SUPPLY', 'type': 'DOUBLE'},\n {'name': 'SOLAR_WATER_HEATING_FLAG', 'type': 'VARCHAR'},\n {'name': 'MECHANICAL_VENTILATION', 'type': 'VARCHAR'},\n {'name': 'ADDRESS', 'type': 'VARCHAR'},\n {'name': 'LOCAL_AUTHORITY_LABEL', 'type': 'VARCHAR'},\n {'name': 'CONSTITUENCY_LABEL', 'type': 'VARCHAR'},\n {'name': 'POSTTOWN', 'type': 'VARCHAR'},\n {'name': 'CONSTRUCTION_AGE_BAND', 'type': 'VARCHAR'},\n {'name': 'LODGEMENT_DATETIME', 'type': 'TIMESTAMP'},\n {'name': 'TENURE', 'type': 'VARCHAR'},\n {'name': 'FIXED_LIGHTING_OUTLETS_COUNT', 'type': 'BIGINT'},\n {'name': 'LOW_ENERGY_FIXED_LIGHT_COUNT', 'type': 'BIGINT'},\n {'name': 'UPRN', 'type': 'BIGINT'},\n {'name': 'UPRN_SOURCE', 'type': 'VARCHAR'},\n {'name': 'REPORT_TYPE', 'type': 'BIGINT'},\n {'name': 'postcode_norm', 'type': 'VARCHAR'},\n {'name': 'lodgement_date_1', 'type': 'DATE'},\n {'name': 'outcode', 'type': 'VARCHAR'},\n {'name': 'addr_key', 'type': 'VARCHAR'},\n {'name': 'lodgement_year', 'type': 'BIGINT'},\n {'name': 'outcode2', 'type': 'VARCHAR'}]"
     },
     "execution_count": 7,
     "metadata": {},
     "output_type": "execute_result"
    }
   ],
   "source": [
    "epc_data.schema()"
   ],
   "metadata": {
    "collapsed": false,
    "ExecuteTime": {
     "end_time": "2025-08-19T21:56:52.839671Z",
     "start_time": "2025-08-19T21:56:52.683760Z"
    }
   }
  },
  {
   "cell_type": "code",
   "execution_count": 12,
   "outputs": [
    {
     "name": "stdout",
     "output_type": "stream",
     "text": [
      "  PROPERTY_TYPE\n",
      "0         House\n",
      "1      Bungalow\n",
      "2    Maisonette\n",
      "3          Flat\n",
      "4     Park home\n"
     ]
    }
   ],
   "source": [
    "print(epc_data.distinct_values([\"PROPERTY_TYPE\"], limit=500))"
   ],
   "metadata": {
    "collapsed": false,
    "ExecuteTime": {
     "end_time": "2025-08-19T21:58:31.764150Z",
     "start_time": "2025-08-19T21:58:31.221758Z"
    }
   }
  },
  {
   "cell_type": "code",
   "execution_count": 10,
   "outputs": [
    {
     "name": "stdout",
     "output_type": "stream",
     "text": [
      "             BUILT_FORM\n",
      "0              Detached\n",
      "1           Mid-Terrace\n",
      "2           End-Terrace\n",
      "3  Enclosed End-Terrace\n",
      "4                  None\n",
      "5          Not Recorded\n",
      "6         Semi-Detached\n",
      "7  Enclosed Mid-Terrace\n",
      "8              NO DATA!\n"
     ]
    }
   ],
   "source": [
    "print(epc_data.distinct_values([\"BUILT_FORM\"], limit=500))"
   ],
   "metadata": {
    "collapsed": false,
    "ExecuteTime": {
     "end_time": "2025-08-19T21:58:03.048407Z",
     "start_time": "2025-08-19T21:58:02.677789Z"
    }
   }
  },
  {
   "cell_type": "code",
   "execution_count": 8,
   "outputs": [
    {
     "data": {
      "text/plain": "                                             LMK_KEY              ADDRESS1  \\\n0  19183c9849256006c1bfb13852490504298759a0755e48...           1 Park Lane   \n1  29369a844cf9e99d8b18b6cfe490643bb9aecb99b6292f...           2 Park Lane   \n2  0750f199a68a1480e06d50011377b25ba833fe9a80c0e5...           3 Park Lane   \n3                   82583199202018121319303745589728              Millbank   \n4                  963923539962018081816074480788788  10, Richmond Terrace   \n\n  ADDRESS2 ADDRESS3  POSTCODE BUILDING_REFERENCE_NUMBER CURRENT_ENERGY_RATING  \\\n0     None     None   SF4 0FY               10002090165                     B   \n1     None     None   SF4 0FY               10002218175                     B   \n2     None     None   SF4 0FY               10002266533                     B   \n3     None     None  SA40 9QD                2234995468                     F   \n4     None     None  SA31 1HE                8804370178                     F   \n\n  POTENTIAL_ENERGY_RATING  CURRENT_ENERGY_EFFICIENCY  \\\n0                       A                         84   \n1                       A                         84   \n2                       A                         83   \n3                       B                         21   \n4                       B                         33   \n\n   POTENTIAL_ENERGY_EFFICIENCY  ... LOW_ENERGY_FIXED_LIGHT_COUNT  \\\n0                           94  ...                         <NA>   \n1                           93  ...                         <NA>   \n2                           94  ...                         <NA>   \n3                           83  ...                         <NA>   \n4                           83  ...                         <NA>   \n\n           UPRN      UPRN_SOURCE REPORT_TYPE postcode_norm lodgement_date_1  \\\n0          <NA>             None         101        SF40FY       2022-02-08   \n1          <NA>             None         101        SF40FY       2022-02-08   \n2          <NA>             None         101        SF40FY       2022-02-08   \n3   10009172035  Address Matched         100       SA409QD       2018-12-13   \n4  100100151071  Address Matched         100       SA311HE       2018-08-18   \n\n  outcode           addr_key  lodgement_year  outcode2  \n0     SF4          1PARKLANE            2022        SF  \n1     SF4          2PARKLANE            2022        SF  \n2     SF4          3PARKLANE            2022        SF  \n3    SA40           MILLBANK            2018        SA  \n4    SA31  10RICHMONDTERRACE            2018        SA  \n\n[5 rows x 99 columns]",
      "text/html": "<div>\n<style scoped>\n    .dataframe tbody tr th:only-of-type {\n        vertical-align: middle;\n    }\n\n    .dataframe tbody tr th {\n        vertical-align: top;\n    }\n\n    .dataframe thead th {\n        text-align: right;\n    }\n</style>\n<table border=\"1\" class=\"dataframe\">\n  <thead>\n    <tr style=\"text-align: right;\">\n      <th></th>\n      <th>LMK_KEY</th>\n      <th>ADDRESS1</th>\n      <th>ADDRESS2</th>\n      <th>ADDRESS3</th>\n      <th>POSTCODE</th>\n      <th>BUILDING_REFERENCE_NUMBER</th>\n      <th>CURRENT_ENERGY_RATING</th>\n      <th>POTENTIAL_ENERGY_RATING</th>\n      <th>CURRENT_ENERGY_EFFICIENCY</th>\n      <th>POTENTIAL_ENERGY_EFFICIENCY</th>\n      <th>...</th>\n      <th>LOW_ENERGY_FIXED_LIGHT_COUNT</th>\n      <th>UPRN</th>\n      <th>UPRN_SOURCE</th>\n      <th>REPORT_TYPE</th>\n      <th>postcode_norm</th>\n      <th>lodgement_date_1</th>\n      <th>outcode</th>\n      <th>addr_key</th>\n      <th>lodgement_year</th>\n      <th>outcode2</th>\n    </tr>\n  </thead>\n  <tbody>\n    <tr>\n      <th>0</th>\n      <td>19183c9849256006c1bfb13852490504298759a0755e48...</td>\n      <td>1 Park Lane</td>\n      <td>None</td>\n      <td>None</td>\n      <td>SF4 0FY</td>\n      <td>10002090165</td>\n      <td>B</td>\n      <td>A</td>\n      <td>84</td>\n      <td>94</td>\n      <td>...</td>\n      <td>&lt;NA&gt;</td>\n      <td>&lt;NA&gt;</td>\n      <td>None</td>\n      <td>101</td>\n      <td>SF40FY</td>\n      <td>2022-02-08</td>\n      <td>SF4</td>\n      <td>1PARKLANE</td>\n      <td>2022</td>\n      <td>SF</td>\n    </tr>\n    <tr>\n      <th>1</th>\n      <td>29369a844cf9e99d8b18b6cfe490643bb9aecb99b6292f...</td>\n      <td>2 Park Lane</td>\n      <td>None</td>\n      <td>None</td>\n      <td>SF4 0FY</td>\n      <td>10002218175</td>\n      <td>B</td>\n      <td>A</td>\n      <td>84</td>\n      <td>93</td>\n      <td>...</td>\n      <td>&lt;NA&gt;</td>\n      <td>&lt;NA&gt;</td>\n      <td>None</td>\n      <td>101</td>\n      <td>SF40FY</td>\n      <td>2022-02-08</td>\n      <td>SF4</td>\n      <td>2PARKLANE</td>\n      <td>2022</td>\n      <td>SF</td>\n    </tr>\n    <tr>\n      <th>2</th>\n      <td>0750f199a68a1480e06d50011377b25ba833fe9a80c0e5...</td>\n      <td>3 Park Lane</td>\n      <td>None</td>\n      <td>None</td>\n      <td>SF4 0FY</td>\n      <td>10002266533</td>\n      <td>B</td>\n      <td>A</td>\n      <td>83</td>\n      <td>94</td>\n      <td>...</td>\n      <td>&lt;NA&gt;</td>\n      <td>&lt;NA&gt;</td>\n      <td>None</td>\n      <td>101</td>\n      <td>SF40FY</td>\n      <td>2022-02-08</td>\n      <td>SF4</td>\n      <td>3PARKLANE</td>\n      <td>2022</td>\n      <td>SF</td>\n    </tr>\n    <tr>\n      <th>3</th>\n      <td>82583199202018121319303745589728</td>\n      <td>Millbank</td>\n      <td>None</td>\n      <td>None</td>\n      <td>SA40 9QD</td>\n      <td>2234995468</td>\n      <td>F</td>\n      <td>B</td>\n      <td>21</td>\n      <td>83</td>\n      <td>...</td>\n      <td>&lt;NA&gt;</td>\n      <td>10009172035</td>\n      <td>Address Matched</td>\n      <td>100</td>\n      <td>SA409QD</td>\n      <td>2018-12-13</td>\n      <td>SA40</td>\n      <td>MILLBANK</td>\n      <td>2018</td>\n      <td>SA</td>\n    </tr>\n    <tr>\n      <th>4</th>\n      <td>963923539962018081816074480788788</td>\n      <td>10, Richmond Terrace</td>\n      <td>None</td>\n      <td>None</td>\n      <td>SA31 1HE</td>\n      <td>8804370178</td>\n      <td>F</td>\n      <td>B</td>\n      <td>33</td>\n      <td>83</td>\n      <td>...</td>\n      <td>&lt;NA&gt;</td>\n      <td>100100151071</td>\n      <td>Address Matched</td>\n      <td>100</td>\n      <td>SA311HE</td>\n      <td>2018-08-18</td>\n      <td>SA31</td>\n      <td>10RICHMONDTERRACE</td>\n      <td>2018</td>\n      <td>SA</td>\n    </tr>\n  </tbody>\n</table>\n<p>5 rows × 99 columns</p>\n</div>"
     },
     "execution_count": 8,
     "metadata": {},
     "output_type": "execute_result"
    }
   ],
   "source": [
    "epc_data.head(5)"
   ],
   "metadata": {
    "collapsed": false,
    "ExecuteTime": {
     "end_time": "2025-08-19T21:56:52.910733Z",
     "start_time": "2025-08-19T21:56:52.842402Z"
    }
   }
  },
  {
   "cell_type": "code",
   "execution_count": 14,
   "outputs": [
    {
     "data": {
      "text/plain": "[{'name': 'Transaction ID', 'type': 'VARCHAR'},\n {'name': 'Price', 'type': 'BIGINT'},\n {'name': 'Date of Transfer', 'type': 'DATE'},\n {'name': 'Postcode', 'type': 'VARCHAR'},\n {'name': 'Property Type', 'type': 'VARCHAR'},\n {'name': 'Old/New', 'type': 'VARCHAR'},\n {'name': 'Duration', 'type': 'VARCHAR'},\n {'name': 'PAON', 'type': 'VARCHAR'},\n {'name': 'SAON', 'type': 'VARCHAR'},\n {'name': 'Street', 'type': 'VARCHAR'},\n {'name': 'Locality', 'type': 'VARCHAR'},\n {'name': 'Town/City', 'type': 'VARCHAR'},\n {'name': 'District', 'type': 'VARCHAR'},\n {'name': 'County', 'type': 'VARCHAR'},\n {'name': 'PPD Category Type', 'type': 'VARCHAR'},\n {'name': 'Record Status', 'type': 'VARCHAR'},\n {'name': 'Outward', 'type': 'VARCHAR'},\n {'name': 'Sector', 'type': 'VARCHAR'},\n {'name': 'Postcode Sector', 'type': 'VARCHAR'},\n {'name': 'outcode2', 'type': 'VARCHAR'},\n {'name': 'sale_month', 'type': 'VARCHAR'},\n {'name': 'sale_year', 'type': 'BIGINT'}]"
     },
     "execution_count": 14,
     "metadata": {},
     "output_type": "execute_result"
    }
   ],
   "source": [
    "ppd_data.schema()"
   ],
   "metadata": {
    "collapsed": false,
    "ExecuteTime": {
     "end_time": "2025-08-19T18:21:56.775338Z",
     "start_time": "2025-08-19T18:21:53.828132Z"
    }
   }
  },
  {
   "cell_type": "code",
   "execution_count": 16,
   "outputs": [
    {
     "data": {
      "text/plain": "                           Transaction ID  Price Date of Transfer Postcode  \\\n0  {F0CBE214-E9DF-4A1B-BAC0-CF160E05D5B3}  43500       1998-11-18  SO302SW   \n1  {AC6AB65D-67AA-4951-8AFB-CBA2225DE9E5}  68000       1998-11-12  SO302AG   \n2  {5B161C76-8798-4C02-8857-F7D85E81018B}  32500       1998-11-27  SO182GA   \n3  {A2A1C20E-66D6-426F-998F-86FBC59D5FFA}  72500       1998-11-27  SO196QR   \n4  {2528FF39-FF3E-4678-8B98-83799B576744}  67000       1998-11-02  SO404AD   \n\n  Property Type Old/New Duration             PAON    SAON           Street  \\\n0             T       N        F                8    None    TICKNER CLOSE   \n1             T       N        F               94    None     BEATTIE RISE   \n2             T       N        F               7A    None   PREMIER PARADE   \n3             D       N        F               29    None     CHAUCER ROAD   \n4             F       N        L  FROBISHER COURT  FLAT 2  MARITIME AVENUE   \n\n   ...     District       County PPD Category Type Record Status Outward  \\\n0  ...    EASTLEIGH    HAMPSHIRE                 A             A    SO30   \n1  ...    EASTLEIGH    HAMPSHIRE                 A             A    SO30   \n2  ...  SOUTHAMPTON  SOUTHAMPTON                 A             A    SO18   \n3  ...  SOUTHAMPTON  SOUTHAMPTON                 A             A    SO19   \n4  ...   NEW FOREST    HAMPSHIRE                 A             A    SO40   \n\n  Sector Postcode Sector outcode2 sale_month sale_year  \n0      0          SO30 0       SO         11      1998  \n1      0          SO30 0       SO         11      1998  \n2      8          SO18 8       SO         11      1998  \n3      9          SO19 9       SO         11      1998  \n4      0          SO40 0       SO         11      1998  \n\n[5 rows x 22 columns]",
      "text/html": "<div>\n<style scoped>\n    .dataframe tbody tr th:only-of-type {\n        vertical-align: middle;\n    }\n\n    .dataframe tbody tr th {\n        vertical-align: top;\n    }\n\n    .dataframe thead th {\n        text-align: right;\n    }\n</style>\n<table border=\"1\" class=\"dataframe\">\n  <thead>\n    <tr style=\"text-align: right;\">\n      <th></th>\n      <th>Transaction ID</th>\n      <th>Price</th>\n      <th>Date of Transfer</th>\n      <th>Postcode</th>\n      <th>Property Type</th>\n      <th>Old/New</th>\n      <th>Duration</th>\n      <th>PAON</th>\n      <th>SAON</th>\n      <th>Street</th>\n      <th>...</th>\n      <th>District</th>\n      <th>County</th>\n      <th>PPD Category Type</th>\n      <th>Record Status</th>\n      <th>Outward</th>\n      <th>Sector</th>\n      <th>Postcode Sector</th>\n      <th>outcode2</th>\n      <th>sale_month</th>\n      <th>sale_year</th>\n    </tr>\n  </thead>\n  <tbody>\n    <tr>\n      <th>0</th>\n      <td>{F0CBE214-E9DF-4A1B-BAC0-CF160E05D5B3}</td>\n      <td>43500</td>\n      <td>1998-11-18</td>\n      <td>SO302SW</td>\n      <td>T</td>\n      <td>N</td>\n      <td>F</td>\n      <td>8</td>\n      <td>None</td>\n      <td>TICKNER CLOSE</td>\n      <td>...</td>\n      <td>EASTLEIGH</td>\n      <td>HAMPSHIRE</td>\n      <td>A</td>\n      <td>A</td>\n      <td>SO30</td>\n      <td>0</td>\n      <td>SO30 0</td>\n      <td>SO</td>\n      <td>11</td>\n      <td>1998</td>\n    </tr>\n    <tr>\n      <th>1</th>\n      <td>{AC6AB65D-67AA-4951-8AFB-CBA2225DE9E5}</td>\n      <td>68000</td>\n      <td>1998-11-12</td>\n      <td>SO302AG</td>\n      <td>T</td>\n      <td>N</td>\n      <td>F</td>\n      <td>94</td>\n      <td>None</td>\n      <td>BEATTIE RISE</td>\n      <td>...</td>\n      <td>EASTLEIGH</td>\n      <td>HAMPSHIRE</td>\n      <td>A</td>\n      <td>A</td>\n      <td>SO30</td>\n      <td>0</td>\n      <td>SO30 0</td>\n      <td>SO</td>\n      <td>11</td>\n      <td>1998</td>\n    </tr>\n    <tr>\n      <th>2</th>\n      <td>{5B161C76-8798-4C02-8857-F7D85E81018B}</td>\n      <td>32500</td>\n      <td>1998-11-27</td>\n      <td>SO182GA</td>\n      <td>T</td>\n      <td>N</td>\n      <td>F</td>\n      <td>7A</td>\n      <td>None</td>\n      <td>PREMIER PARADE</td>\n      <td>...</td>\n      <td>SOUTHAMPTON</td>\n      <td>SOUTHAMPTON</td>\n      <td>A</td>\n      <td>A</td>\n      <td>SO18</td>\n      <td>8</td>\n      <td>SO18 8</td>\n      <td>SO</td>\n      <td>11</td>\n      <td>1998</td>\n    </tr>\n    <tr>\n      <th>3</th>\n      <td>{A2A1C20E-66D6-426F-998F-86FBC59D5FFA}</td>\n      <td>72500</td>\n      <td>1998-11-27</td>\n      <td>SO196QR</td>\n      <td>D</td>\n      <td>N</td>\n      <td>F</td>\n      <td>29</td>\n      <td>None</td>\n      <td>CHAUCER ROAD</td>\n      <td>...</td>\n      <td>SOUTHAMPTON</td>\n      <td>SOUTHAMPTON</td>\n      <td>A</td>\n      <td>A</td>\n      <td>SO19</td>\n      <td>9</td>\n      <td>SO19 9</td>\n      <td>SO</td>\n      <td>11</td>\n      <td>1998</td>\n    </tr>\n    <tr>\n      <th>4</th>\n      <td>{2528FF39-FF3E-4678-8B98-83799B576744}</td>\n      <td>67000</td>\n      <td>1998-11-02</td>\n      <td>SO404AD</td>\n      <td>F</td>\n      <td>N</td>\n      <td>L</td>\n      <td>FROBISHER COURT</td>\n      <td>FLAT 2</td>\n      <td>MARITIME AVENUE</td>\n      <td>...</td>\n      <td>NEW FOREST</td>\n      <td>HAMPSHIRE</td>\n      <td>A</td>\n      <td>A</td>\n      <td>SO40</td>\n      <td>0</td>\n      <td>SO40 0</td>\n      <td>SO</td>\n      <td>11</td>\n      <td>1998</td>\n    </tr>\n  </tbody>\n</table>\n<p>5 rows × 22 columns</p>\n</div>"
     },
     "execution_count": 16,
     "metadata": {},
     "output_type": "execute_result"
    }
   ],
   "source": [
    "ppd_data.head()"
   ],
   "metadata": {
    "collapsed": false,
    "ExecuteTime": {
     "end_time": "2025-08-19T18:22:06.564973Z",
     "start_time": "2025-08-19T18:22:05.297668Z"
    }
   }
  },
  {
   "cell_type": "code",
   "execution_count": 8,
   "outputs": [
    {
     "data": {
      "text/plain": "                                             LMK_KEY postcode_norm outcode2  \\\n0  19183c9849256006c1bfb13852490504298759a0755e48...        SF40FY       SF   \n1  29369a844cf9e99d8b18b6cfe490643bb9aecb99b6292f...        SF40FY       SF   \n2  0750f199a68a1480e06d50011377b25ba833fe9a80c0e5...        SF40FY       SF   \n3                   82583199202018121319303745589728       SA409QD       SA   \n4                  963923539962018081816074480788788       SA311HE       SA   \n5                  748864849142018062117133491582398        SA58DT       SA   \n6                 1644928918832018082221112448278708        SA91BD       SA   \n7                 1490463872832018020110590565078906        SA48TF       SA   \n8                  260726329002018052318401865082128       SA699NL       SA   \n9                 1655288339962018081317145279078108        SA16JE       SA   \n\n   lodgement_year  \n0            2022  \n1            2022  \n2            2022  \n3            2018  \n4            2018  \n5            2018  \n6            2018  \n7            2018  \n8            2018  \n9            2018  ",
      "text/html": "<div>\n<style scoped>\n    .dataframe tbody tr th:only-of-type {\n        vertical-align: middle;\n    }\n\n    .dataframe tbody tr th {\n        vertical-align: top;\n    }\n\n    .dataframe thead th {\n        text-align: right;\n    }\n</style>\n<table border=\"1\" class=\"dataframe\">\n  <thead>\n    <tr style=\"text-align: right;\">\n      <th></th>\n      <th>LMK_KEY</th>\n      <th>postcode_norm</th>\n      <th>outcode2</th>\n      <th>lodgement_year</th>\n    </tr>\n  </thead>\n  <tbody>\n    <tr>\n      <th>0</th>\n      <td>19183c9849256006c1bfb13852490504298759a0755e48...</td>\n      <td>SF40FY</td>\n      <td>SF</td>\n      <td>2022</td>\n    </tr>\n    <tr>\n      <th>1</th>\n      <td>29369a844cf9e99d8b18b6cfe490643bb9aecb99b6292f...</td>\n      <td>SF40FY</td>\n      <td>SF</td>\n      <td>2022</td>\n    </tr>\n    <tr>\n      <th>2</th>\n      <td>0750f199a68a1480e06d50011377b25ba833fe9a80c0e5...</td>\n      <td>SF40FY</td>\n      <td>SF</td>\n      <td>2022</td>\n    </tr>\n    <tr>\n      <th>3</th>\n      <td>82583199202018121319303745589728</td>\n      <td>SA409QD</td>\n      <td>SA</td>\n      <td>2018</td>\n    </tr>\n    <tr>\n      <th>4</th>\n      <td>963923539962018081816074480788788</td>\n      <td>SA311HE</td>\n      <td>SA</td>\n      <td>2018</td>\n    </tr>\n    <tr>\n      <th>5</th>\n      <td>748864849142018062117133491582398</td>\n      <td>SA58DT</td>\n      <td>SA</td>\n      <td>2018</td>\n    </tr>\n    <tr>\n      <th>6</th>\n      <td>1644928918832018082221112448278708</td>\n      <td>SA91BD</td>\n      <td>SA</td>\n      <td>2018</td>\n    </tr>\n    <tr>\n      <th>7</th>\n      <td>1490463872832018020110590565078906</td>\n      <td>SA48TF</td>\n      <td>SA</td>\n      <td>2018</td>\n    </tr>\n    <tr>\n      <th>8</th>\n      <td>260726329002018052318401865082128</td>\n      <td>SA699NL</td>\n      <td>SA</td>\n      <td>2018</td>\n    </tr>\n    <tr>\n      <th>9</th>\n      <td>1655288339962018081317145279078108</td>\n      <td>SA16JE</td>\n      <td>SA</td>\n      <td>2018</td>\n    </tr>\n  </tbody>\n</table>\n</div>"
     },
     "execution_count": 8,
     "metadata": {},
     "output_type": "execute_result"
    }
   ],
   "source": [
    "# 2) Get a small preview\n",
    "df = ds.head(10, columns=[\"LMK_KEY\",\"postcode_norm\",\"outcode2\",\"lodgement_year\"])\n",
    "df"
   ],
   "metadata": {
    "collapsed": false,
    "ExecuteTime": {
     "end_time": "2025-08-19T18:20:53.230074Z",
     "start_time": "2025-08-19T18:20:52.678797Z"
    }
   }
  },
  {
   "cell_type": "code",
   "execution_count": 7,
   "outputs": [
    {
     "data": {
      "text/plain": "                                LMK_KEY PROPERTY_TYPE            BUILT_FORM  \\\n0     286711123712020031218553420900964          Flat           Mid-Terrace   \n1     152823822802020011716253553109638          Flat  Enclosed Mid-Terrace   \n2    1183361022702020072116592623602498         House         Semi-Detached   \n3    1802975742962020061510254280728450         House         Semi-Detached   \n4      62807632242020011623294744409558         House           Mid-Terrace   \n..                                  ...           ...                   ...   \n995  1778507362262020012418225858898600          Flat           End-Terrace   \n996  1795663702222020033112182929238870         House         Semi-Detached   \n997   215078757012020070410372227000859         House         Semi-Detached   \n998   389207646512020081012094022000069         House           Mid-Terrace   \n999  1822262561032020090119331239078404         House           Mid-Terrace   \n\n    LODGEMENT_DATE  \n0       2020-03-12  \n1       2020-01-17  \n2       2020-07-21  \n3       2020-06-15  \n4       2020-01-16  \n..             ...  \n995     2020-01-24  \n996     2020-03-31  \n997     2020-07-04  \n998     2020-08-10  \n999     2020-09-01  \n\n[1000 rows x 4 columns]",
      "text/html": "<div>\n<style scoped>\n    .dataframe tbody tr th:only-of-type {\n        vertical-align: middle;\n    }\n\n    .dataframe tbody tr th {\n        vertical-align: top;\n    }\n\n    .dataframe thead th {\n        text-align: right;\n    }\n</style>\n<table border=\"1\" class=\"dataframe\">\n  <thead>\n    <tr style=\"text-align: right;\">\n      <th></th>\n      <th>LMK_KEY</th>\n      <th>PROPERTY_TYPE</th>\n      <th>BUILT_FORM</th>\n      <th>LODGEMENT_DATE</th>\n    </tr>\n  </thead>\n  <tbody>\n    <tr>\n      <th>0</th>\n      <td>286711123712020031218553420900964</td>\n      <td>Flat</td>\n      <td>Mid-Terrace</td>\n      <td>2020-03-12</td>\n    </tr>\n    <tr>\n      <th>1</th>\n      <td>152823822802020011716253553109638</td>\n      <td>Flat</td>\n      <td>Enclosed Mid-Terrace</td>\n      <td>2020-01-17</td>\n    </tr>\n    <tr>\n      <th>2</th>\n      <td>1183361022702020072116592623602498</td>\n      <td>House</td>\n      <td>Semi-Detached</td>\n      <td>2020-07-21</td>\n    </tr>\n    <tr>\n      <th>3</th>\n      <td>1802975742962020061510254280728450</td>\n      <td>House</td>\n      <td>Semi-Detached</td>\n      <td>2020-06-15</td>\n    </tr>\n    <tr>\n      <th>4</th>\n      <td>62807632242020011623294744409558</td>\n      <td>House</td>\n      <td>Mid-Terrace</td>\n      <td>2020-01-16</td>\n    </tr>\n    <tr>\n      <th>...</th>\n      <td>...</td>\n      <td>...</td>\n      <td>...</td>\n      <td>...</td>\n    </tr>\n    <tr>\n      <th>995</th>\n      <td>1778507362262020012418225858898600</td>\n      <td>Flat</td>\n      <td>End-Terrace</td>\n      <td>2020-01-24</td>\n    </tr>\n    <tr>\n      <th>996</th>\n      <td>1795663702222020033112182929238870</td>\n      <td>House</td>\n      <td>Semi-Detached</td>\n      <td>2020-03-31</td>\n    </tr>\n    <tr>\n      <th>997</th>\n      <td>215078757012020070410372227000859</td>\n      <td>House</td>\n      <td>Semi-Detached</td>\n      <td>2020-07-04</td>\n    </tr>\n    <tr>\n      <th>998</th>\n      <td>389207646512020081012094022000069</td>\n      <td>House</td>\n      <td>Mid-Terrace</td>\n      <td>2020-08-10</td>\n    </tr>\n    <tr>\n      <th>999</th>\n      <td>1822262561032020090119331239078404</td>\n      <td>House</td>\n      <td>Mid-Terrace</td>\n      <td>2020-09-01</td>\n    </tr>\n  </tbody>\n</table>\n<p>1000 rows × 4 columns</p>\n</div>"
     },
     "execution_count": 7,
     "metadata": {},
     "output_type": "execute_result"
    }
   ],
   "source": [
    "# 3) Filter + select (pushdown happens inside DuckDB)\n",
    "df = ds.select(\n",
    "    columns=[\"LMK_KEY\",\"property_type\",\"built_form\",\"lodgement_date\"],\n",
    "    where={\"outcode2\":\"GL\", \"lodgement_year__gte\":\"2019\"},\n",
    "    limit=1000,\n",
    "    to=\"pandas\",   # or \"arrow\"\n",
    ")\n",
    "df"
   ],
   "metadata": {
    "collapsed": false,
    "ExecuteTime": {
     "end_time": "2025-08-11T14:50:50.229636Z",
     "start_time": "2025-08-11T14:50:50.157508Z"
    }
   }
  },
  {
   "cell_type": "code",
   "execution_count": 9,
   "outputs": [
    {
     "data": {
      "text/plain": "    outcode2  lodgement_year\n0         TM            2022\n1         TD            2025\n2         TD            2015\n3         TD            2012\n4         TD            2019\n..       ...             ...\n495       DN            2009\n496       FY            2010\n497       DN            2022\n498       DN            2013\n499       DN            2014\n\n[500 rows x 2 columns]",
      "text/html": "<div>\n<style scoped>\n    .dataframe tbody tr th:only-of-type {\n        vertical-align: middle;\n    }\n\n    .dataframe tbody tr th {\n        vertical-align: top;\n    }\n\n    .dataframe thead th {\n        text-align: right;\n    }\n</style>\n<table border=\"1\" class=\"dataframe\">\n  <thead>\n    <tr style=\"text-align: right;\">\n      <th></th>\n      <th>outcode2</th>\n      <th>lodgement_year</th>\n    </tr>\n  </thead>\n  <tbody>\n    <tr>\n      <th>0</th>\n      <td>TM</td>\n      <td>2022</td>\n    </tr>\n    <tr>\n      <th>1</th>\n      <td>TD</td>\n      <td>2025</td>\n    </tr>\n    <tr>\n      <th>2</th>\n      <td>TD</td>\n      <td>2015</td>\n    </tr>\n    <tr>\n      <th>3</th>\n      <td>TD</td>\n      <td>2012</td>\n    </tr>\n    <tr>\n      <th>4</th>\n      <td>TD</td>\n      <td>2019</td>\n    </tr>\n    <tr>\n      <th>...</th>\n      <td>...</td>\n      <td>...</td>\n    </tr>\n    <tr>\n      <th>495</th>\n      <td>DN</td>\n      <td>2009</td>\n    </tr>\n    <tr>\n      <th>496</th>\n      <td>FY</td>\n      <td>2010</td>\n    </tr>\n    <tr>\n      <th>497</th>\n      <td>DN</td>\n      <td>2022</td>\n    </tr>\n    <tr>\n      <th>498</th>\n      <td>DN</td>\n      <td>2013</td>\n    </tr>\n    <tr>\n      <th>499</th>\n      <td>DN</td>\n      <td>2014</td>\n    </tr>\n  </tbody>\n</table>\n<p>500 rows × 2 columns</p>\n</div>"
     },
     "execution_count": 9,
     "metadata": {},
     "output_type": "execute_result"
    }
   ],
   "source": [
    "# 4) Distinct partition values\n",
    "parts = ds.distinct_values([\"outcode2\",\"lodgement_year\"], limit=500)\n",
    "parts"
   ],
   "metadata": {
    "collapsed": false,
    "ExecuteTime": {
     "end_time": "2025-08-11T14:51:33.797185Z",
     "start_time": "2025-08-11T14:51:33.387921Z"
    }
   }
  },
  {
   "cell_type": "code",
   "execution_count": 10,
   "outputs": [
    {
     "data": {
      "text/plain": "        value       n\n0        Flat  391319\n1       House  124299\n2  Maisonette   43429\n3    Bungalow    1573\n4   Park home       1",
      "text/html": "<div>\n<style scoped>\n    .dataframe tbody tr th:only-of-type {\n        vertical-align: middle;\n    }\n\n    .dataframe tbody tr th {\n        vertical-align: top;\n    }\n\n    .dataframe thead th {\n        text-align: right;\n    }\n</style>\n<table border=\"1\" class=\"dataframe\">\n  <thead>\n    <tr style=\"text-align: right;\">\n      <th></th>\n      <th>value</th>\n      <th>n</th>\n    </tr>\n  </thead>\n  <tbody>\n    <tr>\n      <th>0</th>\n      <td>Flat</td>\n      <td>391319</td>\n    </tr>\n    <tr>\n      <th>1</th>\n      <td>House</td>\n      <td>124299</td>\n    </tr>\n    <tr>\n      <th>2</th>\n      <td>Maisonette</td>\n      <td>43429</td>\n    </tr>\n    <tr>\n      <th>3</th>\n      <td>Bungalow</td>\n      <td>1573</td>\n    </tr>\n    <tr>\n      <th>4</th>\n      <td>Park home</td>\n      <td>1</td>\n    </tr>\n  </tbody>\n</table>\n</div>"
     },
     "execution_count": 10,
     "metadata": {},
     "output_type": "execute_result"
    }
   ],
   "source": [
    "# 5) Value counts\n",
    "vc = ds.value_counts(\"property_type\", where={\"outcode2\":\"SW\"}, limit=20)\n",
    "vc"
   ],
   "metadata": {
    "collapsed": false,
    "ExecuteTime": {
     "end_time": "2025-08-11T14:51:42.744276Z",
     "start_time": "2025-08-11T14:51:42.691337Z"
    }
   }
  },
  {
   "cell_type": "code",
   "execution_count": 12,
   "outputs": [
    {
     "data": {
      "text/plain": "   outcode2  lodgement_year      n\n0        GL            2018  15241\n1        GL            2019  18180\n2        GL            2020  17995\n3        GL            2021  18538\n4        GL            2022  19574\n5        GL            2023  17972\n6        GL            2024  18077\n7        GL            2025  10311\n8        SW            2018  26627\n9        SW            2019  34891\n10       SW            2020  33456\n11       SW            2021  32928\n12       SW            2022  33899\n13       SW            2023  41174\n14       SW            2024  31426\n15       SW            2025  15494",
      "text/html": "<div>\n<style scoped>\n    .dataframe tbody tr th:only-of-type {\n        vertical-align: middle;\n    }\n\n    .dataframe tbody tr th {\n        vertical-align: top;\n    }\n\n    .dataframe thead th {\n        text-align: right;\n    }\n</style>\n<table border=\"1\" class=\"dataframe\">\n  <thead>\n    <tr style=\"text-align: right;\">\n      <th></th>\n      <th>outcode2</th>\n      <th>lodgement_year</th>\n      <th>n</th>\n    </tr>\n  </thead>\n  <tbody>\n    <tr>\n      <th>0</th>\n      <td>GL</td>\n      <td>2018</td>\n      <td>15241</td>\n    </tr>\n    <tr>\n      <th>1</th>\n      <td>GL</td>\n      <td>2019</td>\n      <td>18180</td>\n    </tr>\n    <tr>\n      <th>2</th>\n      <td>GL</td>\n      <td>2020</td>\n      <td>17995</td>\n    </tr>\n    <tr>\n      <th>3</th>\n      <td>GL</td>\n      <td>2021</td>\n      <td>18538</td>\n    </tr>\n    <tr>\n      <th>4</th>\n      <td>GL</td>\n      <td>2022</td>\n      <td>19574</td>\n    </tr>\n    <tr>\n      <th>5</th>\n      <td>GL</td>\n      <td>2023</td>\n      <td>17972</td>\n    </tr>\n    <tr>\n      <th>6</th>\n      <td>GL</td>\n      <td>2024</td>\n      <td>18077</td>\n    </tr>\n    <tr>\n      <th>7</th>\n      <td>GL</td>\n      <td>2025</td>\n      <td>10311</td>\n    </tr>\n    <tr>\n      <th>8</th>\n      <td>SW</td>\n      <td>2018</td>\n      <td>26627</td>\n    </tr>\n    <tr>\n      <th>9</th>\n      <td>SW</td>\n      <td>2019</td>\n      <td>34891</td>\n    </tr>\n    <tr>\n      <th>10</th>\n      <td>SW</td>\n      <td>2020</td>\n      <td>33456</td>\n    </tr>\n    <tr>\n      <th>11</th>\n      <td>SW</td>\n      <td>2021</td>\n      <td>32928</td>\n    </tr>\n    <tr>\n      <th>12</th>\n      <td>SW</td>\n      <td>2022</td>\n      <td>33899</td>\n    </tr>\n    <tr>\n      <th>13</th>\n      <td>SW</td>\n      <td>2023</td>\n      <td>41174</td>\n    </tr>\n    <tr>\n      <th>14</th>\n      <td>SW</td>\n      <td>2024</td>\n      <td>31426</td>\n    </tr>\n    <tr>\n      <th>15</th>\n      <td>SW</td>\n      <td>2025</td>\n      <td>15494</td>\n    </tr>\n  </tbody>\n</table>\n</div>"
     },
     "execution_count": 12,
     "metadata": {},
     "output_type": "execute_result"
    }
   ],
   "source": [
    "# 6) Raw SQL against a view (self.view_name)\n",
    "#    You can reference the materialized view directly:\n",
    "view = ds.view_name\n",
    "df_sql = ds.sql(f\"\"\"\n",
    "    SELECT outcode2, lodgement_year, COUNT(*) AS n\n",
    "    FROM {view}\n",
    "    WHERE outcode2 IN ('GL','SW') AND lodgement_year >= '2018'\n",
    "    GROUP BY outcode2, lodgement_year\n",
    "    ORDER BY outcode2, lodgement_year\n",
    "\"\"\")\n",
    "df_sql"
   ],
   "metadata": {
    "collapsed": false,
    "ExecuteTime": {
     "end_time": "2025-08-11T14:52:00.196998Z",
     "start_time": "2025-08-11T14:52:00.133400Z"
    }
   }
  },
  {
   "cell_type": "code",
   "execution_count": null,
   "outputs": [],
   "source": [],
   "metadata": {
    "collapsed": false
   }
  }
 ],
 "metadata": {
  "kernelspec": {
   "display_name": "Python 3",
   "language": "python",
   "name": "python3"
  },
  "language_info": {
   "codemirror_mode": {
    "name": "ipython",
    "version": 2
   },
   "file_extension": ".py",
   "mimetype": "text/x-python",
   "name": "python",
   "nbconvert_exporter": "python",
   "pygments_lexer": "ipython2",
   "version": "2.7.6"
  }
 },
 "nbformat": 4,
 "nbformat_minor": 0
}
