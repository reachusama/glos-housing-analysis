{
 "cells": [
  {
   "cell_type": "code",
   "execution_count": 1,
   "metadata": {
    "collapsed": true,
    "ExecuteTime": {
     "end_time": "2025-08-11T14:49:07.093651Z",
     "start_time": "2025-08-11T14:49:06.723057Z"
    }
   },
   "outputs": [],
   "source": [
    "from src.v1.db.duckdb_dataset import DuckDBDataset, DuckDBConfig"
   ]
  },
  {
   "cell_type": "code",
   "execution_count": 2,
   "outputs": [],
   "source": [
    "cfg = DuckDBConfig(threads=2, memory_limit=\"4GB\", temp_directory=\"/tmp/duckdb_spill\")\n",
    "ds = DuckDBDataset(\"../data/epc_partitions/certificates\", hive_partitioning=True, config=cfg, dataset_name=\"certs\")\n"
   ],
   "metadata": {
    "collapsed": false,
    "ExecuteTime": {
     "end_time": "2025-08-11T14:49:49.524677Z",
     "start_time": "2025-08-11T14:49:49.237267Z"
    }
   }
  },
  {
   "cell_type": "code",
   "execution_count": 3,
   "outputs": [
    {
     "data": {
      "text/plain": "[{'name': 'LMK_KEY', 'type': 'VARCHAR'},\n {'name': 'ADDRESS1', 'type': 'VARCHAR'},\n {'name': 'ADDRESS2', 'type': 'VARCHAR'},\n {'name': 'ADDRESS3', 'type': 'VARCHAR'},\n {'name': 'POSTCODE', 'type': 'VARCHAR'},\n {'name': 'BUILDING_REFERENCE_NUMBER', 'type': 'VARCHAR'},\n {'name': 'CURRENT_ENERGY_RATING', 'type': 'VARCHAR'},\n {'name': 'POTENTIAL_ENERGY_RATING', 'type': 'VARCHAR'},\n {'name': 'CURRENT_ENERGY_EFFICIENCY', 'type': 'BIGINT'},\n {'name': 'POTENTIAL_ENERGY_EFFICIENCY', 'type': 'BIGINT'},\n {'name': 'PROPERTY_TYPE', 'type': 'VARCHAR'},\n {'name': 'BUILT_FORM', 'type': 'VARCHAR'},\n {'name': 'INSPECTION_DATE', 'type': 'DATE'},\n {'name': 'LOCAL_AUTHORITY', 'type': 'VARCHAR'},\n {'name': 'CONSTITUENCY', 'type': 'VARCHAR'},\n {'name': 'COUNTY', 'type': 'VARCHAR'},\n {'name': 'LODGEMENT_DATE', 'type': 'DATE'},\n {'name': 'TRANSACTION_TYPE', 'type': 'VARCHAR'},\n {'name': 'ENVIRONMENT_IMPACT_CURRENT', 'type': 'BIGINT'},\n {'name': 'ENVIRONMENT_IMPACT_POTENTIAL', 'type': 'BIGINT'},\n {'name': 'ENERGY_CONSUMPTION_CURRENT', 'type': 'BIGINT'},\n {'name': 'ENERGY_CONSUMPTION_POTENTIAL', 'type': 'BIGINT'},\n {'name': 'CO2_EMISSIONS_CURRENT', 'type': 'DOUBLE'},\n {'name': 'CO2_EMISS_CURR_PER_FLOOR_AREA', 'type': 'BIGINT'},\n {'name': 'CO2_EMISSIONS_POTENTIAL', 'type': 'DOUBLE'},\n {'name': 'LIGHTING_COST_CURRENT', 'type': 'BIGINT'},\n {'name': 'LIGHTING_COST_POTENTIAL', 'type': 'BIGINT'},\n {'name': 'HEATING_COST_CURRENT', 'type': 'BIGINT'},\n {'name': 'HEATING_COST_POTENTIAL', 'type': 'BIGINT'},\n {'name': 'HOT_WATER_COST_CURRENT', 'type': 'BIGINT'},\n {'name': 'HOT_WATER_COST_POTENTIAL', 'type': 'BIGINT'},\n {'name': 'TOTAL_FLOOR_AREA', 'type': 'DOUBLE'},\n {'name': 'ENERGY_TARIFF', 'type': 'VARCHAR'},\n {'name': 'MAINS_GAS_FLAG', 'type': 'VARCHAR'},\n {'name': 'FLOOR_LEVEL', 'type': 'VARCHAR'},\n {'name': 'FLAT_TOP_STOREY', 'type': 'VARCHAR'},\n {'name': 'FLAT_STOREY_COUNT', 'type': 'DOUBLE'},\n {'name': 'MAIN_HEATING_CONTROLS', 'type': 'VARCHAR'},\n {'name': 'MULTI_GLAZE_PROPORTION', 'type': 'BIGINT'},\n {'name': 'GLAZED_TYPE', 'type': 'VARCHAR'},\n {'name': 'GLAZED_AREA', 'type': 'VARCHAR'},\n {'name': 'EXTENSION_COUNT', 'type': 'BIGINT'},\n {'name': 'NUMBER_HABITABLE_ROOMS', 'type': 'BIGINT'},\n {'name': 'NUMBER_HEATED_ROOMS', 'type': 'BIGINT'},\n {'name': 'LOW_ENERGY_LIGHTING', 'type': 'BIGINT'},\n {'name': 'NUMBER_OPEN_FIREPLACES', 'type': 'BIGINT'},\n {'name': 'HOTWATER_DESCRIPTION', 'type': 'VARCHAR'},\n {'name': 'HOT_WATER_ENERGY_EFF', 'type': 'VARCHAR'},\n {'name': 'HOT_WATER_ENV_EFF', 'type': 'VARCHAR'},\n {'name': 'FLOOR_DESCRIPTION', 'type': 'VARCHAR'},\n {'name': 'FLOOR_ENERGY_EFF', 'type': 'VARCHAR'},\n {'name': 'FLOOR_ENV_EFF', 'type': 'VARCHAR'},\n {'name': 'WINDOWS_DESCRIPTION', 'type': 'VARCHAR'},\n {'name': 'WINDOWS_ENERGY_EFF', 'type': 'VARCHAR'},\n {'name': 'WINDOWS_ENV_EFF', 'type': 'VARCHAR'},\n {'name': 'WALLS_DESCRIPTION', 'type': 'VARCHAR'},\n {'name': 'WALLS_ENERGY_EFF', 'type': 'VARCHAR'},\n {'name': 'WALLS_ENV_EFF', 'type': 'VARCHAR'},\n {'name': 'SECONDHEAT_DESCRIPTION', 'type': 'VARCHAR'},\n {'name': 'SHEATING_ENERGY_EFF', 'type': 'VARCHAR'},\n {'name': 'SHEATING_ENV_EFF', 'type': 'VARCHAR'},\n {'name': 'ROOF_DESCRIPTION', 'type': 'VARCHAR'},\n {'name': 'ROOF_ENERGY_EFF', 'type': 'VARCHAR'},\n {'name': 'ROOF_ENV_EFF', 'type': 'VARCHAR'},\n {'name': 'MAINHEAT_DESCRIPTION', 'type': 'VARCHAR'},\n {'name': 'MAINHEAT_ENERGY_EFF', 'type': 'VARCHAR'},\n {'name': 'MAINHEAT_ENV_EFF', 'type': 'VARCHAR'},\n {'name': 'MAINHEATCONT_DESCRIPTION', 'type': 'VARCHAR'},\n {'name': 'MAINHEATC_ENERGY_EFF', 'type': 'VARCHAR'},\n {'name': 'MAINHEATC_ENV_EFF', 'type': 'VARCHAR'},\n {'name': 'LIGHTING_DESCRIPTION', 'type': 'VARCHAR'},\n {'name': 'LIGHTING_ENERGY_EFF', 'type': 'VARCHAR'},\n {'name': 'LIGHTING_ENV_EFF', 'type': 'VARCHAR'},\n {'name': 'MAIN_FUEL', 'type': 'VARCHAR'},\n {'name': 'WIND_TURBINE_COUNT', 'type': 'BIGINT'},\n {'name': 'HEAT_LOSS_CORRIDOR', 'type': 'VARCHAR'},\n {'name': 'UNHEATED_CORRIDOR_LENGTH', 'type': 'DOUBLE'},\n {'name': 'FLOOR_HEIGHT', 'type': 'DOUBLE'},\n {'name': 'PHOTO_SUPPLY', 'type': 'DOUBLE'},\n {'name': 'SOLAR_WATER_HEATING_FLAG', 'type': 'VARCHAR'},\n {'name': 'MECHANICAL_VENTILATION', 'type': 'VARCHAR'},\n {'name': 'ADDRESS', 'type': 'VARCHAR'},\n {'name': 'LOCAL_AUTHORITY_LABEL', 'type': 'VARCHAR'},\n {'name': 'CONSTITUENCY_LABEL', 'type': 'VARCHAR'},\n {'name': 'POSTTOWN', 'type': 'VARCHAR'},\n {'name': 'CONSTRUCTION_AGE_BAND', 'type': 'VARCHAR'},\n {'name': 'LODGEMENT_DATETIME', 'type': 'TIMESTAMP'},\n {'name': 'TENURE', 'type': 'VARCHAR'},\n {'name': 'FIXED_LIGHTING_OUTLETS_COUNT', 'type': 'BIGINT'},\n {'name': 'LOW_ENERGY_FIXED_LIGHT_COUNT', 'type': 'BIGINT'},\n {'name': 'UPRN', 'type': 'BIGINT'},\n {'name': 'UPRN_SOURCE', 'type': 'VARCHAR'},\n {'name': 'REPORT_TYPE', 'type': 'BIGINT'},\n {'name': 'postcode_norm', 'type': 'VARCHAR'},\n {'name': 'lodgement_date_1', 'type': 'DATE'},\n {'name': 'outcode', 'type': 'VARCHAR'},\n {'name': 'addr_key', 'type': 'VARCHAR'},\n {'name': 'lodgement_year', 'type': 'BIGINT'},\n {'name': 'outcode2', 'type': 'VARCHAR'}]"
     },
     "execution_count": 3,
     "metadata": {},
     "output_type": "execute_result"
    }
   ],
   "source": [
    "ds.schema()"
   ],
   "metadata": {
    "collapsed": false,
    "ExecuteTime": {
     "end_time": "2025-08-11T14:50:00.236250Z",
     "start_time": "2025-08-11T14:50:00.089749Z"
    }
   }
  },
  {
   "cell_type": "code",
   "execution_count": 6,
   "outputs": [
    {
     "data": {
      "text/plain": "                                             LMK_KEY postcode_norm outcode2  \\\n0  19183c9849256006c1bfb13852490504298759a0755e48...        SF40FY       SF   \n1  29369a844cf9e99d8b18b6cfe490643bb9aecb99b6292f...        SF40FY       SF   \n2  0750f199a68a1480e06d50011377b25ba833fe9a80c0e5...        SF40FY       SF   \n3                   82583199202018121319303745589728       SA409QD       SA   \n4                  963923539962018081816074480788788       SA311HE       SA   \n5                  748864849142018062117133491582398        SA58DT       SA   \n6                 1644928918832018082221112448278708        SA91BD       SA   \n7                 1490463872832018020110590565078906        SA48TF       SA   \n8                  260726329002018052318401865082128       SA699NL       SA   \n9                 1655288339962018081317145279078108        SA16JE       SA   \n\n   lodgement_year  \n0            2022  \n1            2022  \n2            2022  \n3            2018  \n4            2018  \n5            2018  \n6            2018  \n7            2018  \n8            2018  \n9            2018  ",
      "text/html": "<div>\n<style scoped>\n    .dataframe tbody tr th:only-of-type {\n        vertical-align: middle;\n    }\n\n    .dataframe tbody tr th {\n        vertical-align: top;\n    }\n\n    .dataframe thead th {\n        text-align: right;\n    }\n</style>\n<table border=\"1\" class=\"dataframe\">\n  <thead>\n    <tr style=\"text-align: right;\">\n      <th></th>\n      <th>LMK_KEY</th>\n      <th>postcode_norm</th>\n      <th>outcode2</th>\n      <th>lodgement_year</th>\n    </tr>\n  </thead>\n  <tbody>\n    <tr>\n      <th>0</th>\n      <td>19183c9849256006c1bfb13852490504298759a0755e48...</td>\n      <td>SF40FY</td>\n      <td>SF</td>\n      <td>2022</td>\n    </tr>\n    <tr>\n      <th>1</th>\n      <td>29369a844cf9e99d8b18b6cfe490643bb9aecb99b6292f...</td>\n      <td>SF40FY</td>\n      <td>SF</td>\n      <td>2022</td>\n    </tr>\n    <tr>\n      <th>2</th>\n      <td>0750f199a68a1480e06d50011377b25ba833fe9a80c0e5...</td>\n      <td>SF40FY</td>\n      <td>SF</td>\n      <td>2022</td>\n    </tr>\n    <tr>\n      <th>3</th>\n      <td>82583199202018121319303745589728</td>\n      <td>SA409QD</td>\n      <td>SA</td>\n      <td>2018</td>\n    </tr>\n    <tr>\n      <th>4</th>\n      <td>963923539962018081816074480788788</td>\n      <td>SA311HE</td>\n      <td>SA</td>\n      <td>2018</td>\n    </tr>\n    <tr>\n      <th>5</th>\n      <td>748864849142018062117133491582398</td>\n      <td>SA58DT</td>\n      <td>SA</td>\n      <td>2018</td>\n    </tr>\n    <tr>\n      <th>6</th>\n      <td>1644928918832018082221112448278708</td>\n      <td>SA91BD</td>\n      <td>SA</td>\n      <td>2018</td>\n    </tr>\n    <tr>\n      <th>7</th>\n      <td>1490463872832018020110590565078906</td>\n      <td>SA48TF</td>\n      <td>SA</td>\n      <td>2018</td>\n    </tr>\n    <tr>\n      <th>8</th>\n      <td>260726329002018052318401865082128</td>\n      <td>SA699NL</td>\n      <td>SA</td>\n      <td>2018</td>\n    </tr>\n    <tr>\n      <th>9</th>\n      <td>1655288339962018081317145279078108</td>\n      <td>SA16JE</td>\n      <td>SA</td>\n      <td>2018</td>\n    </tr>\n  </tbody>\n</table>\n</div>"
     },
     "execution_count": 6,
     "metadata": {},
     "output_type": "execute_result"
    }
   ],
   "source": [
    "# 2) Get a small preview\n",
    "df = ds.head(10, columns=[\"LMK_KEY\",\"postcode_norm\",\"outcode2\",\"lodgement_year\"])\n",
    "df"
   ],
   "metadata": {
    "collapsed": false,
    "ExecuteTime": {
     "end_time": "2025-08-11T14:50:25.863544Z",
     "start_time": "2025-08-11T14:50:25.812903Z"
    }
   }
  },
  {
   "cell_type": "code",
   "execution_count": 7,
   "outputs": [
    {
     "data": {
      "text/plain": "                                LMK_KEY PROPERTY_TYPE            BUILT_FORM  \\\n0     286711123712020031218553420900964          Flat           Mid-Terrace   \n1     152823822802020011716253553109638          Flat  Enclosed Mid-Terrace   \n2    1183361022702020072116592623602498         House         Semi-Detached   \n3    1802975742962020061510254280728450         House         Semi-Detached   \n4      62807632242020011623294744409558         House           Mid-Terrace   \n..                                  ...           ...                   ...   \n995  1778507362262020012418225858898600          Flat           End-Terrace   \n996  1795663702222020033112182929238870         House         Semi-Detached   \n997   215078757012020070410372227000859         House         Semi-Detached   \n998   389207646512020081012094022000069         House           Mid-Terrace   \n999  1822262561032020090119331239078404         House           Mid-Terrace   \n\n    LODGEMENT_DATE  \n0       2020-03-12  \n1       2020-01-17  \n2       2020-07-21  \n3       2020-06-15  \n4       2020-01-16  \n..             ...  \n995     2020-01-24  \n996     2020-03-31  \n997     2020-07-04  \n998     2020-08-10  \n999     2020-09-01  \n\n[1000 rows x 4 columns]",
      "text/html": "<div>\n<style scoped>\n    .dataframe tbody tr th:only-of-type {\n        vertical-align: middle;\n    }\n\n    .dataframe tbody tr th {\n        vertical-align: top;\n    }\n\n    .dataframe thead th {\n        text-align: right;\n    }\n</style>\n<table border=\"1\" class=\"dataframe\">\n  <thead>\n    <tr style=\"text-align: right;\">\n      <th></th>\n      <th>LMK_KEY</th>\n      <th>PROPERTY_TYPE</th>\n      <th>BUILT_FORM</th>\n      <th>LODGEMENT_DATE</th>\n    </tr>\n  </thead>\n  <tbody>\n    <tr>\n      <th>0</th>\n      <td>286711123712020031218553420900964</td>\n      <td>Flat</td>\n      <td>Mid-Terrace</td>\n      <td>2020-03-12</td>\n    </tr>\n    <tr>\n      <th>1</th>\n      <td>152823822802020011716253553109638</td>\n      <td>Flat</td>\n      <td>Enclosed Mid-Terrace</td>\n      <td>2020-01-17</td>\n    </tr>\n    <tr>\n      <th>2</th>\n      <td>1183361022702020072116592623602498</td>\n      <td>House</td>\n      <td>Semi-Detached</td>\n      <td>2020-07-21</td>\n    </tr>\n    <tr>\n      <th>3</th>\n      <td>1802975742962020061510254280728450</td>\n      <td>House</td>\n      <td>Semi-Detached</td>\n      <td>2020-06-15</td>\n    </tr>\n    <tr>\n      <th>4</th>\n      <td>62807632242020011623294744409558</td>\n      <td>House</td>\n      <td>Mid-Terrace</td>\n      <td>2020-01-16</td>\n    </tr>\n    <tr>\n      <th>...</th>\n      <td>...</td>\n      <td>...</td>\n      <td>...</td>\n      <td>...</td>\n    </tr>\n    <tr>\n      <th>995</th>\n      <td>1778507362262020012418225858898600</td>\n      <td>Flat</td>\n      <td>End-Terrace</td>\n      <td>2020-01-24</td>\n    </tr>\n    <tr>\n      <th>996</th>\n      <td>1795663702222020033112182929238870</td>\n      <td>House</td>\n      <td>Semi-Detached</td>\n      <td>2020-03-31</td>\n    </tr>\n    <tr>\n      <th>997</th>\n      <td>215078757012020070410372227000859</td>\n      <td>House</td>\n      <td>Semi-Detached</td>\n      <td>2020-07-04</td>\n    </tr>\n    <tr>\n      <th>998</th>\n      <td>389207646512020081012094022000069</td>\n      <td>House</td>\n      <td>Mid-Terrace</td>\n      <td>2020-08-10</td>\n    </tr>\n    <tr>\n      <th>999</th>\n      <td>1822262561032020090119331239078404</td>\n      <td>House</td>\n      <td>Mid-Terrace</td>\n      <td>2020-09-01</td>\n    </tr>\n  </tbody>\n</table>\n<p>1000 rows × 4 columns</p>\n</div>"
     },
     "execution_count": 7,
     "metadata": {},
     "output_type": "execute_result"
    }
   ],
   "source": [
    "# 3) Filter + select (pushdown happens inside DuckDB)\n",
    "df = ds.select(\n",
    "    columns=[\"LMK_KEY\",\"property_type\",\"built_form\",\"lodgement_date\"],\n",
    "    where={\"outcode2\":\"GL\", \"lodgement_year__gte\":\"2019\"},\n",
    "    limit=1000,\n",
    "    to=\"pandas\",   # or \"arrow\"\n",
    ")\n",
    "df"
   ],
   "metadata": {
    "collapsed": false,
    "ExecuteTime": {
     "end_time": "2025-08-11T14:50:50.229636Z",
     "start_time": "2025-08-11T14:50:50.157508Z"
    }
   }
  },
  {
   "cell_type": "code",
   "execution_count": 9,
   "outputs": [
    {
     "data": {
      "text/plain": "    outcode2  lodgement_year\n0         TM            2022\n1         TD            2025\n2         TD            2015\n3         TD            2012\n4         TD            2019\n..       ...             ...\n495       DN            2009\n496       FY            2010\n497       DN            2022\n498       DN            2013\n499       DN            2014\n\n[500 rows x 2 columns]",
      "text/html": "<div>\n<style scoped>\n    .dataframe tbody tr th:only-of-type {\n        vertical-align: middle;\n    }\n\n    .dataframe tbody tr th {\n        vertical-align: top;\n    }\n\n    .dataframe thead th {\n        text-align: right;\n    }\n</style>\n<table border=\"1\" class=\"dataframe\">\n  <thead>\n    <tr style=\"text-align: right;\">\n      <th></th>\n      <th>outcode2</th>\n      <th>lodgement_year</th>\n    </tr>\n  </thead>\n  <tbody>\n    <tr>\n      <th>0</th>\n      <td>TM</td>\n      <td>2022</td>\n    </tr>\n    <tr>\n      <th>1</th>\n      <td>TD</td>\n      <td>2025</td>\n    </tr>\n    <tr>\n      <th>2</th>\n      <td>TD</td>\n      <td>2015</td>\n    </tr>\n    <tr>\n      <th>3</th>\n      <td>TD</td>\n      <td>2012</td>\n    </tr>\n    <tr>\n      <th>4</th>\n      <td>TD</td>\n      <td>2019</td>\n    </tr>\n    <tr>\n      <th>...</th>\n      <td>...</td>\n      <td>...</td>\n    </tr>\n    <tr>\n      <th>495</th>\n      <td>DN</td>\n      <td>2009</td>\n    </tr>\n    <tr>\n      <th>496</th>\n      <td>FY</td>\n      <td>2010</td>\n    </tr>\n    <tr>\n      <th>497</th>\n      <td>DN</td>\n      <td>2022</td>\n    </tr>\n    <tr>\n      <th>498</th>\n      <td>DN</td>\n      <td>2013</td>\n    </tr>\n    <tr>\n      <th>499</th>\n      <td>DN</td>\n      <td>2014</td>\n    </tr>\n  </tbody>\n</table>\n<p>500 rows × 2 columns</p>\n</div>"
     },
     "execution_count": 9,
     "metadata": {},
     "output_type": "execute_result"
    }
   ],
   "source": [
    "# 4) Distinct partition values\n",
    "parts = ds.distinct_values([\"outcode2\",\"lodgement_year\"], limit=500)\n",
    "parts"
   ],
   "metadata": {
    "collapsed": false,
    "ExecuteTime": {
     "end_time": "2025-08-11T14:51:33.797185Z",
     "start_time": "2025-08-11T14:51:33.387921Z"
    }
   }
  },
  {
   "cell_type": "code",
   "execution_count": 10,
   "outputs": [
    {
     "data": {
      "text/plain": "        value       n\n0        Flat  391319\n1       House  124299\n2  Maisonette   43429\n3    Bungalow    1573\n4   Park home       1",
      "text/html": "<div>\n<style scoped>\n    .dataframe tbody tr th:only-of-type {\n        vertical-align: middle;\n    }\n\n    .dataframe tbody tr th {\n        vertical-align: top;\n    }\n\n    .dataframe thead th {\n        text-align: right;\n    }\n</style>\n<table border=\"1\" class=\"dataframe\">\n  <thead>\n    <tr style=\"text-align: right;\">\n      <th></th>\n      <th>value</th>\n      <th>n</th>\n    </tr>\n  </thead>\n  <tbody>\n    <tr>\n      <th>0</th>\n      <td>Flat</td>\n      <td>391319</td>\n    </tr>\n    <tr>\n      <th>1</th>\n      <td>House</td>\n      <td>124299</td>\n    </tr>\n    <tr>\n      <th>2</th>\n      <td>Maisonette</td>\n      <td>43429</td>\n    </tr>\n    <tr>\n      <th>3</th>\n      <td>Bungalow</td>\n      <td>1573</td>\n    </tr>\n    <tr>\n      <th>4</th>\n      <td>Park home</td>\n      <td>1</td>\n    </tr>\n  </tbody>\n</table>\n</div>"
     },
     "execution_count": 10,
     "metadata": {},
     "output_type": "execute_result"
    }
   ],
   "source": [
    "# 5) Value counts\n",
    "vc = ds.value_counts(\"property_type\", where={\"outcode2\":\"SW\"}, limit=20)\n",
    "vc"
   ],
   "metadata": {
    "collapsed": false,
    "ExecuteTime": {
     "end_time": "2025-08-11T14:51:42.744276Z",
     "start_time": "2025-08-11T14:51:42.691337Z"
    }
   }
  },
  {
   "cell_type": "code",
   "execution_count": 12,
   "outputs": [
    {
     "data": {
      "text/plain": "   outcode2  lodgement_year      n\n0        GL            2018  15241\n1        GL            2019  18180\n2        GL            2020  17995\n3        GL            2021  18538\n4        GL            2022  19574\n5        GL            2023  17972\n6        GL            2024  18077\n7        GL            2025  10311\n8        SW            2018  26627\n9        SW            2019  34891\n10       SW            2020  33456\n11       SW            2021  32928\n12       SW            2022  33899\n13       SW            2023  41174\n14       SW            2024  31426\n15       SW            2025  15494",
      "text/html": "<div>\n<style scoped>\n    .dataframe tbody tr th:only-of-type {\n        vertical-align: middle;\n    }\n\n    .dataframe tbody tr th {\n        vertical-align: top;\n    }\n\n    .dataframe thead th {\n        text-align: right;\n    }\n</style>\n<table border=\"1\" class=\"dataframe\">\n  <thead>\n    <tr style=\"text-align: right;\">\n      <th></th>\n      <th>outcode2</th>\n      <th>lodgement_year</th>\n      <th>n</th>\n    </tr>\n  </thead>\n  <tbody>\n    <tr>\n      <th>0</th>\n      <td>GL</td>\n      <td>2018</td>\n      <td>15241</td>\n    </tr>\n    <tr>\n      <th>1</th>\n      <td>GL</td>\n      <td>2019</td>\n      <td>18180</td>\n    </tr>\n    <tr>\n      <th>2</th>\n      <td>GL</td>\n      <td>2020</td>\n      <td>17995</td>\n    </tr>\n    <tr>\n      <th>3</th>\n      <td>GL</td>\n      <td>2021</td>\n      <td>18538</td>\n    </tr>\n    <tr>\n      <th>4</th>\n      <td>GL</td>\n      <td>2022</td>\n      <td>19574</td>\n    </tr>\n    <tr>\n      <th>5</th>\n      <td>GL</td>\n      <td>2023</td>\n      <td>17972</td>\n    </tr>\n    <tr>\n      <th>6</th>\n      <td>GL</td>\n      <td>2024</td>\n      <td>18077</td>\n    </tr>\n    <tr>\n      <th>7</th>\n      <td>GL</td>\n      <td>2025</td>\n      <td>10311</td>\n    </tr>\n    <tr>\n      <th>8</th>\n      <td>SW</td>\n      <td>2018</td>\n      <td>26627</td>\n    </tr>\n    <tr>\n      <th>9</th>\n      <td>SW</td>\n      <td>2019</td>\n      <td>34891</td>\n    </tr>\n    <tr>\n      <th>10</th>\n      <td>SW</td>\n      <td>2020</td>\n      <td>33456</td>\n    </tr>\n    <tr>\n      <th>11</th>\n      <td>SW</td>\n      <td>2021</td>\n      <td>32928</td>\n    </tr>\n    <tr>\n      <th>12</th>\n      <td>SW</td>\n      <td>2022</td>\n      <td>33899</td>\n    </tr>\n    <tr>\n      <th>13</th>\n      <td>SW</td>\n      <td>2023</td>\n      <td>41174</td>\n    </tr>\n    <tr>\n      <th>14</th>\n      <td>SW</td>\n      <td>2024</td>\n      <td>31426</td>\n    </tr>\n    <tr>\n      <th>15</th>\n      <td>SW</td>\n      <td>2025</td>\n      <td>15494</td>\n    </tr>\n  </tbody>\n</table>\n</div>"
     },
     "execution_count": 12,
     "metadata": {},
     "output_type": "execute_result"
    }
   ],
   "source": [
    "# 6) Raw SQL against a view (self.view_name)\n",
    "#    You can reference the materialized view directly:\n",
    "view = ds.view_name\n",
    "df_sql = ds.sql(f\"\"\"\n",
    "    SELECT outcode2, lodgement_year, COUNT(*) AS n\n",
    "    FROM {view}\n",
    "    WHERE outcode2 IN ('GL','SW') AND lodgement_year >= '2018'\n",
    "    GROUP BY outcode2, lodgement_year\n",
    "    ORDER BY outcode2, lodgement_year\n",
    "\"\"\")\n",
    "df_sql"
   ],
   "metadata": {
    "collapsed": false,
    "ExecuteTime": {
     "end_time": "2025-08-11T14:52:00.196998Z",
     "start_time": "2025-08-11T14:52:00.133400Z"
    }
   }
  },
  {
   "cell_type": "code",
   "execution_count": null,
   "outputs": [],
   "source": [],
   "metadata": {
    "collapsed": false
   }
  }
 ],
 "metadata": {
  "kernelspec": {
   "display_name": "Python 3",
   "language": "python",
   "name": "python3"
  },
  "language_info": {
   "codemirror_mode": {
    "name": "ipython",
    "version": 2
   },
   "file_extension": ".py",
   "mimetype": "text/x-python",
   "name": "python",
   "nbconvert_exporter": "python",
   "pygments_lexer": "ipython2",
   "version": "2.7.6"
  }
 },
 "nbformat": 4,
 "nbformat_minor": 0
}
