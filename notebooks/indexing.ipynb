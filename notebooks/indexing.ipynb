{
 "cells": [
  {
   "cell_type": "markdown",
   "source": [
    "Suggestions: \"https://chatgpt.com/share/68a4c44f-6f88-800a-9d34-c77ada7f5edf\"\n",
    "https://github.com/ONSdigital/address-index-data/blob/develop/DataScience/requirements.txt\n",
    "https://github.com/J535D165/recordlinkage"
   ],
   "metadata": {
    "collapsed": false
   }
  },
  {
   "cell_type": "code",
   "execution_count": 1,
   "metadata": {
    "collapsed": true,
    "ExecuteTime": {
     "end_time": "2025-08-19T18:52:11.725241Z",
     "start_time": "2025-08-19T18:52:11.585894Z"
    }
   },
   "outputs": [],
   "source": [
    "import duckdb\n",
    "\n",
    "# start a DuckDB connection\n",
    "con = duckdb.connect(database=':memory:')  # or 'mydb.duckdb' if you want persistence\n"
   ]
  },
  {
   "cell_type": "markdown",
   "source": [
    "## 2. Register your Parquet directories as tables\n",
    "\n",
    "DuckDB can treat directories of partitioned Parquet files as a single table."
   ],
   "metadata": {
    "collapsed": false
   }
  },
  {
   "cell_type": "code",
   "execution_count": 114,
   "outputs": [
    {
     "data": {
      "text/plain": "<duckdb.duckdb.DuckDBPyConnection at 0x1041b8270>"
     },
     "execution_count": 114,
     "metadata": {},
     "output_type": "execute_result"
    }
   ],
   "source": [
    "# Replace with your actual paths\n",
    "\n",
    "ppd_root = \"../data/hf_release/v1/ppd\"\n",
    "epc_root = \"../data/hf_release/v1/epc\"\n",
    "\n",
    "con.execute(f\"\"\"\n",
    "    CREATE OR REPLACE VIEW ppd_src AS\n",
    "    SELECT *\n",
    "    FROM parquet_scan('{ppd_root}/**/*.parquet', hive_partitioning=1)\n",
    "\"\"\")\n",
    "\n",
    "con.execute(f\"\"\"\n",
    "    CREATE OR REPLACE VIEW epc_src AS\n",
    "    SELECT *\n",
    "    FROM parquet_scan('{epc_root}/**/*.parquet', hive_partitioning=1)\n",
    "\"\"\")"
   ],
   "metadata": {
    "collapsed": false,
    "ExecuteTime": {
     "end_time": "2025-08-20T07:09:52.264541Z",
     "start_time": "2025-08-20T07:09:46.213047Z"
    }
   }
  },
  {
   "cell_type": "code",
   "execution_count": null,
   "outputs": [
    {
     "data": {
      "text/plain": "FloatProgress(value=0.0, layout=Layout(width='auto'), style=ProgressStyle(bar_color='black'))",
      "application/vnd.jupyter.widget-view+json": {
       "version_major": 2,
       "version_minor": 0,
       "model_id": "a14cd90427ea4c3dba8061bebb010e1e"
      }
     },
     "metadata": {},
     "output_type": "display_data"
    }
   ],
   "source": [
    "pp_gl_2025 = con.execute(\"\"\"\n",
    "    SELECT\n",
    "        \"Property Type\" AS property_type,\n",
    "        \"Postcode\"      AS postcode,\n",
    "        PAON            AS paon,\n",
    "        SAON            AS saon,\n",
    "        Street          AS street,\n",
    "        Locality        AS locality,\n",
    "        \"Town/City\"     AS town_city,\n",
    "        \"District\"      AS district,\n",
    "        \"County\"        AS county\n",
    "    FROM ppd_src\n",
    "\n",
    "\"\"\").fetchdf()"
   ],
   "metadata": {
    "collapsed": false,
    "is_executing": true,
    "ExecuteTime": {
     "start_time": "2025-08-20T07:14:00.204115Z"
    }
   }
  },
  {
   "cell_type": "code",
   "execution_count": null,
   "outputs": [],
   "source": [],
   "metadata": {
    "collapsed": false
   }
  },
  {
   "cell_type": "code",
   "execution_count": 107,
   "outputs": [
    {
     "data": {
      "text/plain": "  Property Type                   PAON    SAON              Street\n0             F     THE POND HOUSE, 19  FLAT 3  PITTVILLE CRESCENT\n1             F  JOHN FORBES HOUSE, 15  FLAT 8  PITTVILLE CRESCENT",
      "text/html": "<div>\n<style scoped>\n    .dataframe tbody tr th:only-of-type {\n        vertical-align: middle;\n    }\n\n    .dataframe tbody tr th {\n        vertical-align: top;\n    }\n\n    .dataframe thead th {\n        text-align: right;\n    }\n</style>\n<table border=\"1\" class=\"dataframe\">\n  <thead>\n    <tr style=\"text-align: right;\">\n      <th></th>\n      <th>Property Type</th>\n      <th>PAON</th>\n      <th>SAON</th>\n      <th>Street</th>\n    </tr>\n  </thead>\n  <tbody>\n    <tr>\n      <th>0</th>\n      <td>F</td>\n      <td>THE POND HOUSE, 19</td>\n      <td>FLAT 3</td>\n      <td>PITTVILLE CRESCENT</td>\n    </tr>\n    <tr>\n      <th>1</th>\n      <td>F</td>\n      <td>JOHN FORBES HOUSE, 15</td>\n      <td>FLAT 8</td>\n      <td>PITTVILLE CRESCENT</td>\n    </tr>\n  </tbody>\n</table>\n</div>"
     },
     "execution_count": 107,
     "metadata": {},
     "output_type": "execute_result"
    }
   ],
   "source": [
    "# Quick sanity check: expect only GL / 2025 rows below\n",
    "pp = con.execute(\"\"\"\n",
    "    SELECT 'Postcode', 'Property Type', PAON, SAON, Street, Locality, 'Town/City', 'District', 'County'\n",
    "    FROM ppd_src\n",
    "    WHERE sale_year = 2025 AND outcode2 = 'GL' AND Postcode='GL522QZ'\n",
    "\n",
    "\"\"\").fetchdf()\n",
    "pp[['Property Type', 'PAON', 'SAON', 'Street']]"
   ],
   "metadata": {
    "collapsed": false,
    "ExecuteTime": {
     "end_time": "2025-08-19T22:08:21.911818Z",
     "start_time": "2025-08-19T22:08:17.884792Z"
    }
   }
  },
  {
   "cell_type": "code",
   "execution_count": 116,
   "outputs": [
    {
     "data": {
      "text/plain": "Index(['Transaction ID', 'Price', 'Date of Transfer', 'Postcode',\n       'Property Type', 'Old/New', 'Duration', 'PAON', 'SAON', 'Street',\n       'Locality', 'Town/City', 'District', 'County', 'PPD Category Type',\n       'Record Status', 'Outward', 'Sector', 'Postcode Sector', 'outcode2',\n       'sale_month', 'sale_year'],\n      dtype='object')"
     },
     "execution_count": 116,
     "metadata": {},
     "output_type": "execute_result"
    }
   ],
   "source": [
    "pp.columns"
   ],
   "metadata": {
    "collapsed": false,
    "ExecuteTime": {
     "end_time": "2025-08-20T07:10:13.478531Z",
     "start_time": "2025-08-20T07:10:13.435343Z"
    }
   }
  },
  {
   "cell_type": "code",
   "execution_count": 115,
   "outputs": [
    {
     "data": {
      "text/plain": "                           Transaction ID   Price Date of Transfer Postcode  \\\n0  {2F7F2B42-FC1B-E08F-E063-4804A8C05A49}  470000       2025-01-29  GL522QZ   \n1  {34222872-4787-4D2B-E063-4704A8C07853}  240250       2025-04-04  GL522QZ   \n\n  Property Type Old/New Duration                   PAON    SAON  \\\n0             F       N        L     THE POND HOUSE, 19  FLAT 3   \n1             F       N        L  JOHN FORBES HOUSE, 15  FLAT 8   \n\n               Street  ...    District           County PPD Category Type  \\\n0  PITTVILLE CRESCENT  ...  CHELTENHAM  GLOUCESTERSHIRE                 A   \n1  PITTVILLE CRESCENT  ...  CHELTENHAM  GLOUCESTERSHIRE                 A   \n\n  Record Status Outward Sector Postcode Sector outcode2 sale_month sale_year  \n0             A    GL52      2          GL52 2       GL         01      2025  \n1             A    GL52      2          GL52 2       GL         04      2025  \n\n[2 rows x 22 columns]",
      "text/html": "<div>\n<style scoped>\n    .dataframe tbody tr th:only-of-type {\n        vertical-align: middle;\n    }\n\n    .dataframe tbody tr th {\n        vertical-align: top;\n    }\n\n    .dataframe thead th {\n        text-align: right;\n    }\n</style>\n<table border=\"1\" class=\"dataframe\">\n  <thead>\n    <tr style=\"text-align: right;\">\n      <th></th>\n      <th>Transaction ID</th>\n      <th>Price</th>\n      <th>Date of Transfer</th>\n      <th>Postcode</th>\n      <th>Property Type</th>\n      <th>Old/New</th>\n      <th>Duration</th>\n      <th>PAON</th>\n      <th>SAON</th>\n      <th>Street</th>\n      <th>...</th>\n      <th>District</th>\n      <th>County</th>\n      <th>PPD Category Type</th>\n      <th>Record Status</th>\n      <th>Outward</th>\n      <th>Sector</th>\n      <th>Postcode Sector</th>\n      <th>outcode2</th>\n      <th>sale_month</th>\n      <th>sale_year</th>\n    </tr>\n  </thead>\n  <tbody>\n    <tr>\n      <th>0</th>\n      <td>{2F7F2B42-FC1B-E08F-E063-4804A8C05A49}</td>\n      <td>470000</td>\n      <td>2025-01-29</td>\n      <td>GL522QZ</td>\n      <td>F</td>\n      <td>N</td>\n      <td>L</td>\n      <td>THE POND HOUSE, 19</td>\n      <td>FLAT 3</td>\n      <td>PITTVILLE CRESCENT</td>\n      <td>...</td>\n      <td>CHELTENHAM</td>\n      <td>GLOUCESTERSHIRE</td>\n      <td>A</td>\n      <td>A</td>\n      <td>GL52</td>\n      <td>2</td>\n      <td>GL52 2</td>\n      <td>GL</td>\n      <td>01</td>\n      <td>2025</td>\n    </tr>\n    <tr>\n      <th>1</th>\n      <td>{34222872-4787-4D2B-E063-4704A8C07853}</td>\n      <td>240250</td>\n      <td>2025-04-04</td>\n      <td>GL522QZ</td>\n      <td>F</td>\n      <td>N</td>\n      <td>L</td>\n      <td>JOHN FORBES HOUSE, 15</td>\n      <td>FLAT 8</td>\n      <td>PITTVILLE CRESCENT</td>\n      <td>...</td>\n      <td>CHELTENHAM</td>\n      <td>GLOUCESTERSHIRE</td>\n      <td>A</td>\n      <td>A</td>\n      <td>GL52</td>\n      <td>2</td>\n      <td>GL52 2</td>\n      <td>GL</td>\n      <td>04</td>\n      <td>2025</td>\n    </tr>\n  </tbody>\n</table>\n<p>2 rows × 22 columns</p>\n</div>"
     },
     "execution_count": 115,
     "metadata": {},
     "output_type": "execute_result"
    }
   ],
   "source": [
    "pp"
   ],
   "metadata": {
    "collapsed": false,
    "ExecuteTime": {
     "end_time": "2025-08-20T07:09:59.331967Z",
     "start_time": "2025-08-20T07:09:59.308859Z"
    }
   }
  },
  {
   "cell_type": "code",
   "execution_count": 108,
   "outputs": [
    {
     "data": {
      "text/plain": "   PROPERTY_TYPE                  ADDRESS1                ADDRESS2  \\\n0           Flat  Flat 4 John Forbes House   15 Pittville Crescent   \n1          House    19, Pittville Crescent                    None   \n2           Flat                    Flat 2   6, Pittville Crescent   \n3     Maisonette                    Flat 2  10, Pittville Crescent   \n4           Flat                    Flat 5       John Forbes House   \n..           ...                       ...                     ...   \n95          Flat                   Flat 10       John Forbes House   \n96         House      3 Pittville Crescent                    None   \n97          Flat                    Flat 4                Scoriton   \n98          Flat    Flat First Floor Front   11 Pittville Crescent   \n99          Flat                    Flat 4          The Pond House   \n\n                 ADDRESS3  \n0                    None  \n1                    None  \n2                    None  \n3                    None  \n4   15 Pittville Crescent  \n..                    ...  \n95  15 Pittville Crescent  \n96                   None  \n97  16 Pittville Crescent  \n98                   None  \n99  19 Pittville Crescent  \n\n[100 rows x 4 columns]",
      "text/html": "<div>\n<style scoped>\n    .dataframe tbody tr th:only-of-type {\n        vertical-align: middle;\n    }\n\n    .dataframe tbody tr th {\n        vertical-align: top;\n    }\n\n    .dataframe thead th {\n        text-align: right;\n    }\n</style>\n<table border=\"1\" class=\"dataframe\">\n  <thead>\n    <tr style=\"text-align: right;\">\n      <th></th>\n      <th>PROPERTY_TYPE</th>\n      <th>ADDRESS1</th>\n      <th>ADDRESS2</th>\n      <th>ADDRESS3</th>\n    </tr>\n  </thead>\n  <tbody>\n    <tr>\n      <th>0</th>\n      <td>Flat</td>\n      <td>Flat 4 John Forbes House</td>\n      <td>15 Pittville Crescent</td>\n      <td>None</td>\n    </tr>\n    <tr>\n      <th>1</th>\n      <td>House</td>\n      <td>19, Pittville Crescent</td>\n      <td>None</td>\n      <td>None</td>\n    </tr>\n    <tr>\n      <th>2</th>\n      <td>Flat</td>\n      <td>Flat 2</td>\n      <td>6, Pittville Crescent</td>\n      <td>None</td>\n    </tr>\n    <tr>\n      <th>3</th>\n      <td>Maisonette</td>\n      <td>Flat 2</td>\n      <td>10, Pittville Crescent</td>\n      <td>None</td>\n    </tr>\n    <tr>\n      <th>4</th>\n      <td>Flat</td>\n      <td>Flat 5</td>\n      <td>John Forbes House</td>\n      <td>15 Pittville Crescent</td>\n    </tr>\n    <tr>\n      <th>...</th>\n      <td>...</td>\n      <td>...</td>\n      <td>...</td>\n      <td>...</td>\n    </tr>\n    <tr>\n      <th>95</th>\n      <td>Flat</td>\n      <td>Flat 10</td>\n      <td>John Forbes House</td>\n      <td>15 Pittville Crescent</td>\n    </tr>\n    <tr>\n      <th>96</th>\n      <td>House</td>\n      <td>3 Pittville Crescent</td>\n      <td>None</td>\n      <td>None</td>\n    </tr>\n    <tr>\n      <th>97</th>\n      <td>Flat</td>\n      <td>Flat 4</td>\n      <td>Scoriton</td>\n      <td>16 Pittville Crescent</td>\n    </tr>\n    <tr>\n      <th>98</th>\n      <td>Flat</td>\n      <td>Flat First Floor Front</td>\n      <td>11 Pittville Crescent</td>\n      <td>None</td>\n    </tr>\n    <tr>\n      <th>99</th>\n      <td>Flat</td>\n      <td>Flat 4</td>\n      <td>The Pond House</td>\n      <td>19 Pittville Crescent</td>\n    </tr>\n  </tbody>\n</table>\n<p>100 rows × 4 columns</p>\n</div>"
     },
     "execution_count": 108,
     "metadata": {},
     "output_type": "execute_result"
    }
   ],
   "source": [
    "# Quick sanity check: expect only GL / 2025 rows below\n",
    "ep = con.execute(\"\"\"\n",
    "    SELECT *\n",
    "    FROM epc_src\n",
    "    WHERE outcode2 = 'GL' AND POSTCODE='GL52 2QZ'\n",
    "\n",
    "\"\"\").fetchdf()\n",
    "ep[[ 'PROPERTY_TYPE', 'ADDRESS1', 'ADDRESS2', 'ADDRESS3']]"
   ],
   "metadata": {
    "collapsed": false,
    "ExecuteTime": {
     "end_time": "2025-08-19T22:09:26.253093Z",
     "start_time": "2025-08-19T22:09:25.847477Z"
    }
   }
  },
  {
   "cell_type": "code",
   "execution_count": 109,
   "outputs": [],
   "source": [
    "ep['col'] = ep['ADDRESS1'] + ' ' + ep['ADDRESS2'] + ' ' + ep['ADDRESS3']"
   ],
   "metadata": {
    "collapsed": false,
    "ExecuteTime": {
     "end_time": "2025-08-19T22:53:27.900404Z",
     "start_time": "2025-08-19T22:53:27.849162Z"
    }
   }
  },
  {
   "cell_type": "code",
   "execution_count": 113,
   "outputs": [
    {
     "data": {
      "text/plain": "4      Flat 5 John Forbes House 15 Pittville Crescent\n5      Flat 7 John Forbes House 15 Pittville Crescent\n7      Flat 7 John Forbes House 15 Pittville Crescent\n14    Flat 10 John Forbes House 15 Pittville Crescent\n19     Flat 3 John Forbes House 15 Pittville Crescent\n28              Flat 5 Scoriton 16 Pittville Crescent\n29              Flat 1 Scoriton 16 Pittville Crescent\n30              Flat 7 Scoriton 16 Pittville Crescent\n32         Flat 1 The Pond House 19 Pittville Cresent\n35         Flat 2 The Pond House 19 Pittville Cresent\n38        Flat 10 The Pond House 19 Pittville Cresent\n39         Flat 9 The Pond House 19 Pittville Cresent\n40         Flat 6 The Pond House 19 Pittville Cresent\n41              Flat 3 Scoriton 16 Pittville Crescent\n42         Flat 5 The Pond House 19 Pittville Cresent\n43        Flat 4 The Pond House 19  Pittville Cresent\n44         Flat 8 The Pond House 19 Pittville Cresent\n45         Flat 7 The Pond House 19 Pittville Cresent\n46        Flat 11 The Pond House 19 Pittville Cresent\n53              Flat 6 Scoriton 16 Pittville Crescent\n57     Flat 9 John Forbes House 15 Pittville Crescent\n63     Flat 5 John Forbes House 15 Pittville Crescent\n65     Flat 7 John Forbes House 15 Pittville Crescent\n68              Flat 6 Scoriton 16 Pittville Crescent\n71     FLAT 8 JOHN FORBES HOUSE 15 PITTVILLE CRESCENT\n74              FLAT 5 SCORITON 16 PITTVILLE CRESCENT\n75              FLAT 8 SCORITON 16 PITTVILLE CRESCENT\n76            FLAT 6 ELGAR HOUSE 2 PITTVILLE CRESCENT\n83            Flat 4 Elgar House 2 Pittville Crescent\n84     Flat 6 John Forbes House 15 Pittville Crescent\n85            Flat 2 Elgar House 2 Pittville Crescent\n86       Flat 11 The Pond House 19 Pittville Crescent\n87        Flat 3 The Pond House 19 Pittville Crescent\n88              Flat 7 Scoriton 16 Pittville Crescent\n92     Flat 3 John Forbes House 15 Pittville Crescent\n93        Flat 9 The Pond House 19 Pittville Crescent\n94       Flat 10 The Pond House 19 Pittville Crescent\n95    Flat 10 John Forbes House 15 Pittville Crescent\n97              Flat 4 Scoriton 16 Pittville Crescent\n99        Flat 4 The Pond House 19 Pittville Crescent\nName: col, dtype: object"
     },
     "execution_count": 113,
     "metadata": {},
     "output_type": "execute_result"
    }
   ],
   "source": [
    "ep.loc[ep['col'].notna(), 'col']"
   ],
   "metadata": {
    "collapsed": false,
    "ExecuteTime": {
     "end_time": "2025-08-19T22:54:16.151436Z",
     "start_time": "2025-08-19T22:54:16.121526Z"
    }
   }
  },
  {
   "cell_type": "code",
   "execution_count": null,
   "outputs": [],
   "source": [
    "\"\"\"\n",
    "PROPERTY_TYPE=Flat -> \"F\": \"Flat/Maisonette\",\n",
    "PAON is house number or name\n",
    "SOAN is only if there's a sub-building like a Flat\n",
    "\n",
    "Strategy:\n",
    "0. If 'Property Type'='F' from ppc_data, then filter epc_data using PROPERTY_TYPE='Flat'\n",
    "1. Use street from ppd_data and find in all address (ADDRESS1, ADDRESS2, ADDRESS3) but match addresses after removing letters, punctuations etc so addressed only have string. convert street and addresses to upper-case. then filter where-ever string was matched.\n",
    "2. if flat than use POAN from ppd_data to extract only string, captilise/standardise, and then find in all three addresses with the same pre-processing as in step 1, and filter down further\n",
    "3.\n",
    "\"\"\""
   ],
   "metadata": {
    "collapsed": false
   }
  },
  {
   "cell_type": "code",
   "execution_count": 98,
   "outputs": [
    {
     "name": "stdout",
     "output_type": "stream",
     "text": [
      "\u001B[31mERROR: Could not find a version that satisfies the requirement splink==3.10.7 (from versions: 0.1.3, 0.1.4, 0.1.5, 0.1.6, 0.2.1, 0.2.3, 0.2.4, 0.2.5, 0.2.7, 0.2.8, 0.2.9, 0.3.0, 0.3.5, 0.3.7, 0.3.8, 0.3.9, 0.4.0, 0.4.1, 0.4.2, 1.0.0, 1.0.1, 1.0.2, 1.0.3, 1.0.4, 1.0.5, 1.0.6, 2.0.0, 2.0.1, 2.0.2, 2.0.3, 2.0.4, 2.1.0rc1, 2.1.0, 2.1.3, 2.1.4, 2.1.5, 2.1.6, 2.1.7, 2.1.8, 2.1.9, 2.1.10, 2.1.11, 2.1.12, 2.1.13, 2.1.14, 3.0.0.dev1, 3.0.0.dev2, 3.0.0.dev3, 3.0.0.dev4, 3.0.0.dev5, 3.0.0.dev6, 3.0.0.dev7, 3.0.0.dev8, 3.0.0.dev9, 3.0.0.dev10, 3.0.0.dev11, 3.0.0.dev12, 3.0.0.dev13, 3.0.0.dev14, 3.0.0.dev15, 3.0.0.dev16, 3.0.0.dev17, 3.0.0.dev18, 3.0.0.dev19, 3.0.0.dev20, 3.0.0.dev21, 3.0.0.dev22, 3.0.0.dev23, 3.0.0.dev24, 3.0.0.dev25, 3.0.0, 3.0.1, 3.1.0, 3.2.0.dev1, 3.2.0, 3.2.1, 3.2.2.dev1, 3.3.0.dev1, 3.3.0.dev2, 3.3.0.dev3, 3.3.0, 3.3.1, 3.3.2, 3.3.3, 3.3.4, 3.3.5, 3.3.6, 3.3.7, 3.3.8, 3.3.9, 3.4.0, 3.4.1, 3.4.2, 3.4.3, 3.4.4, 3.4.5, 3.5.0.dev1, 3.5.0, 3.5.1, 3.5.2, 3.5.3, 3.5.4, 3.6.0, 3.7.0.dev1, 3.7.0, 3.7.1, 3.7.2, 3.7.3, 3.8.0, 3.8.1, 3.9.0, 3.9.1, 3.9.2, 3.9.3, 3.9.4, 3.9.5, 3.9.6, 3.9.7, 3.9.8, 3.9.9, 3.9.10, 3.9.11, 3.9.12, 3.9.13, 3.9.14, 3.9.15, 4.0.0.dev1, 4.0.0.dev2, 4.0.0.dev3, 4.0.0.dev4, 4.0.0.dev5, 4.0.0.dev6, 4.0.0.dev7, 4.0.0.dev8, 4.0.0.dev9, 4.0.0, 4.0.1, 4.0.2, 4.0.3.dev1, 4.0.3.dev2, 4.0.3.dev3, 4.0.3.dev4, 4.0.3, 4.0.4, 4.0.5, 4.0.6, 4.0.7.dev1, 4.0.7, 4.0.8)\u001B[0m\u001B[31m\r\n",
      "\u001B[0m\u001B[31mERROR: No matching distribution found for splink==3.10.7\u001B[0m\u001B[31m\r\n",
      "\u001B[0m"
     ]
    }
   ],
   "source": [
    "!pip install splink==3.10.7"
   ],
   "metadata": {
    "collapsed": false,
    "ExecuteTime": {
     "end_time": "2025-08-19T21:43:40.452757Z",
     "start_time": "2025-08-19T21:43:38.175322Z"
    }
   }
  },
  {
   "cell_type": "code",
   "execution_count": 102,
   "outputs": [],
   "source": [
    "import re\n",
    "import pandas as pd\n",
    "\n",
    "# ----------------------------\n",
    "# Normalisation helpers\n",
    "# ----------------------------\n",
    "\n",
    "STREET_ABBREVS = {\n",
    "    \"ST\": \"STREET\", \"ST.\": \"STREET\",\n",
    "    \"RD\": \"ROAD\", \"RD.\": \"ROAD\",\n",
    "    \"AVE\": \"AVENUE\", \"AV\": \"AVENUE\", \"AV.\": \"AVENUE\",\n",
    "    \"CRES\": \"CRESCENT\", \"CRES.\": \"CRESCENT\",\n",
    "    \"CR\": \"CRESCENT\", \"CR.\": \"CRESCENT\",\n",
    "    \"LN\": \"LANE\", \"LN.\": \"LANE\",\n",
    "    \"PL\": \"PLACE\", \"PL.\": \"PLACE\",\n",
    "    \"CT\": \"COURT\", \"CT.\": \"COURT\",\n",
    "    \"DR\": \"DRIVE\", \"DR.\": \"DRIVE\",\n",
    "    \"GDNS\": \"GARDENS\", \"GDNS.\": \"GARDENS\",\n",
    "    \"GR\": \"GROVE\", \"GR.\": \"GROVE\"\n",
    "}\n",
    "\n",
    "HOUSE_TOKENS = {\n",
    "    \"HOUSE\",\"LODGE\",\"COTTAGE\",\"HALL\",\"COURT\",\"MANSION\",\"MANSIONS\",\"APARTMENTS\",\n",
    "    \"APARTMENT\",\"FLATS\",\"BLOCK\",\"TOWER\",\"BUILDING\"\n",
    "}\n",
    "\n",
    "def up(s):\n",
    "    if pd.isna(s): return None\n",
    "    return re.sub(r\"\\s+\", \" \", s.upper().strip())\n",
    "\n",
    "def de_punct(s):\n",
    "    if s is None: return None\n",
    "    s = s.replace(\",\", \" \")\n",
    "    s = re.sub(r\"[^\\w\\s/]\", \" \", s)\n",
    "    return re.sub(r\"\\s+\", \" \", s).strip()\n",
    "\n",
    "def norm_street(s):\n",
    "    s = up(de_punct(s))\n",
    "    if not s: return None\n",
    "    parts = s.split()\n",
    "    return \" \".join(STREET_ABBREVS.get(w, w) for w in parts)\n",
    "\n",
    "def extract_first_int(text):\n",
    "    if not text: return None\n",
    "    m = re.search(r\"\\b(\\d{1,5})\\b\", text)\n",
    "    return int(m.group(1)) if m else None\n",
    "\n",
    "def extract_flat_number(s):\n",
    "    if not s: return None\n",
    "    # FLAT 3, APT 12, FLAT 3/2 -> 3, FLAT FIRST FLOOR FRONT -> None\n",
    "    m = re.search(r\"\\b(FLAT|APT|APARTMENT)\\s*(\\d{1,4})\\b\", s)\n",
    "    if m: return int(m.group(2))\n",
    "    m = re.search(r\"\\bFLAT\\s*(\\d{1,4})(?:/\\d+)?\\b\", s)\n",
    "    return int(m.group(1)) if m else None\n",
    "\n",
    "def tokens_without_numbers(text):\n",
    "    if not text: return []\n",
    "    return [t for t in text.split() if not re.fullmatch(r\"\\d+\", t)]\n",
    "\n",
    "def looks_like_building_phrase(tokens):\n",
    "    return any(t in HOUSE_TOKENS for t in tokens)\n",
    "\n",
    "def paon_to_number_name(paon_raw):\n",
    "    \"\"\"\n",
    "    Input (various): \"THE POND HOUSE, 19\" or \"19\" or \"19 THE POND HOUSE\"\n",
    "    Output: \"19 THE POND HOUSE\" or \"19\"\n",
    "    \"\"\"\n",
    "    s = up(de_punct(paon_raw))\n",
    "    if not s: return None\n",
    "    num = extract_first_int(s)\n",
    "    toks = tokens_without_numbers(s)\n",
    "    if num is None:\n",
    "        # No number: leave as just name tokens (rare in PPD but safe)\n",
    "        return \" \".join(toks) if toks else None\n",
    "    if not toks:\n",
    "        # Only a number\n",
    "        return str(num)\n",
    "    # If tokens contain building keywords, keep them; otherwise keep all non-numeric tokens\n",
    "    if looks_like_building_phrase(toks):\n",
    "        name = \" \".join(toks)\n",
    "    else:\n",
    "        name = \" \".join(toks)\n",
    "    return f\"{num} {name}\"\n",
    "\n",
    "def paon_name_only(paon_number_name):\n",
    "    \"\"\"\n",
    "    From \"19 THE POND HOUSE\" -> \"THE POND HOUSE\"\n",
    "    From \"19\" -> None\n",
    "    \"\"\"\n",
    "    if not paon_number_name: return None\n",
    "    parts = paon_number_name.split()\n",
    "    if parts and re.fullmatch(r\"\\d+\", parts[0]):\n",
    "        name = \" \".join(parts[1:]).strip()\n",
    "        return name or None\n",
    "    return paon_number_name  # already name-only\n",
    "\n",
    "def build_building_name_from_any(*parts):\n",
    "    \"\"\"\n",
    "    Join parts, keep only non-numeric tokens, and, if a building keyword is present,\n",
    "    keep the surrounding phrase; else return all non-numeric tokens (can be None).\n",
    "    \"\"\"\n",
    "    joined = up(de_punct(\" \".join(p for p in parts if p)))\n",
    "    if not joined: return None\n",
    "    toks = tokens_without_numbers(joined)\n",
    "    if not toks: return None\n",
    "    if looks_like_building_phrase(toks):\n",
    "        return \" \".join(toks)\n",
    "    # No explicit keyword: still return the alpha tokens (helps with names like \"SCORITON\")\n",
    "    return \" \".join(toks)\n",
    "\n",
    "def join_nonnull(*vals):\n",
    "    return \" \".join([v for v in vals if v]).strip() or None\n",
    "\n",
    "# ----------------------------\n",
    "# PPD preprocessing (uses PAON→NUMBER NAME and NAME-only)\n",
    "# ----------------------------\n",
    "\n",
    "def prep_ppd(df):\n",
    "    df = df.copy()\n",
    "\n",
    "    # Street\n",
    "    df[\"Street_norm\"] = df[\"Street\"].map(norm_street)\n",
    "\n",
    "    # PAON in NUMBER NAME order and components\n",
    "    df[\"PAON_raw_norm\"] = df[\"PAON\"].map(up).map(de_punct)\n",
    "    df[\"PAON_number_name\"] = df[\"PAON_raw_norm\"].map(paon_to_number_name)\n",
    "    df[\"paon_num\"] = df[\"PAON_number_name\"].map(lambda s: int(s.split()[0]) if s and re.fullmatch(r\"\\d+.*\", s) else None)\n",
    "    df[\"paon_name\"] = df[\"PAON_number_name\"].map(paon_name_only)\n",
    "\n",
    "    # SAON/flat\n",
    "    df[\"SAON_norm\"] = df[\"SAON\"].map(up).map(de_punct)\n",
    "    df[\"flat_num\"]  = df[\"SAON_norm\"].map(extract_flat_number)\n",
    "\n",
    "    # Building name: prefer PAON name if it looks like a building; else derive from PAON/SAON\n",
    "    df[\"building_name\"] = df.apply(\n",
    "        lambda r: r[\"paon_name\"] if r[\"paon_name\"] and looks_like_building_phrase(r[\"paon_name\"].split())\n",
    "        else build_building_name_from_any(r[\"PAON_raw_norm\"], r[\"SAON_norm\"]),\n",
    "        axis=1\n",
    "    )\n",
    "\n",
    "    # A compact address string for fuzzy backup\n",
    "    df[\"full_norm\"] = df.apply(\n",
    "        lambda r: join_nonnull(r[\"SAON_norm\"], r[\"PAON_number_name\"], r[\"Street_norm\"]),\n",
    "        axis=1\n",
    "    )\n",
    "\n",
    "    df[\"source_dataset\"] = \"ppd\"\n",
    "    df[\"unique_id\"] = range(1, len(df)+1)\n",
    "    return df\n",
    "\n",
    "# ----------------------------\n",
    "# EPC preprocessing (aligned fields)\n",
    "# ----------------------------\n",
    "\n",
    "def prep_epc(df):\n",
    "    df = df.copy()\n",
    "    for c in [\"ADDRESS1\",\"ADDRESS2\",\"ADDRESS3\"]:\n",
    "        df[f\"{c}_norm\"] = df[c].map(up).map(de_punct)\n",
    "\n",
    "    # Street guess\n",
    "    def street_guess(r):\n",
    "        for c in [\"ADDRESS3_norm\",\"ADDRESS2_norm\",\"ADDRESS1_norm\"]:\n",
    "            s = r[c]\n",
    "            if s and re.search(r\"\\b(ROAD|ST|STREET|RD|DRIVE|AV|AVE|AVENUE|LANE|CRES|CRESCENT|COURT|GARDENS|PLACE|GROVE)\\b\", s):\n",
    "                return norm_street(s)\n",
    "        # Fallback to the longest part\n",
    "        cand = max([r[\"ADDRESS1_norm\"], r[\"ADDRESS2_norm\"], r[\"ADDRESS3_norm\"]], key=lambda x: len(x or \"\"), default=None)\n",
    "        return norm_street(cand) if cand else None\n",
    "\n",
    "    df[\"Street_norm\"] = df.apply(street_guess, axis=1)\n",
    "\n",
    "    # PAON number & name derived from ADDRESS1/2 (most likely to carry building/number)\n",
    "    df[\"alpha_blob\"] = df.apply(lambda r: join_nonnull(r[\"ADDRESS1_norm\"], r[\"ADDRESS2_norm\"]), axis=1)\n",
    "    df[\"paon_num\"] = df[\"alpha_blob\"].map(extract_first_int)\n",
    "\n",
    "    # Building name from all address lines (name-only, no numbers)\n",
    "    df[\"building_name\"] = df.apply(\n",
    "        lambda r: build_building_name_from_any(r[\"ADDRESS1_norm\"], r[\"ADDRESS2_norm\"], r[\"ADDRESS3_norm\"]),\n",
    "        axis=1\n",
    "    )\n",
    "\n",
    "    # Produce EPC's PAON_number_name to match PPD format (\"NUMBER NAME\")\n",
    "    def epc_paon_number_name(r):\n",
    "        if r[\"paon_num\"] and r[\"building_name\"]:\n",
    "            return f'{r[\"paon_num\"]} {r[\"building_name\"]}'\n",
    "        elif r[\"paon_num\"]:\n",
    "            return str(r[\"paon_num\"])\n",
    "        elif r[\"building_name\"]:\n",
    "            # Rare: no number present\n",
    "            return r[\"building_name\"]\n",
    "        return None\n",
    "\n",
    "    df[\"PAON_number_name\"] = df.apply(epc_paon_number_name, axis=1)\n",
    "\n",
    "    # Flat number\n",
    "    df[\"flat_num\"] = df.apply(\n",
    "        lambda r: extract_flat_number(join_nonnull(r[\"ADDRESS1_norm\"], r[\"ADDRESS2_norm\"], r[\"ADDRESS3_norm\"])),\n",
    "        axis=1\n",
    "    )\n",
    "\n",
    "    # Fuzzy backup string\n",
    "    df[\"full_norm\"] = df.apply(\n",
    "        lambda r: join_nonnull(r[\"ADDRESS1_norm\"], r[\"ADDRESS2_norm\"], r[\"ADDRESS3_norm\"]),\n",
    "        axis=1\n",
    "    )\n",
    "\n",
    "    df[\"source_dataset\"] = \"epc\"\n",
    "    df[\"unique_id\"] = range(1_000_001, 1_000_001 + len(df))\n",
    "    return df"
   ],
   "metadata": {
    "collapsed": false,
    "ExecuteTime": {
     "end_time": "2025-08-19T21:55:20.821081Z",
     "start_time": "2025-08-19T21:55:20.783912Z"
    }
   }
  },
  {
   "cell_type": "code",
   "execution_count": 103,
   "outputs": [],
   "source": [
    "ppd_prepped = prep_ppd(pp)\n",
    "epc_prepped = prep_epc(ep)"
   ],
   "metadata": {
    "collapsed": false,
    "ExecuteTime": {
     "end_time": "2025-08-19T21:55:21.427078Z",
     "start_time": "2025-08-19T21:55:21.395798Z"
    }
   }
  },
  {
   "cell_type": "code",
   "execution_count": 104,
   "outputs": [
    {
     "data": {
      "text/plain": "                           Transaction ID   Price Date of Transfer Postcode  \\\n0  {2F7F2B42-FC1B-E08F-E063-4804A8C05A49}  470000       2025-01-29  GL522QZ   \n1  {34222872-4787-4D2B-E063-4704A8C07853}  240250       2025-04-04  GL522QZ   \n\n  Property Type Old/New Duration                   PAON    SAON  \\\n0             F       N        L     THE POND HOUSE, 19  FLAT 3   \n1             F       N        L  JOHN FORBES HOUSE, 15  FLAT 8   \n\n               Street  ...         PAON_raw_norm      PAON_number_name  \\\n0  PITTVILLE CRESCENT  ...     THE POND HOUSE 19     19 THE POND HOUSE   \n1  PITTVILLE CRESCENT  ...  JOHN FORBES HOUSE 15  15 JOHN FORBES HOUSE   \n\n  paon_num          paon_name SAON_norm flat_num      building_name  \\\n0       19     THE POND HOUSE    FLAT 3        3     THE POND HOUSE   \n1       15  JOHN FORBES HOUSE    FLAT 8        8  JOHN FORBES HOUSE   \n\n                                        full_norm source_dataset unique_id  \n0     FLAT 3 19 THE POND HOUSE PITTVILLE CRESCENT            ppd         1  \n1  FLAT 8 15 JOHN FORBES HOUSE PITTVILLE CRESCENT            ppd         2  \n\n[2 rows x 33 columns]",
      "text/html": "<div>\n<style scoped>\n    .dataframe tbody tr th:only-of-type {\n        vertical-align: middle;\n    }\n\n    .dataframe tbody tr th {\n        vertical-align: top;\n    }\n\n    .dataframe thead th {\n        text-align: right;\n    }\n</style>\n<table border=\"1\" class=\"dataframe\">\n  <thead>\n    <tr style=\"text-align: right;\">\n      <th></th>\n      <th>Transaction ID</th>\n      <th>Price</th>\n      <th>Date of Transfer</th>\n      <th>Postcode</th>\n      <th>Property Type</th>\n      <th>Old/New</th>\n      <th>Duration</th>\n      <th>PAON</th>\n      <th>SAON</th>\n      <th>Street</th>\n      <th>...</th>\n      <th>PAON_raw_norm</th>\n      <th>PAON_number_name</th>\n      <th>paon_num</th>\n      <th>paon_name</th>\n      <th>SAON_norm</th>\n      <th>flat_num</th>\n      <th>building_name</th>\n      <th>full_norm</th>\n      <th>source_dataset</th>\n      <th>unique_id</th>\n    </tr>\n  </thead>\n  <tbody>\n    <tr>\n      <th>0</th>\n      <td>{2F7F2B42-FC1B-E08F-E063-4804A8C05A49}</td>\n      <td>470000</td>\n      <td>2025-01-29</td>\n      <td>GL522QZ</td>\n      <td>F</td>\n      <td>N</td>\n      <td>L</td>\n      <td>THE POND HOUSE, 19</td>\n      <td>FLAT 3</td>\n      <td>PITTVILLE CRESCENT</td>\n      <td>...</td>\n      <td>THE POND HOUSE 19</td>\n      <td>19 THE POND HOUSE</td>\n      <td>19</td>\n      <td>THE POND HOUSE</td>\n      <td>FLAT 3</td>\n      <td>3</td>\n      <td>THE POND HOUSE</td>\n      <td>FLAT 3 19 THE POND HOUSE PITTVILLE CRESCENT</td>\n      <td>ppd</td>\n      <td>1</td>\n    </tr>\n    <tr>\n      <th>1</th>\n      <td>{34222872-4787-4D2B-E063-4704A8C07853}</td>\n      <td>240250</td>\n      <td>2025-04-04</td>\n      <td>GL522QZ</td>\n      <td>F</td>\n      <td>N</td>\n      <td>L</td>\n      <td>JOHN FORBES HOUSE, 15</td>\n      <td>FLAT 8</td>\n      <td>PITTVILLE CRESCENT</td>\n      <td>...</td>\n      <td>JOHN FORBES HOUSE 15</td>\n      <td>15 JOHN FORBES HOUSE</td>\n      <td>15</td>\n      <td>JOHN FORBES HOUSE</td>\n      <td>FLAT 8</td>\n      <td>8</td>\n      <td>JOHN FORBES HOUSE</td>\n      <td>FLAT 8 15 JOHN FORBES HOUSE PITTVILLE CRESCENT</td>\n      <td>ppd</td>\n      <td>2</td>\n    </tr>\n  </tbody>\n</table>\n<p>2 rows × 33 columns</p>\n</div>"
     },
     "execution_count": 104,
     "metadata": {},
     "output_type": "execute_result"
    }
   ],
   "source": [
    "ppd_prepped"
   ],
   "metadata": {
    "collapsed": false,
    "ExecuteTime": {
     "end_time": "2025-08-19T21:55:22.779169Z",
     "start_time": "2025-08-19T21:55:22.765739Z"
    }
   }
  },
  {
   "cell_type": "code",
   "execution_count": null,
   "outputs": [],
   "source": [],
   "metadata": {
    "collapsed": false
   }
  },
  {
   "cell_type": "code",
   "execution_count": 72,
   "outputs": [
    {
     "name": "stdout",
     "output_type": "stream",
     "text": [
      "ADDRESS1    Flat 4 John Forbes House\n",
      "ADDRESS2       15 Pittville Crescent\n",
      "ADDRESS3                        None\n",
      "Name: 0, dtype: object\n",
      "ADDRESS1    19, Pittville Crescent\n",
      "ADDRESS2                      None\n",
      "ADDRESS3                      None\n",
      "Name: 1, dtype: object\n",
      "ADDRESS1                   Flat 2\n",
      "ADDRESS2    6, Pittville Crescent\n",
      "ADDRESS3                     None\n",
      "Name: 2, dtype: object\n",
      "ADDRESS1                    Flat 2\n",
      "ADDRESS2    10, Pittville Crescent\n",
      "ADDRESS3                      None\n",
      "Name: 3, dtype: object\n",
      "ADDRESS1                   Flat 5\n",
      "ADDRESS2        John Forbes House\n",
      "ADDRESS3    15 Pittville Crescent\n",
      "Name: 4, dtype: object\n",
      "ADDRESS1                   Flat 7\n",
      "ADDRESS2        John Forbes House\n",
      "ADDRESS3    15 Pittville Crescent\n",
      "Name: 5, dtype: object\n",
      "ADDRESS1       Flat 3 Elgar House\n",
      "ADDRESS2    2, Pittville Crescent\n",
      "ADDRESS3                     None\n",
      "Name: 6, dtype: object\n",
      "ADDRESS1                   Flat 7\n",
      "ADDRESS2        John Forbes House\n",
      "ADDRESS3    15 Pittville Crescent\n",
      "Name: 7, dtype: object\n",
      "ADDRESS1    5, Pittville Crescent\n",
      "ADDRESS2                     None\n",
      "ADDRESS3                     None\n",
      "Name: 8, dtype: object\n",
      "ADDRESS1      Flat 6, Elgar House\n",
      "ADDRESS2    2 Pitteville Crescent\n",
      "ADDRESS3                     None\n",
      "Name: 9, dtype: object\n",
      "ADDRESS1       Flat 5 Elgar House\n",
      "ADDRESS2    2, Pittville Crescent\n",
      "ADDRESS3                     None\n",
      "Name: 10, dtype: object\n",
      "ADDRESS1                   Flat 6\n",
      "ADDRESS2    6, Pittville Crescent\n",
      "ADDRESS3                     None\n",
      "Name: 11, dtype: object\n",
      "ADDRESS1       Rear Basement Flat\n",
      "ADDRESS2    3, Pittville Crescent\n",
      "ADDRESS3                     None\n",
      "Name: 12, dtype: object\n",
      "ADDRESS1       Flat 2 Elgar House\n",
      "ADDRESS2    2, Pittville Crescent\n",
      "ADDRESS3                     None\n",
      "Name: 13, dtype: object\n",
      "ADDRESS1                  Flat 10\n",
      "ADDRESS2        John Forbes House\n",
      "ADDRESS3    15 Pittville Crescent\n",
      "Name: 14, dtype: object\n",
      "ADDRESS1                   Flat 4\n",
      "ADDRESS2    16 Pittville Crescent\n",
      "ADDRESS3                     None\n",
      "Name: 15, dtype: object\n",
      "ADDRESS1          Flat 8 Scoriton\n",
      "ADDRESS2    16 Pittville Crescent\n",
      "ADDRESS3                     None\n",
      "Name: 16, dtype: object\n",
      "ADDRESS1        First Floor Front\n",
      "ADDRESS2    11 Pittville Crescent\n",
      "ADDRESS3                     None\n",
      "Name: 17, dtype: object\n",
      "ADDRESS1      Front Basement Flat\n",
      "ADDRESS2    3, Pittville Crescent\n",
      "ADDRESS3                     None\n",
      "Name: 18, dtype: object\n",
      "ADDRESS1                   Flat 3\n",
      "ADDRESS2        John Forbes House\n",
      "ADDRESS3    15 Pittville Crescent\n",
      "Name: 19, dtype: object\n",
      "ADDRESS1                    Flat 1\n",
      "ADDRESS2    10, Pittville Crescent\n",
      "ADDRESS3                      None\n",
      "Name: 20, dtype: object\n",
      "ADDRESS1                   Flat 7\n",
      "ADDRESS2    6, Pittville Crescent\n",
      "ADDRESS3                     None\n",
      "Name: 21, dtype: object\n",
      "ADDRESS1           Basement Flat\n",
      "ADDRESS2    3 Pittville Crescent\n",
      "ADDRESS3                    None\n",
      "Name: 22, dtype: object\n",
      "ADDRESS1                    Flat 8\n",
      "ADDRESS2    15 Pitttville Crescent\n",
      "ADDRESS3                      None\n",
      "Name: 23, dtype: object\n",
      "ADDRESS1       Rear Basement Flat\n",
      "ADDRESS2    12 Pittville Crescent\n",
      "ADDRESS3                     None\n",
      "Name: 24, dtype: object\n",
      "ADDRESS1                   Flat 4\n",
      "ADDRESS2    6, Pittville Crescent\n",
      "ADDRESS3                     None\n",
      "Name: 25, dtype: object\n",
      "ADDRESS1                   Flat 4\n",
      "ADDRESS2    10 Pittville Crescent\n",
      "ADDRESS3                     None\n",
      "Name: 26, dtype: object\n",
      "ADDRESS1       Flat 4 Elgar House\n",
      "ADDRESS2    2, Pittville Crescent\n",
      "ADDRESS3                     None\n",
      "Name: 27, dtype: object\n",
      "ADDRESS1                   Flat 5\n",
      "ADDRESS2                 Scoriton\n",
      "ADDRESS3    16 Pittville Crescent\n",
      "Name: 28, dtype: object\n",
      "ADDRESS1                   Flat 1\n",
      "ADDRESS2                 Scoriton\n",
      "ADDRESS3    16 Pittville Crescent\n",
      "Name: 29, dtype: object\n",
      "ADDRESS1                   Flat 7\n",
      "ADDRESS2                 Scoriton\n",
      "ADDRESS3    16 Pittville Crescent\n",
      "Name: 30, dtype: object\n",
      "ADDRESS1    9, Pittville Crescent\n",
      "ADDRESS2                     None\n",
      "ADDRESS3                     None\n",
      "Name: 31, dtype: object\n",
      "ADDRESS1                  Flat 1\n",
      "ADDRESS2          The Pond House\n",
      "ADDRESS3    19 Pittville Cresent\n",
      "Name: 32, dtype: object\n",
      "ADDRESS1     Flat 3 The Pond House\n",
      "ADDRESS2    19, Pittville Crescent\n",
      "ADDRESS3                      None\n",
      "Name: 33, dtype: object\n",
      "ADDRESS1    12, Pittville Crescent\n",
      "ADDRESS2                      None\n",
      "ADDRESS3                      None\n",
      "Name: 34, dtype: object\n",
      "ADDRESS1                  Flat 2\n",
      "ADDRESS2          The Pond House\n",
      "ADDRESS3    19 Pittville Cresent\n",
      "Name: 35, dtype: object\n",
      "ADDRESS1    19a, Pittville Crescent\n",
      "ADDRESS2                       None\n",
      "ADDRESS3                       None\n",
      "Name: 36, dtype: object\n",
      "ADDRESS1                   Flat 1\n",
      "ADDRESS2    6, Pittville Crescent\n",
      "ADDRESS3                     None\n",
      "Name: 37, dtype: object\n",
      "ADDRESS1                 Flat 10\n",
      "ADDRESS2          The Pond House\n",
      "ADDRESS3    19 Pittville Cresent\n",
      "Name: 38, dtype: object\n",
      "ADDRESS1                  Flat 9\n",
      "ADDRESS2          The Pond House\n",
      "ADDRESS3    19 Pittville Cresent\n",
      "Name: 39, dtype: object\n",
      "ADDRESS1                  Flat 6\n",
      "ADDRESS2          The Pond House\n",
      "ADDRESS3    19 Pittville Cresent\n",
      "Name: 40, dtype: object\n",
      "ADDRESS1                   Flat 3\n",
      "ADDRESS2                 Scoriton\n",
      "ADDRESS3    16 Pittville Crescent\n",
      "Name: 41, dtype: object\n",
      "ADDRESS1                  Flat 5\n",
      "ADDRESS2          The Pond House\n",
      "ADDRESS3    19 Pittville Cresent\n",
      "Name: 42, dtype: object\n",
      "ADDRESS1                   Flat 4\n",
      "ADDRESS2           The Pond House\n",
      "ADDRESS3    19  Pittville Cresent\n",
      "Name: 43, dtype: object\n",
      "ADDRESS1                  Flat 8\n",
      "ADDRESS2          The Pond House\n",
      "ADDRESS3    19 Pittville Cresent\n",
      "Name: 44, dtype: object\n",
      "ADDRESS1                  Flat 7\n",
      "ADDRESS2          The Pond House\n",
      "ADDRESS3    19 Pittville Cresent\n",
      "Name: 45, dtype: object\n",
      "ADDRESS1                 Flat 11\n",
      "ADDRESS2          The Pond House\n",
      "ADDRESS3    19 Pittville Cresent\n",
      "Name: 46, dtype: object\n",
      "ADDRESS1                   Flat 4\n",
      "ADDRESS2    6, Pittville Crescent\n",
      "ADDRESS3                     None\n",
      "Name: 47, dtype: object\n",
      "ADDRESS1    1, Pittville Crescent\n",
      "ADDRESS2                     None\n",
      "ADDRESS3                     None\n",
      "Name: 48, dtype: object\n",
      "ADDRESS1    Ground Floor Front Flat\n",
      "ADDRESS2      11 Pittville Crescent\n",
      "ADDRESS3                       None\n",
      "Name: 49, dtype: object\n",
      "ADDRESS1       Flat 1 Elgar House\n",
      "ADDRESS2    2, Pittville Crescent\n",
      "ADDRESS3                     None\n",
      "Name: 50, dtype: object\n",
      "ADDRESS1                   Flat 5\n",
      "ADDRESS2    10 Pittville Crescent\n",
      "ADDRESS3                     None\n",
      "Name: 51, dtype: object\n",
      "ADDRESS1                   Flat 1\n",
      "ADDRESS2    1, Pittville Crescent\n",
      "ADDRESS3                     None\n",
      "Name: 52, dtype: object\n",
      "ADDRESS1                   Flat 6\n",
      "ADDRESS2                 Scoriton\n",
      "ADDRESS3    16 Pittville Crescent\n",
      "Name: 53, dtype: object\n",
      "ADDRESS1    14, Pittville Crescent\n",
      "ADDRESS2                      None\n",
      "ADDRESS3                      None\n",
      "Name: 54, dtype: object\n",
      "ADDRESS1    12, Pittville Crescent\n",
      "ADDRESS2                      None\n",
      "ADDRESS3                      None\n",
      "Name: 55, dtype: object\n",
      "ADDRESS1                   Flat 3\n",
      "ADDRESS2    6, Pittville Crescent\n",
      "ADDRESS3                     None\n",
      "Name: 56, dtype: object\n",
      "ADDRESS1                   Flat 9\n",
      "ADDRESS2        John Forbes House\n",
      "ADDRESS3    15 Pittville Crescent\n",
      "Name: 57, dtype: object\n",
      "ADDRESS1                   Flat 4\n",
      "ADDRESS2    11 Pittville Crescent\n",
      "ADDRESS3                     None\n",
      "Name: 58, dtype: object\n",
      "ADDRESS1     Flat 6 The Pond House\n",
      "ADDRESS2    19, Pittville Crescent\n",
      "ADDRESS3                      None\n",
      "Name: 59, dtype: object\n",
      "ADDRESS1                   Flat 2\n",
      "ADDRESS2    6, Pittville Crescent\n",
      "ADDRESS3                     None\n",
      "Name: 60, dtype: object\n",
      "ADDRESS1    5, Pittville Crescent\n",
      "ADDRESS2                     None\n",
      "ADDRESS3                     None\n",
      "Name: 61, dtype: object\n",
      "ADDRESS1       Flat 5 Elgar House\n",
      "ADDRESS2    2, Pittville Crescent\n",
      "ADDRESS3                     None\n",
      "Name: 62, dtype: object\n",
      "ADDRESS1                   Flat 5\n",
      "ADDRESS2        John Forbes House\n",
      "ADDRESS3    15 Pittville Crescent\n",
      "Name: 63, dtype: object\n",
      "ADDRESS1       Flat 3 Elgar House\n",
      "ADDRESS2    2, Pittville Crescent\n",
      "ADDRESS3                     None\n",
      "Name: 64, dtype: object\n",
      "ADDRESS1                   Flat 7\n",
      "ADDRESS2        John Forbes House\n",
      "ADDRESS3    15 Pittville Crescent\n",
      "Name: 65, dtype: object\n",
      "ADDRESS1             Fern Lawn\n",
      "ADDRESS2    Pittville Crescent\n",
      "ADDRESS3                  None\n",
      "Name: 66, dtype: object\n",
      "ADDRESS1    Flat 4 John Forbes House\n",
      "ADDRESS2       15 Pittville Crescent\n",
      "ADDRESS3                        None\n",
      "Name: 67, dtype: object\n",
      "ADDRESS1                   Flat 6\n",
      "ADDRESS2                 Scoriton\n",
      "ADDRESS3    16 Pittville Crescent\n",
      "Name: 68, dtype: object\n",
      "ADDRESS1                   Flat 6\n",
      "ADDRESS2    6, Pittville Crescent\n",
      "ADDRESS3                     None\n",
      "Name: 69, dtype: object\n",
      "ADDRESS1                   Flat 4\n",
      "ADDRESS2    16 Pittville Crescent\n",
      "ADDRESS3                     None\n",
      "Name: 70, dtype: object\n",
      "ADDRESS1                   FLAT 8\n",
      "ADDRESS2        JOHN FORBES HOUSE\n",
      "ADDRESS3    15 PITTVILLE CRESCENT\n",
      "Name: 71, dtype: object\n",
      "ADDRESS1    18 Pittville Crescent\n",
      "ADDRESS2                     None\n",
      "ADDRESS3                     None\n",
      "Name: 72, dtype: object\n",
      "ADDRESS1                  SKYLARK\n",
      "ADDRESS2    7A PITTVILLE CRESCENT\n",
      "ADDRESS3                     None\n",
      "Name: 73, dtype: object\n",
      "ADDRESS1                   FLAT 5\n",
      "ADDRESS2                 SCORITON\n",
      "ADDRESS3    16 PITTVILLE CRESCENT\n",
      "Name: 74, dtype: object\n",
      "ADDRESS1                   FLAT 8\n",
      "ADDRESS2                 SCORITON\n",
      "ADDRESS3    16 PITTVILLE CRESCENT\n",
      "Name: 75, dtype: object\n",
      "ADDRESS1                  FLAT 6\n",
      "ADDRESS2             ELGAR HOUSE\n",
      "ADDRESS3    2 PITTVILLE CRESCENT\n",
      "Name: 76, dtype: object\n",
      "ADDRESS1                  SKYLARK\n",
      "ADDRESS2    7A PITTVILLE CRESCENT\n",
      "ADDRESS3                     None\n",
      "Name: 77, dtype: object\n",
      "ADDRESS1                   FLAT 1\n",
      "ADDRESS2    10 PITTVILLE CRESCENT\n",
      "ADDRESS3                     None\n",
      "Name: 78, dtype: object\n",
      "ADDRESS1             THE COTTAGE\n",
      "ADDRESS2    7 PITTVILLE CRESCENT\n",
      "ADDRESS3                    None\n",
      "Name: 79, dtype: object\n",
      "ADDRESS1    17 PITTVILLE CRESCENT\n",
      "ADDRESS2                     None\n",
      "ADDRESS3                     None\n",
      "Name: 80, dtype: object\n",
      "ADDRESS1      Rear Basement Flat\n",
      "ADDRESS2    3 Pittville Crescent\n",
      "ADDRESS3                    None\n",
      "Name: 81, dtype: object\n",
      "ADDRESS1    9 Pittville Crescent\n",
      "ADDRESS2                    None\n",
      "ADDRESS3                    None\n",
      "Name: 82, dtype: object\n",
      "ADDRESS1                  Flat 4\n",
      "ADDRESS2             Elgar House\n",
      "ADDRESS3    2 Pittville Crescent\n",
      "Name: 83, dtype: object\n",
      "ADDRESS1                   Flat 6\n",
      "ADDRESS2        John Forbes House\n",
      "ADDRESS3    15 Pittville Crescent\n",
      "Name: 84, dtype: object\n",
      "ADDRESS1                  Flat 2\n",
      "ADDRESS2             Elgar House\n",
      "ADDRESS3    2 Pittville Crescent\n",
      "Name: 85, dtype: object\n",
      "ADDRESS1                  Flat 11\n",
      "ADDRESS2           The Pond House\n",
      "ADDRESS3    19 Pittville Crescent\n",
      "Name: 86, dtype: object\n",
      "ADDRESS1                   Flat 3\n",
      "ADDRESS2           The Pond House\n",
      "ADDRESS3    19 Pittville Crescent\n",
      "Name: 87, dtype: object\n",
      "ADDRESS1                   Flat 7\n",
      "ADDRESS2                 Scoriton\n",
      "ADDRESS3    16 Pittville Crescent\n",
      "Name: 88, dtype: object\n",
      "ADDRESS1            Flat 1\n",
      "ADDRESS2    The Pond House\n",
      "ADDRESS3              None\n",
      "Name: 89, dtype: object\n",
      "ADDRESS1      Flat Basement Front\n",
      "ADDRESS2    11 Pittville Crescent\n",
      "ADDRESS3                     None\n",
      "Name: 90, dtype: object\n",
      "ADDRESS1       Flat Basement Rear\n",
      "ADDRESS2    11 Pittville Crescent\n",
      "ADDRESS3                     None\n",
      "Name: 91, dtype: object\n",
      "ADDRESS1                   Flat 3\n",
      "ADDRESS2        John Forbes House\n",
      "ADDRESS3    15 Pittville Crescent\n",
      "Name: 92, dtype: object\n",
      "ADDRESS1                   Flat 9\n",
      "ADDRESS2           The Pond House\n",
      "ADDRESS3    19 Pittville Crescent\n",
      "Name: 93, dtype: object\n",
      "ADDRESS1                  Flat 10\n",
      "ADDRESS2           The Pond House\n",
      "ADDRESS3    19 Pittville Crescent\n",
      "Name: 94, dtype: object\n",
      "ADDRESS1                  Flat 10\n",
      "ADDRESS2        John Forbes House\n",
      "ADDRESS3    15 Pittville Crescent\n",
      "Name: 95, dtype: object\n",
      "ADDRESS1    3 Pittville Crescent\n",
      "ADDRESS2                    None\n",
      "ADDRESS3                    None\n",
      "Name: 96, dtype: object\n",
      "ADDRESS1                   Flat 4\n",
      "ADDRESS2                 Scoriton\n",
      "ADDRESS3    16 Pittville Crescent\n",
      "Name: 97, dtype: object\n",
      "ADDRESS1    Flat First Floor Front\n",
      "ADDRESS2     11 Pittville Crescent\n",
      "ADDRESS3                      None\n",
      "Name: 98, dtype: object\n",
      "ADDRESS1                   Flat 4\n",
      "ADDRESS2           The Pond House\n",
      "ADDRESS3    19 Pittville Crescent\n",
      "Name: 99, dtype: object\n"
     ]
    }
   ],
   "source": [
    "for index, row in temp3[['ADDRESS1', 'ADDRESS2', 'ADDRESS3']].iterrows():\n",
    "    print(row['ADDRESS1'], row['ADDRESS1'], row['ADDRESS1'])"
   ],
   "metadata": {
    "collapsed": false,
    "ExecuteTime": {
     "end_time": "2025-08-19T20:25:43.486030Z",
     "start_time": "2025-08-19T20:25:43.430385Z"
    }
   }
  },
  {
   "cell_type": "code",
   "execution_count": 64,
   "outputs": [
    {
     "data": {
      "text/plain": "Index(['LMK_KEY', 'ADDRESS1', 'ADDRESS2', 'ADDRESS3', 'POSTCODE',\n       'BUILDING_REFERENCE_NUMBER', 'CURRENT_ENERGY_RATING',\n       'POTENTIAL_ENERGY_RATING', 'CURRENT_ENERGY_EFFICIENCY',\n       'POTENTIAL_ENERGY_EFFICIENCY', 'PROPERTY_TYPE', 'BUILT_FORM',\n       'INSPECTION_DATE', 'LOCAL_AUTHORITY', 'CONSTITUENCY', 'COUNTY',\n       'LODGEMENT_DATE', 'TRANSACTION_TYPE', 'ENVIRONMENT_IMPACT_CURRENT',\n       'ENVIRONMENT_IMPACT_POTENTIAL', 'ENERGY_CONSUMPTION_CURRENT',\n       'ENERGY_CONSUMPTION_POTENTIAL', 'CO2_EMISSIONS_CURRENT',\n       'CO2_EMISS_CURR_PER_FLOOR_AREA', 'CO2_EMISSIONS_POTENTIAL',\n       'LIGHTING_COST_CURRENT', 'LIGHTING_COST_POTENTIAL',\n       'HEATING_COST_CURRENT', 'HEATING_COST_POTENTIAL',\n       'HOT_WATER_COST_CURRENT', 'HOT_WATER_COST_POTENTIAL',\n       'TOTAL_FLOOR_AREA', 'ENERGY_TARIFF', 'MAINS_GAS_FLAG', 'FLOOR_LEVEL',\n       'FLAT_TOP_STOREY', 'FLAT_STOREY_COUNT', 'MAIN_HEATING_CONTROLS',\n       'MULTI_GLAZE_PROPORTION', 'GLAZED_TYPE', 'GLAZED_AREA',\n       'EXTENSION_COUNT', 'NUMBER_HABITABLE_ROOMS', 'NUMBER_HEATED_ROOMS',\n       'LOW_ENERGY_LIGHTING', 'NUMBER_OPEN_FIREPLACES', 'HOTWATER_DESCRIPTION',\n       'HOT_WATER_ENERGY_EFF', 'HOT_WATER_ENV_EFF', 'FLOOR_DESCRIPTION',\n       'FLOOR_ENERGY_EFF', 'FLOOR_ENV_EFF', 'WINDOWS_DESCRIPTION',\n       'WINDOWS_ENERGY_EFF', 'WINDOWS_ENV_EFF', 'WALLS_DESCRIPTION',\n       'WALLS_ENERGY_EFF', 'WALLS_ENV_EFF', 'SECONDHEAT_DESCRIPTION',\n       'SHEATING_ENERGY_EFF', 'SHEATING_ENV_EFF', 'ROOF_DESCRIPTION',\n       'ROOF_ENERGY_EFF', 'ROOF_ENV_EFF', 'MAINHEAT_DESCRIPTION',\n       'MAINHEAT_ENERGY_EFF', 'MAINHEAT_ENV_EFF', 'MAINHEATCONT_DESCRIPTION',\n       'MAINHEATC_ENERGY_EFF', 'MAINHEATC_ENV_EFF', 'LIGHTING_DESCRIPTION',\n       'LIGHTING_ENERGY_EFF', 'LIGHTING_ENV_EFF', 'MAIN_FUEL',\n       'WIND_TURBINE_COUNT', 'HEAT_LOSS_CORRIDOR', 'UNHEATED_CORRIDOR_LENGTH',\n       'FLOOR_HEIGHT', 'PHOTO_SUPPLY', 'SOLAR_WATER_HEATING_FLAG',\n       'MECHANICAL_VENTILATION', 'ADDRESS', 'LOCAL_AUTHORITY_LABEL',\n       'CONSTITUENCY_LABEL', 'POSTTOWN', 'CONSTRUCTION_AGE_BAND',\n       'LODGEMENT_DATETIME', 'TENURE', 'FIXED_LIGHTING_OUTLETS_COUNT',\n       'LOW_ENERGY_FIXED_LIGHT_COUNT', 'UPRN', 'UPRN_SOURCE', 'REPORT_TYPE',\n       'postcode_norm', 'lodgement_date_1', 'outcode', 'addr_key',\n       'lodgement_year', 'outcode2'],\n      dtype='object')"
     },
     "execution_count": 64,
     "metadata": {},
     "output_type": "execute_result"
    }
   ],
   "source": [
    "temp.columns"
   ],
   "metadata": {
    "collapsed": false,
    "ExecuteTime": {
     "end_time": "2025-08-19T20:20:24.629324Z",
     "start_time": "2025-08-19T20:20:24.619888Z"
    }
   }
  },
  {
   "cell_type": "markdown",
   "source": [],
   "metadata": {
    "collapsed": false
   }
  },
  {
   "cell_type": "code",
   "execution_count": 77,
   "outputs": [
    {
     "name": "stdout",
     "output_type": "stream",
     "text": [
      "Collecting RapidFuzz\r\n",
      "  Downloading rapidfuzz-3.13.0-cp310-cp310-macosx_11_0_arm64.whl.metadata (12 kB)\r\n",
      "Downloading rapidfuzz-3.13.0-cp310-cp310-macosx_11_0_arm64.whl (1.4 MB)\r\n",
      "\u001B[2K   \u001B[90m━━━━━━━━━━━━━━━━━━━━━━━━━━━━━━━━━━━━━━━━\u001B[0m \u001B[32m1.4/1.4 MB\u001B[0m \u001B[31m10.7 MB/s\u001B[0m eta \u001B[36m0:00:00\u001B[0ma \u001B[36m0:00:01\u001B[0m\r\n",
      "\u001B[?25hInstalling collected packages: RapidFuzz\r\n",
      "Successfully installed RapidFuzz-3.13.0\r\n"
     ]
    }
   ],
   "source": [
    "!pip install RapidFuzz"
   ],
   "metadata": {
    "collapsed": false,
    "ExecuteTime": {
     "end_time": "2025-08-19T20:36:27.246093Z",
     "start_time": "2025-08-19T20:36:22.788910Z"
    }
   }
  },
  {
   "cell_type": "code",
   "execution_count": 90,
   "outputs": [],
   "source": [],
   "metadata": {
    "collapsed": false,
    "ExecuteTime": {
     "end_time": "2025-08-19T20:43:50.073372Z",
     "start_time": "2025-08-19T20:43:50.048203Z"
    }
   }
  },
  {
   "cell_type": "code",
   "execution_count": 91,
   "outputs": [],
   "source": [
    "# merged = match_merge_by_address(temp, temp3, score_threshold=65)"
   ],
   "metadata": {
    "collapsed": false,
    "ExecuteTime": {
     "end_time": "2025-08-19T20:43:50.901922Z",
     "start_time": "2025-08-19T20:43:50.843320Z"
    }
   }
  },
  {
   "cell_type": "code",
   "execution_count": 92,
   "outputs": [
    {
     "data": {
      "text/plain": "   index_df1                          Transaction ID   Price Date of Transfer  \\\n0          0  {2F7F2B42-FC1B-E08F-E063-4804A8C05A49}  470000       2025-01-29   \n1          1  {34222872-4787-4D2B-E063-4704A8C07853}  240250       2025-04-04   \n\n  Postcode Property Type Old/New Duration                   PAON    SAON  ...  \\\n0  GL522QZ             F       N        L     THE POND HOUSE, 19  FLAT 3  ...   \n1  GL522QZ             F       N        L  JOHN FORBES HOUSE, 15  FLAT 8  ...   \n\n  lodgement_date_1 outcode                                  addr_key  \\\n0       2025-04-11    GL52      FLAT4THEPONDHOUSE19PITTVILLECRESCENT   \n1       2024-08-24    GL52  FLAT10JOHNFORBESHOUSE15PITTVILLECRESCENT   \n\n  lodgement_year outcode2_df2  \\\n0           2025           GL   \n1           2024           GL   \n\n                                          addr_epc   street_canon_df2  \\\n0      Flat 4 The Pond House 19 Pittville Crescent  19 PITTVILLE CRES   \n1  Flat 10 John Forbes House 15 Pittville Crescent  15 PITTVILLE CRES   \n\n  house_no_df2 unit_no_df2                bldg_key_df2  \n0            4           4         FLAT PITTVILLE POND  \n1           10          10  FLAT FORBES JOHN PITTVILLE  \n\n[2 rows x 138 columns]",
      "text/html": "<div>\n<style scoped>\n    .dataframe tbody tr th:only-of-type {\n        vertical-align: middle;\n    }\n\n    .dataframe tbody tr th {\n        vertical-align: top;\n    }\n\n    .dataframe thead th {\n        text-align: right;\n    }\n</style>\n<table border=\"1\" class=\"dataframe\">\n  <thead>\n    <tr style=\"text-align: right;\">\n      <th></th>\n      <th>index_df1</th>\n      <th>Transaction ID</th>\n      <th>Price</th>\n      <th>Date of Transfer</th>\n      <th>Postcode</th>\n      <th>Property Type</th>\n      <th>Old/New</th>\n      <th>Duration</th>\n      <th>PAON</th>\n      <th>SAON</th>\n      <th>...</th>\n      <th>lodgement_date_1</th>\n      <th>outcode</th>\n      <th>addr_key</th>\n      <th>lodgement_year</th>\n      <th>outcode2_df2</th>\n      <th>addr_epc</th>\n      <th>street_canon_df2</th>\n      <th>house_no_df2</th>\n      <th>unit_no_df2</th>\n      <th>bldg_key_df2</th>\n    </tr>\n  </thead>\n  <tbody>\n    <tr>\n      <th>0</th>\n      <td>0</td>\n      <td>{2F7F2B42-FC1B-E08F-E063-4804A8C05A49}</td>\n      <td>470000</td>\n      <td>2025-01-29</td>\n      <td>GL522QZ</td>\n      <td>F</td>\n      <td>N</td>\n      <td>L</td>\n      <td>THE POND HOUSE, 19</td>\n      <td>FLAT 3</td>\n      <td>...</td>\n      <td>2025-04-11</td>\n      <td>GL52</td>\n      <td>FLAT4THEPONDHOUSE19PITTVILLECRESCENT</td>\n      <td>2025</td>\n      <td>GL</td>\n      <td>Flat 4 The Pond House 19 Pittville Crescent</td>\n      <td>19 PITTVILLE CRES</td>\n      <td>4</td>\n      <td>4</td>\n      <td>FLAT PITTVILLE POND</td>\n    </tr>\n    <tr>\n      <th>1</th>\n      <td>1</td>\n      <td>{34222872-4787-4D2B-E063-4704A8C07853}</td>\n      <td>240250</td>\n      <td>2025-04-04</td>\n      <td>GL522QZ</td>\n      <td>F</td>\n      <td>N</td>\n      <td>L</td>\n      <td>JOHN FORBES HOUSE, 15</td>\n      <td>FLAT 8</td>\n      <td>...</td>\n      <td>2024-08-24</td>\n      <td>GL52</td>\n      <td>FLAT10JOHNFORBESHOUSE15PITTVILLECRESCENT</td>\n      <td>2024</td>\n      <td>GL</td>\n      <td>Flat 10 John Forbes House 15 Pittville Crescent</td>\n      <td>15 PITTVILLE CRES</td>\n      <td>10</td>\n      <td>10</td>\n      <td>FLAT FORBES JOHN PITTVILLE</td>\n    </tr>\n  </tbody>\n</table>\n<p>2 rows × 138 columns</p>\n</div>"
     },
     "execution_count": 92,
     "metadata": {},
     "output_type": "execute_result"
    }
   ],
   "source": [
    "# merged"
   ],
   "metadata": {
    "collapsed": false,
    "ExecuteTime": {
     "end_time": "2025-08-19T20:43:54.160662Z",
     "start_time": "2025-08-19T20:43:54.154510Z"
    }
   }
  },
  {
   "cell_type": "markdown",
   "source": [
    "## 3. Install optional extension for fuzzy matching"
   ],
   "metadata": {
    "collapsed": false
   }
  },
  {
   "cell_type": "code",
   "execution_count": 4,
   "outputs": [],
   "source": [
    "# con.execute(\"INSTALL fuzzystrmatch;\")\n",
    "# con.execute(\"LOAD fuzzystrmatch;\")"
   ],
   "metadata": {
    "collapsed": false,
    "ExecuteTime": {
     "end_time": "2025-08-19T18:52:28.740909Z",
     "start_time": "2025-08-19T18:52:28.729796Z"
    }
   }
  },
  {
   "cell_type": "markdown",
   "source": [
    "## 4. Run queries (examples)"
   ],
   "metadata": {
    "collapsed": false
   }
  },
  {
   "cell_type": "code",
   "execution_count": 5,
   "outputs": [],
   "source": [
    "# print(con.execute(\"DESCRIBE ppd_src\").fetchdf())\n",
    "# print(con.execute(\"DESCRIBE epc_src\").fetchdf())"
   ],
   "metadata": {
    "collapsed": false,
    "ExecuteTime": {
     "end_time": "2025-08-19T18:52:31.484940Z",
     "start_time": "2025-08-19T18:52:31.480034Z"
    }
   }
  },
  {
   "cell_type": "code",
   "execution_count": 6,
   "outputs": [],
   "source": [
    "# sql = \"\"\"\n",
    "# WITH\n",
    "# ppd_n AS (\n",
    "#   SELECT\n",
    "#       \"Transaction ID\" AS transaction_id,\n",
    "#       \"Price\" AS price,\n",
    "#       \"Date of Transfer\" AS date_of_transfer,\n",
    "#       UPPER(REPLACE(\"Postcode\", ' ', '')) AS postcode_norm,\n",
    "#       UPPER(REGEXP_REPLACE(COALESCE(\"SAON\", '') || COALESCE(\"PAON\", '') || COALESCE(\"Street\", ''), '[^A-Z0-9]', '')) AS derived_addr_key,\n",
    "#       outcode2, sale_month, sale_year\n",
    "#   FROM ppd_src\n",
    "# ),\n",
    "# epc_n AS (\n",
    "#   SELECT\n",
    "#       LMK_KEY AS lmk_key,\n",
    "#       UPPER(REPLACE(POSTCODE, ' ', '')) AS postcode_norm,\n",
    "#       COALESCE(addr_key,\n",
    "#                UPPER(REGEXP_REPLACE(COALESCE(ADDRESS1,'') || COALESCE(ADDRESS,'') || COALESCE(ADDRESS2,'') || COALESCE(ADDRESS3,''), '[^A-Z0-9]', ''))\n",
    "#       ) AS addr_key_std,\n",
    "#       COALESCE(INSPECTION_DATE, LODGEMENT_DATE) AS epc_date\n",
    "#   FROM epc_src\n",
    "# ),\n",
    "# tier1 AS (\n",
    "#   SELECT\n",
    "#       p.transaction_id, e.lmk_key,\n",
    "#       p.date_of_transfer, e.epc_date\n",
    "#   FROM ppd_n p\n",
    "#   JOIN epc_n e\n",
    "#     ON p.postcode_norm = e.postcode_norm\n",
    "#    AND p.derived_addr_key = e.addr_key_std\n",
    "# ),\n",
    "# tier1_scored AS (\n",
    "#   SELECT *,\n",
    "#          ABS(DATE_DIFF('day', epc_date, date_of_transfer)) AS days_diff\n",
    "#   FROM tier1\n",
    "#   WHERE (epc_date <= date_of_transfer AND ABS(DATE_DIFF('day', epc_date, date_of_transfer)) <= 365)\n",
    "#      OR (epc_date >  date_of_transfer AND ABS(DATE_DIFF('day', epc_date, date_of_transfer)) <= 180)\n",
    "# )\n",
    "# SELECT *\n",
    "# FROM tier1_scored\n",
    "# ORDER BY days_diff\n",
    "# LIMIT 20;\n",
    "# \"\"\"\n",
    "#\n",
    "# df = con.execute(sql).fetchdf()\n",
    "# print(df)\n"
   ],
   "metadata": {
    "collapsed": false,
    "ExecuteTime": {
     "end_time": "2025-08-19T18:52:34.770565Z",
     "start_time": "2025-08-19T18:52:34.626334Z"
    }
   }
  },
  {
   "cell_type": "code",
   "execution_count": 53,
   "outputs": [],
   "source": [
    "sql = \"\"\"\n",
    "WITH\n",
    "ppd_n AS (\n",
    "  SELECT\n",
    "      \"Transaction ID\" AS transaction_id,\n",
    "      \"Price\" AS price,\n",
    "      \"Date of Transfer\" AS date_of_transfer,\n",
    "      \"Postcode\" AS postcode,\n",
    "      \"PAON\", \"SAON\", \"Street\", \"Locality\", \"Town/City\" AS town_city,\n",
    "      \"District\", \"County\",\n",
    "      \"Property Type\" AS property_type,\n",
    "      \"Old/New\" AS new_build_flag,\n",
    "      \"Duration\" AS tenure,\n",
    "      outcode2, sale_month, sale_year,\n",
    "      UPPER(REPLACE(\"Postcode\", ' ', '')) AS postcode_norm,\n",
    "      UPPER(REGEXP_REPLACE(\n",
    "          COALESCE(\"SAON\",'') || COALESCE(\"PAON\",'') || COALESCE(\"Street\",''),\n",
    "          '[^A-Z0-9]', ''\n",
    "      )) AS derived_addr_key\n",
    "  FROM ppd_src\n",
    "  WHERE sale_year = 2025\n",
    "    AND outcode2 = 'GL'\n",
    "),\n",
    "epc_n AS (\n",
    "  SELECT\n",
    "      LMK_KEY AS lmk_key,\n",
    "      POSTCODE,\n",
    "      ADDRESS1, ADDRESS2, ADDRESS3,\n",
    "      LOCAL_AUTHORITY, COUNTY, POSTTOWN,\n",
    "      PROPERTY_TYPE AS property_type_epc,\n",
    "      BUILT_FORM,\n",
    "      CURRENT_ENERGY_RATING, POTENTIAL_ENERGY_RATING,\n",
    "      CURRENT_ENERGY_EFFICIENCY, POTENTIAL_ENERGY_EFFICIENCY,\n",
    "      TOTAL_FLOOR_AREA,\n",
    "      CONSTRUCTION_AGE_BAND,\n",
    "      LODGEMENT_DATE, INSPECTION_DATE,\n",
    "      UPPER(REPLACE(POSTCODE, ' ', '')) AS postcode_norm,\n",
    "      COALESCE(addr_key,\n",
    "        UPPER(REGEXP_REPLACE(\n",
    "          COALESCE(ADDRESS1,'') || COALESCE(ADDRESS,'') || COALESCE(ADDRESS2,'') || COALESCE(ADDRESS3,''),\n",
    "          '[^A-Z0-9]', ''\n",
    "        ))\n",
    "      ) AS addr_key_std,\n",
    "      COALESCE(INSPECTION_DATE, LODGEMENT_DATE) AS epc_date\n",
    "  FROM epc_src\n",
    "  WHERE outcode2 = 'GL'\n",
    "),\n",
    "tier1 AS (\n",
    "  SELECT\n",
    "      p.*, e.lmk_key, e.addr_key_std, e.ADDRESS1 AS epc_address1, e.ADDRESS2 AS epc_address2,\n",
    "      e.ADDRESS3 AS epc_address3, e.POSTCODE AS epc_postcode,\n",
    "      e.LOCAL_AUTHORITY, e.POSTTOWN, e.COUNTY AS epc_county,\n",
    "      e.property_type_epc, e.BUILT_FORM,\n",
    "      e.current_energy_rating, e.potential_energy_rating,\n",
    "      e.current_energy_efficiency, e.potential_energy_efficiency,\n",
    "      e.total_floor_area, e.construction_age_band,\n",
    "      e.lodgement_date, e.inspection_date,\n",
    "      e.epc_date\n",
    "  FROM ppd_n p\n",
    "  FULL JOIN epc_n e\n",
    "    ON p.postcode_norm = e.postcode_norm\n",
    "   AND p.derived_addr_key = e.addr_key_std\n",
    ")\n",
    "SELECT\n",
    "    *,\n",
    "    ABS(DATE_DIFF('day', epc_date, date_of_transfer)) AS days_diff\n",
    "FROM tier1\n",
    "WHERE (epc_date <= date_of_transfer AND ABS(DATE_DIFF('day', epc_date, date_of_transfer)) <= 365)\n",
    "   OR (epc_date >  date_of_transfer AND ABS(DATE_DIFF('day', epc_date, date_of_transfer)) <= 180)\n",
    "ORDER BY sale_year, sale_month\n",
    "\n",
    "\"\"\"\n",
    "\n",
    "df = con.execute(sql).fetchdf()"
   ],
   "metadata": {
    "collapsed": false,
    "ExecuteTime": {
     "end_time": "2025-08-19T20:16:44.213738Z",
     "start_time": "2025-08-19T20:16:40.413432Z"
    }
   }
  },
  {
   "cell_type": "code",
   "execution_count": 54,
   "outputs": [
    {
     "data": {
      "text/plain": "(8489, 40)"
     },
     "execution_count": 54,
     "metadata": {},
     "output_type": "execute_result"
    }
   ],
   "source": [
    "df.shape"
   ],
   "metadata": {
    "collapsed": false,
    "ExecuteTime": {
     "end_time": "2025-08-19T20:16:45.582403Z",
     "start_time": "2025-08-19T20:16:45.548971Z"
    }
   }
  },
  {
   "cell_type": "code",
   "execution_count": 55,
   "outputs": [
    {
     "data": {
      "text/plain": "                              transaction_id   price date_of_transfer  \\\n0     {2F7F2B42-FBCB-E08F-E063-4804A8C05A49}  335000       2025-01-31   \n1     {31C68072-F055-FEE3-E063-4804A8C04F37}  264929       2025-01-29   \n2     {2F7F2B42-FAD5-E08F-E063-4804A8C05A49}  620000       2025-01-24   \n3     {2F7F2B42-FAE0-E08F-E063-4804A8C05A49}  312000       2025-01-24   \n4     {36A61A94-9139-DEF2-E063-4704A8C046AE}  469000       2025-01-24   \n...                                      ...     ...              ...   \n8484  {38EDC0C2-E5B8-0F63-E063-4704A8C00424}  106000       2025-06-26   \n8485  {38EDC0C2-E5C7-0F63-E063-4704A8C00424}  138000       2025-06-04   \n8486  {38EDC0C2-E4A4-0F63-E063-4704A8C00424}  242000       2025-06-04   \n8487  {38EDC0C2-E4C0-0F63-E063-4704A8C00424}  255000       2025-06-27   \n8488  {38EDC0C3-A1CC-0F63-E063-4704A8C00424}  203500       2025-06-13   \n\n     postcode                PAON         SAON                    Street  \\\n0      GL15PB                  61         None             PODSMEAD ROAD   \n1      GL46EW                  40         None            PENNINGS CLOSE   \n2      GL20JF                  39         None           CHELTENHAM ROAD   \n3      GL52AR                  23         None  LOWER DORRINGTON TERRACE   \n4     GL139FT                  28         None                NELMES WAY   \n...       ...                 ...          ...                       ...   \n8484   GL13LF                   8         None              THE CRESCENT   \n8485  GL207TU                  29         None              HAZEL AVENUE   \n8486  GL560JH                  63         None                CROFT HOLM   \n8487  GL114JT                  1A         None              UNION STREET   \n8488   GL71FU  1 NEW AKEMAN COURT  APARTMENT 5                  WEST WAY   \n\n            Locality         town_city    District  ... CURRENT_ENERGY_RATING  \\\n0               None        GLOUCESTER  GLOUCESTER  ...                     C   \n1             MATSON        GLOUCESTER  GLOUCESTER  ...                     B   \n2               None        GLOUCESTER  GLOUCESTER  ...                     D   \n3               None            STROUD      STROUD  ...                     C   \n4               None          BERKELEY      STROUD  ...                     B   \n...              ...               ...         ...  ...                   ...   \n8484            None        GLOUCESTER  GLOUCESTER  ...                     D   \n8485  WALTON CARDIFF        TEWKESBURY  TEWKESBURY  ...                     C   \n8486            None  MORETON-IN-MARSH    COTSWOLD  ...                     C   \n8487            None           DURSLEY      STROUD  ...                     C   \n8488            None       CIRENCESTER    COTSWOLD  ...                     C   \n\n     POTENTIAL_ENERGY_RATING CURRENT_ENERGY_EFFICIENCY  \\\n0                          B                        70   \n1                          A                        83   \n2                          C                        65   \n3                          B                        70   \n4                          A                        84   \n...                      ...                       ...   \n8484                       B                        68   \n8485                       B                        79   \n8486                       B                        73   \n8487                       B                        75   \n8488                       C                        79   \n\n     POTENTIAL_ENERGY_EFFICIENCY TOTAL_FLOOR_AREA  \\\n0                             83             94.0   \n1                             97             63.0   \n2                             78            185.0   \n3                             87             89.0   \n4                             93            128.0   \n...                          ...              ...   \n8484                          83             87.0   \n8485                          89            101.0   \n8486                          83            105.0   \n8487                          91             53.0   \n8488                          79             55.0   \n\n               CONSTRUCTION_AGE_BAND  LODGEMENT_DATE INSPECTION_DATE  \\\n0       England and Wales: 1930-1949      2024-09-04      2024-09-04   \n1                               2025      2025-01-30      2025-01-30   \n2       England and Wales: 1930-1949      2024-04-02      2024-03-19   \n3     England and Wales: before 1900      2024-07-03      2024-07-03   \n4                               2023      2024-11-13      2024-11-13   \n...                              ...             ...             ...   \n8484  England and Wales: before 1900      2024-07-26      2024-07-25   \n8485    England and Wales: 2007-2011      2024-06-11      2024-06-11   \n8486    England and Wales: 1996-2002      2025-04-10      2025-04-09   \n8487    England and Wales: 1991-1995      2024-08-21      2024-08-21   \n8488    England and Wales: 2012-2021      2025-06-18      2025-06-17   \n\n       epc_date days_diff  \n0    2024-09-04       149  \n1    2025-01-30         1  \n2    2024-03-19       311  \n3    2024-07-03       205  \n4    2024-11-13        72  \n...         ...       ...  \n8484 2024-07-25       336  \n8485 2024-06-11       358  \n8486 2025-04-09        56  \n8487 2024-08-21       310  \n8488 2025-06-17         4  \n\n[8489 rows x 40 columns]",
      "text/html": "<div>\n<style scoped>\n    .dataframe tbody tr th:only-of-type {\n        vertical-align: middle;\n    }\n\n    .dataframe tbody tr th {\n        vertical-align: top;\n    }\n\n    .dataframe thead th {\n        text-align: right;\n    }\n</style>\n<table border=\"1\" class=\"dataframe\">\n  <thead>\n    <tr style=\"text-align: right;\">\n      <th></th>\n      <th>transaction_id</th>\n      <th>price</th>\n      <th>date_of_transfer</th>\n      <th>postcode</th>\n      <th>PAON</th>\n      <th>SAON</th>\n      <th>Street</th>\n      <th>Locality</th>\n      <th>town_city</th>\n      <th>District</th>\n      <th>...</th>\n      <th>CURRENT_ENERGY_RATING</th>\n      <th>POTENTIAL_ENERGY_RATING</th>\n      <th>CURRENT_ENERGY_EFFICIENCY</th>\n      <th>POTENTIAL_ENERGY_EFFICIENCY</th>\n      <th>TOTAL_FLOOR_AREA</th>\n      <th>CONSTRUCTION_AGE_BAND</th>\n      <th>LODGEMENT_DATE</th>\n      <th>INSPECTION_DATE</th>\n      <th>epc_date</th>\n      <th>days_diff</th>\n    </tr>\n  </thead>\n  <tbody>\n    <tr>\n      <th>0</th>\n      <td>{2F7F2B42-FBCB-E08F-E063-4804A8C05A49}</td>\n      <td>335000</td>\n      <td>2025-01-31</td>\n      <td>GL15PB</td>\n      <td>61</td>\n      <td>None</td>\n      <td>PODSMEAD ROAD</td>\n      <td>None</td>\n      <td>GLOUCESTER</td>\n      <td>GLOUCESTER</td>\n      <td>...</td>\n      <td>C</td>\n      <td>B</td>\n      <td>70</td>\n      <td>83</td>\n      <td>94.0</td>\n      <td>England and Wales: 1930-1949</td>\n      <td>2024-09-04</td>\n      <td>2024-09-04</td>\n      <td>2024-09-04</td>\n      <td>149</td>\n    </tr>\n    <tr>\n      <th>1</th>\n      <td>{31C68072-F055-FEE3-E063-4804A8C04F37}</td>\n      <td>264929</td>\n      <td>2025-01-29</td>\n      <td>GL46EW</td>\n      <td>40</td>\n      <td>None</td>\n      <td>PENNINGS CLOSE</td>\n      <td>MATSON</td>\n      <td>GLOUCESTER</td>\n      <td>GLOUCESTER</td>\n      <td>...</td>\n      <td>B</td>\n      <td>A</td>\n      <td>83</td>\n      <td>97</td>\n      <td>63.0</td>\n      <td>2025</td>\n      <td>2025-01-30</td>\n      <td>2025-01-30</td>\n      <td>2025-01-30</td>\n      <td>1</td>\n    </tr>\n    <tr>\n      <th>2</th>\n      <td>{2F7F2B42-FAD5-E08F-E063-4804A8C05A49}</td>\n      <td>620000</td>\n      <td>2025-01-24</td>\n      <td>GL20JF</td>\n      <td>39</td>\n      <td>None</td>\n      <td>CHELTENHAM ROAD</td>\n      <td>None</td>\n      <td>GLOUCESTER</td>\n      <td>GLOUCESTER</td>\n      <td>...</td>\n      <td>D</td>\n      <td>C</td>\n      <td>65</td>\n      <td>78</td>\n      <td>185.0</td>\n      <td>England and Wales: 1930-1949</td>\n      <td>2024-04-02</td>\n      <td>2024-03-19</td>\n      <td>2024-03-19</td>\n      <td>311</td>\n    </tr>\n    <tr>\n      <th>3</th>\n      <td>{2F7F2B42-FAE0-E08F-E063-4804A8C05A49}</td>\n      <td>312000</td>\n      <td>2025-01-24</td>\n      <td>GL52AR</td>\n      <td>23</td>\n      <td>None</td>\n      <td>LOWER DORRINGTON TERRACE</td>\n      <td>None</td>\n      <td>STROUD</td>\n      <td>STROUD</td>\n      <td>...</td>\n      <td>C</td>\n      <td>B</td>\n      <td>70</td>\n      <td>87</td>\n      <td>89.0</td>\n      <td>England and Wales: before 1900</td>\n      <td>2024-07-03</td>\n      <td>2024-07-03</td>\n      <td>2024-07-03</td>\n      <td>205</td>\n    </tr>\n    <tr>\n      <th>4</th>\n      <td>{36A61A94-9139-DEF2-E063-4704A8C046AE}</td>\n      <td>469000</td>\n      <td>2025-01-24</td>\n      <td>GL139FT</td>\n      <td>28</td>\n      <td>None</td>\n      <td>NELMES WAY</td>\n      <td>None</td>\n      <td>BERKELEY</td>\n      <td>STROUD</td>\n      <td>...</td>\n      <td>B</td>\n      <td>A</td>\n      <td>84</td>\n      <td>93</td>\n      <td>128.0</td>\n      <td>2023</td>\n      <td>2024-11-13</td>\n      <td>2024-11-13</td>\n      <td>2024-11-13</td>\n      <td>72</td>\n    </tr>\n    <tr>\n      <th>...</th>\n      <td>...</td>\n      <td>...</td>\n      <td>...</td>\n      <td>...</td>\n      <td>...</td>\n      <td>...</td>\n      <td>...</td>\n      <td>...</td>\n      <td>...</td>\n      <td>...</td>\n      <td>...</td>\n      <td>...</td>\n      <td>...</td>\n      <td>...</td>\n      <td>...</td>\n      <td>...</td>\n      <td>...</td>\n      <td>...</td>\n      <td>...</td>\n      <td>...</td>\n      <td>...</td>\n    </tr>\n    <tr>\n      <th>8484</th>\n      <td>{38EDC0C2-E5B8-0F63-E063-4704A8C00424}</td>\n      <td>106000</td>\n      <td>2025-06-26</td>\n      <td>GL13LF</td>\n      <td>8</td>\n      <td>None</td>\n      <td>THE CRESCENT</td>\n      <td>None</td>\n      <td>GLOUCESTER</td>\n      <td>GLOUCESTER</td>\n      <td>...</td>\n      <td>D</td>\n      <td>B</td>\n      <td>68</td>\n      <td>83</td>\n      <td>87.0</td>\n      <td>England and Wales: before 1900</td>\n      <td>2024-07-26</td>\n      <td>2024-07-25</td>\n      <td>2024-07-25</td>\n      <td>336</td>\n    </tr>\n    <tr>\n      <th>8485</th>\n      <td>{38EDC0C2-E5C7-0F63-E063-4704A8C00424}</td>\n      <td>138000</td>\n      <td>2025-06-04</td>\n      <td>GL207TU</td>\n      <td>29</td>\n      <td>None</td>\n      <td>HAZEL AVENUE</td>\n      <td>WALTON CARDIFF</td>\n      <td>TEWKESBURY</td>\n      <td>TEWKESBURY</td>\n      <td>...</td>\n      <td>C</td>\n      <td>B</td>\n      <td>79</td>\n      <td>89</td>\n      <td>101.0</td>\n      <td>England and Wales: 2007-2011</td>\n      <td>2024-06-11</td>\n      <td>2024-06-11</td>\n      <td>2024-06-11</td>\n      <td>358</td>\n    </tr>\n    <tr>\n      <th>8486</th>\n      <td>{38EDC0C2-E4A4-0F63-E063-4704A8C00424}</td>\n      <td>242000</td>\n      <td>2025-06-04</td>\n      <td>GL560JH</td>\n      <td>63</td>\n      <td>None</td>\n      <td>CROFT HOLM</td>\n      <td>None</td>\n      <td>MORETON-IN-MARSH</td>\n      <td>COTSWOLD</td>\n      <td>...</td>\n      <td>C</td>\n      <td>B</td>\n      <td>73</td>\n      <td>83</td>\n      <td>105.0</td>\n      <td>England and Wales: 1996-2002</td>\n      <td>2025-04-10</td>\n      <td>2025-04-09</td>\n      <td>2025-04-09</td>\n      <td>56</td>\n    </tr>\n    <tr>\n      <th>8487</th>\n      <td>{38EDC0C2-E4C0-0F63-E063-4704A8C00424}</td>\n      <td>255000</td>\n      <td>2025-06-27</td>\n      <td>GL114JT</td>\n      <td>1A</td>\n      <td>None</td>\n      <td>UNION STREET</td>\n      <td>None</td>\n      <td>DURSLEY</td>\n      <td>STROUD</td>\n      <td>...</td>\n      <td>C</td>\n      <td>B</td>\n      <td>75</td>\n      <td>91</td>\n      <td>53.0</td>\n      <td>England and Wales: 1991-1995</td>\n      <td>2024-08-21</td>\n      <td>2024-08-21</td>\n      <td>2024-08-21</td>\n      <td>310</td>\n    </tr>\n    <tr>\n      <th>8488</th>\n      <td>{38EDC0C3-A1CC-0F63-E063-4704A8C00424}</td>\n      <td>203500</td>\n      <td>2025-06-13</td>\n      <td>GL71FU</td>\n      <td>1 NEW AKEMAN COURT</td>\n      <td>APARTMENT 5</td>\n      <td>WEST WAY</td>\n      <td>None</td>\n      <td>CIRENCESTER</td>\n      <td>COTSWOLD</td>\n      <td>...</td>\n      <td>C</td>\n      <td>C</td>\n      <td>79</td>\n      <td>79</td>\n      <td>55.0</td>\n      <td>England and Wales: 2012-2021</td>\n      <td>2025-06-18</td>\n      <td>2025-06-17</td>\n      <td>2025-06-17</td>\n      <td>4</td>\n    </tr>\n  </tbody>\n</table>\n<p>8489 rows × 40 columns</p>\n</div>"
     },
     "execution_count": 55,
     "metadata": {},
     "output_type": "execute_result"
    }
   ],
   "source": [
    "df"
   ],
   "metadata": {
    "collapsed": false,
    "ExecuteTime": {
     "end_time": "2025-08-19T20:16:52.549572Z",
     "start_time": "2025-08-19T20:16:52.500054Z"
    }
   }
  },
  {
   "cell_type": "code",
   "execution_count": 94,
   "outputs": [
    {
     "data": {
      "text/plain": "     date_of_transfer PAON epc_address2  SAON       epc_address1  \\\n1          2025-01-29   40         None  None  58 Pennings Close   \n36         2025-01-29   40         None  None  68 Pennings Close   \n102        2025-01-29   40         None  None  64 Pennings Close   \n207        2025-01-29   40         None  None  66 Pennings Close   \n328        2025-01-29   40         None  None  29 Pennings Close   \n...               ...  ...          ...   ...                ...   \n6211       2025-03-21   50         None  None      7 Pennings Cl   \n6215       2025-03-21   50         None  None    12 Pennings Cl    \n6219       2025-03-21   50         None  None     24 Pennings Cl   \n6222       2025-03-21   50         None  None  25 Pennings Close   \n6225       2025-03-21   50         None  None  21 Pennings Close   \n\n              Street epc_address3  \n1     PENNINGS CLOSE         None  \n36    PENNINGS CLOSE         None  \n102   PENNINGS CLOSE         None  \n207   PENNINGS CLOSE         None  \n328   PENNINGS CLOSE         None  \n...              ...          ...  \n6211  PENNINGS CLOSE         None  \n6215  PENNINGS CLOSE         None  \n6219  PENNINGS CLOSE         None  \n6222  PENNINGS CLOSE         None  \n6225  PENNINGS CLOSE         None  \n\n[95 rows x 7 columns]",
      "text/html": "<div>\n<style scoped>\n    .dataframe tbody tr th:only-of-type {\n        vertical-align: middle;\n    }\n\n    .dataframe tbody tr th {\n        vertical-align: top;\n    }\n\n    .dataframe thead th {\n        text-align: right;\n    }\n</style>\n<table border=\"1\" class=\"dataframe\">\n  <thead>\n    <tr style=\"text-align: right;\">\n      <th></th>\n      <th>date_of_transfer</th>\n      <th>PAON</th>\n      <th>epc_address2</th>\n      <th>SAON</th>\n      <th>epc_address1</th>\n      <th>Street</th>\n      <th>epc_address3</th>\n    </tr>\n  </thead>\n  <tbody>\n    <tr>\n      <th>1</th>\n      <td>2025-01-29</td>\n      <td>40</td>\n      <td>None</td>\n      <td>None</td>\n      <td>58 Pennings Close</td>\n      <td>PENNINGS CLOSE</td>\n      <td>None</td>\n    </tr>\n    <tr>\n      <th>36</th>\n      <td>2025-01-29</td>\n      <td>40</td>\n      <td>None</td>\n      <td>None</td>\n      <td>68 Pennings Close</td>\n      <td>PENNINGS CLOSE</td>\n      <td>None</td>\n    </tr>\n    <tr>\n      <th>102</th>\n      <td>2025-01-29</td>\n      <td>40</td>\n      <td>None</td>\n      <td>None</td>\n      <td>64 Pennings Close</td>\n      <td>PENNINGS CLOSE</td>\n      <td>None</td>\n    </tr>\n    <tr>\n      <th>207</th>\n      <td>2025-01-29</td>\n      <td>40</td>\n      <td>None</td>\n      <td>None</td>\n      <td>66 Pennings Close</td>\n      <td>PENNINGS CLOSE</td>\n      <td>None</td>\n    </tr>\n    <tr>\n      <th>328</th>\n      <td>2025-01-29</td>\n      <td>40</td>\n      <td>None</td>\n      <td>None</td>\n      <td>29 Pennings Close</td>\n      <td>PENNINGS CLOSE</td>\n      <td>None</td>\n    </tr>\n    <tr>\n      <th>...</th>\n      <td>...</td>\n      <td>...</td>\n      <td>...</td>\n      <td>...</td>\n      <td>...</td>\n      <td>...</td>\n      <td>...</td>\n    </tr>\n    <tr>\n      <th>6211</th>\n      <td>2025-03-21</td>\n      <td>50</td>\n      <td>None</td>\n      <td>None</td>\n      <td>7 Pennings Cl</td>\n      <td>PENNINGS CLOSE</td>\n      <td>None</td>\n    </tr>\n    <tr>\n      <th>6215</th>\n      <td>2025-03-21</td>\n      <td>50</td>\n      <td>None</td>\n      <td>None</td>\n      <td>12 Pennings Cl</td>\n      <td>PENNINGS CLOSE</td>\n      <td>None</td>\n    </tr>\n    <tr>\n      <th>6219</th>\n      <td>2025-03-21</td>\n      <td>50</td>\n      <td>None</td>\n      <td>None</td>\n      <td>24 Pennings Cl</td>\n      <td>PENNINGS CLOSE</td>\n      <td>None</td>\n    </tr>\n    <tr>\n      <th>6222</th>\n      <td>2025-03-21</td>\n      <td>50</td>\n      <td>None</td>\n      <td>None</td>\n      <td>25 Pennings Close</td>\n      <td>PENNINGS CLOSE</td>\n      <td>None</td>\n    </tr>\n    <tr>\n      <th>6225</th>\n      <td>2025-03-21</td>\n      <td>50</td>\n      <td>None</td>\n      <td>None</td>\n      <td>21 Pennings Close</td>\n      <td>PENNINGS CLOSE</td>\n      <td>None</td>\n    </tr>\n  </tbody>\n</table>\n<p>95 rows × 7 columns</p>\n</div>"
     },
     "execution_count": 94,
     "metadata": {},
     "output_type": "execute_result"
    }
   ],
   "source": [
    "df[df['postcode'] == 'GL46EW'][['date_of_transfer', 'PAON', 'epc_address2', 'SAON', 'epc_address1', 'Street' ,   'epc_address3']]"
   ],
   "metadata": {
    "collapsed": false,
    "ExecuteTime": {
     "end_time": "2025-08-19T21:32:01.654555Z",
     "start_time": "2025-08-19T21:32:01.380540Z"
    }
   }
  },
  {
   "cell_type": "code",
   "execution_count": 32,
   "outputs": [
    {
     "data": {
      "text/plain": "0      FLAT3THE POND HOUSE, 19PITTVILLE CRESCENT\n1                                  16ASHTONCLOSE\n2                                   8WALNUTCLOSE\n3                                CHERINGTONHOUSE\n4     THECOACH HOUSE, 1CANNONS COURTBONDEND ROAD\n5     THECOACH HOUSE, 1CANNONS COURTBONDEND ROAD\n6                               14WHEATLANDDRIVE\n7                        FLAT15ST GEORGES SQUARE\n8                        FLAT35ST GEORGES SQUARE\n9                               67SNEYDWOOD ROAD\n10                        CHANCEHOUSEMAIN STREET\n11                        CHANCEHOUSEMAIN STREET\n12                      BEECHCROFTSPILLMANSPITCH\n13                                   28NELMESWAY\n14                        OVERBROOKDRYBROOK ROAD\n15                                 4OAKHURSTRISE\n16      FLAT17HUCCLECOTE MEWS, 78HUCCLECOTE ROAD\n17        48SPRING LAKETHE WATERMARKSTATION ROAD\n18                              4HENRIETTASTREET\n19                                     8YORKROAD\n20                                    1THESQUARE\n21                                   26NELMESWAY\n22                                  3MEADOWPLACE\n23                               21KINGFISHERWAY\n24         FLAT2REGENCY COURT, 59BROOKBANK CLOSE\n25                              14SIDDINGTONHALL\n26                                    22THEFORGE\n27                                 4FORTINACLOSE\n28                              2EBOWTHORPEDRIVE\n29                       144MELBOURNESTREET EAST\nName: derived_addr_key, dtype: object"
     },
     "execution_count": 32,
     "metadata": {},
     "output_type": "execute_result"
    }
   ],
   "source": [
    "df['derived_addr_key'].head(30)"
   ],
   "metadata": {
    "collapsed": false,
    "ExecuteTime": {
     "end_time": "2025-08-19T19:10:35.977494Z",
     "start_time": "2025-08-19T19:10:35.972388Z"
    }
   }
  },
  {
   "cell_type": "code",
   "execution_count": 33,
   "outputs": [
    {
     "data": {
      "text/plain": "0          FLAT10THEPONDHOUSE19PITTVILLECRESCENT\n1                         28ASHTONCLOSEABBEYDALE\n2                                   6WALNUTCLOSE\n3                      STNICHOLASHOUSECHERINGTON\n4         TUDORCOTTAGEBONDENDROADUPTONSTLEONARDS\n5         TUDORCOTTAGEBONDENDROADUPTONSTLEONARDS\n6                               34WHEATLANDDRIVE\n7                          FLAT46STGEORGESSQUARE\n8                          FLAT46STGEORGESSQUARE\n9                                87SNEYDWOODROAD\n10              MILLFIELDMAINSTREETCOLNSTALDWYNS\n11              MILLFIELDMAINSTREETCOLNSTALDWYNS\n12                      BEECHCROFTSPILLMANSPITCH\n13                                   26NELMESWAY\n14                       3WILLOWDENEDRYBROOKROAD\n15                                 9OAKHURSTRISE\n16                          FLAT18HUCCLECOTEMEWS\n17                       5SPRINGLAKESSTATIONROAD\n18                             20HENRIETTASTREET\n19                                    8AYORKROAD\n20                    1THESQUAREMAINROADWOODFORD\n21                                   26NELMESWAY\n22    2MEADOWPLACEDOWNHATHERLEYLANEDOWNHATHERLEY\n23                               29KINGFISHERWAY\n24             FLAT5REGENCYCOURT59BROOKBANKCLOSE\n25                    14SIDDINGTONHALLSIDDINGTON\n26                             7THEFORGEHEMPSTED\n27                                11FORTINACLOSE\n28                    11BOWTHORPEDRIVEBROCKWORTH\n29                        105MELBOURNESTREETEAST\nName: addr_key_std, dtype: object"
     },
     "execution_count": 33,
     "metadata": {},
     "output_type": "execute_result"
    }
   ],
   "source": [
    "df['addr_key_std'].head(30)"
   ],
   "metadata": {
    "collapsed": false,
    "ExecuteTime": {
     "end_time": "2025-08-19T19:11:15.855776Z",
     "start_time": "2025-08-19T19:11:15.845727Z"
    }
   }
  },
  {
   "cell_type": "code",
   "execution_count": 39,
   "outputs": [
    {
     "data": {
      "text/plain": "                              transaction_id  \\\n0     {2F7F2B42-FC1B-E08F-E063-4804A8C05A49}   \n425   {2F7F2B42-FC1B-E08F-E063-4804A8C05A49}   \n746   {2F7F2B42-FC1B-E08F-E063-4804A8C05A49}   \n1045  {2F7F2B42-FC1B-E08F-E063-4804A8C05A49}   \n1823  {2F7F2B42-FC1B-E08F-E063-4804A8C05A49}   \n1827  {2F7F2B42-FC1B-E08F-E063-4804A8C05A49}   \n1832  {2F7F2B42-FC1B-E08F-E063-4804A8C05A49}   \n6387  {34222872-4787-4D2B-E063-4704A8C07853}   \n6501  {34222872-4787-4D2B-E063-4704A8C07853}   \n6560  {34222872-4787-4D2B-E063-4704A8C07853}   \n6867  {34222872-4787-4D2B-E063-4704A8C07853}   \n6872  {34222872-4787-4D2B-E063-4704A8C07853}   \n6876  {34222872-4787-4D2B-E063-4704A8C07853}   \n\n                                                lmk_key   price postcode_norm  \\\n0     a3ef0e088658b54dd8225c564810d33f4886c33dfb578f...  470000       GL522QZ   \n425   c61eb7c264bf835df9d04fc3359f8c4f67c0e67bb37b20...  470000       GL522QZ   \n746   b778d633275408d3b9cce01b0cb337dc59e847a4907b69...  470000       GL522QZ   \n1045  87aa0aa7ef680ae0b02155b6b673ad42a4bfcdf66415bc...  470000       GL522QZ   \n1823  c7ba8212ea1c1e2e264a9a349b43756176caa2b27a5c77...  470000       GL522QZ   \n1827  90b53ed8df4de713325f4a8819f03ba5fcb142d6bd8789...  470000       GL522QZ   \n1832  856d951dfe2983226f59bd3be5d35238a3349761df8be9...  470000       GL522QZ   \n6387  c61eb7c264bf835df9d04fc3359f8c4f67c0e67bb37b20...  240250       GL522QZ   \n6501  b778d633275408d3b9cce01b0cb337dc59e847a4907b69...  240250       GL522QZ   \n6560  a3ef0e088658b54dd8225c564810d33f4886c33dfb578f...  240250       GL522QZ   \n6867  c7ba8212ea1c1e2e264a9a349b43756176caa2b27a5c77...  240250       GL522QZ   \n6872  90b53ed8df4de713325f4a8819f03ba5fcb142d6bd8789...  240250       GL522QZ   \n6876  856d951dfe2983226f59bd3be5d35238a3349761df8be9...  240250       GL522QZ   \n\n                                  derived_addr_key  \\\n0        FLAT3THE POND HOUSE, 19PITTVILLE CRESCENT   \n425      FLAT3THE POND HOUSE, 19PITTVILLE CRESCENT   \n746      FLAT3THE POND HOUSE, 19PITTVILLE CRESCENT   \n1045     FLAT3THE POND HOUSE, 19PITTVILLE CRESCENT   \n1823     FLAT3THE POND HOUSE, 19PITTVILLE CRESCENT   \n1827     FLAT3THE POND HOUSE, 19PITTVILLE CRESCENT   \n1832     FLAT3THE POND HOUSE, 19PITTVILLE CRESCENT   \n6387  FLAT8JOHN FORBES HOUSE, 15PITTVILLE CRESCENT   \n6501  FLAT8JOHN FORBES HOUSE, 15PITTVILLE CRESCENT   \n6560  FLAT8JOHN FORBES HOUSE, 15PITTVILLE CRESCENT   \n6867  FLAT8JOHN FORBES HOUSE, 15PITTVILLE CRESCENT   \n6872  FLAT8JOHN FORBES HOUSE, 15PITTVILLE CRESCENT   \n6876  FLAT8JOHN FORBES HOUSE, 15PITTVILLE CRESCENT   \n\n                                  addr_key_std  days_diff  \n0        FLAT10THEPONDHOUSE19PITTVILLECRESCENT        175  \n425                         3PITTVILLECRESCENT        171  \n746   FLAT10JOHNFORBESHOUSE15PITTVILLECRESCENT        159  \n1045      FLAT9THEPONDHOUSE19PITTVILLECRESCENT        362  \n1823      FLAT4THEPONDHOUSE19PITTVILLECRESCENT         72  \n1827    FLATFIRSTFLOORFRONT11PITTVILLECRESCENT         49  \n1832          FLAT4SCORITON16PITTVILLECRESCENT          8  \n6387                        3PITTVILLECRESCENT        236  \n6501  FLAT10JOHNFORBESHOUSE15PITTVILLECRESCENT        224  \n6560     FLAT10THEPONDHOUSE19PITTVILLECRESCENT        240  \n6867      FLAT4THEPONDHOUSE19PITTVILLECRESCENT          7  \n6872    FLATFIRSTFLOORFRONT11PITTVILLECRESCENT         16  \n6876          FLAT4SCORITON16PITTVILLECRESCENT         57  ",
      "text/html": "<div>\n<style scoped>\n    .dataframe tbody tr th:only-of-type {\n        vertical-align: middle;\n    }\n\n    .dataframe tbody tr th {\n        vertical-align: top;\n    }\n\n    .dataframe thead th {\n        text-align: right;\n    }\n</style>\n<table border=\"1\" class=\"dataframe\">\n  <thead>\n    <tr style=\"text-align: right;\">\n      <th></th>\n      <th>transaction_id</th>\n      <th>lmk_key</th>\n      <th>price</th>\n      <th>postcode_norm</th>\n      <th>derived_addr_key</th>\n      <th>addr_key_std</th>\n      <th>days_diff</th>\n    </tr>\n  </thead>\n  <tbody>\n    <tr>\n      <th>0</th>\n      <td>{2F7F2B42-FC1B-E08F-E063-4804A8C05A49}</td>\n      <td>a3ef0e088658b54dd8225c564810d33f4886c33dfb578f...</td>\n      <td>470000</td>\n      <td>GL522QZ</td>\n      <td>FLAT3THE POND HOUSE, 19PITTVILLE CRESCENT</td>\n      <td>FLAT10THEPONDHOUSE19PITTVILLECRESCENT</td>\n      <td>175</td>\n    </tr>\n    <tr>\n      <th>425</th>\n      <td>{2F7F2B42-FC1B-E08F-E063-4804A8C05A49}</td>\n      <td>c61eb7c264bf835df9d04fc3359f8c4f67c0e67bb37b20...</td>\n      <td>470000</td>\n      <td>GL522QZ</td>\n      <td>FLAT3THE POND HOUSE, 19PITTVILLE CRESCENT</td>\n      <td>3PITTVILLECRESCENT</td>\n      <td>171</td>\n    </tr>\n    <tr>\n      <th>746</th>\n      <td>{2F7F2B42-FC1B-E08F-E063-4804A8C05A49}</td>\n      <td>b778d633275408d3b9cce01b0cb337dc59e847a4907b69...</td>\n      <td>470000</td>\n      <td>GL522QZ</td>\n      <td>FLAT3THE POND HOUSE, 19PITTVILLE CRESCENT</td>\n      <td>FLAT10JOHNFORBESHOUSE15PITTVILLECRESCENT</td>\n      <td>159</td>\n    </tr>\n    <tr>\n      <th>1045</th>\n      <td>{2F7F2B42-FC1B-E08F-E063-4804A8C05A49}</td>\n      <td>87aa0aa7ef680ae0b02155b6b673ad42a4bfcdf66415bc...</td>\n      <td>470000</td>\n      <td>GL522QZ</td>\n      <td>FLAT3THE POND HOUSE, 19PITTVILLE CRESCENT</td>\n      <td>FLAT9THEPONDHOUSE19PITTVILLECRESCENT</td>\n      <td>362</td>\n    </tr>\n    <tr>\n      <th>1823</th>\n      <td>{2F7F2B42-FC1B-E08F-E063-4804A8C05A49}</td>\n      <td>c7ba8212ea1c1e2e264a9a349b43756176caa2b27a5c77...</td>\n      <td>470000</td>\n      <td>GL522QZ</td>\n      <td>FLAT3THE POND HOUSE, 19PITTVILLE CRESCENT</td>\n      <td>FLAT4THEPONDHOUSE19PITTVILLECRESCENT</td>\n      <td>72</td>\n    </tr>\n    <tr>\n      <th>1827</th>\n      <td>{2F7F2B42-FC1B-E08F-E063-4804A8C05A49}</td>\n      <td>90b53ed8df4de713325f4a8819f03ba5fcb142d6bd8789...</td>\n      <td>470000</td>\n      <td>GL522QZ</td>\n      <td>FLAT3THE POND HOUSE, 19PITTVILLE CRESCENT</td>\n      <td>FLATFIRSTFLOORFRONT11PITTVILLECRESCENT</td>\n      <td>49</td>\n    </tr>\n    <tr>\n      <th>1832</th>\n      <td>{2F7F2B42-FC1B-E08F-E063-4804A8C05A49}</td>\n      <td>856d951dfe2983226f59bd3be5d35238a3349761df8be9...</td>\n      <td>470000</td>\n      <td>GL522QZ</td>\n      <td>FLAT3THE POND HOUSE, 19PITTVILLE CRESCENT</td>\n      <td>FLAT4SCORITON16PITTVILLECRESCENT</td>\n      <td>8</td>\n    </tr>\n    <tr>\n      <th>6387</th>\n      <td>{34222872-4787-4D2B-E063-4704A8C07853}</td>\n      <td>c61eb7c264bf835df9d04fc3359f8c4f67c0e67bb37b20...</td>\n      <td>240250</td>\n      <td>GL522QZ</td>\n      <td>FLAT8JOHN FORBES HOUSE, 15PITTVILLE CRESCENT</td>\n      <td>3PITTVILLECRESCENT</td>\n      <td>236</td>\n    </tr>\n    <tr>\n      <th>6501</th>\n      <td>{34222872-4787-4D2B-E063-4704A8C07853}</td>\n      <td>b778d633275408d3b9cce01b0cb337dc59e847a4907b69...</td>\n      <td>240250</td>\n      <td>GL522QZ</td>\n      <td>FLAT8JOHN FORBES HOUSE, 15PITTVILLE CRESCENT</td>\n      <td>FLAT10JOHNFORBESHOUSE15PITTVILLECRESCENT</td>\n      <td>224</td>\n    </tr>\n    <tr>\n      <th>6560</th>\n      <td>{34222872-4787-4D2B-E063-4704A8C07853}</td>\n      <td>a3ef0e088658b54dd8225c564810d33f4886c33dfb578f...</td>\n      <td>240250</td>\n      <td>GL522QZ</td>\n      <td>FLAT8JOHN FORBES HOUSE, 15PITTVILLE CRESCENT</td>\n      <td>FLAT10THEPONDHOUSE19PITTVILLECRESCENT</td>\n      <td>240</td>\n    </tr>\n    <tr>\n      <th>6867</th>\n      <td>{34222872-4787-4D2B-E063-4704A8C07853}</td>\n      <td>c7ba8212ea1c1e2e264a9a349b43756176caa2b27a5c77...</td>\n      <td>240250</td>\n      <td>GL522QZ</td>\n      <td>FLAT8JOHN FORBES HOUSE, 15PITTVILLE CRESCENT</td>\n      <td>FLAT4THEPONDHOUSE19PITTVILLECRESCENT</td>\n      <td>7</td>\n    </tr>\n    <tr>\n      <th>6872</th>\n      <td>{34222872-4787-4D2B-E063-4704A8C07853}</td>\n      <td>90b53ed8df4de713325f4a8819f03ba5fcb142d6bd8789...</td>\n      <td>240250</td>\n      <td>GL522QZ</td>\n      <td>FLAT8JOHN FORBES HOUSE, 15PITTVILLE CRESCENT</td>\n      <td>FLATFIRSTFLOORFRONT11PITTVILLECRESCENT</td>\n      <td>16</td>\n    </tr>\n    <tr>\n      <th>6876</th>\n      <td>{34222872-4787-4D2B-E063-4704A8C07853}</td>\n      <td>856d951dfe2983226f59bd3be5d35238a3349761df8be9...</td>\n      <td>240250</td>\n      <td>GL522QZ</td>\n      <td>FLAT8JOHN FORBES HOUSE, 15PITTVILLE CRESCENT</td>\n      <td>FLAT4SCORITON16PITTVILLECRESCENT</td>\n      <td>57</td>\n    </tr>\n  </tbody>\n</table>\n</div>"
     },
     "execution_count": 39,
     "metadata": {},
     "output_type": "execute_result"
    }
   ],
   "source": [
    "df[df['postcode'] == 'GL522QZ'][['transaction_id', 'lmk_key', 'price', 'postcode_norm', 'derived_addr_key', 'addr_key_std', 'days_diff' ]]"
   ],
   "metadata": {
    "collapsed": false,
    "ExecuteTime": {
     "end_time": "2025-08-19T20:02:55.531214Z",
     "start_time": "2025-08-19T20:02:55.446418Z"
    }
   }
  },
  {
   "cell_type": "code",
   "execution_count": 24,
   "outputs": [
    {
     "data": {
      "text/plain": "(516, 40)"
     },
     "execution_count": 24,
     "metadata": {},
     "output_type": "execute_result"
    }
   ],
   "source": [
    "df.shape"
   ],
   "metadata": {
    "collapsed": false,
    "ExecuteTime": {
     "end_time": "2025-08-19T19:03:51.622528Z",
     "start_time": "2025-08-19T19:03:51.582945Z"
    }
   }
  },
  {
   "cell_type": "code",
   "execution_count": null,
   "outputs": [],
   "source": [],
   "metadata": {
    "collapsed": false
   }
  }
 ],
 "metadata": {
  "kernelspec": {
   "display_name": "Python 3",
   "language": "python",
   "name": "python3"
  },
  "language_info": {
   "codemirror_mode": {
    "name": "ipython",
    "version": 2
   },
   "file_extension": ".py",
   "mimetype": "text/x-python",
   "name": "python",
   "nbconvert_exporter": "python",
   "pygments_lexer": "ipython2",
   "version": "2.7.6"
  }
 },
 "nbformat": 4,
 "nbformat_minor": 0
}
